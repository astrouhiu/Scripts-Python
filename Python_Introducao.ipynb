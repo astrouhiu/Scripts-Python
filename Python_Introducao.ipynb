{
  "nbformat": 4,
  "nbformat_minor": 0,
  "metadata": {
    "colab": {
      "name": "Python_Introducao.ipynb",
      "provenance": [],
      "collapsed_sections": [
        "T4tFK8qJY91h",
        "a0ITMSCXdPXy",
        "nKTEWJkQgNlz",
        "k0NSep4UjXaj",
        "vh2zR5b-5w0C",
        "-Quw-CN2N2TA",
        "Yg17b-i4WsvP",
        "f1qiY3HArkHl",
        "WgJ3UqNQ06b2",
        "_R0-2uk31caF",
        "Rua1trK8A0ux",
        "m-tluI_iBsHY",
        "M3IQNGOXAxbG",
        "Nt4u9i0rbe3r",
        "uQOwwkNEdThD",
        "tdjofy47jYy_",
        "1EWW35c91Xdi",
        "0DltYrZI13NI",
        "8fJs-K78Bgrb",
        "-pS-cZsOCJmu",
        "Mp3ECtVJJust",
        "eMTWG4d2KHg6",
        "-EqoRLwXS9Zj",
        "1sagBMnV3YAw",
        "C7UxkGL74WlP",
        "JLHrnWAkOMjJ"
      ],
      "mount_file_id": "1iZyoB9PrtBz2Ge7ha5Y9RGW3_mFEAJkX",
      "authorship_tag": "ABX9TyN7iXGU+0onpfnVefvlboBf",
      "include_colab_link": true
    },
    "kernelspec": {
      "name": "python3",
      "display_name": "Python 3"
    }
  },
  "cells": [
    {
      "cell_type": "markdown",
      "metadata": {
        "id": "view-in-github",
        "colab_type": "text"
      },
      "source": [
        "<a href=\"https://colab.research.google.com/github/astrouhiu/Scripts-Python/blob/master/Python_Introducao.ipynb\" target=\"_parent\"><img src=\"https://colab.research.google.com/assets/colab-badge.svg\" alt=\"Open In Colab\"/></a>"
      ]
    },
    {
      "cell_type": "markdown",
      "metadata": {
        "id": "bxmS-UX3U2bb"
      },
      "source": [
        "#**Introdução ao Python** "
      ]
    },
    {
      "cell_type": "code",
      "metadata": {
        "id": "-ey01X4LhHj-",
        "colab": {
          "base_uri": "https://localhost:8080/",
          "height": 35
        },
        "outputId": "439e83ed-982d-468c-d8e9-b85cebdd5abd"
      },
      "source": [
        "'''\n",
        "Um comentário de várias linhas. Pressione Ctrl + Enter para executar a célula no \n",
        "google Colab\n",
        "''' "
      ],
      "execution_count": 1,
      "outputs": [
        {
          "output_type": "execute_result",
          "data": {
            "application/vnd.google.colaboratory.intrinsic+json": {
              "type": "string"
            },
            "text/plain": [
              "'\\nUm comentário de várias linhas. Pressione Ctrl + Enter para executar a célula no \\ngoogle Colab\\n'"
            ]
          },
          "metadata": {
            "tags": []
          },
          "execution_count": 1
        }
      ]
    },
    {
      "cell_type": "code",
      "metadata": {
        "id": "D1kTdde-UV8W"
      },
      "source": [
        "# Comentário de uma linha"
      ],
      "execution_count": 2,
      "outputs": []
    },
    {
      "cell_type": "markdown",
      "metadata": {
        "id": "T4tFK8qJY91h"
      },
      "source": [
        "##**Funções Embutidas**"
      ]
    },
    {
      "cell_type": "markdown",
      "metadata": {
        "id": "BsFuM1D-Nh--"
      },
      "source": [
        "São funções que vem junto com a linguagem Python."
      ]
    },
    {
      "cell_type": "code",
      "metadata": {
        "id": "Lfbo8jINUfnK",
        "colab": {
          "base_uri": "https://localhost:8080/"
        },
        "outputId": "3b93f740-4fca-492d-8460-3b66021c7281"
      },
      "source": [
        "# Função print: Imprime o argumento passado na tela\n",
        "print('Hello World')"
      ],
      "execution_count": 3,
      "outputs": [
        {
          "output_type": "stream",
          "text": [
            "Hello World\n"
          ],
          "name": "stdout"
        }
      ]
    },
    {
      "cell_type": "code",
      "metadata": {
        "id": "r8_us60qaP92",
        "colab": {
          "base_uri": "https://localhost:8080/"
        },
        "outputId": "84d1c26c-e930-4fce-cbdf-04d616b70898"
      },
      "source": [
        "# Função type: Retorna o tipo da variável ou valor que é passado como parâmetro\n",
        "print(type(7))\n",
        "print(type(3.2))\n",
        "print(type('Io'))"
      ],
      "execution_count": 4,
      "outputs": [
        {
          "output_type": "stream",
          "text": [
            "<class 'int'>\n",
            "<class 'float'>\n",
            "<class 'str'>\n"
          ],
          "name": "stdout"
        }
      ]
    },
    {
      "cell_type": "code",
      "metadata": {
        "id": "2tLFSP8LXDKn",
        "colab": {
          "base_uri": "https://localhost:8080/"
        },
        "outputId": "763c0f88-4aaf-4abf-b87b-47d3603d3e36"
      },
      "source": [
        "# Operações matemáticas simples com inteiros e floats\n",
        "print(5 + 7)\n",
        "print(2 - 2)\n",
        "print(4 * 2)\n",
        "print(3 / 3)\n",
        "print(2**3)\n",
        "print(5.3 + 9.4)\n",
        "print(7.4 - 6.3)\n",
        "print(10.2 * 2.5)\n",
        "print(6.6 / 2)\n",
        "print(4.1**(1/2))"
      ],
      "execution_count": 5,
      "outputs": [
        {
          "output_type": "stream",
          "text": [
            "12\n",
            "0\n",
            "8\n",
            "1.0\n",
            "8\n",
            "14.7\n",
            "1.1000000000000005\n",
            "25.5\n",
            "3.3\n",
            "2.0248456731316584\n"
          ],
          "name": "stdout"
        }
      ]
    },
    {
      "cell_type": "code",
      "metadata": {
        "id": "nwLP04Byb1VE",
        "colab": {
          "base_uri": "https://localhost:8080/"
        },
        "outputId": "c3b9d08d-5b63-4746-9a99-6899b12008dd"
      },
      "source": [
        "# Funções de conversão: Como seu nome sugere, são utilizadas para converter \n",
        "# valores ou variáveis\n",
        "print(int(8))\n",
        "print(int(8.5))\n",
        "print(float(7.2))\n",
        "print(float(7))\n",
        "print(str(4))\n",
        "print(float(15.2) + int('2'))"
      ],
      "execution_count": 6,
      "outputs": [
        {
          "output_type": "stream",
          "text": [
            "8\n",
            "8\n",
            "7.2\n",
            "7.0\n",
            "4\n",
            "17.2\n"
          ],
          "name": "stdout"
        }
      ]
    },
    {
      "cell_type": "code",
      "metadata": {
        "id": "4HRdFUBzcO46",
        "colab": {
          "base_uri": "https://localhost:8080/"
        },
        "outputId": "74228e4b-7317-4425-a35f-90471b200ec9"
      },
      "source": [
        "# Função round: Arredonda uma expressão numérica\n",
        "print(round(3.88787))\n",
        "print(round(3.7879979, 2))"
      ],
      "execution_count": 7,
      "outputs": [
        {
          "output_type": "stream",
          "text": [
            "4\n",
            "3.79\n"
          ],
          "name": "stdout"
        }
      ]
    },
    {
      "cell_type": "markdown",
      "metadata": {
        "id": "OBRwlQSuM4gG"
      },
      "source": [
        "Ao longo do texto, veremos outras funções embutidas"
      ]
    },
    {
      "cell_type": "markdown",
      "metadata": {
        "id": "a0ITMSCXdPXy"
      },
      "source": [
        "##**Variáveis**"
      ]
    },
    {
      "cell_type": "code",
      "metadata": {
        "id": "Yhgm1nrHdTSD",
        "colab": {
          "base_uri": "https://localhost:8080/"
        },
        "outputId": "b7273fe0-5a08-4b3b-b8e0-aae0055fe2da"
      },
      "source": [
        "# Declaração de variáveis\n",
        "var1 = 1\n",
        "var2 = 2\n",
        "var3 = 3\n",
        "print(var1)\n",
        "print(type(var1))\n",
        "print(var1 + var2) "
      ],
      "execution_count": 8,
      "outputs": [
        {
          "output_type": "stream",
          "text": [
            "1\n",
            "<class 'int'>\n",
            "3\n"
          ],
          "name": "stdout"
        }
      ]
    },
    {
      "cell_type": "code",
      "metadata": {
        "id": "kXqN-azkfdsA",
        "colab": {
          "base_uri": "https://localhost:8080/"
        },
        "outputId": "2b04b036-d231-4557-9047-a927325ad94b"
      },
      "source": [
        "# Operações matemáticas e variáveis\n",
        "resultado = var3 * 4\n",
        "print(resultado)\n",
        "\n",
        "resultado = 78 / 2\n",
        "print(resultado)"
      ],
      "execution_count": 9,
      "outputs": [
        {
          "output_type": "stream",
          "text": [
            "12\n",
            "39.0\n"
          ],
          "name": "stdout"
        }
      ]
    },
    {
      "cell_type": "code",
      "metadata": {
        "id": "VJ3m_Lv3Zqt7",
        "colab": {
          "base_uri": "https://localhost:8080/"
        },
        "outputId": "46a1f0a1-2536-480f-85a2-bf12e83e5c29"
      },
      "source": [
        "# Declarando várias variáveis numa mesma linha\n",
        "var1, var2, var3 = 10, 'Pluto', 3\n",
        "print(var1, var2, var3)"
      ],
      "execution_count": 10,
      "outputs": [
        {
          "output_type": "stream",
          "text": [
            "10 Pluto 3\n"
          ],
          "name": "stdout"
        }
      ]
    },
    {
      "cell_type": "code",
      "metadata": {
        "id": "VOfVsd7IeLxP",
        "colab": {
          "base_uri": "https://localhost:8080/"
        },
        "outputId": "6a9a82e0-dbcf-4921-e957-b41838749462"
      },
      "source": [
        "# Reatribuindo valores às variáveis graças a tipagem dinâmica\n",
        "var1 = 'Planet Nine'\n",
        "var2 = 9.0\n",
        "print(type(var1), type(var2))"
      ],
      "execution_count": 11,
      "outputs": [
        {
          "output_type": "stream",
          "text": [
            "<class 'str'> <class 'float'>\n"
          ],
          "name": "stdout"
        }
      ]
    },
    {
      "cell_type": "code",
      "metadata": {
        "id": "LxyqZpw8I2il",
        "colab": {
          "base_uri": "https://localhost:8080/"
        },
        "outputId": "4346b61e-917c-43d4-a6c3-03bed7baaafd"
      },
      "source": [
        "# Trocar valores de dois variáveis\n",
        "a = 7\n",
        "b = 3\n",
        "a, b = b, a\n",
        "print(a, b)"
      ],
      "execution_count": 12,
      "outputs": [
        {
          "output_type": "stream",
          "text": [
            "3 7\n"
          ],
          "name": "stdout"
        }
      ]
    },
    {
      "cell_type": "markdown",
      "metadata": {
        "id": "g2Y3xtuJD4NI"
      },
      "source": [
        "Em outras linguagens precisaria de 3 atribuições (uma variável temporária intermediária).\n",
        "\n"
      ]
    },
    {
      "cell_type": "code",
      "metadata": {
        "id": "E13atkksJUro",
        "colab": {
          "base_uri": "https://localhost:8080/"
        },
        "outputId": "dfbaef23-ee5c-4895-b8b4-929ceb8818e2"
      },
      "source": [
        "# Atribuição aumentada\n",
        "x = 10\n",
        "x += 10\n",
        "print(x)\n",
        "\n",
        "# Sintaxe abreviada de x = x + 10, chamado de atribuição aumentada: no momento \n",
        "# que você atribui você faz alguma operacão\n",
        "\n",
        "x *= 2\n",
        "print(x)\n",
        "x /= 4\n",
        "print(x)\n",
        "x //= 3\n",
        "print(x)\n",
        "x %= 2\n",
        "print(x)\n",
        "x **= 10\n",
        "print(x)\n",
        "x -= 1\n",
        "print(x)"
      ],
      "execution_count": 13,
      "outputs": [
        {
          "output_type": "stream",
          "text": [
            "20\n",
            "40\n",
            "10.0\n",
            "3.0\n",
            "1.0\n",
            "1.0\n",
            "0.0\n"
          ],
          "name": "stdout"
        }
      ]
    },
    {
      "cell_type": "markdown",
      "metadata": {
        "id": "nKTEWJkQgNlz"
      },
      "source": [
        "##**Restrições para Criação de Variáveis**"
      ]
    },
    {
      "cell_type": "code",
      "metadata": {
        "id": "tVU5m87pgYhq"
      },
      "source": [
        "# Pode usar underline\n",
        "var_teste = 8"
      ],
      "execution_count": 14,
      "outputs": []
    },
    {
      "cell_type": "markdown",
      "metadata": {
        "id": "7FWf5azIEPs1"
      },
      "source": [
        "Nomes de variáveis não podem começar com número (exemplo: 1var = 10) nem receber nomes de palavras reservadas: break, if, else, and, or, while, etc. (exemplo: for = 5)."
      ]
    },
    {
      "cell_type": "markdown",
      "metadata": {
        "id": "k0NSep4UjXaj"
      },
      "source": [
        "##**Strings**"
      ]
    },
    {
      "cell_type": "markdown",
      "metadata": {
        "id": "2Y--EA65V7c4"
      },
      "source": [
        "String é uma sequência de caracteres."
      ]
    },
    {
      "cell_type": "code",
      "metadata": {
        "id": "re4SDtl-WHWi",
        "colab": {
          "base_uri": "https://localhost:8080/"
        },
        "outputId": "393045ae-2e52-4c17-9b90-a75489bf5173"
      },
      "source": [
        "# String vazio\n",
        "type('')"
      ],
      "execution_count": 15,
      "outputs": [
        {
          "output_type": "execute_result",
          "data": {
            "text/plain": [
              "str"
            ]
          },
          "metadata": {
            "tags": []
          },
          "execution_count": 15
        }
      ]
    },
    {
      "cell_type": "code",
      "metadata": {
        "id": "eElAewpYjaZW",
        "colab": {
          "base_uri": "https://localhost:8080/",
          "height": 0
        },
        "outputId": "b65fac5a-7295-40d8-eadd-89993a638cad"
      },
      "source": [
        "# Criando uma variável do tipo String\n",
        "frase = 'Kepler-9 é estável'\n",
        "frase"
      ],
      "execution_count": 16,
      "outputs": [
        {
          "output_type": "execute_result",
          "data": {
            "application/vnd.google.colaboratory.intrinsic+json": {
              "type": "string"
            },
            "text/plain": [
              "'Kepler-9 é estável'"
            ]
          },
          "metadata": {
            "tags": []
          },
          "execution_count": 16
        }
      ]
    },
    {
      "cell_type": "code",
      "metadata": {
        "id": "X_klqcd5kxwX",
        "colab": {
          "base_uri": "https://localhost:8080/"
        },
        "outputId": "44d1e7ce-cf07-4205-d36b-443aada6999e"
      },
      "source": [
        "# Indexando Strings. Importante: O índice começa com o número 0\n",
        "print(frase[0])\n",
        "print(frase[1])\n",
        "\n",
        "# Devolve o último elemento\n",
        "print(frase[-1]) "
      ],
      "execution_count": 17,
      "outputs": [
        {
          "output_type": "stream",
          "text": [
            "K\n",
            "e\n",
            "l\n"
          ],
          "name": "stdout"
        }
      ]
    },
    {
      "cell_type": "markdown",
      "metadata": {
        "id": "iV1ne7POEfk7"
      },
      "source": [
        "Não é permitido fazer substituição de um caractere (exemplo: frase[0] = 'J') nem operações com string que o string não saiba lidar com ela (exemplo: '15' + 2)."
      ]
    },
    {
      "cell_type": "code",
      "metadata": {
        "id": "ngMo8cdRqKyY",
        "colab": {
          "base_uri": "https://localhost:8080/"
        },
        "outputId": "e9298075-16d8-4755-e663-d93676273547"
      },
      "source": [
        "# Slicing: Pega intervalos de um string\n",
        "print(\"Imprime todos os caracteres até a posição 5:\", frase[0:6])\n",
        "print(\"Imprime todos os caracteres da posição 6 até o final:\", frase[6:])\n",
        "print(\"Imprime todos os caracteres da posição 2 até a posição 3:\", frase[2:4])\n",
        "print(\"Mesmo resultado que frase[0:6]:\", frase[:6])"
      ],
      "execution_count": 18,
      "outputs": [
        {
          "output_type": "stream",
          "text": [
            "Imprime todos os caracteres até a posição 5: Kepler\n",
            "Imprime todos os caracteres da posição 6 até o final: -9 é estável\n",
            "Imprime todos os caracteres da posição 2 até a posição 3: pl\n",
            "Mesmo resultado que frase[0:6]: Kepler\n"
          ],
          "name": "stdout"
        }
      ]
    },
    {
      "cell_type": "code",
      "metadata": {
        "id": "U1NnZxKmqsZ9",
        "colab": {
          "base_uri": "https://localhost:8080/"
        },
        "outputId": "d079ac50-71a7-4b8c-9395-835918a5d669"
      },
      "source": [
        "# Concatenando strings\n",
        "frase1 = 'Diante da vastidão do tempo e da imensidão do universo, '\n",
        "frase2 = 'é um imenso prazer para mim dividir um planeta e uma época com você.'\n",
        "print(frase1 + frase2)\n",
        "\n",
        "print('15' + str(2))"
      ],
      "execution_count": 19,
      "outputs": [
        {
          "output_type": "stream",
          "text": [
            "Diante da vastidão do tempo e da imensidão do universo, é um imenso prazer para mim dividir um planeta e uma época com você.\n",
            "152\n"
          ],
          "name": "stdout"
        }
      ]
    },
    {
      "cell_type": "code",
      "metadata": {
        "id": "hUhqDLN1zCW5"
      },
      "source": [
        "# Podemos armazenar essa frase numa outra variável\n",
        "frase = frase1 + frase2"
      ],
      "execution_count": 20,
      "outputs": []
    },
    {
      "cell_type": "code",
      "metadata": {
        "id": "d3SOVj9VXegJ",
        "colab": {
          "base_uri": "https://localhost:8080/",
          "height": 0
        },
        "outputId": "dc320256-cc4a-45a9-8678-e81a559b2f0e"
      },
      "source": [
        "# Repetição\n",
        "'legal' * 3"
      ],
      "execution_count": 21,
      "outputs": [
        {
          "output_type": "execute_result",
          "data": {
            "application/vnd.google.colaboratory.intrinsic+json": {
              "type": "string"
            },
            "text/plain": [
              "'legallegallegal'"
            ]
          },
          "metadata": {
            "tags": []
          },
          "execution_count": 21
        }
      ]
    },
    {
      "cell_type": "code",
      "metadata": {
        "id": "Z90UywafzNoV",
        "colab": {
          "base_uri": "https://localhost:8080/",
          "height": 0
        },
        "outputId": "6d8df4a8-c8e6-4206-88c8-b15cf6470b1d"
      },
      "source": [
        "# Strings são objetos, então contém métodos, atributos e recursos que podemos \n",
        "# usar por ser uma linguagem orientada a objetos\n",
        "frase = 'Viver é como andar de bicicleta: É preciso estar em constante movimento para manter o equilíbrio.'\n",
        "frase"
      ],
      "execution_count": 22,
      "outputs": [
        {
          "output_type": "execute_result",
          "data": {
            "application/vnd.google.colaboratory.intrinsic+json": {
              "type": "string"
            },
            "text/plain": [
              "'Viver é como andar de bicicleta: É preciso estar em constante movimento para manter o equilíbrio.'"
            ]
          },
          "metadata": {
            "tags": []
          },
          "execution_count": 22
        }
      ]
    },
    {
      "cell_type": "code",
      "metadata": {
        "id": "JDDLs5GF0_Is",
        "colab": {
          "base_uri": "https://localhost:8080/"
        },
        "outputId": "6154f10d-2dee-4a4c-ef36-cb8fb72e3f2e"
      },
      "source": [
        "# Método count: Conta quantas ocorrências de um determinado substring existem \n",
        "# dentro de um string\n",
        "print(frase.count('bicicleta'))\n",
        "print('ana gosta de banana'.count('n'))"
      ],
      "execution_count": 23,
      "outputs": [
        {
          "output_type": "stream",
          "text": [
            "1\n",
            "3\n"
          ],
          "name": "stdout"
        }
      ]
    },
    {
      "cell_type": "code",
      "metadata": {
        "id": "8kBftt3J1ePc",
        "colab": {
          "base_uri": "https://localhost:8080/",
          "height": 0
        },
        "outputId": "ad09416b-e087-4be1-d343-82c0b02cf707"
      },
      "source": [
        "# Método lower: Coloca em minúsculas todos os caracteres da string\n",
        "frase.lower()"
      ],
      "execution_count": 24,
      "outputs": [
        {
          "output_type": "execute_result",
          "data": {
            "application/vnd.google.colaboratory.intrinsic+json": {
              "type": "string"
            },
            "text/plain": [
              "'viver é como andar de bicicleta: é preciso estar em constante movimento para manter o equilíbrio.'"
            ]
          },
          "metadata": {
            "tags": []
          },
          "execution_count": 24
        }
      ]
    },
    {
      "cell_type": "code",
      "metadata": {
        "id": "8yKuh3ja2gJT",
        "colab": {
          "base_uri": "https://localhost:8080/",
          "height": 0
        },
        "outputId": "6e1c7bdc-eb2f-469d-d2ce-1514d642a81d"
      },
      "source": [
        "# Método upper: Coloca todos os caracteres em maiúscula\n",
        "frase.upper()"
      ],
      "execution_count": 25,
      "outputs": [
        {
          "output_type": "execute_result",
          "data": {
            "application/vnd.google.colaboratory.intrinsic+json": {
              "type": "string"
            },
            "text/plain": [
              "'VIVER É COMO ANDAR DE BICICLETA: É PRECISO ESTAR EM CONSTANTE MOVIMENTO PARA MANTER O EQUILÍBRIO.'"
            ]
          },
          "metadata": {
            "tags": []
          },
          "execution_count": 25
        }
      ]
    },
    {
      "cell_type": "code",
      "metadata": {
        "id": "BqcLYyHy2xi_",
        "colab": {
          "base_uri": "https://localhost:8080/",
          "height": 0
        },
        "outputId": "f14271d7-769c-41a0-cbaf-918d53cb3379"
      },
      "source": [
        "# Método capitalize: Coloca só a primeira letra em maiúscula, o resto em \n",
        "# minúscula\n",
        "frase.capitalize()"
      ],
      "execution_count": 26,
      "outputs": [
        {
          "output_type": "execute_result",
          "data": {
            "application/vnd.google.colaboratory.intrinsic+json": {
              "type": "string"
            },
            "text/plain": [
              "'Viver é como andar de bicicleta: é preciso estar em constante movimento para manter o equilíbrio.'"
            ]
          },
          "metadata": {
            "tags": []
          },
          "execution_count": 26
        }
      ]
    },
    {
      "cell_type": "code",
      "metadata": {
        "id": "rWQxhzO1Y1IO",
        "colab": {
          "base_uri": "https://localhost:8080/",
          "height": 0
        },
        "outputId": "87056165-d57b-4959-b13b-5be2c20e5935"
      },
      "source": [
        "# Método strip: Remove os espaços em brancos do começo e do fim do string\n",
        "'   python@gmail.com  '.strip()"
      ],
      "execution_count": 27,
      "outputs": [
        {
          "output_type": "execute_result",
          "data": {
            "application/vnd.google.colaboratory.intrinsic+json": {
              "type": "string"
            },
            "text/plain": [
              "'python@gmail.com'"
            ]
          },
          "metadata": {
            "tags": []
          },
          "execution_count": 27
        }
      ]
    },
    {
      "cell_type": "code",
      "metadata": {
        "id": "J1rHwuj2ZinR",
        "colab": {
          "base_uri": "https://localhost:8080/",
          "height": 0
        },
        "outputId": "fbc982c4-1159-4ee5-fa4a-910c0f5f8673"
      },
      "source": [
        "# Método replace: Substitui um pedaço de um string por um outro pedaço\n",
        "'Eu torço para o Perú'.replace('Perú', 'Colombia')"
      ],
      "execution_count": 28,
      "outputs": [
        {
          "output_type": "execute_result",
          "data": {
            "application/vnd.google.colaboratory.intrinsic+json": {
              "type": "string"
            },
            "text/plain": [
              "'Eu torço para o Colombia'"
            ]
          },
          "metadata": {
            "tags": []
          },
          "execution_count": 28
        }
      ]
    },
    {
      "cell_type": "code",
      "metadata": {
        "id": "OY-9SZ_0Zxlg",
        "colab": {
          "base_uri": "https://localhost:8080/",
          "height": 0
        },
        "outputId": "bc364cf0-6cbe-429e-b8b6-efcbc61320d1"
      },
      "source": [
        "# Método center: Centra o string, definindo o comprimento da string retornada e\n",
        "# opcionalmente o caractere de preenchimento (o espaço é o padrão)\n",
        "'brasil sil sil'.capitalize().center(75, '.')"
      ],
      "execution_count": 29,
      "outputs": [
        {
          "output_type": "execute_result",
          "data": {
            "application/vnd.google.colaboratory.intrinsic+json": {
              "type": "string"
            },
            "text/plain": [
              "'...............................Brasil sil sil..............................'"
            ]
          },
          "metadata": {
            "tags": []
          },
          "execution_count": 29
        }
      ]
    },
    {
      "cell_type": "code",
      "metadata": {
        "id": "iUaaZ-soahuO",
        "colab": {
          "base_uri": "https://localhost:8080/"
        },
        "outputId": "3b45da3f-66c1-4e1b-e305-350f516671a1"
      },
      "source": [
        "# Método find: Acha a posição da primeira ocorrência de um string dentro de \n",
        "# outro. Devolve -1 se o string passado como argumento não está presente\n",
        "frase.find('ma')"
      ],
      "execution_count": 30,
      "outputs": [
        {
          "output_type": "execute_result",
          "data": {
            "text/plain": [
              "77"
            ]
          },
          "metadata": {
            "tags": []
          },
          "execution_count": 30
        }
      ]
    },
    {
      "cell_type": "code",
      "metadata": {
        "id": "xREc1pTq24qw",
        "colab": {
          "base_uri": "https://localhost:8080/"
        },
        "outputId": "8d0ab40b-8b38-45d5-9910-57646d08fa6e"
      },
      "source": [
        "# Método islower: Retorna True se a frase está totalmente em minúscula ou \n",
        "# retorna False se isso nao foi verdade\n",
        "frase.islower()"
      ],
      "execution_count": 31,
      "outputs": [
        {
          "output_type": "execute_result",
          "data": {
            "text/plain": [
              "False"
            ]
          },
          "metadata": {
            "tags": []
          },
          "execution_count": 31
        }
      ]
    },
    {
      "cell_type": "code",
      "metadata": {
        "id": "CuOTsSFL313B",
        "colab": {
          "base_uri": "https://localhost:8080/"
        },
        "outputId": "36f3712a-201c-4733-d3c0-b1257dfd637c"
      },
      "source": [
        "# Método split: Permite quebrar a string e retornar uma lista de termos, onde \n",
        "# ele encontrar um espaço \n",
        "frase.split()"
      ],
      "execution_count": 32,
      "outputs": [
        {
          "output_type": "execute_result",
          "data": {
            "text/plain": [
              "['Viver',\n",
              " 'é',\n",
              " 'como',\n",
              " 'andar',\n",
              " 'de',\n",
              " 'bicicleta:',\n",
              " 'É',\n",
              " 'preciso',\n",
              " 'estar',\n",
              " 'em',\n",
              " 'constante',\n",
              " 'movimento',\n",
              " 'para',\n",
              " 'manter',\n",
              " 'o',\n",
              " 'equilíbrio.']"
            ]
          },
          "metadata": {
            "tags": []
          },
          "execution_count": 32
        }
      ]
    },
    {
      "cell_type": "code",
      "metadata": {
        "id": "3rg4uEAN4YeO",
        "colab": {
          "base_uri": "https://localhost:8080/"
        },
        "outputId": "c03174c5-5eca-448e-c3d6-2e3a27834a03"
      },
      "source": [
        "# O método split pode receber parâmetros. Se quiser quebrar a cada vez que ele \n",
        "# encontar um 'de':\n",
        "frase.split('de')"
      ],
      "execution_count": 33,
      "outputs": [
        {
          "output_type": "execute_result",
          "data": {
            "text/plain": [
              "['Viver é como andar ',\n",
              " ' bicicleta: É preciso estar em constante movimento para manter o equilíbrio.']"
            ]
          },
          "metadata": {
            "tags": []
          },
          "execution_count": 33
        }
      ]
    },
    {
      "cell_type": "code",
      "metadata": {
        "id": "IxL53ljaa_Ok",
        "colab": {
          "base_uri": "https://localhost:8080/"
        },
        "outputId": "6caf38c8-0202-48ed-a1fc-514778bcea4a"
      },
      "source": [
        "# Método len: Dá o comprimento de um string\n",
        "len(frase)"
      ],
      "execution_count": 34,
      "outputs": [
        {
          "output_type": "execute_result",
          "data": {
            "text/plain": [
              "97"
            ]
          },
          "metadata": {
            "tags": []
          },
          "execution_count": 34
        }
      ]
    },
    {
      "cell_type": "code",
      "metadata": {
        "id": "Z1KKQYFxb9id",
        "colab": {
          "base_uri": "https://localhost:8080/"
        },
        "outputId": "2cb61e4a-cd60-4e7c-e919-c909eb102ab1"
      },
      "source": [
        "# Comparação de strings\n",
        "x = 'teoria'\n",
        "y = 'prática'\n",
        "\n",
        "print(x == y)\n",
        "print(x != y) \n",
        "\n",
        "z = 'teoria'\n",
        "\n",
        "print(x == z)\n",
        "print(x is z)\n",
        "\n",
        "# Strings com o mesmo conteúdo acabam apontando para o mesmo lugar da memória"
      ],
      "execution_count": 35,
      "outputs": [
        {
          "output_type": "stream",
          "text": [
            "False\n",
            "True\n",
            "True\n",
            "True\n"
          ],
          "name": "stdout"
        }
      ]
    },
    {
      "cell_type": "code",
      "metadata": {
        "id": "PZQmSYCr3EE4",
        "colab": {
          "base_uri": "https://localhost:8080/"
        },
        "outputId": "b98bf795-2e20-4262-d315-8622c5b43c5f"
      },
      "source": [
        "# Comparação com maior ou menor\n",
        "print(x > y)\n",
        "\n",
        "# A comparação é feita segunda a ordem lexicográfica (ordem de caractere a \n",
        "# caractere). A função 'ord' dá o número de ordem (número ordinal) do caractere \n",
        "# no padrão unicode, que é um padrão internacional de representação de \n",
        "# caracteres que o Python adota. Se as primeiras letras fossem iguais se passa \n",
        "# para as segundas e assim por diante, até encontrar uma letra diferente e \n",
        "# calcula qual que é maior. No código unicode as letras aparecem na ordem \n",
        "# alfabética, e as letras maiúsculas vem antes do que as letras minúsculas\n",
        "# https://en.wikipedia.org/wiki/ASCII\n",
        "\n",
        "# Código da letra maiúscula 'A'\n",
        "print(ord('A'))\n",
        "\n",
        "# Código da letra minúscula 'a'\n",
        "print(ord('a'))\n",
        "\n",
        "# Para comparar palavras independente da letra maiúscula ou minúscula, primeiro\n",
        "# tem que usar a função lower\n",
        "print(\"Maca\" > \"banana\")\n",
        "print(\"Maca\".lower() > \"banana\".lower())"
      ],
      "execution_count": 36,
      "outputs": [
        {
          "output_type": "stream",
          "text": [
            "True\n",
            "65\n",
            "97\n",
            "False\n",
            "True\n"
          ],
          "name": "stdout"
        }
      ]
    },
    {
      "cell_type": "markdown",
      "metadata": {
        "id": "vh2zR5b-5w0C"
      },
      "source": [
        "##**Listas**"
      ]
    },
    {
      "cell_type": "markdown",
      "metadata": {
        "id": "eoJyhaxTU-de"
      },
      "source": [
        "Em Python, listas são estruturas de dados bem versáteis, estas podem conter dados de tipos diferentes, até mesmo outras listas (podem ser aninhadas) e são bem fáceis de manipular"
      ]
    },
    {
      "cell_type": "code",
      "metadata": {
        "id": "JxMxXWqP5z2D",
        "colab": {
          "base_uri": "https://localhost:8080/"
        },
        "outputId": "2c79632f-ae1e-43c1-e16c-ff2203882791"
      },
      "source": [
        "# Sintaxe para criar uma lista\n",
        "lista = [1, 2, 3]\n",
        "lista"
      ],
      "execution_count": 37,
      "outputs": [
        {
          "output_type": "execute_result",
          "data": {
            "text/plain": [
              "[1, 2, 3]"
            ]
          },
          "metadata": {
            "tags": []
          },
          "execution_count": 37
        }
      ]
    },
    {
      "cell_type": "code",
      "metadata": {
        "id": "PB9546Yr56N8",
        "colab": {
          "base_uri": "https://localhost:8080/"
        },
        "outputId": "714f49ec-bbc0-446c-b374-d725775c70d9"
      },
      "source": [
        "# Lista com tipos de dados diferentes\n",
        "lista = ['cachorro', 'gato', 7.2, 333, [3.141592, 2.718281]]\n",
        "lista"
      ],
      "execution_count": 38,
      "outputs": [
        {
          "output_type": "execute_result",
          "data": {
            "text/plain": [
              "['cachorro', 'gato', 7.2, 333, [3.141592, 2.718281]]"
            ]
          },
          "metadata": {
            "tags": []
          },
          "execution_count": 38
        }
      ]
    },
    {
      "cell_type": "code",
      "metadata": {
        "id": "pzFSO-gF66Ym",
        "colab": {
          "base_uri": "https://localhost:8080/"
        },
        "outputId": "17d584a5-50aa-431e-ebf9-8ea9d7e5b084"
      },
      "source": [
        "# Índices de elementos. As listas são indexadas como acontece com as strings, o \n",
        "# primeiro elemento começa no índice 0\n",
        "print(lista[0])\n",
        "print(lista[4])"
      ],
      "execution_count": 39,
      "outputs": [
        {
          "output_type": "stream",
          "text": [
            "cachorro\n",
            "[3.141592, 2.718281]\n"
          ],
          "name": "stdout"
        }
      ]
    },
    {
      "cell_type": "code",
      "metadata": {
        "id": "EIiZF01d7Art",
        "colab": {
          "base_uri": "https://localhost:8080/"
        },
        "outputId": "8aad2aca-adc7-4c7f-e677-69d2a10eed22"
      },
      "source": [
        "# Atualizando o primeiro elemento da lista. Diferente das strings, podemos \n",
        "# atualizar os elementos de uma lista\n",
        "lista[0] = 'árvore'\n",
        "lista"
      ],
      "execution_count": 40,
      "outputs": [
        {
          "output_type": "execute_result",
          "data": {
            "text/plain": [
              "['árvore', 'gato', 7.2, 333, [3.141592, 2.718281]]"
            ]
          },
          "metadata": {
            "tags": []
          },
          "execution_count": 40
        }
      ]
    },
    {
      "cell_type": "code",
      "metadata": {
        "id": "1j0bjAzk7J3p",
        "colab": {
          "base_uri": "https://localhost:8080/"
        },
        "outputId": "1aadf6ec-5389-4513-de2f-1af690e14b96"
      },
      "source": [
        "# Slicing em listas. Como em strings, podemos percorrer os elementos da lista\n",
        "print(\"Imprime elementos a partir do elemento 1:\", lista[1:])"
      ],
      "execution_count": 41,
      "outputs": [
        {
          "output_type": "stream",
          "text": [
            "Imprime elementos a partir do elemento 1: ['gato', 7.2, 333, [3.141592, 2.718281]]\n"
          ],
          "name": "stdout"
        }
      ]
    },
    {
      "cell_type": "code",
      "metadata": {
        "id": "Vsh8YM7o7HvK",
        "colab": {
          "base_uri": "https://localhost:8080/"
        },
        "outputId": "86514aee-8d89-4c44-9cb0-17c668bbe41c"
      },
      "source": [
        "# Método remove: Permite remover elementos\n",
        "lista.remove(333)\n",
        "lista"
      ],
      "execution_count": 42,
      "outputs": [
        {
          "output_type": "execute_result",
          "data": {
            "text/plain": [
              "['árvore', 'gato', 7.2, [3.141592, 2.718281]]"
            ]
          },
          "metadata": {
            "tags": []
          },
          "execution_count": 42
        }
      ]
    },
    {
      "cell_type": "code",
      "metadata": {
        "id": "ee9wCsOjC8Pv",
        "colab": {
          "base_uri": "https://localhost:8080/"
        },
        "outputId": "dea36078-49ab-4b4a-d652-c44a1e939e06"
      },
      "source": [
        "# Função len: Retorna o tamanho da lista\n",
        "len(lista)"
      ],
      "execution_count": 43,
      "outputs": [
        {
          "output_type": "execute_result",
          "data": {
            "text/plain": [
              "4"
            ]
          },
          "metadata": {
            "tags": []
          },
          "execution_count": 43
        }
      ]
    },
    {
      "cell_type": "code",
      "metadata": {
        "id": "YFg9ZW3NC-WJ",
        "colab": {
          "base_uri": "https://localhost:8080/"
        },
        "outputId": "1b3f1286-3e14-4d19-b1b3-b61d2afa1d4c"
      },
      "source": [
        "# Concatenando listas\n",
        "lista + [76, 'L4']"
      ],
      "execution_count": 44,
      "outputs": [
        {
          "output_type": "execute_result",
          "data": {
            "text/plain": [
              "['árvore', 'gato', 7.2, [3.141592, 2.718281], 76, 'L4']"
            ]
          },
          "metadata": {
            "tags": []
          },
          "execution_count": 44
        }
      ]
    },
    {
      "cell_type": "code",
      "metadata": {
        "id": "Y7DRyXilDkNK",
        "colab": {
          "base_uri": "https://localhost:8080/"
        },
        "outputId": "236e59d5-fc78-4855-f4bf-78094322e566"
      },
      "source": [
        "# Usamos o operador 'in' para verificar se um determinado elemento está na lista\n",
        "'árvore' in lista"
      ],
      "execution_count": 45,
      "outputs": [
        {
          "output_type": "execute_result",
          "data": {
            "text/plain": [
              "True"
            ]
          },
          "metadata": {
            "tags": []
          },
          "execution_count": 45
        }
      ]
    },
    {
      "cell_type": "code",
      "metadata": {
        "id": "hhMemm5BD0-F",
        "colab": {
          "base_uri": "https://localhost:8080/"
        },
        "outputId": "d3428eee-7f33-4f9d-c5b6-26be9969f264"
      },
      "source": [
        "# Função max: Retorna o valor máximo da lista. A lista precisa conter apenas \n",
        "# valores numéricos (\"max(lista)\" daria erro)\n",
        "lista2 = [9, 4, 7.3, 5.2]\n",
        "max(lista2)"
      ],
      "execution_count": 46,
      "outputs": [
        {
          "output_type": "execute_result",
          "data": {
            "text/plain": [
              "9"
            ]
          },
          "metadata": {
            "tags": []
          },
          "execution_count": 46
        }
      ]
    },
    {
      "cell_type": "code",
      "metadata": {
        "id": "VSagu4hkEaXk",
        "colab": {
          "base_uri": "https://localhost:8080/"
        },
        "outputId": "e10af93f-bd3a-4097-e215-a3fb4a740314"
      },
      "source": [
        "# Função mim: Retorna o valor mínimo da lista\n",
        "min(lista2)"
      ],
      "execution_count": 47,
      "outputs": [
        {
          "output_type": "execute_result",
          "data": {
            "text/plain": [
              "4"
            ]
          },
          "metadata": {
            "tags": []
          },
          "execution_count": 47
        }
      ]
    },
    {
      "cell_type": "code",
      "metadata": {
        "id": "3bdkCRj_EeYQ",
        "colab": {
          "base_uri": "https://localhost:8080/"
        },
        "outputId": "7a747e8c-fb2b-4274-dd3b-7fc19c090c4a"
      },
      "source": [
        "# A partir de uma lista podemos obter uma nova com os valores multiplicados\n",
        "['Life'] * 4"
      ],
      "execution_count": 48,
      "outputs": [
        {
          "output_type": "execute_result",
          "data": {
            "text/plain": [
              "['Life', 'Life', 'Life', 'Life']"
            ]
          },
          "metadata": {
            "tags": []
          },
          "execution_count": 48
        }
      ]
    },
    {
      "cell_type": "code",
      "metadata": {
        "id": "UrduVnBnFQUi"
      },
      "source": [
        "# Para visualizar os métodos existentes do objeto lista, digite o nome do objeto\n",
        "# + \".\" + pressione a tecla tab (\"lista.\")"
      ],
      "execution_count": 49,
      "outputs": []
    },
    {
      "cell_type": "code",
      "metadata": {
        "id": "lp1qwcSXFuTA",
        "colab": {
          "base_uri": "https://localhost:8080/"
        },
        "outputId": "fc45d899-adeb-4796-fb8b-af799f1112ff"
      },
      "source": [
        "# Método append: Adiciona um elemento na lista\n",
        "lista.append('azul')\n",
        "lista\n"
      ],
      "execution_count": 50,
      "outputs": [
        {
          "output_type": "execute_result",
          "data": {
            "text/plain": [
              "['árvore', 'gato', 7.2, [3.141592, 2.718281], 'azul']"
            ]
          },
          "metadata": {
            "tags": []
          },
          "execution_count": 50
        }
      ]
    },
    {
      "cell_type": "code",
      "metadata": {
        "id": "MbULFkGjF0Sw",
        "colab": {
          "base_uri": "https://localhost:8080/"
        },
        "outputId": "19891830-968a-441c-c9c1-b388662669f9"
      },
      "source": [
        "# Método extend: Estende a lista existente com mais de um elemento (que e uma \n",
        "# limitação do método append)\n",
        "lista.extend(['céu', 2.1])\n",
        "lista"
      ],
      "execution_count": 51,
      "outputs": [
        {
          "output_type": "execute_result",
          "data": {
            "text/plain": [
              "['árvore', 'gato', 7.2, [3.141592, 2.718281], 'azul', 'céu', 2.1]"
            ]
          },
          "metadata": {
            "tags": []
          },
          "execution_count": 51
        }
      ]
    },
    {
      "cell_type": "code",
      "metadata": {
        "id": "C_7zN89QK-ER",
        "colab": {
          "base_uri": "https://localhost:8080/"
        },
        "outputId": "c85c5fc3-9b91-4a92-f731-5a4635ac2cd1"
      },
      "source": [
        "# Método index: Retorna o índice do elemento da lista que recebe como parâmetro\n",
        "lista.index('céu')"
      ],
      "execution_count": 52,
      "outputs": [
        {
          "output_type": "execute_result",
          "data": {
            "text/plain": [
              "5"
            ]
          },
          "metadata": {
            "tags": []
          },
          "execution_count": 52
        }
      ]
    },
    {
      "cell_type": "code",
      "metadata": {
        "id": "Hkt8kuPdLP-d",
        "colab": {
          "base_uri": "https://localhost:8080/"
        },
        "outputId": "4be7212d-e572-4720-d625-e4d732f3f46e"
      },
      "source": [
        "# Método remove: Remove o elemento que é passado como parâmetro\n",
        "lista.remove('gato')\n",
        "lista"
      ],
      "execution_count": 53,
      "outputs": [
        {
          "output_type": "execute_result",
          "data": {
            "text/plain": [
              "['árvore', 7.2, [3.141592, 2.718281], 'azul', 'céu', 2.1]"
            ]
          },
          "metadata": {
            "tags": []
          },
          "execution_count": 53
        }
      ]
    },
    {
      "cell_type": "code",
      "metadata": {
        "id": "3fLnp45kLlqz",
        "colab": {
          "base_uri": "https://localhost:8080/"
        },
        "outputId": "55496ff1-52d3-447b-9803-c2703b56db8f"
      },
      "source": [
        "# Método count: Retorna a quantidade de vezes que um determinado elemento \n",
        "# aparece na lista\n",
        "lista.count('vermelho')"
      ],
      "execution_count": 54,
      "outputs": [
        {
          "output_type": "execute_result",
          "data": {
            "text/plain": [
              "0"
            ]
          },
          "metadata": {
            "tags": []
          },
          "execution_count": 54
        }
      ]
    },
    {
      "cell_type": "code",
      "metadata": {
        "id": "EPjqbttXGG94",
        "colab": {
          "base_uri": "https://localhost:8080/"
        },
        "outputId": "22681442-1064-4539-8188-f55167f14a3f"
      },
      "source": [
        "# Método sort: Muda uma lista ordenando-la em forma crescente (por padrão) se \n",
        "# for apenas de inteiros/floats, ou em ordem alfabética se for apenas de strings.\n",
        "# Não consegue fazer ordenação de valores de uma lista que contenha valores do \n",
        "# tipo strings e inteiros/floats\n",
        "lista3 = [454, 2, 76, 89, 23]\n",
        "lista4 = ['lua', 'sol', 'asteroides', 'troianos']\n",
        "lista3.sort()\n",
        "lista4.sort()\n",
        "print(lista3)\n",
        "print(lista4)\n",
        "\n",
        "# Em ordem decrescente\n",
        "lista3.sort(reverse = True)\n",
        "lista4.sort(reverse = True)\n",
        "print(lista3) \n",
        "print(lista4)"
      ],
      "execution_count": 55,
      "outputs": [
        {
          "output_type": "stream",
          "text": [
            "[2, 23, 76, 89, 454]\n",
            "['asteroides', 'lua', 'sol', 'troianos']\n",
            "[454, 89, 76, 23, 2]\n",
            "['troianos', 'sol', 'lua', 'asteroides']\n"
          ],
          "name": "stdout"
        }
      ]
    },
    {
      "cell_type": "code",
      "metadata": {
        "id": "BwN_6zhq0JNP",
        "colab": {
          "base_uri": "https://localhost:8080/"
        },
        "outputId": "5a8af8bf-7638-42b8-92d8-d18689932b3a"
      },
      "source": [
        "# Função sorted: Construi uma nova lista, sem afetar a lista original \n",
        "lista5 = [9, 4, 6]\n",
        "lista6 = sorted(lista5)\n",
        "lista7 = sorted(lista5, reverse = True)\n",
        "print(lista5)\n",
        "print(lista6)\n",
        "print(lista7)"
      ],
      "execution_count": 56,
      "outputs": [
        {
          "output_type": "stream",
          "text": [
            "[9, 4, 6]\n",
            "[4, 6, 9]\n",
            "[9, 6, 4]\n"
          ],
          "name": "stdout"
        }
      ]
    },
    {
      "cell_type": "markdown",
      "metadata": {
        "id": "-Quw-CN2N2TA"
      },
      "source": [
        "##**Lista Aninhada**"
      ]
    },
    {
      "cell_type": "markdown",
      "metadata": {
        "id": "4lKoi42ZVCyI"
      },
      "source": [
        "Objeto que contém outras listas como elementos"
      ]
    },
    {
      "cell_type": "code",
      "metadata": {
        "id": "SozcVz29NKqZ",
        "colab": {
          "base_uri": "https://localhost:8080/"
        },
        "outputId": "de5ed745-fa31-441c-ebd6-635854a62617"
      },
      "source": [
        "# Lista que contém 3 listas\n",
        "lista_aninhada = [[5, 3, 2], ['L1', 'L2', 'L3', 'L4', 'L5'], ['Io', 'Europa', 'Ganimedes', 'Calisto']]\n",
        "lista_aninhada"
      ],
      "execution_count": 57,
      "outputs": [
        {
          "output_type": "execute_result",
          "data": {
            "text/plain": [
              "[[5, 3, 2],\n",
              " ['L1', 'L2', 'L3', 'L4', 'L5'],\n",
              " ['Io', 'Europa', 'Ganimedes', 'Calisto']]"
            ]
          },
          "metadata": {
            "tags": []
          },
          "execution_count": 57
        }
      ]
    },
    {
      "cell_type": "code",
      "metadata": {
        "id": "shOtbWExOsXd",
        "colab": {
          "base_uri": "https://localhost:8080/"
        },
        "outputId": "88a7c9c6-0695-4400-cfed-0617088a5459"
      },
      "source": [
        "# Imprimindo o primeiro elemento (lista de números)\n",
        "lista_aninhada[0]"
      ],
      "execution_count": 58,
      "outputs": [
        {
          "output_type": "execute_result",
          "data": {
            "text/plain": [
              "[5, 3, 2]"
            ]
          },
          "metadata": {
            "tags": []
          },
          "execution_count": 58
        }
      ]
    },
    {
      "cell_type": "code",
      "metadata": {
        "id": "gu01plGZOzCF",
        "colab": {
          "base_uri": "https://localhost:8080/"
        },
        "outputId": "94f3f5d0-bc38-4b4a-ee4b-8f445e9b7097"
      },
      "source": [
        "# Imprimindo o segundo elemento (lista de pontos de Lagrange)\n",
        "lista_aninhada[1]"
      ],
      "execution_count": 59,
      "outputs": [
        {
          "output_type": "execute_result",
          "data": {
            "text/plain": [
              "['L1', 'L2', 'L3', 'L4', 'L5']"
            ]
          },
          "metadata": {
            "tags": []
          },
          "execution_count": 59
        }
      ]
    },
    {
      "cell_type": "code",
      "metadata": {
        "id": "JIbxqpJxO-qR",
        "colab": {
          "base_uri": "https://localhost:8080/"
        },
        "outputId": "75449bba-2857-4cb0-bdea-e3157f470aae"
      },
      "source": [
        "# Imprimindo o terceira elemento (lista de satélites Galileanos)\n",
        "lista_aninhada[2]"
      ],
      "execution_count": 60,
      "outputs": [
        {
          "output_type": "execute_result",
          "data": {
            "text/plain": [
              "['Io', 'Europa', 'Ganimedes', 'Calisto']"
            ]
          },
          "metadata": {
            "tags": []
          },
          "execution_count": 60
        }
      ]
    },
    {
      "cell_type": "code",
      "metadata": {
        "id": "DCbO_TNQPWhw",
        "colab": {
          "base_uri": "https://localhost:8080/"
        },
        "outputId": "650ad1d3-03aa-4566-cc24-d7c9c31d3138"
      },
      "source": [
        "# Imprimindo o segundo elemento da lista números\n",
        "lista_aninhada[0][1]"
      ],
      "execution_count": 61,
      "outputs": [
        {
          "output_type": "execute_result",
          "data": {
            "text/plain": [
              "3"
            ]
          },
          "metadata": {
            "tags": []
          },
          "execution_count": 61
        }
      ]
    },
    {
      "cell_type": "code",
      "metadata": {
        "id": "2EtOvHLLPeW1",
        "colab": {
          "base_uri": "https://localhost:8080/",
          "height": 0
        },
        "outputId": "fe2abda5-1f60-4601-a760-eeaaa694a9a3"
      },
      "source": [
        "# Imprimindo o último valor da lista de pontos de Lagrange\n",
        "lista_aninhada[1][4]"
      ],
      "execution_count": 62,
      "outputs": [
        {
          "output_type": "execute_result",
          "data": {
            "application/vnd.google.colaboratory.intrinsic+json": {
              "type": "string"
            },
            "text/plain": [
              "'L5'"
            ]
          },
          "metadata": {
            "tags": []
          },
          "execution_count": 62
        }
      ]
    },
    {
      "cell_type": "code",
      "metadata": {
        "id": "JvZgIG_QPLOj",
        "colab": {
          "base_uri": "https://localhost:8080/",
          "height": 0
        },
        "outputId": "29b771e3-3a4a-465e-83d8-facf24d20e6b"
      },
      "source": [
        "# Imprimindo o primeiro elemento da lista de satélites\n",
        "lista_aninhada[2][0]"
      ],
      "execution_count": 63,
      "outputs": [
        {
          "output_type": "execute_result",
          "data": {
            "application/vnd.google.colaboratory.intrinsic+json": {
              "type": "string"
            },
            "text/plain": [
              "'Io'"
            ]
          },
          "metadata": {
            "tags": []
          },
          "execution_count": 63
        }
      ]
    },
    {
      "cell_type": "code",
      "metadata": {
        "id": "APqMrwIHPohI",
        "colab": {
          "base_uri": "https://localhost:8080/"
        },
        "outputId": "60a384a9-81d3-461c-d68d-214b2a774112"
      },
      "source": [
        "# Operacao de repetição de elementos da lista aninhada\n",
        "lista_aninhada * 3"
      ],
      "execution_count": 64,
      "outputs": [
        {
          "output_type": "execute_result",
          "data": {
            "text/plain": [
              "[[5, 3, 2],\n",
              " ['L1', 'L2', 'L3', 'L4', 'L5'],\n",
              " ['Io', 'Europa', 'Ganimedes', 'Calisto'],\n",
              " [5, 3, 2],\n",
              " ['L1', 'L2', 'L3', 'L4', 'L5'],\n",
              " ['Io', 'Europa', 'Ganimedes', 'Calisto'],\n",
              " [5, 3, 2],\n",
              " ['L1', 'L2', 'L3', 'L4', 'L5'],\n",
              " ['Io', 'Europa', 'Ganimedes', 'Calisto']]"
            ]
          },
          "metadata": {
            "tags": []
          },
          "execution_count": 64
        }
      ]
    },
    {
      "cell_type": "code",
      "metadata": {
        "id": "g-Mk9baxTKns",
        "colab": {
          "base_uri": "https://localhost:8080/"
        },
        "outputId": "6f37710e-a051-4357-f7b5-6579188f3656"
      },
      "source": [
        "lista_aninhada"
      ],
      "execution_count": 65,
      "outputs": [
        {
          "output_type": "execute_result",
          "data": {
            "text/plain": [
              "[[5, 3, 2],\n",
              " ['L1', 'L2', 'L3', 'L4', 'L5'],\n",
              " ['Io', 'Europa', 'Ganimedes', 'Calisto']]"
            ]
          },
          "metadata": {
            "tags": []
          },
          "execution_count": 65
        }
      ]
    },
    {
      "cell_type": "code",
      "metadata": {
        "id": "PUmOhmCTVbpP",
        "colab": {
          "base_uri": "https://localhost:8080/"
        },
        "outputId": "573b765d-7830-4b4b-8431-c4267ddca2f4"
      },
      "source": [
        "# Note que a operação anterior não influenciou a lista original porque foi \n",
        "# mandado apenas a imprimir na tela, e não a receber o valor multiplicado como \n",
        "# embaixo\n",
        "lista_aninhada = lista_aninhada * 3\n",
        "lista_aninhada"
      ],
      "execution_count": 66,
      "outputs": [
        {
          "output_type": "execute_result",
          "data": {
            "text/plain": [
              "[[5, 3, 2],\n",
              " ['L1', 'L2', 'L3', 'L4', 'L5'],\n",
              " ['Io', 'Europa', 'Ganimedes', 'Calisto'],\n",
              " [5, 3, 2],\n",
              " ['L1', 'L2', 'L3', 'L4', 'L5'],\n",
              " ['Io', 'Europa', 'Ganimedes', 'Calisto'],\n",
              " [5, 3, 2],\n",
              " ['L1', 'L2', 'L3', 'L4', 'L5'],\n",
              " ['Io', 'Europa', 'Ganimedes', 'Calisto']]"
            ]
          },
          "metadata": {
            "tags": []
          },
          "execution_count": 66
        }
      ]
    },
    {
      "cell_type": "markdown",
      "metadata": {
        "id": "Yg17b-i4WsvP"
      },
      "source": [
        "##**Tuplas**"
      ]
    },
    {
      "cell_type": "markdown",
      "metadata": {
        "id": "i15Y_BnqVHj4"
      },
      "source": [
        "As tuplas são estruturas de dados similas às listas, a principal diferença é que seus elementos são imutáveis, ou seja, não podem ser alterados (atualizados) após sua criação. Tentar fazer isso, retornaria uma mensagem de erro. As tuplas podem conter diferentes tipos de dados, até mesmo outras tuplas (tuplas aninhadas)"
      ]
    },
    {
      "cell_type": "code",
      "metadata": {
        "id": "mIZwsuVbWwJV",
        "colab": {
          "base_uri": "https://localhost:8080/"
        },
        "outputId": "acab6159-50e9-4a3f-8768-e28e68c8f3ca"
      },
      "source": [
        "# Sintaxe para criação de uma tupla vazia\n",
        "tupla = ()\n",
        "tupla"
      ],
      "execution_count": 67,
      "outputs": [
        {
          "output_type": "execute_result",
          "data": {
            "text/plain": [
              "()"
            ]
          },
          "metadata": {
            "tags": []
          },
          "execution_count": 67
        }
      ]
    },
    {
      "cell_type": "code",
      "metadata": {
        "id": "5GN_c7zdW2sP",
        "colab": {
          "base_uri": "https://localhost:8080/"
        },
        "outputId": "eda09f21-075b-4001-ba27-a4a6fb9e5591"
      },
      "source": [
        "# Criação de uma tupla recebendo dados\n",
        "tupla = ('Jupiter', 'Euler', 84.8, 942)\n",
        "tupla"
      ],
      "execution_count": 68,
      "outputs": [
        {
          "output_type": "execute_result",
          "data": {
            "text/plain": [
              "('Jupiter', 'Euler', 84.8, 942)"
            ]
          },
          "metadata": {
            "tags": []
          },
          "execution_count": 68
        }
      ]
    },
    {
      "cell_type": "code",
      "metadata": {
        "id": "nU3XrSoyXNuj",
        "colab": {
          "base_uri": "https://localhost:8080/"
        },
        "outputId": "038390ad-bfda-46fe-96f0-78051fd1f527"
      },
      "source": [
        "# Imprimindo elementos da tupla\n",
        "tupla[0], tupla[1], tupla[3]"
      ],
      "execution_count": 69,
      "outputs": [
        {
          "output_type": "execute_result",
          "data": {
            "text/plain": [
              "('Jupiter', 'Euler', 942)"
            ]
          },
          "metadata": {
            "tags": []
          },
          "execution_count": 69
        }
      ]
    },
    {
      "cell_type": "code",
      "metadata": {
        "id": "0xBgzxwzXT60"
      },
      "source": [
        "# As tuplas sao imutáveis!, uma vez criada não é possível atualizar os elementos\n",
        "# tupla[0] = 'Saturno'"
      ],
      "execution_count": 70,
      "outputs": []
    },
    {
      "cell_type": "code",
      "metadata": {
        "id": "S4XJTK5FXa7L",
        "colab": {
          "base_uri": "https://localhost:8080/"
        },
        "outputId": "9c0f344e-30b2-4a7f-9163-d3264fe69fb1"
      },
      "source": [
        "# Criação de tupla aninhada e impressão do terceiro elemento\n",
        "tupla_aninhada = (5,6, (54, 23, 24))\n",
        "tupla_aninhada[2]"
      ],
      "execution_count": 71,
      "outputs": [
        {
          "output_type": "execute_result",
          "data": {
            "text/plain": [
              "(54, 23, 24)"
            ]
          },
          "metadata": {
            "tags": []
          },
          "execution_count": 71
        }
      ]
    },
    {
      "cell_type": "code",
      "metadata": {
        "id": "NuuyyIvhXjZB",
        "colab": {
          "base_uri": "https://localhost:8080/"
        },
        "outputId": "a9f59af9-3f0a-41bd-fd8d-436959269581"
      },
      "source": [
        "# Acessando o primeiro valor da tupla que está aninhada\n",
        "tupla_aninhada[2][0]"
      ],
      "execution_count": 72,
      "outputs": [
        {
          "output_type": "execute_result",
          "data": {
            "text/plain": [
              "54"
            ]
          },
          "metadata": {
            "tags": []
          },
          "execution_count": 72
        }
      ]
    },
    {
      "cell_type": "code",
      "metadata": {
        "id": "m1DnrnZalnVA",
        "colab": {
          "base_uri": "https://localhost:8080/"
        },
        "outputId": "5ac7db17-bd67-41b5-a207-deaa5213f810"
      },
      "source": [
        "# Criação de uma tupla a partir da repetição de seus valores\n",
        "tupla2 = tupla * 3\n",
        "tupla2"
      ],
      "execution_count": 73,
      "outputs": [
        {
          "output_type": "execute_result",
          "data": {
            "text/plain": [
              "('Jupiter',\n",
              " 'Euler',\n",
              " 84.8,\n",
              " 942,\n",
              " 'Jupiter',\n",
              " 'Euler',\n",
              " 84.8,\n",
              " 942,\n",
              " 'Jupiter',\n",
              " 'Euler',\n",
              " 84.8,\n",
              " 942)"
            ]
          },
          "metadata": {
            "tags": []
          },
          "execution_count": 73
        }
      ]
    },
    {
      "cell_type": "code",
      "metadata": {
        "id": "s5pSwpKxl2AW",
        "colab": {
          "base_uri": "https://localhost:8080/"
        },
        "outputId": "5e523fe6-cfeb-4532-e064-20f5cede8584"
      },
      "source": [
        "# Concatenação de tuplas\n",
        "(1, 2, 3) + (7, 8, 9)"
      ],
      "execution_count": 74,
      "outputs": [
        {
          "output_type": "execute_result",
          "data": {
            "text/plain": [
              "(1, 2, 3, 7, 8, 9)"
            ]
          },
          "metadata": {
            "tags": []
          },
          "execution_count": 74
        }
      ]
    },
    {
      "cell_type": "code",
      "metadata": {
        "id": "FtrI6Sfsl9Fs",
        "colab": {
          "base_uri": "https://localhost:8080/"
        },
        "outputId": "8cfc6f7c-7c5f-4777-90fe-d93575bc90af"
      },
      "source": [
        "# Verifica se um elemento pertence à tupla\n",
        "'Venus' in tupla2"
      ],
      "execution_count": 75,
      "outputs": [
        {
          "output_type": "execute_result",
          "data": {
            "text/plain": [
              "False"
            ]
          },
          "metadata": {
            "tags": []
          },
          "execution_count": 75
        }
      ]
    },
    {
      "cell_type": "code",
      "metadata": {
        "id": "IFEWb22jmFKe",
        "colab": {
          "base_uri": "https://localhost:8080/"
        },
        "outputId": "be656fe0-6aad-4611-bab0-02c06e1e1d43"
      },
      "source": [
        "# Slicing\n",
        "print(\"Percorre a tupla do elemento na posição 1 em diante:\", tupla[1:])\n",
        "print(\"Percorre a tupla do elemento na posição 1 até o elemento na posição 2:\", tupla[1:3])"
      ],
      "execution_count": 76,
      "outputs": [
        {
          "output_type": "stream",
          "text": [
            "Percorre a tupla do elemento na posição 1 em diante: ('Euler', 84.8, 942)\n",
            "Percorre a tupla do elemento na posição 1 até o elemento na posição 2: ('Euler', 84.8)\n"
          ],
          "name": "stdout"
        }
      ]
    },
    {
      "cell_type": "code",
      "metadata": {
        "id": "ZwNuzJikqQ4w"
      },
      "source": [
        "# Os métodos disponíveis para trabalhar com tuplas são mostrados digitando o nome da tupla + \".\" + tecla tab"
      ],
      "execution_count": 77,
      "outputs": []
    },
    {
      "cell_type": "code",
      "metadata": {
        "id": "-WkI3j1Gmt4f",
        "colab": {
          "base_uri": "https://localhost:8080/"
        },
        "outputId": "a6e277e0-8433-462f-a29f-cc221a32d2b6"
      },
      "source": [
        "# Método count\n",
        "tupla.count('Jupiter')"
      ],
      "execution_count": 78,
      "outputs": [
        {
          "output_type": "execute_result",
          "data": {
            "text/plain": [
              "1"
            ]
          },
          "metadata": {
            "tags": []
          },
          "execution_count": 78
        }
      ]
    },
    {
      "cell_type": "code",
      "metadata": {
        "id": "QFqlMaaQnrhz",
        "colab": {
          "base_uri": "https://localhost:8080/"
        },
        "outputId": "d2b69600-dabc-453a-c970-be5e372315b0"
      },
      "source": [
        "# Método index\n",
        "tupla.index('Jupiter')"
      ],
      "execution_count": 79,
      "outputs": [
        {
          "output_type": "execute_result",
          "data": {
            "text/plain": [
              "0"
            ]
          },
          "metadata": {
            "tags": []
          },
          "execution_count": 79
        }
      ]
    },
    {
      "cell_type": "code",
      "metadata": {
        "id": "TF05XskyrQgo",
        "colab": {
          "base_uri": "https://localhost:8080/"
        },
        "outputId": "b5143dd0-64f8-4d94-b5d0-0ace21226ddd"
      },
      "source": [
        "# Função len\n",
        "len(tupla)"
      ],
      "execution_count": 80,
      "outputs": [
        {
          "output_type": "execute_result",
          "data": {
            "text/plain": [
              "4"
            ]
          },
          "metadata": {
            "tags": []
          },
          "execution_count": 80
        }
      ]
    },
    {
      "cell_type": "code",
      "metadata": {
        "id": "_DkJEV8XnwKk",
        "colab": {
          "base_uri": "https://localhost:8080/"
        },
        "outputId": "613a2a88-d092-4c51-f132-51c9a59f1d8f"
      },
      "source": [
        "# Função max\n",
        "tupla2 = (4, 2, 443, 5.6)\n",
        "max(tupla2)"
      ],
      "execution_count": 81,
      "outputs": [
        {
          "output_type": "execute_result",
          "data": {
            "text/plain": [
              "443"
            ]
          },
          "metadata": {
            "tags": []
          },
          "execution_count": 81
        }
      ]
    },
    {
      "cell_type": "code",
      "metadata": {
        "id": "NniJkb4ToH79",
        "colab": {
          "base_uri": "https://localhost:8080/"
        },
        "outputId": "38d02242-f4ab-4494-a950-2f92d1a51ede"
      },
      "source": [
        "# Função min\n",
        "min(tupla2)"
      ],
      "execution_count": 82,
      "outputs": [
        {
          "output_type": "execute_result",
          "data": {
            "text/plain": [
              "2"
            ]
          },
          "metadata": {
            "tags": []
          },
          "execution_count": 82
        }
      ]
    },
    {
      "cell_type": "code",
      "metadata": {
        "id": "sVTVfsI8rvno",
        "colab": {
          "base_uri": "https://localhost:8080/"
        },
        "outputId": "88c6e100-d106-4710-e078-682cd7ba3505"
      },
      "source": [
        "# Função tuple: Converte uma lista em tupla\n",
        "lista = [8, 2, 3, 3, 'Euler', 'Lagrange']\n",
        "tupla = tuple(lista)\n",
        "print(tupla)\n",
        "print(type(tupla))"
      ],
      "execution_count": 83,
      "outputs": [
        {
          "output_type": "stream",
          "text": [
            "(8, 2, 3, 3, 'Euler', 'Lagrange')\n",
            "<class 'tuple'>\n"
          ],
          "name": "stdout"
        }
      ]
    },
    {
      "cell_type": "markdown",
      "metadata": {
        "id": "f1qiY3HArkHl"
      },
      "source": [
        "##**Dicionários**"
      ]
    },
    {
      "cell_type": "markdown",
      "metadata": {
        "id": "0KuMuKYdVMaj"
      },
      "source": [
        "Os dicionários são estruturas de dados bem completas, que funcionam na estrutara de \"chave:valor\". Como as listas, os dicionários são mutáveis, ou seja, podem conter alterações após a sua criação. Esses objetos podem conter dados de tipos diferentes e até mesmo outros dicionarios."
      ]
    },
    {
      "cell_type": "code",
      "metadata": {
        "id": "DVRPAxLntSKf",
        "colab": {
          "base_uri": "https://localhost:8080/"
        },
        "outputId": "6f1cc95c-f163-42a8-c599-085e80d77512"
      },
      "source": [
        "# Criando um dicionário vazio\n",
        "dic = {}\n",
        "\n",
        "# Objeto do tipo dicionário\n",
        "print(type(dic))"
      ],
      "execution_count": 84,
      "outputs": [
        {
          "output_type": "stream",
          "text": [
            "<class 'dict'>\n"
          ],
          "name": "stdout"
        }
      ]
    },
    {
      "cell_type": "code",
      "metadata": {
        "id": "ihUpfRA0tZ0r",
        "colab": {
          "base_uri": "https://localhost:8080/"
        },
        "outputId": "9a13b10c-10fa-4e58-b6e8-571f825070cb"
      },
      "source": [
        "# Os dicionários trabalham com o conceito de \"chave:valor\". No exemplo, temos\n",
        "# a chave Julia com o valor 18, a chave \"massa\" que aponta a outro dicionário \n",
        "# (como valores dessa chave), a chave \"valores\" que armazena uma lista, a chave\n",
        "# \"disciplinas\" que aponta para uma lista de strings\n",
        "alunos = {'Julia':18, 'José':16, 'Susan':17, 'Gabriel':17,\n",
        "          'massas':{'Julia':60, 'José':70, 'Susan':55},\n",
        "          'valores':[18, 10, 20, 5, 11],\n",
        "          'disciplinas':['Matemáticas', 'Inglês', 'Física']\n",
        "          }\n",
        "alunos"
      ],
      "execution_count": 85,
      "outputs": [
        {
          "output_type": "execute_result",
          "data": {
            "text/plain": [
              "{'Gabriel': 17,\n",
              " 'José': 16,\n",
              " 'Julia': 18,\n",
              " 'Susan': 17,\n",
              " 'disciplinas': ['Matemáticas', 'Inglês', 'Física'],\n",
              " 'massas': {'José': 70, 'Julia': 60, 'Susan': 55},\n",
              " 'valores': [18, 10, 20, 5, 11]}"
            ]
          },
          "metadata": {
            "tags": []
          },
          "execution_count": 85
        }
      ]
    },
    {
      "cell_type": "code",
      "metadata": {
        "id": "GDdsrYLnuEyL",
        "colab": {
          "base_uri": "https://localhost:8080/"
        },
        "outputId": "12375730-bf3b-43ce-bd14-b0de7564ac05"
      },
      "source": [
        "# O acesso aos valores de um dicionário é a partir das chaves\n",
        "alunos['Susan']"
      ],
      "execution_count": 86,
      "outputs": [
        {
          "output_type": "execute_result",
          "data": {
            "text/plain": [
              "17"
            ]
          },
          "metadata": {
            "tags": []
          },
          "execution_count": 86
        }
      ]
    },
    {
      "cell_type": "code",
      "metadata": {
        "id": "XhTJPkvPuVNE",
        "colab": {
          "base_uri": "https://localhost:8080/"
        },
        "outputId": "7fa186c5-ad4f-4186-cb78-a328e616b048"
      },
      "source": [
        "# Acessando ao dicionário aninhado. A chave \"massas\" contém como valor outro \n",
        "# dicionário, para obter o valor de uma chave nesse outro dicionário, passamos o\n",
        "# nome da chave que queremos dentro da chave \"massas\"\n",
        "alunos['massas']['José']"
      ],
      "execution_count": 87,
      "outputs": [
        {
          "output_type": "execute_result",
          "data": {
            "text/plain": [
              "70"
            ]
          },
          "metadata": {
            "tags": []
          },
          "execution_count": 87
        }
      ]
    },
    {
      "cell_type": "code",
      "metadata": {
        "id": "pGvA4OIbubgr",
        "colab": {
          "base_uri": "https://localhost:8080/",
          "height": 0
        },
        "outputId": "74049837-3b11-4492-ea50-1210e7710ee9"
      },
      "source": [
        "# Acessando à lista dentro do dicionário. Para imprimir um elemento da lista, \n",
        "# chamamos ao dicionário, passamos a chave e a posição na lista\n",
        "alunos['disciplinas'][0]"
      ],
      "execution_count": 88,
      "outputs": [
        {
          "output_type": "execute_result",
          "data": {
            "application/vnd.google.colaboratory.intrinsic+json": {
              "type": "string"
            },
            "text/plain": [
              "'Matemáticas'"
            ]
          },
          "metadata": {
            "tags": []
          },
          "execution_count": 88
        }
      ]
    },
    {
      "cell_type": "markdown",
      "metadata": {
        "id": "WgJ3UqNQ06b2"
      },
      "source": [
        "##**Atualizando dicionários**"
      ]
    },
    {
      "cell_type": "code",
      "metadata": {
        "id": "UqvLEbt30-PQ",
        "colab": {
          "base_uri": "https://localhost:8080/"
        },
        "outputId": "1f204a10-ef0b-4b0b-abc8-4cd1ce1f9138"
      },
      "source": [
        "# Atualizando o valor de uma chave\n",
        "alunos['José'] = 20\n",
        "alunos['José']"
      ],
      "execution_count": 89,
      "outputs": [
        {
          "output_type": "execute_result",
          "data": {
            "text/plain": [
              "20"
            ]
          },
          "metadata": {
            "tags": []
          },
          "execution_count": 89
        }
      ]
    },
    {
      "cell_type": "code",
      "metadata": {
        "id": "KguzQO6k1GYh",
        "colab": {
          "base_uri": "https://localhost:8080/"
        },
        "outputId": "16c3b1ee-98c2-4c40-b2ff-0fa34172b91d"
      },
      "source": [
        "# Adicionando uma chave e valor ao dicionário\n",
        "alunos['Maria'] = 19\n",
        "alunos"
      ],
      "execution_count": 90,
      "outputs": [
        {
          "output_type": "execute_result",
          "data": {
            "text/plain": [
              "{'Gabriel': 17,\n",
              " 'José': 20,\n",
              " 'Julia': 18,\n",
              " 'Maria': 19,\n",
              " 'Susan': 17,\n",
              " 'disciplinas': ['Matemáticas', 'Inglês', 'Física'],\n",
              " 'massas': {'José': 70, 'Julia': 60, 'Susan': 55},\n",
              " 'valores': [18, 10, 20, 5, 11]}"
            ]
          },
          "metadata": {
            "tags": []
          },
          "execution_count": 90
        }
      ]
    },
    {
      "cell_type": "code",
      "metadata": {
        "id": "1n6_HLjp1UJg",
        "colab": {
          "base_uri": "https://localhost:8080/"
        },
        "outputId": "ba79a730-f016-45b7-8270-6d77b502eff5"
      },
      "source": [
        "# Apagando um elemento do dicionário\n",
        "del alunos['José']\n",
        "alunos"
      ],
      "execution_count": 91,
      "outputs": [
        {
          "output_type": "execute_result",
          "data": {
            "text/plain": [
              "{'Gabriel': 17,\n",
              " 'Julia': 18,\n",
              " 'Maria': 19,\n",
              " 'Susan': 17,\n",
              " 'disciplinas': ['Matemáticas', 'Inglês', 'Física'],\n",
              " 'massas': {'José': 70, 'Julia': 60, 'Susan': 55},\n",
              " 'valores': [18, 10, 20, 5, 11]}"
            ]
          },
          "metadata": {
            "tags": []
          },
          "execution_count": 91
        }
      ]
    },
    {
      "cell_type": "markdown",
      "metadata": {
        "id": "_R0-2uk31caF"
      },
      "source": [
        "##**Métodos disponíveis para trabalhar com Dicionários**\n",
        "\n",
        "---\n",
        "\n"
      ]
    },
    {
      "cell_type": "markdown",
      "metadata": {
        "id": "j6jIfjpIBLgH"
      },
      "source": [
        "Para ver os métodos disponíveis para trabalhar com esse objeto, digitamos o nome do dicionário seguido de \".\" e presionamos a tecla tab: \n",
        "\n",
        "```\n",
        "alunos.\n",
        "```"
      ]
    },
    {
      "cell_type": "code",
      "metadata": {
        "id": "lQrmWdDq2I2N",
        "colab": {
          "base_uri": "https://localhost:8080/"
        },
        "outputId": "d9e7a012-c2f6-47c1-aae2-8cf53b6d4189"
      },
      "source": [
        "# Método keys: Retorna todas as chaves do dicionário\n",
        "alunos.keys()"
      ],
      "execution_count": 92,
      "outputs": [
        {
          "output_type": "execute_result",
          "data": {
            "text/plain": [
              "dict_keys(['Julia', 'Susan', 'Gabriel', 'massas', 'valores', 'disciplinas', 'Maria'])"
            ]
          },
          "metadata": {
            "tags": []
          },
          "execution_count": 92
        }
      ]
    },
    {
      "cell_type": "code",
      "metadata": {
        "id": "d1fovvJ52QJb",
        "colab": {
          "base_uri": "https://localhost:8080/"
        },
        "outputId": "3d412d2f-b1cb-47eb-a13e-ef3463dc4785"
      },
      "source": [
        "# Método values: Retorna os valores de todas as chaves do dicionário\n",
        "alunos.values()"
      ],
      "execution_count": 93,
      "outputs": [
        {
          "output_type": "execute_result",
          "data": {
            "text/plain": [
              "dict_values([18, 17, 17, {'Julia': 60, 'José': 70, 'Susan': 55}, [18, 10, 20, 5, 11], ['Matemáticas', 'Inglês', 'Física'], 19])"
            ]
          },
          "metadata": {
            "tags": []
          },
          "execution_count": 93
        }
      ]
    },
    {
      "cell_type": "code",
      "metadata": {
        "id": "FivmAcB12VLh",
        "colab": {
          "base_uri": "https://localhost:8080/"
        },
        "outputId": "6b9d8c32-c95e-4831-cad2-41931e964936"
      },
      "source": [
        "# Criando um segundo dicionário\n",
        "alunos2 = {'Morgana':19, 'Rafael':18}\n",
        "alunos2"
      ],
      "execution_count": 94,
      "outputs": [
        {
          "output_type": "execute_result",
          "data": {
            "text/plain": [
              "{'Morgana': 19, 'Rafael': 18}"
            ]
          },
          "metadata": {
            "tags": []
          },
          "execution_count": 94
        }
      ]
    },
    {
      "cell_type": "code",
      "metadata": {
        "id": "9TBxjCk-2d2o",
        "colab": {
          "base_uri": "https://localhost:8080/"
        },
        "outputId": "b4f75490-1baf-46ba-af5d-d8f1a51f2260"
      },
      "source": [
        "# Método update: Atualiza um dicionário existente a partir de outro, adicionando \n",
        "# seus elementos (chaves e valores)\n",
        "alunos.update(alunos2)\n",
        "alunos"
      ],
      "execution_count": 95,
      "outputs": [
        {
          "output_type": "execute_result",
          "data": {
            "text/plain": [
              "{'Gabriel': 17,\n",
              " 'Julia': 18,\n",
              " 'Maria': 19,\n",
              " 'Morgana': 19,\n",
              " 'Rafael': 18,\n",
              " 'Susan': 17,\n",
              " 'disciplinas': ['Matemáticas', 'Inglês', 'Física'],\n",
              " 'massas': {'José': 70, 'Julia': 60, 'Susan': 55},\n",
              " 'valores': [18, 10, 20, 5, 11]}"
            ]
          },
          "metadata": {
            "tags": []
          },
          "execution_count": 95
        }
      ]
    },
    {
      "cell_type": "code",
      "metadata": {
        "id": "elMU1Jlf2ow9",
        "colab": {
          "base_uri": "https://localhost:8080/",
          "height": 0
        },
        "outputId": "41c78ed1-570c-4d1f-8d01-d277f3790afc"
      },
      "source": [
        "# Método get: Retorna o valor de uma chave caso ela exista, senão retorna o \n",
        "# valor que passei como parâmetro. \n",
        "\n",
        "# Exemplo de uma chave que não existe\n",
        "alunos.get('Fulanito', 'não existe')\n",
        "\n",
        "# A mensagem poderia ser um valor"
      ],
      "execution_count": 96,
      "outputs": [
        {
          "output_type": "execute_result",
          "data": {
            "application/vnd.google.colaboratory.intrinsic+json": {
              "type": "string"
            },
            "text/plain": [
              "'não existe'"
            ]
          },
          "metadata": {
            "tags": []
          },
          "execution_count": 96
        }
      ]
    },
    {
      "cell_type": "code",
      "metadata": {
        "id": "22c6fFPIB-jd",
        "colab": {
          "base_uri": "https://localhost:8080/"
        },
        "outputId": "fe4d0b46-c1ea-4d63-f119-d19b048fb4a7"
      },
      "source": [
        "# Exemplo de uma chave que existe. Retorna o valor dessa chave\n",
        "alunos.get('Susan', 'nao existe')"
      ],
      "execution_count": 97,
      "outputs": [
        {
          "output_type": "execute_result",
          "data": {
            "text/plain": [
              "17"
            ]
          },
          "metadata": {
            "tags": []
          },
          "execution_count": 97
        }
      ]
    },
    {
      "cell_type": "code",
      "metadata": {
        "id": "Uf-Xic8t3As6",
        "colab": {
          "base_uri": "https://localhost:8080/"
        },
        "outputId": "5cc26e9f-09e7-40f9-d795-9cba6ae62a2c"
      },
      "source": [
        "# Método setdefualt: Retorna o valor da chave caso ela exista, \n",
        "# senão insere a chave e o valor no dicionário e retorna o valor\n",
        "\n",
        "alunos.setdefault('José', 16)"
      ],
      "execution_count": 98,
      "outputs": [
        {
          "output_type": "execute_result",
          "data": {
            "text/plain": [
              "16"
            ]
          },
          "metadata": {
            "tags": []
          },
          "execution_count": 98
        }
      ]
    },
    {
      "cell_type": "code",
      "metadata": {
        "id": "mrDeXuVs6Yok",
        "colab": {
          "base_uri": "https://localhost:8080/"
        },
        "outputId": "e529adbd-074c-470f-a2b7-96cfb4313fcd"
      },
      "source": [
        "alunos.setdefault('Marcia',21)\n",
        "alunos"
      ],
      "execution_count": 99,
      "outputs": [
        {
          "output_type": "execute_result",
          "data": {
            "text/plain": [
              "{'Gabriel': 17,\n",
              " 'José': 16,\n",
              " 'Julia': 18,\n",
              " 'Marcia': 21,\n",
              " 'Maria': 19,\n",
              " 'Morgana': 19,\n",
              " 'Rafael': 18,\n",
              " 'Susan': 17,\n",
              " 'disciplinas': ['Matemáticas', 'Inglês', 'Física'],\n",
              " 'massas': {'José': 70, 'Julia': 60, 'Susan': 55},\n",
              " 'valores': [18, 10, 20, 5, 11]}"
            ]
          },
          "metadata": {
            "tags": []
          },
          "execution_count": 99
        }
      ]
    },
    {
      "cell_type": "code",
      "metadata": {
        "id": "o9nXGDtE3TRb",
        "colab": {
          "base_uri": "https://localhost:8080/"
        },
        "outputId": "3fdae5d9-13f8-4e3a-bd60-5df194eb6a79"
      },
      "source": [
        "# Método pop: Retorna o valor da chave e remove esta. Se não for encontrada \n",
        "# retorna o valor passado por parâmetro\n",
        "alunos.pop('Susan', 'Se imprimir isto, a chave foi removida')\n",
        "alunos"
      ],
      "execution_count": 100,
      "outputs": [
        {
          "output_type": "execute_result",
          "data": {
            "text/plain": [
              "{'Gabriel': 17,\n",
              " 'José': 16,\n",
              " 'Julia': 18,\n",
              " 'Marcia': 21,\n",
              " 'Maria': 19,\n",
              " 'Morgana': 19,\n",
              " 'Rafael': 18,\n",
              " 'disciplinas': ['Matemáticas', 'Inglês', 'Física'],\n",
              " 'massas': {'José': 70, 'Julia': 60, 'Susan': 55},\n",
              " 'valores': [18, 10, 20, 5, 11]}"
            ]
          },
          "metadata": {
            "tags": []
          },
          "execution_count": 100
        }
      ]
    },
    {
      "cell_type": "code",
      "metadata": {
        "id": "Avj9gJcs9D6P",
        "colab": {
          "base_uri": "https://localhost:8080/"
        },
        "outputId": "eda3ec27-a801-425e-89c7-14dd6d4c3bdc"
      },
      "source": [
        "# Método clear: Apaga o conteúdo do dicionário como um todo\n",
        "alunos.clear()\n",
        "alunos"
      ],
      "execution_count": 101,
      "outputs": [
        {
          "output_type": "execute_result",
          "data": {
            "text/plain": [
              "{}"
            ]
          },
          "metadata": {
            "tags": []
          },
          "execution_count": 101
        }
      ]
    },
    {
      "cell_type": "markdown",
      "metadata": {
        "id": "Rua1trK8A0ux"
      },
      "source": [
        "##**Estruturas Condicionais**\n"
      ]
    },
    {
      "cell_type": "code",
      "metadata": {
        "id": "VZuwAqngA3px",
        "colab": {
          "base_uri": "https://localhost:8080/"
        },
        "outputId": "631d737f-62d4-4ce7-af76-2d52407ded17"
      },
      "source": [
        "# Retorno booleano\n",
        "print(7 > 3)\n",
        "print(9 <= 4)"
      ],
      "execution_count": 102,
      "outputs": [
        {
          "output_type": "stream",
          "text": [
            "True\n",
            "False\n"
          ],
          "name": "stdout"
        }
      ]
    },
    {
      "cell_type": "code",
      "metadata": {
        "id": "bVHSLHVSA-h-",
        "colab": {
          "base_uri": "https://localhost:8080/"
        },
        "outputId": "6fcadf8f-be5d-4220-8345-98efd87c145d"
      },
      "source": [
        "# Se a instrução for verdadeira, executa as instruções seguintes (cuidado com a identação)\n",
        "if 20 > 5:\n",
        "    print('A condição é verdadeira')"
      ],
      "execution_count": 103,
      "outputs": [
        {
          "output_type": "stream",
          "text": [
            "A condição é verdadeira\n"
          ],
          "name": "stdout"
        }
      ]
    },
    {
      "cell_type": "markdown",
      "metadata": {
        "id": "m-tluI_iBsHY"
      },
      "source": [
        "##**Instrução ELSE**"
      ]
    },
    {
      "cell_type": "markdown",
      "metadata": {
        "id": "1hCR4ieWAsdO"
      },
      "source": [
        "A instrução \"else\" (que significa senão) é executada se a instrução \"if\" for falsa, caso ela exista."
      ]
    },
    {
      "cell_type": "code",
      "metadata": {
        "id": "jzuv-ejWBueh",
        "colab": {
          "base_uri": "https://localhost:8080/"
        },
        "outputId": "4491726a-a44c-445b-b306-d6782618cdc2"
      },
      "source": [
        "if 4 > 5:\n",
        "    print('A condição é verdadeira')\n",
        "else:\n",
        "    print('A condição é falsa')"
      ],
      "execution_count": 104,
      "outputs": [
        {
          "output_type": "stream",
          "text": [
            "A condição é falsa\n"
          ],
          "name": "stdout"
        }
      ]
    },
    {
      "cell_type": "markdown",
      "metadata": {
        "id": "M3IQNGOXAxbG"
      },
      "source": [
        "## **Operadores lógicos \"or\" e \"and\"**"
      ]
    },
    {
      "cell_type": "markdown",
      "metadata": {
        "id": "rakvu_7FA5MJ"
      },
      "source": [
        "Quando usamos o operador \"or\" basta uma das condições ser verdadeira para toda a condição ser verdadeira. Quando usamos o operador \"and\" todas as condições devem ser verdadeiras."
      ]
    },
    {
      "cell_type": "code",
      "metadata": {
        "id": "0i8_JXmOEmj-",
        "colab": {
          "base_uri": "https://localhost:8080/"
        },
        "outputId": "0f4a84e3-1084-4a4b-bb76-f0cfb09b8288"
      },
      "source": [
        "x = -7\n",
        "\n",
        "if x >= 0 or x <= 10:\n",
        "    print('Uma ou ambas as condições são verdadeiras')\n",
        "else:\n",
        "    print('As duas condições são falsas')\n",
        "\n",
        "if x >= 0 and x <= 10:\n",
        "    print('As duas condições são verdadeiras')\n",
        "else:\n",
        "    print('Uma ou ambas as condições são falsas')"
      ],
      "execution_count": 105,
      "outputs": [
        {
          "output_type": "stream",
          "text": [
            "Uma ou ambas as condições são verdadeiras\n",
            "Uma ou ambas as condições são falsas\n"
          ],
          "name": "stdout"
        }
      ]
    },
    {
      "cell_type": "markdown",
      "metadata": {
        "id": "Nt4u9i0rbe3r"
      },
      "source": [
        "##**Instrução ELIF**"
      ]
    },
    {
      "cell_type": "markdown",
      "metadata": {
        "id": "WRKYFJ7-AHWj"
      },
      "source": [
        "A instrução \"elif\" é acionada caso a instrucao \"if\" for falsa. É uma instrução do tipo: \"senão se\"."
      ]
    },
    {
      "cell_type": "code",
      "metadata": {
        "id": "h1XLNVESblgb",
        "colab": {
          "base_uri": "https://localhost:8080/"
        },
        "outputId": "a4bd3234-4813-43a1-e13e-aa3fcd6186b4"
      },
      "source": [
        "valor = 15\n",
        "\n",
        "if valor <= 0:\n",
        "    print('O número é negativo ou zero')\n",
        "elif valor % 2 == 0:\n",
        "    print('O número é positivo e par')\n",
        "else:\n",
        "    print('O número é positivo e impar')"
      ],
      "execution_count": 106,
      "outputs": [
        {
          "output_type": "stream",
          "text": [
            "O número é positivo e impar\n"
          ],
          "name": "stdout"
        }
      ]
    },
    {
      "cell_type": "code",
      "metadata": {
        "id": "fJv9g21ZAPsK",
        "colab": {
          "base_uri": "https://localhost:8080/"
        },
        "outputId": "6ec0a1bb-d720-4991-eaeb-4603993e0a79"
      },
      "source": [
        "# Outro exemplo\n",
        "usuario = \"Paquito\"\n",
        "senha = \"wakanda_forever\"\n",
        "\n",
        "if usuario == \"Paquito\" and senha == \"wakanda_forever\":\n",
        "    print(\"Usuário e senha válidas\")\n",
        "elif usuario == \"Paquito\":\n",
        "    print(\"Usuário correto, senha inválida\")\n",
        "elif senha == \"wakanda_forever\":\n",
        "  print(\"Usuário incorreto, senha válida\")\n",
        "else:\n",
        "    print(\"Usuário e senha inválidas\")"
      ],
      "execution_count": 107,
      "outputs": [
        {
          "output_type": "stream",
          "text": [
            "Usuário e senha válidas\n"
          ],
          "name": "stdout"
        }
      ]
    },
    {
      "cell_type": "markdown",
      "metadata": {
        "id": "uQOwwkNEdThD"
      },
      "source": [
        "##**Instruções IF aninhadas**"
      ]
    },
    {
      "cell_type": "code",
      "metadata": {
        "id": "1l5LFJb1dZuV",
        "colab": {
          "base_uri": "https://localhost:8080/"
        },
        "outputId": "03419ea9-a503-4878-f8b3-0d732eb5f0b0"
      },
      "source": [
        "x = [7, 1, 4, 3]\n",
        "\n",
        "if len(x) > 0:\n",
        "    x.sort()\n",
        "    if x[len(x) - 1] > 10:\n",
        "        print(\"O maior número da lista é maior que 10\")\n",
        "    else:\n",
        "        print(\"O maior número da lista é menor ou igual que 10\")\n",
        "else:\n",
        "    print(\"Lista vazia\")"
      ],
      "execution_count": 108,
      "outputs": [
        {
          "output_type": "stream",
          "text": [
            "O maior número da lista é menor ou igual que 10\n"
          ],
          "name": "stdout"
        }
      ]
    },
    {
      "cell_type": "markdown",
      "metadata": {
        "id": "tdjofy47jYy_"
      },
      "source": [
        "##**Loops \"for\"**"
      ]
    },
    {
      "cell_type": "markdown",
      "metadata": {
        "id": "Vvth-8XO9F5u"
      },
      "source": [
        "Os loops \"for\" são usados para executar uma instrução ou conjunto de instruções numa coleção. Uma coleção é qualquer objeto que armazena uma sequência de elementos, como: uma lista de números, uma string, uma lista de strings, uma tupla, um dicionário ou um arquivo. Sintaxe:\n",
        "\n",
        "```\n",
        "for i in coleção:\n",
        "  <executa uma ou mais ações>\n",
        "```\n",
        "\n",
        "A variável 'i' poderia ser qualquer palavra.\n"
      ]
    },
    {
      "cell_type": "code",
      "metadata": {
        "id": "V5kiFbSxjsRR",
        "colab": {
          "base_uri": "https://localhost:8080/"
        },
        "outputId": "05229072-38d3-405d-b79f-47207d4e7343"
      },
      "source": [
        "# Loop com lista de números:\n",
        "for i in [1, 2, 3]:\n",
        "    print('Elementos: %s' %i)\n",
        "    print(i + 3)"
      ],
      "execution_count": 109,
      "outputs": [
        {
          "output_type": "stream",
          "text": [
            "Elementos: 1\n",
            "4\n",
            "Elementos: 2\n",
            "5\n",
            "Elementos: 3\n",
            "6\n"
          ],
          "name": "stdout"
        }
      ]
    },
    {
      "cell_type": "code",
      "metadata": {
        "id": "Cj1-bbwsj2wQ",
        "colab": {
          "base_uri": "https://localhost:8080/"
        },
        "outputId": "903bfaf3-1a30-4517-d0e1-0dd0631dd005"
      },
      "source": [
        "# Loop com string\n",
        "for elemento in 'A Matemática é o alfabeto com o qual Deus escreveu o Universo':\n",
        "    print(elemento, end = \"\")"
      ],
      "execution_count": 110,
      "outputs": [
        {
          "output_type": "stream",
          "text": [
            "A Matemática é o alfabeto com o qual Deus escreveu o Universo"
          ],
          "name": "stdout"
        }
      ]
    },
    {
      "cell_type": "code",
      "metadata": {
        "id": "2mEWNWvekaJZ",
        "colab": {
          "base_uri": "https://localhost:8080/"
        },
        "outputId": "9938206f-609c-4b73-c7b1-d4644b44acd9"
      },
      "source": [
        "# Loop com lista de strings\n",
        "planetas = ['Mercurio', 'Venus', 'Terra', 'Marte']\n",
        "for planeta in planetas:\n",
        "    print(planeta)"
      ],
      "execution_count": 111,
      "outputs": [
        {
          "output_type": "stream",
          "text": [
            "Mercurio\n",
            "Venus\n",
            "Terra\n",
            "Marte\n"
          ],
          "name": "stdout"
        }
      ]
    },
    {
      "cell_type": "code",
      "metadata": {
        "id": "eY3qORKBkrUa",
        "colab": {
          "base_uri": "https://localhost:8080/"
        },
        "outputId": "ef22c687-0bd2-44d7-d8a5-f13a33069094"
      },
      "source": [
        "# Loop com dicionário, percorre as chaves do mesmo\n",
        "pessoas = {'Manuel':23, 'Rosa':34, 'Felipe':30}\n",
        "for p in pessoas:\n",
        "    print(p)"
      ],
      "execution_count": 112,
      "outputs": [
        {
          "output_type": "stream",
          "text": [
            "Manuel\n",
            "Rosa\n",
            "Felipe\n"
          ],
          "name": "stdout"
        }
      ]
    },
    {
      "cell_type": "code",
      "metadata": {
        "id": "e_iHvaPsrPkq",
        "colab": {
          "base_uri": "https://localhost:8080/"
        },
        "outputId": "63225f42-cdf7-4987-8a83-16d93cfcbc2a"
      },
      "source": [
        "# Loops com estruturas condicionais\n",
        "# Imprimindo apenas números impares, o operador \"%\" dá o resto\n",
        "for i in [1, 4, 5, 7, 8]:\n",
        "    if i % 2 > 0:\n",
        "        print(i)        "
      ],
      "execution_count": 113,
      "outputs": [
        {
          "output_type": "stream",
          "text": [
            "1\n",
            "5\n",
            "7\n"
          ],
          "name": "stdout"
        }
      ]
    },
    {
      "cell_type": "code",
      "metadata": {
        "id": "ZZdqowNdrljC",
        "colab": {
          "base_uri": "https://localhost:8080/"
        },
        "outputId": "9902d9f9-21d6-42be-dfdf-56ba763e8711"
      },
      "source": [
        "# Loop usando a função zip\n",
        "# Essa função permite percorrer várias listas de forma sequêncial\n",
        "idades = [10, 15, 20]\n",
        "nomes = ['Evaluna', 'Sofia', 'Mia']\n",
        "\n",
        "for i,j in zip(idades, nomes):\n",
        "    print(i, j)"
      ],
      "execution_count": 114,
      "outputs": [
        {
          "output_type": "stream",
          "text": [
            "10 Evaluna\n",
            "15 Sofia\n",
            "20 Mia\n"
          ],
          "name": "stdout"
        }
      ]
    },
    {
      "cell_type": "code",
      "metadata": {
        "id": "lOxnaEEB1BSI",
        "colab": {
          "base_uri": "https://localhost:8080/"
        },
        "outputId": "cef9aa1f-2536-4dcd-f1cd-aa73aa2c88d2"
      },
      "source": [
        "# Loop aninhado. A cada execuçã do primeiro loop, todo o segundo loop será executado\n",
        "for i in ['azul', 'vermelho', 'amarelo']:\n",
        "    print(i)\n",
        "    for j in ['O', 'B', 'A']:\n",
        "        print(j)"
      ],
      "execution_count": 115,
      "outputs": [
        {
          "output_type": "stream",
          "text": [
            "azul\n",
            "O\n",
            "B\n",
            "A\n",
            "vermelho\n",
            "O\n",
            "B\n",
            "A\n",
            "amarelo\n",
            "O\n",
            "B\n",
            "A\n"
          ],
          "name": "stdout"
        }
      ]
    },
    {
      "cell_type": "markdown",
      "metadata": {
        "id": "1EWW35c91Xdi"
      },
      "source": [
        "##**Instrução \"break\"**"
      ]
    },
    {
      "cell_type": "markdown",
      "metadata": {
        "id": "j3kKp20W84SB"
      },
      "source": [
        "A instrução break é usada para encerrar um loop. Permite testar, dentro de um loop, se existe uma determinada condição e encerrar o processo caso ela existir."
      ]
    },
    {
      "cell_type": "code",
      "metadata": {
        "id": "VMN9YW1e1Z3j",
        "colab": {
          "base_uri": "https://localhost:8080/"
        },
        "outputId": "4cade3e8-8317-420f-caaa-689dde08a881"
      },
      "source": [
        "for elemento in 'Python':\n",
        "    if elemento == 'o':\n",
        "        break\n",
        "    print('elemento:', elemento)  \n",
        "\n",
        "print(\"\\nContinuando com o programa...\")"
      ],
      "execution_count": 116,
      "outputs": [
        {
          "output_type": "stream",
          "text": [
            "elemento: P\n",
            "elemento: y\n",
            "elemento: t\n",
            "elemento: h\n",
            "\n",
            "Continuando com o programa...\n"
          ],
          "name": "stdout"
        }
      ]
    },
    {
      "cell_type": "markdown",
      "metadata": {
        "id": "0DltYrZI13NI"
      },
      "source": [
        "##**Instrução \"continue\"**"
      ]
    },
    {
      "cell_type": "markdown",
      "metadata": {
        "id": "hUA_t88d80fz"
      },
      "source": [
        "A instrução continue encerra a iteração atual e continua com a próxima iteração do loop"
      ]
    },
    {
      "cell_type": "code",
      "metadata": {
        "id": "SO5NMlQx14vH",
        "colab": {
          "base_uri": "https://localhost:8080/"
        },
        "outputId": "5f418689-8117-4d0f-824d-3b638da3f641"
      },
      "source": [
        "for elemento in 'python':\n",
        "    if elemento == 'o':\n",
        "        continue\n",
        "    print('Elemento:', elemento)      "
      ],
      "execution_count": 117,
      "outputs": [
        {
          "output_type": "stream",
          "text": [
            "Elemento: p\n",
            "Elemento: y\n",
            "Elemento: t\n",
            "Elemento: h\n",
            "Elemento: n\n"
          ],
          "name": "stdout"
        }
      ]
    },
    {
      "cell_type": "markdown",
      "metadata": {
        "id": "8fJs-K78Bgrb"
      },
      "source": [
        "##**Loops \"while\"**"
      ]
    },
    {
      "cell_type": "markdown",
      "metadata": {
        "id": "PgvJSAcP88EE"
      },
      "source": [
        "A instrução \"while\" é usada para realizar loops. Permite executar uma instrução ou conjunto de instruções até que uma condição seja satisfeita. Sintaxe:\n",
        "\n",
        "```\n",
        "while condição:\n",
        "  <executa uma ou mais ações>\n",
        "```\n",
        "\n",
        "Note que a condição é o primeiro passo a ser executado, se for verdadeira executa o loop até esta ser falsa.\n"
      ]
    },
    {
      "cell_type": "code",
      "metadata": {
        "id": "LYQZ-75EBzrV",
        "colab": {
          "base_uri": "https://localhost:8080/"
        },
        "outputId": "8564bce0-79de-41d5-e511-b6a142e60d8f"
      },
      "source": [
        "i = 0\n",
        "\n",
        "while i < 10:\n",
        "    print(i, end = \" \")\n",
        "    i = i + 1\n",
        "\n",
        "print('\\n\\nContinuando com o programa...')"
      ],
      "execution_count": 118,
      "outputs": [
        {
          "output_type": "stream",
          "text": [
            "0 1 2 3 4 5 6 7 8 9 \n",
            "\n",
            "Continuando com o programa...\n"
          ],
          "name": "stdout"
        }
      ]
    },
    {
      "cell_type": "code",
      "metadata": {
        "id": "ev8QAgQUB_Ia",
        "colab": {
          "base_uri": "https://localhost:8080/"
        },
        "outputId": "0973adcb-1798-4cc9-df5a-51deef1c6bbf"
      },
      "source": [
        "# Exemplo com condição falsa. A bloco de códigos do while será ignorado,\n",
        "# pelo que o programa pula para a instrução após o loop\n",
        "\n",
        "i = 11\n",
        "\n",
        "while i < 10:\n",
        "    print(i)\n",
        "    i = i + 1\n",
        "print('\\n\\n Continuando o programa...')"
      ],
      "execution_count": 119,
      "outputs": [
        {
          "output_type": "stream",
          "text": [
            "\n",
            "\n",
            " Continuando o programa...\n"
          ],
          "name": "stdout"
        }
      ]
    },
    {
      "cell_type": "markdown",
      "metadata": {
        "id": "-pS-cZsOCJmu"
      },
      "source": [
        "##**\"while\" com a instrução \"else\"**"
      ]
    },
    {
      "cell_type": "markdown",
      "metadata": {
        "id": "tUsrHaHmXncw"
      },
      "source": [
        "Neste caso, a instrução \"else\" é executada quando a condição do \"while\" é falsa, ao invés de pular para o último comando"
      ]
    },
    {
      "cell_type": "code",
      "metadata": {
        "id": "JIdl9kAWJTAF",
        "colab": {
          "base_uri": "https://localhost:8080/"
        },
        "outputId": "ba60ae3f-13bf-43b9-bfa8-a2feb4607904"
      },
      "source": [
        "i = 0\n",
        "\n",
        "while i < 7:\n",
        "    print(i)\n",
        "    i = i + 1\n",
        "else:\n",
        "    print('Número é maior ou igual a 7')\n",
        "\n",
        "print('\\nContinuando o programa...')"
      ],
      "execution_count": 120,
      "outputs": [
        {
          "output_type": "stream",
          "text": [
            "0\n",
            "1\n",
            "2\n",
            "3\n",
            "4\n",
            "5\n",
            "6\n",
            "Número é maior ou igual a 7\n",
            "\n",
            "Continuando o programa...\n"
          ],
          "name": "stdout"
        }
      ]
    },
    {
      "cell_type": "markdown",
      "metadata": {
        "id": "Mp3ECtVJJust"
      },
      "source": [
        "##**\"while\", \"break\" e \"continue\"**"
      ]
    },
    {
      "cell_type": "code",
      "metadata": {
        "id": "13XgVxg9JyKf",
        "colab": {
          "base_uri": "https://localhost:8080/"
        },
        "outputId": "fb90ba95-faba-41c1-be07-253ce18e9da3"
      },
      "source": [
        "# \"while\" com a instrução \"break\"\n",
        "i = 10\n",
        "\n",
        "while i > 0:\n",
        "    if i == 5:\n",
        "        break\n",
        "    print(i)\n",
        "    i = i - 1\n",
        "\n",
        "print('\\nContinuando com o programa...')"
      ],
      "execution_count": 121,
      "outputs": [
        {
          "output_type": "stream",
          "text": [
            "10\n",
            "9\n",
            "8\n",
            "7\n",
            "6\n",
            "\n",
            "Continuando com o programa...\n"
          ],
          "name": "stdout"
        }
      ]
    },
    {
      "cell_type": "code",
      "metadata": {
        "id": "T4SQDICKgCCU",
        "colab": {
          "base_uri": "https://localhost:8080/"
        },
        "outputId": "b8f0477e-6713-4239-8464-9480e9c063a0"
      },
      "source": [
        "# \"while\" com a instrução \"continue\"\n",
        "i = 0\n",
        "\n",
        "while i < 10:\n",
        "    i = i + 1\n",
        "    if i - 1 == 5:\n",
        "        continue\n",
        "    print(i - 1)\n",
        "\n",
        "print('\\nContinuando com o programa...')"
      ],
      "execution_count": 122,
      "outputs": [
        {
          "output_type": "stream",
          "text": [
            "0\n",
            "1\n",
            "2\n",
            "3\n",
            "4\n",
            "6\n",
            "7\n",
            "8\n",
            "9\n",
            "\n",
            "Continuando com o programa...\n"
          ],
          "name": "stdout"
        }
      ]
    },
    {
      "cell_type": "markdown",
      "metadata": {
        "id": "eMTWG4d2KHg6"
      },
      "source": [
        "##**Loops Infinitos**"
      ]
    },
    {
      "cell_type": "markdown",
      "metadata": {
        "id": "Q5q63EXz-XZo"
      },
      "source": [
        "Cuidado! Os loops infinitos acontecem caso a condição do \"while\" é sempre verdadeira.\n",
        "\n"
      ]
    },
    {
      "cell_type": "code",
      "metadata": {
        "id": "tJJoGi70KKXP"
      },
      "source": [
        "# O seguinte código imprime um valor infinitamente porque a condição nunca será \n",
        "# falsa, até que a execução do programa seja matado\n",
        "\n",
        "#i = 0\n",
        "\n",
        "#while i < 10:\n",
        "#    print(i) "
      ],
      "execution_count": 123,
      "outputs": []
    },
    {
      "cell_type": "markdown",
      "metadata": {
        "id": "iRenFCAzQR-8"
      },
      "source": [
        "## **Funções**"
      ]
    },
    {
      "cell_type": "code",
      "metadata": {
        "id": "qHBBFxXVbj94",
        "colab": {
          "base_uri": "https://localhost:8080/"
        },
        "outputId": "80a8cdc3-9923-4b72-e2b0-a6515fcf4407"
      },
      "source": [
        "# Função que não recebe parâmetro\n",
        "def medidas():\n",
        "  return 77, 1.83\n",
        "\n",
        "peso, altura = medidas()\n",
        "\n",
        "print(peso, altura)"
      ],
      "execution_count": 124,
      "outputs": [
        {
          "output_type": "stream",
          "text": [
            "77 1.83\n"
          ],
          "name": "stdout"
        }
      ]
    },
    {
      "cell_type": "code",
      "metadata": {
        "id": "jPfaDZlMxajP",
        "colab": {
          "base_uri": "https://localhost:8080/"
        },
        "outputId": "20649d1e-ecd6-4827-984e-994b38a07fa3"
      },
      "source": [
        "# Função com parâmetros obrigatórios\n",
        "def pagamento_semanal(valor_por_hora, num_horas):\n",
        "  return valor_por_hora * num_horas\n",
        "\n",
        "print(pagamento_semanal(100, 36))"
      ],
      "execution_count": 125,
      "outputs": [
        {
          "output_type": "stream",
          "text": [
            "3600\n"
          ],
          "name": "stdout"
        }
      ]
    },
    {
      "cell_type": "code",
      "metadata": {
        "id": "KJc4ZvxsxfqX",
        "colab": {
          "base_uri": "https://localhost:8080/"
        },
        "outputId": "6c90ec9e-291c-4f83-dde3-8c80e18c11b6"
      },
      "source": [
        "# Funções com parâmetros opcionais e obrigatórios. Um parâmetro opcional é \n",
        "# aquele a que está atribuido um valor padrão, se a função for chamada sem \n",
        "# passar um valor para o parâmetro opcional o sistema vai considerar o valor \n",
        "# padrão. Pode ter cero ou mais parâmetros obrigatórios e depois vários \n",
        "# parâmetros opcionais, a regra é que os parâmetros opcionais tem que ficar no\n",
        "# fim da lista\n",
        "\n",
        "def pagamento_semanal(valor_por_hora, num_horas = 40):\n",
        "  conta = valor_por_hora * num_horas\n",
        "  return conta\n",
        "\n",
        "print(pagamento_semanal(200))\n",
        "print(pagamento_semanal(200, 36))\n",
        "\n",
        "def calcula1(x, y = 10, z = 20):\n",
        "  return x + y * z\n",
        "\n",
        "print(calcula1(7, 2))\n",
        "print(calcula1(7, z = 1))\n",
        "\n",
        "def calcula2(y = 2, z = 3):\n",
        "  print (y, z)\n",
        "  return y ** z\n",
        "\n",
        "print(calcula2())"
      ],
      "execution_count": 126,
      "outputs": [
        {
          "output_type": "stream",
          "text": [
            "8000\n",
            "7200\n",
            "47\n",
            "17\n",
            "2 3\n",
            "8\n"
          ],
          "name": "stdout"
        }
      ]
    },
    {
      "cell_type": "markdown",
      "metadata": {
        "id": "-EqoRLwXS9Zj"
      },
      "source": [
        "## **Asserção de Invariantes**"
      ]
    },
    {
      "cell_type": "markdown",
      "metadata": {
        "id": "A-Qogb0fTs5o"
      },
      "source": [
        "O assertion é colocado no código para garantir que determinados valores façam sentido e assim o programa esteja num estado consistente"
      ]
    },
    {
      "cell_type": "code",
      "metadata": {
        "id": "M4_II477TMak",
        "colab": {
          "base_uri": "https://localhost:8080/"
        },
        "outputId": "287f4392-09e5-4a51-d1cd-6f1b69de9cae"
      },
      "source": [
        "def pagamento_semanal(valor_por_hora, num_horas = 40):\n",
        "  # Expressão que queremos verificar\n",
        "  # Não faz sentido que o pagamento semanal seja negativo\n",
        "  assert valor_por_hora >= 0 and num_horas > 0\n",
        "  return valor_por_hora * num_horas\n",
        "\n",
        "print(pagamento_semanal(100, 20))\n",
        "\n",
        "#print(pagamento_semanal(100, -20))\n",
        "# AssertionError, a expressão booleana de num_horas retornou falso"
      ],
      "execution_count": 127,
      "outputs": [
        {
          "output_type": "stream",
          "text": [
            "2000\n"
          ],
          "name": "stdout"
        }
      ]
    },
    {
      "cell_type": "markdown",
      "metadata": {
        "id": "bj1kqOIPYGSX"
      },
      "source": [
        "## **Módulos**"
      ]
    },
    {
      "cell_type": "markdown",
      "metadata": {
        "id": "oLH8SA8gYLVl"
      },
      "source": [
        "Os módulos servem para organizar melhor nosso código. São arquivos com extensão .py, compostos por funções (definições) e podem ter outros comandos(statements). Para usar as funções que estão dentro de um módulo num outro módulo ou programa, usamos o comando `import` seguido do nome sem a extensão .py (1). Os módulos podem se tornar uma entrada para o interpretador Python e assim ele é chamado de script (2). Veja os arquivos fibonacci.py e script.py no github.\n",
        "\n",
        "Toda vez que você está executando determinado código, o nome do módulo que você está executando fica disponível numa variável `__name__`. Como exemplo, consideremos o arquivo fibonacci.py, que contém o comando `print(__name__)`:\n",
        "\n",
        "1.   Quando é importado dentro de um outro código ele tem o nome fibonacci, que é o nome do módulo (tem que estar no mesmo diretório para enxergar o arquivo)\n",
        "\n",
        "`>>> import fibonacci`\n",
        "\n",
        "`fibonacci`\n",
        "\n",
        "2.   No interpretador, quando chama ele como script, o nome do módulo passa a ser `__name__`\n",
        "\n",
        "`$ python fibonacci.py 5`\n",
        "\n",
        "`__name__`"
      ]
    },
    {
      "cell_type": "markdown",
      "metadata": {
        "id": "aPFerbLYi5S1"
      },
      "source": [
        "##**Manipulando Arquivos**"
      ]
    },
    {
      "cell_type": "markdown",
      "metadata": {
        "id": "-CH-J1xeP59r"
      },
      "source": [
        "A função nativa open() abre um arquivo e o retorna como um objeto do tipo arquivo. O conteúdo deste pode ser colocado dentro de uma variável. O primeiro parâmetro que a função recebe é a rota ao arquivo, e o segundo é o modo de abertura do arquivo, os principais são:\n",
        "\n",
        "*   \"r\" (read, modo padrão): Abre um arquivo para leitura, dá erro se o arquivo não existe\n",
        "*   \"w\" (write): Abre um arquivo para escrita, cria o arquivo se ele não existir\n",
        "*   \"a\" (append): Abre um arquivo para anexar, cria o arquivo se ele não existir \n",
        "\n",
        "Sempre deve-se fechar os arquivos; em alguns casos, devido ao buffer, as alterações feitas em um arquivo podem não aparecer até que você feche o arquivo. O método close() fecha um arquivo aberto."
      ]
    },
    {
      "cell_type": "code",
      "metadata": {
        "id": "kizICu7ai7bU",
        "colab": {
          "base_uri": "https://localhost:8080/"
        },
        "outputId": "25539958-8e12-4bd5-e5e3-a58ab72a1e7c"
      },
      "source": [
        "# Iremos usar o arquivo \"automobile.csv\", da base de dados gratuita: \n",
        "# https://www.kaggle.com/toramky/automobile-dataset\n",
        "\n",
        "# No caso de seu arquivo \"automobile.csv\" for colocado no Google Drive, é \n",
        "# preciso usar a seguinte livraria para usá-lo no Google Colab\n",
        "\n",
        "from google.colab import drive\n",
        "drive.mount('/content/drive')"
      ],
      "execution_count": 128,
      "outputs": [
        {
          "output_type": "stream",
          "text": [
            "Drive already mounted at /content/drive; to attempt to forcibly remount, call drive.mount(\"/content/drive\", force_remount=True).\n"
          ],
          "name": "stdout"
        }
      ]
    },
    {
      "cell_type": "code",
      "metadata": {
        "id": "d5hcH6gEZCS1",
        "colab": {
          "base_uri": "https://localhost:8080/"
        },
        "outputId": "8697499e-83f2-42bc-a10f-94e5a1c00789"
      },
      "source": [
        "file = open('drive/My Drive/automobile.csv', 'r')\n",
        "type(file)\n",
        "\n",
        "# A variável \"file\" é um objeto do tipo arquivo, e como objeto existem métodos \n",
        "# disponíveis para trabalhar com este, os quais são mostrados digitando:\n",
        "# \"file. + tecla tab\" "
      ],
      "execution_count": 129,
      "outputs": [
        {
          "output_type": "execute_result",
          "data": {
            "text/plain": [
              "_io.TextIOWrapper"
            ]
          },
          "metadata": {
            "tags": []
          },
          "execution_count": 129
        }
      ]
    },
    {
      "cell_type": "code",
      "metadata": {
        "id": "36DvruhvkU91",
        "colab": {
          "base_uri": "https://localhost:8080/"
        },
        "outputId": "0770b0a8-2cbb-439d-b8ff-2608a9c627bd"
      },
      "source": [
        "# Método readlines: Lê todas as linhas do arquivo e retorna uma lista, que pode\n",
        "# ser armazenada em uma variável\n",
        "\n",
        "lista = file.readlines()\n",
        "print(lista)\n",
        "print(type(lista))"
      ],
      "execution_count": 130,
      "outputs": [
        {
          "output_type": "stream",
          "text": [
            "['symboling,normalized-losses,make,fuel-type,aspiration\\n', '3,?,alfa-romero,gas,std\\n', '3,?,alfa-romero,gas,std\\n', '1,?,alfa-romero,gas,std\\n', '2,164,audi,gas,std\\n', '2,164,audi,gas,std\\n', '2,?,audi,gas,std\\n', '1,158,audi,gas,std\\n', '1,?,audi,gas,std\\n', '1,158,audi,gas,turbo\\n', '0,0,0,0,0\\n', '2,192,bmw,gas,std\\n', '0,192,bmw,gas,std\\n', '0,188,bmw,gas,std\\n', '0,188,bmw,gas,std\\n', '1,?,bmw,gas,std\\n', '0,?,bmw,gas,std\\n', '0,?,bmw,gas,std\\n', '0,?,bmw,gas,std\\n', '2,121,chevrolet,gas,std\\n', '1,98,chevrolet,gas,std\\n', '0,81,chevrolet,gas,std\\n', '1,118,dodge,gas,std\\n', '1,118,dodge,gas,std\\n', '1,118,dodge,gas,turbo\\n', '1,148,dodge,gas,std\\n', '1,148,dodge,gas,std\\n', '1,148,dodge,gas,std\\n', '1,148,dodge,gas,turbo\\n', '-1,110,dodge,gas,std\\n', '3,145,dodge,gas,turbo\\n', '2,137,honda,gas,std\\n', '2,137,honda,gas,std\\n', '1,101,honda,gas,std\\n', '1,101,honda,gas,std\\n', '1,101,honda,gas,std\\n', '0,110,honda,gas,std\\n', '0,78,honda,gas,std\\n', '0,106,honda,gas,std\\n', '0,106,honda,gas,std\\n', '0,85,honda,gas,std\\n', '0,85,honda,gas,std\\n', '0,85,honda,gas,std\\n', '1,107,honda,gas,std\\n', '0,?,isuzu,gas,std\\n', '0,0,0,0,0\\n', '0,0,0,0,0\\n', '2,?,isuzu,gas,std\\n', '0,145,jaguar,gas,std\\n', '0,?,jaguar,gas,std\\n', '0,?,jaguar,gas,std\\n', '1,104,mazda,gas,std\\n', '1,104,mazda,gas,std\\n', '1,104,mazda,gas,std\\n', '1,113,mazda,gas,std\\n', '1,113,mazda,gas,std\\n', '3,150,mazda,gas,std\\n', '3,150,mazda,gas,std\\n', '3,150,mazda,gas,std\\n', '3,150,mazda,gas,std\\n', '1,129,mazda,gas,std\\n', '0,115,mazda,gas,std\\n', '1,129,mazda,gas,std\\n', '0,115,mazda,gas,std\\n', '0,?,mazda,diesel,std\\n', '0,115,mazda,gas,std\\n', '0,118,mazda,gas,std\\n', '0,?,mazda,diesel,std\\n', '-1,93,mercedes-benz,diesel,turbo\\n', '-1,93,mercedes-benz,diesel,turbo\\n', '0,93,mercedes-benz,diesel,turbo\\n', '-1,93,mercedes-benz,diesel,turbo\\n', '-1,?,mercedes-benz,gas,std\\n', '3,142,mercedes-benz,gas,std\\n', '0,?,mercedes-benz,gas,std\\n', '1,?,mercedes-benz,gas,std\\n', '1,?,mercury,gas,turbo\\n', '2,161,mitsubishi,gas,std\\n', '2,161,mitsubishi,gas,std\\n', '2,161,mitsubishi,gas,std\\n', '1,161,mitsubishi,gas,turbo\\n', '3,153,mitsubishi,gas,turbo\\n', '3,153,mitsubishi,gas,std\\n', '3,?,mitsubishi,gas,turbo\\n', '3,?,mitsubishi,gas,turbo\\n', '3,?,mitsubishi,gas,turbo\\n', '1,125,mitsubishi,gas,std\\n', '1,125,mitsubishi,gas,std\\n', '1,125,mitsubishi,gas,turbo\\n', '-1,137,mitsubishi,gas,std\\n', '1,128,nissan,gas,std\\n', '1,128,nissan,diesel,std\\n', '1,128,nissan,gas,std\\n', '1,122,nissan,gas,std\\n', '1,103,nissan,gas,std\\n', '1,128,nissan,gas,std\\n', '1,128,nissan,gas,std\\n', '1,122,nissan,gas,std\\n', '1,103,nissan,gas,std\\n', '2,168,nissan,gas,std\\n', '0,106,nissan,gas,std\\n', '0,106,nissan,gas,std\\n', '0,128,nissan,gas,std\\n', '0,108,nissan,gas,std\\n', '0,108,nissan,gas,std\\n', '3,194,nissan,gas,std\\n', '3,194,nissan,gas,turbo\\n', '1,231,nissan,gas,std\\n', '0,161,peugot,gas,std\\n', '0,161,peugot,diesel,turbo\\n', '0,?,peugot,gas,std\\n', '0,?,peugot,diesel,turbo\\n', '0,161,peugot,gas,std\\n', '0,161,peugot,diesel,turbo\\n', '0,?,peugot,gas,std\\n', '0,?,peugot,diesel,turbo\\n', '0,161,peugot,gas,std\\n', '0,161,peugot,diesel,turbo\\n', '0,161,peugot,gas,turbo\\n', '1,119,plymouth,gas,std\\n', '1,119,plymouth,gas,turbo\\n', '1,154,plymouth,gas,std\\n', '1,154,plymouth,gas,std\\n', '1,154,plymouth,gas,std\\n', '-1,74,plymouth,gas,std\\n', '3,?,plymouth,gas,turbo\\n', '3,186,porsche,gas,std\\n', '3,?,porsche,gas,std\\n', '3,?,porsche,gas,std\\n', '3,?,porsche,gas,std\\n', '0,0,0,0,0\\n', '0,?,renault,gas,std\\n', '2,?,renault,gas,std\\n', '3,150,saab,gas,std\\n', '2,104,saab,gas,std\\n', '3,150,saab,gas,std\\n', '2,104,saab,gas,std\\n', '3,150,saab,gas,turbo\\n', '2,104,saab,gas,turbo\\n', '2,83,subaru,gas,std\\n', '2,83,subaru,gas,std\\n', '2,83,subaru,gas,std\\n', '0,102,subaru,gas,std\\n', '0,102,subaru,gas,std\\n', '0,102,subaru,gas,std\\n', '0,102,subaru,gas,std\\n', '0,102,subaru,gas,turbo\\n', '0,89,subaru,gas,std\\n', '0,89,subaru,gas,std\\n', '0,85,subaru,gas,std\\n', '0,85,subaru,gas,turbo\\n', '1,87,toyota,gas,std\\n', '1,87,toyota,gas,std\\n', '1,74,toyota,gas,std\\n', '0,77,toyota,gas,std\\n', '0,81,toyota,gas,std\\n', '0,91,toyota,gas,std\\n', '0,91,toyota,gas,std\\n', '0,91,toyota,gas,std\\n', '0,91,toyota,diesel,std\\n', '0,91,toyota,diesel,std\\n', '0,91,toyota,gas,std\\n', '0,91,toyota,gas,std\\n', '0,91,toyota,gas,std\\n', '1,168,toyota,gas,std\\n', '1,168,toyota,gas,std\\n', '1,168,toyota,gas,std\\n', '1,168,toyota,gas,std\\n', '2,134,toyota,gas,std\\n', '2,134,toyota,gas,std\\n', '2,134,toyota,gas,std\\n', '2,134,toyota,gas,std\\n', '2,134,toyota,gas,std\\n', '2,134,toyota,gas,std\\n', '-1,65,toyota,gas,std\\n', '-1,65,toyota,diesel,turbo\\n', '-1,65,toyota,gas,std\\n', '-1,65,toyota,gas,std\\n', '-1,65,toyota,gas,std\\n', '3,197,toyota,gas,std\\n', '3,197,toyota,gas,std\\n', '-1,90,toyota,gas,std\\n', '-1,?,toyota,gas,std\\n', '2,122,volkswagen,diesel,std\\n', '2,122,volkswagen,gas,std\\n', '2,94,volkswagen,diesel,std\\n', '2,94,volkswagen,gas,std\\n', '2,94,volkswagen,gas,std\\n', '2,94,volkswagen,diesel,turbo\\n', '2,94,volkswagen,gas,std\\n', '3,?,volkswagen,gas,std\\n', '3,256,volkswagen,gas,std\\n', '0,?,volkswagen,gas,std\\n', '0,?,volkswagen,diesel,turbo\\n', '0,?,volkswagen,gas,std\\n', '-2,103,volvo,gas,std\\n', '-1,74,volvo,gas,std\\n', '-2,103,volvo,gas,std\\n', '-1,74,volvo,gas,std\\n', '-2,103,volvo,gas,turbo\\n', '-1,74,volvo,gas,turbo\\n', '-1,95,volvo,gas,std\\n', '-1,95,volvo,gas,turbo\\n', '-1,95,volvo,gas,std\\n', '-1,95,volvo,diesel,turbo\\n', '-1,95,volvo,gas,turbo\\n']\n",
            "<class 'list'>\n"
          ],
          "name": "stdout"
        }
      ]
    },
    {
      "cell_type": "code",
      "metadata": {
        "id": "e-Odf3nhkcCQ",
        "colab": {
          "base_uri": "https://localhost:8080/"
        },
        "outputId": "cd9df9ba-20ab-4cb4-8c5d-accd3025d31c"
      },
      "source": [
        "# Iteração no arquivo, lendo cada linha através de um loop\n",
        "\n",
        "for i in lista:\n",
        "    print(i)"
      ],
      "execution_count": 131,
      "outputs": [
        {
          "output_type": "stream",
          "text": [
            "symboling,normalized-losses,make,fuel-type,aspiration\n",
            "\n",
            "3,?,alfa-romero,gas,std\n",
            "\n",
            "3,?,alfa-romero,gas,std\n",
            "\n",
            "1,?,alfa-romero,gas,std\n",
            "\n",
            "2,164,audi,gas,std\n",
            "\n",
            "2,164,audi,gas,std\n",
            "\n",
            "2,?,audi,gas,std\n",
            "\n",
            "1,158,audi,gas,std\n",
            "\n",
            "1,?,audi,gas,std\n",
            "\n",
            "1,158,audi,gas,turbo\n",
            "\n",
            "0,0,0,0,0\n",
            "\n",
            "2,192,bmw,gas,std\n",
            "\n",
            "0,192,bmw,gas,std\n",
            "\n",
            "0,188,bmw,gas,std\n",
            "\n",
            "0,188,bmw,gas,std\n",
            "\n",
            "1,?,bmw,gas,std\n",
            "\n",
            "0,?,bmw,gas,std\n",
            "\n",
            "0,?,bmw,gas,std\n",
            "\n",
            "0,?,bmw,gas,std\n",
            "\n",
            "2,121,chevrolet,gas,std\n",
            "\n",
            "1,98,chevrolet,gas,std\n",
            "\n",
            "0,81,chevrolet,gas,std\n",
            "\n",
            "1,118,dodge,gas,std\n",
            "\n",
            "1,118,dodge,gas,std\n",
            "\n",
            "1,118,dodge,gas,turbo\n",
            "\n",
            "1,148,dodge,gas,std\n",
            "\n",
            "1,148,dodge,gas,std\n",
            "\n",
            "1,148,dodge,gas,std\n",
            "\n",
            "1,148,dodge,gas,turbo\n",
            "\n",
            "-1,110,dodge,gas,std\n",
            "\n",
            "3,145,dodge,gas,turbo\n",
            "\n",
            "2,137,honda,gas,std\n",
            "\n",
            "2,137,honda,gas,std\n",
            "\n",
            "1,101,honda,gas,std\n",
            "\n",
            "1,101,honda,gas,std\n",
            "\n",
            "1,101,honda,gas,std\n",
            "\n",
            "0,110,honda,gas,std\n",
            "\n",
            "0,78,honda,gas,std\n",
            "\n",
            "0,106,honda,gas,std\n",
            "\n",
            "0,106,honda,gas,std\n",
            "\n",
            "0,85,honda,gas,std\n",
            "\n",
            "0,85,honda,gas,std\n",
            "\n",
            "0,85,honda,gas,std\n",
            "\n",
            "1,107,honda,gas,std\n",
            "\n",
            "0,?,isuzu,gas,std\n",
            "\n",
            "0,0,0,0,0\n",
            "\n",
            "0,0,0,0,0\n",
            "\n",
            "2,?,isuzu,gas,std\n",
            "\n",
            "0,145,jaguar,gas,std\n",
            "\n",
            "0,?,jaguar,gas,std\n",
            "\n",
            "0,?,jaguar,gas,std\n",
            "\n",
            "1,104,mazda,gas,std\n",
            "\n",
            "1,104,mazda,gas,std\n",
            "\n",
            "1,104,mazda,gas,std\n",
            "\n",
            "1,113,mazda,gas,std\n",
            "\n",
            "1,113,mazda,gas,std\n",
            "\n",
            "3,150,mazda,gas,std\n",
            "\n",
            "3,150,mazda,gas,std\n",
            "\n",
            "3,150,mazda,gas,std\n",
            "\n",
            "3,150,mazda,gas,std\n",
            "\n",
            "1,129,mazda,gas,std\n",
            "\n",
            "0,115,mazda,gas,std\n",
            "\n",
            "1,129,mazda,gas,std\n",
            "\n",
            "0,115,mazda,gas,std\n",
            "\n",
            "0,?,mazda,diesel,std\n",
            "\n",
            "0,115,mazda,gas,std\n",
            "\n",
            "0,118,mazda,gas,std\n",
            "\n",
            "0,?,mazda,diesel,std\n",
            "\n",
            "-1,93,mercedes-benz,diesel,turbo\n",
            "\n",
            "-1,93,mercedes-benz,diesel,turbo\n",
            "\n",
            "0,93,mercedes-benz,diesel,turbo\n",
            "\n",
            "-1,93,mercedes-benz,diesel,turbo\n",
            "\n",
            "-1,?,mercedes-benz,gas,std\n",
            "\n",
            "3,142,mercedes-benz,gas,std\n",
            "\n",
            "0,?,mercedes-benz,gas,std\n",
            "\n",
            "1,?,mercedes-benz,gas,std\n",
            "\n",
            "1,?,mercury,gas,turbo\n",
            "\n",
            "2,161,mitsubishi,gas,std\n",
            "\n",
            "2,161,mitsubishi,gas,std\n",
            "\n",
            "2,161,mitsubishi,gas,std\n",
            "\n",
            "1,161,mitsubishi,gas,turbo\n",
            "\n",
            "3,153,mitsubishi,gas,turbo\n",
            "\n",
            "3,153,mitsubishi,gas,std\n",
            "\n",
            "3,?,mitsubishi,gas,turbo\n",
            "\n",
            "3,?,mitsubishi,gas,turbo\n",
            "\n",
            "3,?,mitsubishi,gas,turbo\n",
            "\n",
            "1,125,mitsubishi,gas,std\n",
            "\n",
            "1,125,mitsubishi,gas,std\n",
            "\n",
            "1,125,mitsubishi,gas,turbo\n",
            "\n",
            "-1,137,mitsubishi,gas,std\n",
            "\n",
            "1,128,nissan,gas,std\n",
            "\n",
            "1,128,nissan,diesel,std\n",
            "\n",
            "1,128,nissan,gas,std\n",
            "\n",
            "1,122,nissan,gas,std\n",
            "\n",
            "1,103,nissan,gas,std\n",
            "\n",
            "1,128,nissan,gas,std\n",
            "\n",
            "1,128,nissan,gas,std\n",
            "\n",
            "1,122,nissan,gas,std\n",
            "\n",
            "1,103,nissan,gas,std\n",
            "\n",
            "2,168,nissan,gas,std\n",
            "\n",
            "0,106,nissan,gas,std\n",
            "\n",
            "0,106,nissan,gas,std\n",
            "\n",
            "0,128,nissan,gas,std\n",
            "\n",
            "0,108,nissan,gas,std\n",
            "\n",
            "0,108,nissan,gas,std\n",
            "\n",
            "3,194,nissan,gas,std\n",
            "\n",
            "3,194,nissan,gas,turbo\n",
            "\n",
            "1,231,nissan,gas,std\n",
            "\n",
            "0,161,peugot,gas,std\n",
            "\n",
            "0,161,peugot,diesel,turbo\n",
            "\n",
            "0,?,peugot,gas,std\n",
            "\n",
            "0,?,peugot,diesel,turbo\n",
            "\n",
            "0,161,peugot,gas,std\n",
            "\n",
            "0,161,peugot,diesel,turbo\n",
            "\n",
            "0,?,peugot,gas,std\n",
            "\n",
            "0,?,peugot,diesel,turbo\n",
            "\n",
            "0,161,peugot,gas,std\n",
            "\n",
            "0,161,peugot,diesel,turbo\n",
            "\n",
            "0,161,peugot,gas,turbo\n",
            "\n",
            "1,119,plymouth,gas,std\n",
            "\n",
            "1,119,plymouth,gas,turbo\n",
            "\n",
            "1,154,plymouth,gas,std\n",
            "\n",
            "1,154,plymouth,gas,std\n",
            "\n",
            "1,154,plymouth,gas,std\n",
            "\n",
            "-1,74,plymouth,gas,std\n",
            "\n",
            "3,?,plymouth,gas,turbo\n",
            "\n",
            "3,186,porsche,gas,std\n",
            "\n",
            "3,?,porsche,gas,std\n",
            "\n",
            "3,?,porsche,gas,std\n",
            "\n",
            "3,?,porsche,gas,std\n",
            "\n",
            "0,0,0,0,0\n",
            "\n",
            "0,?,renault,gas,std\n",
            "\n",
            "2,?,renault,gas,std\n",
            "\n",
            "3,150,saab,gas,std\n",
            "\n",
            "2,104,saab,gas,std\n",
            "\n",
            "3,150,saab,gas,std\n",
            "\n",
            "2,104,saab,gas,std\n",
            "\n",
            "3,150,saab,gas,turbo\n",
            "\n",
            "2,104,saab,gas,turbo\n",
            "\n",
            "2,83,subaru,gas,std\n",
            "\n",
            "2,83,subaru,gas,std\n",
            "\n",
            "2,83,subaru,gas,std\n",
            "\n",
            "0,102,subaru,gas,std\n",
            "\n",
            "0,102,subaru,gas,std\n",
            "\n",
            "0,102,subaru,gas,std\n",
            "\n",
            "0,102,subaru,gas,std\n",
            "\n",
            "0,102,subaru,gas,turbo\n",
            "\n",
            "0,89,subaru,gas,std\n",
            "\n",
            "0,89,subaru,gas,std\n",
            "\n",
            "0,85,subaru,gas,std\n",
            "\n",
            "0,85,subaru,gas,turbo\n",
            "\n",
            "1,87,toyota,gas,std\n",
            "\n",
            "1,87,toyota,gas,std\n",
            "\n",
            "1,74,toyota,gas,std\n",
            "\n",
            "0,77,toyota,gas,std\n",
            "\n",
            "0,81,toyota,gas,std\n",
            "\n",
            "0,91,toyota,gas,std\n",
            "\n",
            "0,91,toyota,gas,std\n",
            "\n",
            "0,91,toyota,gas,std\n",
            "\n",
            "0,91,toyota,diesel,std\n",
            "\n",
            "0,91,toyota,diesel,std\n",
            "\n",
            "0,91,toyota,gas,std\n",
            "\n",
            "0,91,toyota,gas,std\n",
            "\n",
            "0,91,toyota,gas,std\n",
            "\n",
            "1,168,toyota,gas,std\n",
            "\n",
            "1,168,toyota,gas,std\n",
            "\n",
            "1,168,toyota,gas,std\n",
            "\n",
            "1,168,toyota,gas,std\n",
            "\n",
            "2,134,toyota,gas,std\n",
            "\n",
            "2,134,toyota,gas,std\n",
            "\n",
            "2,134,toyota,gas,std\n",
            "\n",
            "2,134,toyota,gas,std\n",
            "\n",
            "2,134,toyota,gas,std\n",
            "\n",
            "2,134,toyota,gas,std\n",
            "\n",
            "-1,65,toyota,gas,std\n",
            "\n",
            "-1,65,toyota,diesel,turbo\n",
            "\n",
            "-1,65,toyota,gas,std\n",
            "\n",
            "-1,65,toyota,gas,std\n",
            "\n",
            "-1,65,toyota,gas,std\n",
            "\n",
            "3,197,toyota,gas,std\n",
            "\n",
            "3,197,toyota,gas,std\n",
            "\n",
            "-1,90,toyota,gas,std\n",
            "\n",
            "-1,?,toyota,gas,std\n",
            "\n",
            "2,122,volkswagen,diesel,std\n",
            "\n",
            "2,122,volkswagen,gas,std\n",
            "\n",
            "2,94,volkswagen,diesel,std\n",
            "\n",
            "2,94,volkswagen,gas,std\n",
            "\n",
            "2,94,volkswagen,gas,std\n",
            "\n",
            "2,94,volkswagen,diesel,turbo\n",
            "\n",
            "2,94,volkswagen,gas,std\n",
            "\n",
            "3,?,volkswagen,gas,std\n",
            "\n",
            "3,256,volkswagen,gas,std\n",
            "\n",
            "0,?,volkswagen,gas,std\n",
            "\n",
            "0,?,volkswagen,diesel,turbo\n",
            "\n",
            "0,?,volkswagen,gas,std\n",
            "\n",
            "-2,103,volvo,gas,std\n",
            "\n",
            "-1,74,volvo,gas,std\n",
            "\n",
            "-2,103,volvo,gas,std\n",
            "\n",
            "-1,74,volvo,gas,std\n",
            "\n",
            "-2,103,volvo,gas,turbo\n",
            "\n",
            "-1,74,volvo,gas,turbo\n",
            "\n",
            "-1,95,volvo,gas,std\n",
            "\n",
            "-1,95,volvo,gas,turbo\n",
            "\n",
            "-1,95,volvo,gas,std\n",
            "\n",
            "-1,95,volvo,diesel,turbo\n",
            "\n",
            "-1,95,volvo,gas,turbo\n",
            "\n"
          ],
          "name": "stdout"
        }
      ]
    },
    {
      "cell_type": "code",
      "metadata": {
        "id": "pSbY0cJikeBV",
        "colab": {
          "base_uri": "https://localhost:8080/"
        },
        "outputId": "42554bf9-031b-4d04-a1a7-c5cd3f2a9237"
      },
      "source": [
        "# Método tell: Retorna a quantidade de caracteres que contém o arquivo\n",
        "\n",
        "print(file.tell())"
      ],
      "execution_count": 132,
      "outputs": [
        {
          "output_type": "stream",
          "text": [
            "4449\n"
          ],
          "name": "stdout"
        }
      ]
    },
    {
      "cell_type": "code",
      "metadata": {
        "id": "k_6PrisGGMW-",
        "colab": {
          "base_uri": "https://localhost:8080/"
        },
        "outputId": "1f18ca21-fc1f-4da5-dab9-48c7f8b32896"
      },
      "source": [
        "# Método read: Lê o conteúdo do arquivo inteiro e o imprime na tela\n",
        "\n",
        "file = open('drive/My Drive/automobile.csv')\n",
        "print(file.read())"
      ],
      "execution_count": 133,
      "outputs": [
        {
          "output_type": "stream",
          "text": [
            "symboling,normalized-losses,make,fuel-type,aspiration\n",
            "3,?,alfa-romero,gas,std\n",
            "3,?,alfa-romero,gas,std\n",
            "1,?,alfa-romero,gas,std\n",
            "2,164,audi,gas,std\n",
            "2,164,audi,gas,std\n",
            "2,?,audi,gas,std\n",
            "1,158,audi,gas,std\n",
            "1,?,audi,gas,std\n",
            "1,158,audi,gas,turbo\n",
            "0,0,0,0,0\n",
            "2,192,bmw,gas,std\n",
            "0,192,bmw,gas,std\n",
            "0,188,bmw,gas,std\n",
            "0,188,bmw,gas,std\n",
            "1,?,bmw,gas,std\n",
            "0,?,bmw,gas,std\n",
            "0,?,bmw,gas,std\n",
            "0,?,bmw,gas,std\n",
            "2,121,chevrolet,gas,std\n",
            "1,98,chevrolet,gas,std\n",
            "0,81,chevrolet,gas,std\n",
            "1,118,dodge,gas,std\n",
            "1,118,dodge,gas,std\n",
            "1,118,dodge,gas,turbo\n",
            "1,148,dodge,gas,std\n",
            "1,148,dodge,gas,std\n",
            "1,148,dodge,gas,std\n",
            "1,148,dodge,gas,turbo\n",
            "-1,110,dodge,gas,std\n",
            "3,145,dodge,gas,turbo\n",
            "2,137,honda,gas,std\n",
            "2,137,honda,gas,std\n",
            "1,101,honda,gas,std\n",
            "1,101,honda,gas,std\n",
            "1,101,honda,gas,std\n",
            "0,110,honda,gas,std\n",
            "0,78,honda,gas,std\n",
            "0,106,honda,gas,std\n",
            "0,106,honda,gas,std\n",
            "0,85,honda,gas,std\n",
            "0,85,honda,gas,std\n",
            "0,85,honda,gas,std\n",
            "1,107,honda,gas,std\n",
            "0,?,isuzu,gas,std\n",
            "0,0,0,0,0\n",
            "0,0,0,0,0\n",
            "2,?,isuzu,gas,std\n",
            "0,145,jaguar,gas,std\n",
            "0,?,jaguar,gas,std\n",
            "0,?,jaguar,gas,std\n",
            "1,104,mazda,gas,std\n",
            "1,104,mazda,gas,std\n",
            "1,104,mazda,gas,std\n",
            "1,113,mazda,gas,std\n",
            "1,113,mazda,gas,std\n",
            "3,150,mazda,gas,std\n",
            "3,150,mazda,gas,std\n",
            "3,150,mazda,gas,std\n",
            "3,150,mazda,gas,std\n",
            "1,129,mazda,gas,std\n",
            "0,115,mazda,gas,std\n",
            "1,129,mazda,gas,std\n",
            "0,115,mazda,gas,std\n",
            "0,?,mazda,diesel,std\n",
            "0,115,mazda,gas,std\n",
            "0,118,mazda,gas,std\n",
            "0,?,mazda,diesel,std\n",
            "-1,93,mercedes-benz,diesel,turbo\n",
            "-1,93,mercedes-benz,diesel,turbo\n",
            "0,93,mercedes-benz,diesel,turbo\n",
            "-1,93,mercedes-benz,diesel,turbo\n",
            "-1,?,mercedes-benz,gas,std\n",
            "3,142,mercedes-benz,gas,std\n",
            "0,?,mercedes-benz,gas,std\n",
            "1,?,mercedes-benz,gas,std\n",
            "1,?,mercury,gas,turbo\n",
            "2,161,mitsubishi,gas,std\n",
            "2,161,mitsubishi,gas,std\n",
            "2,161,mitsubishi,gas,std\n",
            "1,161,mitsubishi,gas,turbo\n",
            "3,153,mitsubishi,gas,turbo\n",
            "3,153,mitsubishi,gas,std\n",
            "3,?,mitsubishi,gas,turbo\n",
            "3,?,mitsubishi,gas,turbo\n",
            "3,?,mitsubishi,gas,turbo\n",
            "1,125,mitsubishi,gas,std\n",
            "1,125,mitsubishi,gas,std\n",
            "1,125,mitsubishi,gas,turbo\n",
            "-1,137,mitsubishi,gas,std\n",
            "1,128,nissan,gas,std\n",
            "1,128,nissan,diesel,std\n",
            "1,128,nissan,gas,std\n",
            "1,122,nissan,gas,std\n",
            "1,103,nissan,gas,std\n",
            "1,128,nissan,gas,std\n",
            "1,128,nissan,gas,std\n",
            "1,122,nissan,gas,std\n",
            "1,103,nissan,gas,std\n",
            "2,168,nissan,gas,std\n",
            "0,106,nissan,gas,std\n",
            "0,106,nissan,gas,std\n",
            "0,128,nissan,gas,std\n",
            "0,108,nissan,gas,std\n",
            "0,108,nissan,gas,std\n",
            "3,194,nissan,gas,std\n",
            "3,194,nissan,gas,turbo\n",
            "1,231,nissan,gas,std\n",
            "0,161,peugot,gas,std\n",
            "0,161,peugot,diesel,turbo\n",
            "0,?,peugot,gas,std\n",
            "0,?,peugot,diesel,turbo\n",
            "0,161,peugot,gas,std\n",
            "0,161,peugot,diesel,turbo\n",
            "0,?,peugot,gas,std\n",
            "0,?,peugot,diesel,turbo\n",
            "0,161,peugot,gas,std\n",
            "0,161,peugot,diesel,turbo\n",
            "0,161,peugot,gas,turbo\n",
            "1,119,plymouth,gas,std\n",
            "1,119,plymouth,gas,turbo\n",
            "1,154,plymouth,gas,std\n",
            "1,154,plymouth,gas,std\n",
            "1,154,plymouth,gas,std\n",
            "-1,74,plymouth,gas,std\n",
            "3,?,plymouth,gas,turbo\n",
            "3,186,porsche,gas,std\n",
            "3,?,porsche,gas,std\n",
            "3,?,porsche,gas,std\n",
            "3,?,porsche,gas,std\n",
            "0,0,0,0,0\n",
            "0,?,renault,gas,std\n",
            "2,?,renault,gas,std\n",
            "3,150,saab,gas,std\n",
            "2,104,saab,gas,std\n",
            "3,150,saab,gas,std\n",
            "2,104,saab,gas,std\n",
            "3,150,saab,gas,turbo\n",
            "2,104,saab,gas,turbo\n",
            "2,83,subaru,gas,std\n",
            "2,83,subaru,gas,std\n",
            "2,83,subaru,gas,std\n",
            "0,102,subaru,gas,std\n",
            "0,102,subaru,gas,std\n",
            "0,102,subaru,gas,std\n",
            "0,102,subaru,gas,std\n",
            "0,102,subaru,gas,turbo\n",
            "0,89,subaru,gas,std\n",
            "0,89,subaru,gas,std\n",
            "0,85,subaru,gas,std\n",
            "0,85,subaru,gas,turbo\n",
            "1,87,toyota,gas,std\n",
            "1,87,toyota,gas,std\n",
            "1,74,toyota,gas,std\n",
            "0,77,toyota,gas,std\n",
            "0,81,toyota,gas,std\n",
            "0,91,toyota,gas,std\n",
            "0,91,toyota,gas,std\n",
            "0,91,toyota,gas,std\n",
            "0,91,toyota,diesel,std\n",
            "0,91,toyota,diesel,std\n",
            "0,91,toyota,gas,std\n",
            "0,91,toyota,gas,std\n",
            "0,91,toyota,gas,std\n",
            "1,168,toyota,gas,std\n",
            "1,168,toyota,gas,std\n",
            "1,168,toyota,gas,std\n",
            "1,168,toyota,gas,std\n",
            "2,134,toyota,gas,std\n",
            "2,134,toyota,gas,std\n",
            "2,134,toyota,gas,std\n",
            "2,134,toyota,gas,std\n",
            "2,134,toyota,gas,std\n",
            "2,134,toyota,gas,std\n",
            "-1,65,toyota,gas,std\n",
            "-1,65,toyota,diesel,turbo\n",
            "-1,65,toyota,gas,std\n",
            "-1,65,toyota,gas,std\n",
            "-1,65,toyota,gas,std\n",
            "3,197,toyota,gas,std\n",
            "3,197,toyota,gas,std\n",
            "-1,90,toyota,gas,std\n",
            "-1,?,toyota,gas,std\n",
            "2,122,volkswagen,diesel,std\n",
            "2,122,volkswagen,gas,std\n",
            "2,94,volkswagen,diesel,std\n",
            "2,94,volkswagen,gas,std\n",
            "2,94,volkswagen,gas,std\n",
            "2,94,volkswagen,diesel,turbo\n",
            "2,94,volkswagen,gas,std\n",
            "3,?,volkswagen,gas,std\n",
            "3,256,volkswagen,gas,std\n",
            "0,?,volkswagen,gas,std\n",
            "0,?,volkswagen,diesel,turbo\n",
            "0,?,volkswagen,gas,std\n",
            "-2,103,volvo,gas,std\n",
            "-1,74,volvo,gas,std\n",
            "-2,103,volvo,gas,std\n",
            "-1,74,volvo,gas,std\n",
            "-2,103,volvo,gas,turbo\n",
            "-1,74,volvo,gas,turbo\n",
            "-1,95,volvo,gas,std\n",
            "-1,95,volvo,gas,turbo\n",
            "-1,95,volvo,gas,std\n",
            "-1,95,volvo,diesel,turbo\n",
            "-1,95,volvo,gas,turbo\n",
            "\n"
          ],
          "name": "stdout"
        }
      ]
    },
    {
      "cell_type": "markdown",
      "metadata": {
        "id": "yFZ4xeOOGyLM"
      },
      "source": [
        "##**Iterando sobre um arquivo**"
      ]
    },
    {
      "cell_type": "markdown",
      "metadata": {
        "id": "oxqDAzByPz2c"
      },
      "source": [
        "Não necessariamente temos que usar o método readlines para ler linha a linha um arquivo. O objeto do tipo arquivo é um objeto do tipo iterator (sequêncial), ou seja, podemos ler linha a linha esse arquivo usando um loop. Isto ajuda no uso de memória em arquivos grandes. \n",
        "\n",
        "No método readlines, todo o conteúdo do arquivo é colocado dentro de uma lista e assim todo o conteúdo do objeto é colocado em memória. Desta outra maneira usamos menos memória, conseguimos ler linha a linha de forma incremental, enchendo a memória conforme se percorre as linhas."
      ]
    },
    {
      "cell_type": "code",
      "metadata": {
        "id": "r-37qtfaG3IC",
        "colab": {
          "base_uri": "https://localhost:8080/"
        },
        "outputId": "45d5bbe6-88ae-4890-98d7-bbfcfb7d4421"
      },
      "source": [
        "file = open('drive/My Drive/automobile.csv', 'r')\n",
        "for linha in file:\n",
        "    print(linha)"
      ],
      "execution_count": 134,
      "outputs": [
        {
          "output_type": "stream",
          "text": [
            "symboling,normalized-losses,make,fuel-type,aspiration\n",
            "\n",
            "3,?,alfa-romero,gas,std\n",
            "\n",
            "3,?,alfa-romero,gas,std\n",
            "\n",
            "1,?,alfa-romero,gas,std\n",
            "\n",
            "2,164,audi,gas,std\n",
            "\n",
            "2,164,audi,gas,std\n",
            "\n",
            "2,?,audi,gas,std\n",
            "\n",
            "1,158,audi,gas,std\n",
            "\n",
            "1,?,audi,gas,std\n",
            "\n",
            "1,158,audi,gas,turbo\n",
            "\n",
            "0,0,0,0,0\n",
            "\n",
            "2,192,bmw,gas,std\n",
            "\n",
            "0,192,bmw,gas,std\n",
            "\n",
            "0,188,bmw,gas,std\n",
            "\n",
            "0,188,bmw,gas,std\n",
            "\n",
            "1,?,bmw,gas,std\n",
            "\n",
            "0,?,bmw,gas,std\n",
            "\n",
            "0,?,bmw,gas,std\n",
            "\n",
            "0,?,bmw,gas,std\n",
            "\n",
            "2,121,chevrolet,gas,std\n",
            "\n",
            "1,98,chevrolet,gas,std\n",
            "\n",
            "0,81,chevrolet,gas,std\n",
            "\n",
            "1,118,dodge,gas,std\n",
            "\n",
            "1,118,dodge,gas,std\n",
            "\n",
            "1,118,dodge,gas,turbo\n",
            "\n",
            "1,148,dodge,gas,std\n",
            "\n",
            "1,148,dodge,gas,std\n",
            "\n",
            "1,148,dodge,gas,std\n",
            "\n",
            "1,148,dodge,gas,turbo\n",
            "\n",
            "-1,110,dodge,gas,std\n",
            "\n",
            "3,145,dodge,gas,turbo\n",
            "\n",
            "2,137,honda,gas,std\n",
            "\n",
            "2,137,honda,gas,std\n",
            "\n",
            "1,101,honda,gas,std\n",
            "\n",
            "1,101,honda,gas,std\n",
            "\n",
            "1,101,honda,gas,std\n",
            "\n",
            "0,110,honda,gas,std\n",
            "\n",
            "0,78,honda,gas,std\n",
            "\n",
            "0,106,honda,gas,std\n",
            "\n",
            "0,106,honda,gas,std\n",
            "\n",
            "0,85,honda,gas,std\n",
            "\n",
            "0,85,honda,gas,std\n",
            "\n",
            "0,85,honda,gas,std\n",
            "\n",
            "1,107,honda,gas,std\n",
            "\n",
            "0,?,isuzu,gas,std\n",
            "\n",
            "0,0,0,0,0\n",
            "\n",
            "0,0,0,0,0\n",
            "\n",
            "2,?,isuzu,gas,std\n",
            "\n",
            "0,145,jaguar,gas,std\n",
            "\n",
            "0,?,jaguar,gas,std\n",
            "\n",
            "0,?,jaguar,gas,std\n",
            "\n",
            "1,104,mazda,gas,std\n",
            "\n",
            "1,104,mazda,gas,std\n",
            "\n",
            "1,104,mazda,gas,std\n",
            "\n",
            "1,113,mazda,gas,std\n",
            "\n",
            "1,113,mazda,gas,std\n",
            "\n",
            "3,150,mazda,gas,std\n",
            "\n",
            "3,150,mazda,gas,std\n",
            "\n",
            "3,150,mazda,gas,std\n",
            "\n",
            "3,150,mazda,gas,std\n",
            "\n",
            "1,129,mazda,gas,std\n",
            "\n",
            "0,115,mazda,gas,std\n",
            "\n",
            "1,129,mazda,gas,std\n",
            "\n",
            "0,115,mazda,gas,std\n",
            "\n",
            "0,?,mazda,diesel,std\n",
            "\n",
            "0,115,mazda,gas,std\n",
            "\n",
            "0,118,mazda,gas,std\n",
            "\n",
            "0,?,mazda,diesel,std\n",
            "\n",
            "-1,93,mercedes-benz,diesel,turbo\n",
            "\n",
            "-1,93,mercedes-benz,diesel,turbo\n",
            "\n",
            "0,93,mercedes-benz,diesel,turbo\n",
            "\n",
            "-1,93,mercedes-benz,diesel,turbo\n",
            "\n",
            "-1,?,mercedes-benz,gas,std\n",
            "\n",
            "3,142,mercedes-benz,gas,std\n",
            "\n",
            "0,?,mercedes-benz,gas,std\n",
            "\n",
            "1,?,mercedes-benz,gas,std\n",
            "\n",
            "1,?,mercury,gas,turbo\n",
            "\n",
            "2,161,mitsubishi,gas,std\n",
            "\n",
            "2,161,mitsubishi,gas,std\n",
            "\n",
            "2,161,mitsubishi,gas,std\n",
            "\n",
            "1,161,mitsubishi,gas,turbo\n",
            "\n",
            "3,153,mitsubishi,gas,turbo\n",
            "\n",
            "3,153,mitsubishi,gas,std\n",
            "\n",
            "3,?,mitsubishi,gas,turbo\n",
            "\n",
            "3,?,mitsubishi,gas,turbo\n",
            "\n",
            "3,?,mitsubishi,gas,turbo\n",
            "\n",
            "1,125,mitsubishi,gas,std\n",
            "\n",
            "1,125,mitsubishi,gas,std\n",
            "\n",
            "1,125,mitsubishi,gas,turbo\n",
            "\n",
            "-1,137,mitsubishi,gas,std\n",
            "\n",
            "1,128,nissan,gas,std\n",
            "\n",
            "1,128,nissan,diesel,std\n",
            "\n",
            "1,128,nissan,gas,std\n",
            "\n",
            "1,122,nissan,gas,std\n",
            "\n",
            "1,103,nissan,gas,std\n",
            "\n",
            "1,128,nissan,gas,std\n",
            "\n",
            "1,128,nissan,gas,std\n",
            "\n",
            "1,122,nissan,gas,std\n",
            "\n",
            "1,103,nissan,gas,std\n",
            "\n",
            "2,168,nissan,gas,std\n",
            "\n",
            "0,106,nissan,gas,std\n",
            "\n",
            "0,106,nissan,gas,std\n",
            "\n",
            "0,128,nissan,gas,std\n",
            "\n",
            "0,108,nissan,gas,std\n",
            "\n",
            "0,108,nissan,gas,std\n",
            "\n",
            "3,194,nissan,gas,std\n",
            "\n",
            "3,194,nissan,gas,turbo\n",
            "\n",
            "1,231,nissan,gas,std\n",
            "\n",
            "0,161,peugot,gas,std\n",
            "\n",
            "0,161,peugot,diesel,turbo\n",
            "\n",
            "0,?,peugot,gas,std\n",
            "\n",
            "0,?,peugot,diesel,turbo\n",
            "\n",
            "0,161,peugot,gas,std\n",
            "\n",
            "0,161,peugot,diesel,turbo\n",
            "\n",
            "0,?,peugot,gas,std\n",
            "\n",
            "0,?,peugot,diesel,turbo\n",
            "\n",
            "0,161,peugot,gas,std\n",
            "\n",
            "0,161,peugot,diesel,turbo\n",
            "\n",
            "0,161,peugot,gas,turbo\n",
            "\n",
            "1,119,plymouth,gas,std\n",
            "\n",
            "1,119,plymouth,gas,turbo\n",
            "\n",
            "1,154,plymouth,gas,std\n",
            "\n",
            "1,154,plymouth,gas,std\n",
            "\n",
            "1,154,plymouth,gas,std\n",
            "\n",
            "-1,74,plymouth,gas,std\n",
            "\n",
            "3,?,plymouth,gas,turbo\n",
            "\n",
            "3,186,porsche,gas,std\n",
            "\n",
            "3,?,porsche,gas,std\n",
            "\n",
            "3,?,porsche,gas,std\n",
            "\n",
            "3,?,porsche,gas,std\n",
            "\n",
            "0,0,0,0,0\n",
            "\n",
            "0,?,renault,gas,std\n",
            "\n",
            "2,?,renault,gas,std\n",
            "\n",
            "3,150,saab,gas,std\n",
            "\n",
            "2,104,saab,gas,std\n",
            "\n",
            "3,150,saab,gas,std\n",
            "\n",
            "2,104,saab,gas,std\n",
            "\n",
            "3,150,saab,gas,turbo\n",
            "\n",
            "2,104,saab,gas,turbo\n",
            "\n",
            "2,83,subaru,gas,std\n",
            "\n",
            "2,83,subaru,gas,std\n",
            "\n",
            "2,83,subaru,gas,std\n",
            "\n",
            "0,102,subaru,gas,std\n",
            "\n",
            "0,102,subaru,gas,std\n",
            "\n",
            "0,102,subaru,gas,std\n",
            "\n",
            "0,102,subaru,gas,std\n",
            "\n",
            "0,102,subaru,gas,turbo\n",
            "\n",
            "0,89,subaru,gas,std\n",
            "\n",
            "0,89,subaru,gas,std\n",
            "\n",
            "0,85,subaru,gas,std\n",
            "\n",
            "0,85,subaru,gas,turbo\n",
            "\n",
            "1,87,toyota,gas,std\n",
            "\n",
            "1,87,toyota,gas,std\n",
            "\n",
            "1,74,toyota,gas,std\n",
            "\n",
            "0,77,toyota,gas,std\n",
            "\n",
            "0,81,toyota,gas,std\n",
            "\n",
            "0,91,toyota,gas,std\n",
            "\n",
            "0,91,toyota,gas,std\n",
            "\n",
            "0,91,toyota,gas,std\n",
            "\n",
            "0,91,toyota,diesel,std\n",
            "\n",
            "0,91,toyota,diesel,std\n",
            "\n",
            "0,91,toyota,gas,std\n",
            "\n",
            "0,91,toyota,gas,std\n",
            "\n",
            "0,91,toyota,gas,std\n",
            "\n",
            "1,168,toyota,gas,std\n",
            "\n",
            "1,168,toyota,gas,std\n",
            "\n",
            "1,168,toyota,gas,std\n",
            "\n",
            "1,168,toyota,gas,std\n",
            "\n",
            "2,134,toyota,gas,std\n",
            "\n",
            "2,134,toyota,gas,std\n",
            "\n",
            "2,134,toyota,gas,std\n",
            "\n",
            "2,134,toyota,gas,std\n",
            "\n",
            "2,134,toyota,gas,std\n",
            "\n",
            "2,134,toyota,gas,std\n",
            "\n",
            "-1,65,toyota,gas,std\n",
            "\n",
            "-1,65,toyota,diesel,turbo\n",
            "\n",
            "-1,65,toyota,gas,std\n",
            "\n",
            "-1,65,toyota,gas,std\n",
            "\n",
            "-1,65,toyota,gas,std\n",
            "\n",
            "3,197,toyota,gas,std\n",
            "\n",
            "3,197,toyota,gas,std\n",
            "\n",
            "-1,90,toyota,gas,std\n",
            "\n",
            "-1,?,toyota,gas,std\n",
            "\n",
            "2,122,volkswagen,diesel,std\n",
            "\n",
            "2,122,volkswagen,gas,std\n",
            "\n",
            "2,94,volkswagen,diesel,std\n",
            "\n",
            "2,94,volkswagen,gas,std\n",
            "\n",
            "2,94,volkswagen,gas,std\n",
            "\n",
            "2,94,volkswagen,diesel,turbo\n",
            "\n",
            "2,94,volkswagen,gas,std\n",
            "\n",
            "3,?,volkswagen,gas,std\n",
            "\n",
            "3,256,volkswagen,gas,std\n",
            "\n",
            "0,?,volkswagen,gas,std\n",
            "\n",
            "0,?,volkswagen,diesel,turbo\n",
            "\n",
            "0,?,volkswagen,gas,std\n",
            "\n",
            "-2,103,volvo,gas,std\n",
            "\n",
            "-1,74,volvo,gas,std\n",
            "\n",
            "-2,103,volvo,gas,std\n",
            "\n",
            "-1,74,volvo,gas,std\n",
            "\n",
            "-2,103,volvo,gas,turbo\n",
            "\n",
            "-1,74,volvo,gas,turbo\n",
            "\n",
            "-1,95,volvo,gas,std\n",
            "\n",
            "-1,95,volvo,gas,turbo\n",
            "\n",
            "-1,95,volvo,gas,std\n",
            "\n",
            "-1,95,volvo,diesel,turbo\n",
            "\n",
            "-1,95,volvo,gas,turbo\n",
            "\n"
          ],
          "name": "stdout"
        }
      ]
    },
    {
      "cell_type": "markdown",
      "metadata": {
        "id": "CJQMjTK5Mt2n"
      },
      "source": [
        "##**Escrevendo em Arquivos**"
      ]
    },
    {
      "cell_type": "code",
      "metadata": {
        "id": "g6Fa965KMwWt"
      },
      "source": [
        "# Abrimos o arquivo em modo de escrita e informamos o nome do arquivo que iremos\n",
        "# gerar\n",
        "\n",
        "file2 = open('frases.txt', 'w')"
      ],
      "execution_count": 135,
      "outputs": []
    },
    {
      "cell_type": "code",
      "metadata": {
        "id": "IhLxy2doNC0N",
        "colab": {
          "base_uri": "https://localhost:8080/"
        },
        "outputId": "65242717-1b02-4a6a-da9c-f17a3a946193"
      },
      "source": [
        "# Método write: Escreve um string ao arquivo\n",
        "\n",
        "file2.write('Se nao existe vida fora da Terra, entao o universo é um grande desperdício de espaço')\n",
        "file2.write('Nós somos feitos do pó das estrelas')\n",
        "\n",
        "# Ele mostra um código de saída após executar"
      ],
      "execution_count": 136,
      "outputs": [
        {
          "output_type": "execute_result",
          "data": {
            "text/plain": [
              "35"
            ]
          },
          "metadata": {
            "tags": []
          },
          "execution_count": 136
        }
      ]
    },
    {
      "cell_type": "code",
      "metadata": {
        "id": "tHP2Fu8xlal4"
      },
      "source": [
        "# Fechamos o arquivo para que as alterações persistam no disco\n",
        "\n",
        "file2.close()"
      ],
      "execution_count": 137,
      "outputs": []
    },
    {
      "cell_type": "code",
      "metadata": {
        "id": "zxKi95IrlfOU"
      },
      "source": [
        "# Tentar ler o arquivo agora daria um erro já que não é permitido a operação de\n",
        "# leitura em um arquivo fechado. Mesmo sem fechar, não é permitido ler um \n",
        "# arquivo aberto em modo escrita\n",
        "\n",
        "#file2.read()"
      ],
      "execution_count": 138,
      "outputs": []
    },
    {
      "cell_type": "code",
      "metadata": {
        "id": "FccfdUjCroMD"
      },
      "source": [
        "# Abrimos o arquivo criado em modo de leitura para ver como ficou o conteúdo\n",
        "\n",
        "file2 = open('frases.txt','r')"
      ],
      "execution_count": 139,
      "outputs": []
    },
    {
      "cell_type": "code",
      "metadata": {
        "id": "TaV9NHAQmfyg",
        "colab": {
          "base_uri": "https://localhost:8080/"
        },
        "outputId": "99bc0f22-c026-4455-ba25-7f67e3c9ef80"
      },
      "source": [
        "# Usamos o método readlines() para ler linha a linha o arquivo\n",
        "\n",
        "file2.readlines()\n",
        "\n",
        "# Por padrão, os strings passados como parâmetro no método write() são \n",
        "# concatenados"
      ],
      "execution_count": 140,
      "outputs": [
        {
          "output_type": "execute_result",
          "data": {
            "text/plain": [
              "['Se nao existe vida fora da Terra, entao o universo é um grande desperdício de espaçoNós somos feitos do pó das estrelas']"
            ]
          },
          "metadata": {
            "tags": []
          },
          "execution_count": 140
        }
      ]
    },
    {
      "cell_type": "markdown",
      "metadata": {
        "id": "SkW-6BVpRJZ-"
      },
      "source": [
        "##**Acrescentando Arquivos**"
      ]
    },
    {
      "cell_type": "code",
      "metadata": {
        "id": "QQMxlLBrmoa7",
        "colab": {
          "base_uri": "https://localhost:8080/"
        },
        "outputId": "5fe01a0e-dfe2-44e7-b2b7-50f6b27c139e"
      },
      "source": [
        "# O modo de abertura do tipo acrescentar permite adicionar linhas no final de um\n",
        "# arquivo\n",
        "\n",
        "file2 = open('frases.txt', 'a')\n",
        "file2.write('Última linha do arquivo')\n",
        "file2.close()\n",
        "\n",
        "file2 = open('frases.txt','r')\n",
        "file2.readlines()"
      ],
      "execution_count": 141,
      "outputs": [
        {
          "output_type": "execute_result",
          "data": {
            "text/plain": [
              "['Se nao existe vida fora da Terra, entao o universo é um grande desperdício de espaçoNós somos feitos do pó das estrelasÚltima linha do arquivo']"
            ]
          },
          "metadata": {
            "tags": []
          },
          "execution_count": 141
        }
      ]
    },
    {
      "cell_type": "code",
      "metadata": {
        "id": "0x_wpkC5wiZI"
      },
      "source": [
        "# Se abrir o arquivo de novo em modo escrita o conteúdo será sobreescrito"
      ],
      "execution_count": 142,
      "outputs": []
    },
    {
      "cell_type": "markdown",
      "metadata": {
        "id": "1sagBMnV3YAw"
      },
      "source": [
        "##**Método writelines**"
      ]
    },
    {
      "cell_type": "code",
      "metadata": {
        "id": "qg2y5myW3cUJ",
        "colab": {
          "base_uri": "https://localhost:8080/"
        },
        "outputId": "f20a960d-1a1f-4372-ec31-9689ce8a8626"
      },
      "source": [
        "# Método writelines: Escreve uma sequência de strings no arquivo\n",
        "\n",
        "lista = ['Primeira linha', 'Segunda linha', 'Terceira linha']\n",
        "\n",
        "file = open('frases.txt', 'w')\n",
        "file.writelines(lista)\n",
        "file.close()\n",
        "\n",
        "file = open('frases.txt', 'r')\n",
        "file.readlines()"
      ],
      "execution_count": 143,
      "outputs": [
        {
          "output_type": "execute_result",
          "data": {
            "text/plain": [
              "['Primeira linhaSegunda linhaTerceira linha']"
            ]
          },
          "metadata": {
            "tags": []
          },
          "execution_count": 143
        }
      ]
    },
    {
      "cell_type": "code",
      "metadata": {
        "id": "ULgxVEnF7Fy2"
      },
      "source": [
        "# O método writelines permite escrever em um arquivo de forma mais \n",
        "# performática, sem ter que percorrer uma lista, por exemplo:\n",
        "\n",
        "#for i in lista:\n",
        "#    file.write(i)"
      ],
      "execution_count": 144,
      "outputs": []
    },
    {
      "cell_type": "markdown",
      "metadata": {
        "id": "C7UxkGL74WlP"
      },
      "source": [
        "##**Instrução \"with\"**"
      ]
    },
    {
      "cell_type": "markdown",
      "metadata": {
        "id": "93m9Y8LrPtvI"
      },
      "source": [
        "A instrução \"with\" permite abrir um arquivo (como leitura, escrita, etc.), colocar o conteúdo dentro de uma viariável e executar alguma operação. Após isso o arquivo é fechado automaticamante (não precisa mais usar a intrução close)."
      ]
    },
    {
      "cell_type": "code",
      "metadata": {
        "id": "3ZUvDaN94abW",
        "colab": {
          "base_uri": "https://localhost:8080/"
        },
        "outputId": "b3c8b3c1-78a1-4ebb-9d54-5d0c859ea964"
      },
      "source": [
        "with open('frases.txt') as file:\n",
        "    print(file.read())\n",
        "\n",
        "# Abrimos o arquivo, colocamos na variável file2 e fizemos a operação de leitura\n",
        "# do conteúdo do arquivo como um todo"
      ],
      "execution_count": 145,
      "outputs": [
        {
          "output_type": "stream",
          "text": [
            "Primeira linhaSegunda linhaTerceira linha\n"
          ],
          "name": "stdout"
        }
      ]
    },
    {
      "cell_type": "code",
      "metadata": {
        "id": "-NnzxRIy4yE9"
      },
      "source": [
        "# Verificando que o arquivo foi fechado. Python daria a mensagem de que o \n",
        "# arquivo está fechado\n",
        "\n",
        "#file.read()"
      ],
      "execution_count": 146,
      "outputs": []
    },
    {
      "cell_type": "code",
      "metadata": {
        "id": "HJZJxEIi44FZ"
      },
      "source": [
        "# Outro exemplo:\n",
        "\n",
        "with open('drive/My Drive/automobile.csv') as file2:\n",
        "    linhas = file2.readlines()\n",
        "\n",
        "# Abrimos o arquivo \"automobile.csv\", colocamos o conteúdo dentro de \"file2\" \n",
        "# (objeto do tipo arquivo), fizemos com que a variável \"data\" (objeto do tipo \n",
        "# lista) receba as linhas do arquivo e fechamos o mesmo implicitamente"
      ],
      "execution_count": 147,
      "outputs": []
    },
    {
      "cell_type": "code",
      "metadata": {
        "id": "0CjwIevYNBqx",
        "colab": {
          "base_uri": "https://localhost:8080/"
        },
        "outputId": "f0a8ea78-9314-4cd0-8736-6561c0a2f8fc"
      },
      "source": [
        "# Imprimimos a lista de conteúdo das linhas do arquivo\n",
        "\n",
        "print(linhas)"
      ],
      "execution_count": 148,
      "outputs": [
        {
          "output_type": "stream",
          "text": [
            "['symboling,normalized-losses,make,fuel-type,aspiration\\n', '3,?,alfa-romero,gas,std\\n', '3,?,alfa-romero,gas,std\\n', '1,?,alfa-romero,gas,std\\n', '2,164,audi,gas,std\\n', '2,164,audi,gas,std\\n', '2,?,audi,gas,std\\n', '1,158,audi,gas,std\\n', '1,?,audi,gas,std\\n', '1,158,audi,gas,turbo\\n', '0,0,0,0,0\\n', '2,192,bmw,gas,std\\n', '0,192,bmw,gas,std\\n', '0,188,bmw,gas,std\\n', '0,188,bmw,gas,std\\n', '1,?,bmw,gas,std\\n', '0,?,bmw,gas,std\\n', '0,?,bmw,gas,std\\n', '0,?,bmw,gas,std\\n', '2,121,chevrolet,gas,std\\n', '1,98,chevrolet,gas,std\\n', '0,81,chevrolet,gas,std\\n', '1,118,dodge,gas,std\\n', '1,118,dodge,gas,std\\n', '1,118,dodge,gas,turbo\\n', '1,148,dodge,gas,std\\n', '1,148,dodge,gas,std\\n', '1,148,dodge,gas,std\\n', '1,148,dodge,gas,turbo\\n', '-1,110,dodge,gas,std\\n', '3,145,dodge,gas,turbo\\n', '2,137,honda,gas,std\\n', '2,137,honda,gas,std\\n', '1,101,honda,gas,std\\n', '1,101,honda,gas,std\\n', '1,101,honda,gas,std\\n', '0,110,honda,gas,std\\n', '0,78,honda,gas,std\\n', '0,106,honda,gas,std\\n', '0,106,honda,gas,std\\n', '0,85,honda,gas,std\\n', '0,85,honda,gas,std\\n', '0,85,honda,gas,std\\n', '1,107,honda,gas,std\\n', '0,?,isuzu,gas,std\\n', '0,0,0,0,0\\n', '0,0,0,0,0\\n', '2,?,isuzu,gas,std\\n', '0,145,jaguar,gas,std\\n', '0,?,jaguar,gas,std\\n', '0,?,jaguar,gas,std\\n', '1,104,mazda,gas,std\\n', '1,104,mazda,gas,std\\n', '1,104,mazda,gas,std\\n', '1,113,mazda,gas,std\\n', '1,113,mazda,gas,std\\n', '3,150,mazda,gas,std\\n', '3,150,mazda,gas,std\\n', '3,150,mazda,gas,std\\n', '3,150,mazda,gas,std\\n', '1,129,mazda,gas,std\\n', '0,115,mazda,gas,std\\n', '1,129,mazda,gas,std\\n', '0,115,mazda,gas,std\\n', '0,?,mazda,diesel,std\\n', '0,115,mazda,gas,std\\n', '0,118,mazda,gas,std\\n', '0,?,mazda,diesel,std\\n', '-1,93,mercedes-benz,diesel,turbo\\n', '-1,93,mercedes-benz,diesel,turbo\\n', '0,93,mercedes-benz,diesel,turbo\\n', '-1,93,mercedes-benz,diesel,turbo\\n', '-1,?,mercedes-benz,gas,std\\n', '3,142,mercedes-benz,gas,std\\n', '0,?,mercedes-benz,gas,std\\n', '1,?,mercedes-benz,gas,std\\n', '1,?,mercury,gas,turbo\\n', '2,161,mitsubishi,gas,std\\n', '2,161,mitsubishi,gas,std\\n', '2,161,mitsubishi,gas,std\\n', '1,161,mitsubishi,gas,turbo\\n', '3,153,mitsubishi,gas,turbo\\n', '3,153,mitsubishi,gas,std\\n', '3,?,mitsubishi,gas,turbo\\n', '3,?,mitsubishi,gas,turbo\\n', '3,?,mitsubishi,gas,turbo\\n', '1,125,mitsubishi,gas,std\\n', '1,125,mitsubishi,gas,std\\n', '1,125,mitsubishi,gas,turbo\\n', '-1,137,mitsubishi,gas,std\\n', '1,128,nissan,gas,std\\n', '1,128,nissan,diesel,std\\n', '1,128,nissan,gas,std\\n', '1,122,nissan,gas,std\\n', '1,103,nissan,gas,std\\n', '1,128,nissan,gas,std\\n', '1,128,nissan,gas,std\\n', '1,122,nissan,gas,std\\n', '1,103,nissan,gas,std\\n', '2,168,nissan,gas,std\\n', '0,106,nissan,gas,std\\n', '0,106,nissan,gas,std\\n', '0,128,nissan,gas,std\\n', '0,108,nissan,gas,std\\n', '0,108,nissan,gas,std\\n', '3,194,nissan,gas,std\\n', '3,194,nissan,gas,turbo\\n', '1,231,nissan,gas,std\\n', '0,161,peugot,gas,std\\n', '0,161,peugot,diesel,turbo\\n', '0,?,peugot,gas,std\\n', '0,?,peugot,diesel,turbo\\n', '0,161,peugot,gas,std\\n', '0,161,peugot,diesel,turbo\\n', '0,?,peugot,gas,std\\n', '0,?,peugot,diesel,turbo\\n', '0,161,peugot,gas,std\\n', '0,161,peugot,diesel,turbo\\n', '0,161,peugot,gas,turbo\\n', '1,119,plymouth,gas,std\\n', '1,119,plymouth,gas,turbo\\n', '1,154,plymouth,gas,std\\n', '1,154,plymouth,gas,std\\n', '1,154,plymouth,gas,std\\n', '-1,74,plymouth,gas,std\\n', '3,?,plymouth,gas,turbo\\n', '3,186,porsche,gas,std\\n', '3,?,porsche,gas,std\\n', '3,?,porsche,gas,std\\n', '3,?,porsche,gas,std\\n', '0,0,0,0,0\\n', '0,?,renault,gas,std\\n', '2,?,renault,gas,std\\n', '3,150,saab,gas,std\\n', '2,104,saab,gas,std\\n', '3,150,saab,gas,std\\n', '2,104,saab,gas,std\\n', '3,150,saab,gas,turbo\\n', '2,104,saab,gas,turbo\\n', '2,83,subaru,gas,std\\n', '2,83,subaru,gas,std\\n', '2,83,subaru,gas,std\\n', '0,102,subaru,gas,std\\n', '0,102,subaru,gas,std\\n', '0,102,subaru,gas,std\\n', '0,102,subaru,gas,std\\n', '0,102,subaru,gas,turbo\\n', '0,89,subaru,gas,std\\n', '0,89,subaru,gas,std\\n', '0,85,subaru,gas,std\\n', '0,85,subaru,gas,turbo\\n', '1,87,toyota,gas,std\\n', '1,87,toyota,gas,std\\n', '1,74,toyota,gas,std\\n', '0,77,toyota,gas,std\\n', '0,81,toyota,gas,std\\n', '0,91,toyota,gas,std\\n', '0,91,toyota,gas,std\\n', '0,91,toyota,gas,std\\n', '0,91,toyota,diesel,std\\n', '0,91,toyota,diesel,std\\n', '0,91,toyota,gas,std\\n', '0,91,toyota,gas,std\\n', '0,91,toyota,gas,std\\n', '1,168,toyota,gas,std\\n', '1,168,toyota,gas,std\\n', '1,168,toyota,gas,std\\n', '1,168,toyota,gas,std\\n', '2,134,toyota,gas,std\\n', '2,134,toyota,gas,std\\n', '2,134,toyota,gas,std\\n', '2,134,toyota,gas,std\\n', '2,134,toyota,gas,std\\n', '2,134,toyota,gas,std\\n', '-1,65,toyota,gas,std\\n', '-1,65,toyota,diesel,turbo\\n', '-1,65,toyota,gas,std\\n', '-1,65,toyota,gas,std\\n', '-1,65,toyota,gas,std\\n', '3,197,toyota,gas,std\\n', '3,197,toyota,gas,std\\n', '-1,90,toyota,gas,std\\n', '-1,?,toyota,gas,std\\n', '2,122,volkswagen,diesel,std\\n', '2,122,volkswagen,gas,std\\n', '2,94,volkswagen,diesel,std\\n', '2,94,volkswagen,gas,std\\n', '2,94,volkswagen,gas,std\\n', '2,94,volkswagen,diesel,turbo\\n', '2,94,volkswagen,gas,std\\n', '3,?,volkswagen,gas,std\\n', '3,256,volkswagen,gas,std\\n', '0,?,volkswagen,gas,std\\n', '0,?,volkswagen,diesel,turbo\\n', '0,?,volkswagen,gas,std\\n', '-2,103,volvo,gas,std\\n', '-1,74,volvo,gas,std\\n', '-2,103,volvo,gas,std\\n', '-1,74,volvo,gas,std\\n', '-2,103,volvo,gas,turbo\\n', '-1,74,volvo,gas,turbo\\n', '-1,95,volvo,gas,std\\n', '-1,95,volvo,gas,turbo\\n', '-1,95,volvo,gas,std\\n', '-1,95,volvo,diesel,turbo\\n', '-1,95,volvo,gas,turbo\\n']\n"
          ],
          "name": "stdout"
        }
      ]
    },
    {
      "cell_type": "markdown",
      "metadata": {
        "id": "JLHrnWAkOMjJ"
      },
      "source": [
        "##**Separando Palavras por Linhas**"
      ]
    },
    {
      "cell_type": "code",
      "metadata": {
        "id": "hMYoiII-OOqy",
        "colab": {
          "base_uri": "https://localhost:8080/"
        },
        "outputId": "be97fe86-a02f-45da-f746-31dd8fedf751"
      },
      "source": [
        "# Método split: Retorna uma lista de strings depois de quebrar a string \n",
        "# fornecida pelo separador especificado.\n",
        "\n",
        "# Separamos os elementos de cada linha\n",
        "\n",
        "for linha in linhas:\n",
        "  print(linha.split(','))"
      ],
      "execution_count": 149,
      "outputs": [
        {
          "output_type": "stream",
          "text": [
            "['symboling', 'normalized-losses', 'make', 'fuel-type', 'aspiration\\n']\n",
            "['3', '?', 'alfa-romero', 'gas', 'std\\n']\n",
            "['3', '?', 'alfa-romero', 'gas', 'std\\n']\n",
            "['1', '?', 'alfa-romero', 'gas', 'std\\n']\n",
            "['2', '164', 'audi', 'gas', 'std\\n']\n",
            "['2', '164', 'audi', 'gas', 'std\\n']\n",
            "['2', '?', 'audi', 'gas', 'std\\n']\n",
            "['1', '158', 'audi', 'gas', 'std\\n']\n",
            "['1', '?', 'audi', 'gas', 'std\\n']\n",
            "['1', '158', 'audi', 'gas', 'turbo\\n']\n",
            "['0', '0', '0', '0', '0\\n']\n",
            "['2', '192', 'bmw', 'gas', 'std\\n']\n",
            "['0', '192', 'bmw', 'gas', 'std\\n']\n",
            "['0', '188', 'bmw', 'gas', 'std\\n']\n",
            "['0', '188', 'bmw', 'gas', 'std\\n']\n",
            "['1', '?', 'bmw', 'gas', 'std\\n']\n",
            "['0', '?', 'bmw', 'gas', 'std\\n']\n",
            "['0', '?', 'bmw', 'gas', 'std\\n']\n",
            "['0', '?', 'bmw', 'gas', 'std\\n']\n",
            "['2', '121', 'chevrolet', 'gas', 'std\\n']\n",
            "['1', '98', 'chevrolet', 'gas', 'std\\n']\n",
            "['0', '81', 'chevrolet', 'gas', 'std\\n']\n",
            "['1', '118', 'dodge', 'gas', 'std\\n']\n",
            "['1', '118', 'dodge', 'gas', 'std\\n']\n",
            "['1', '118', 'dodge', 'gas', 'turbo\\n']\n",
            "['1', '148', 'dodge', 'gas', 'std\\n']\n",
            "['1', '148', 'dodge', 'gas', 'std\\n']\n",
            "['1', '148', 'dodge', 'gas', 'std\\n']\n",
            "['1', '148', 'dodge', 'gas', 'turbo\\n']\n",
            "['-1', '110', 'dodge', 'gas', 'std\\n']\n",
            "['3', '145', 'dodge', 'gas', 'turbo\\n']\n",
            "['2', '137', 'honda', 'gas', 'std\\n']\n",
            "['2', '137', 'honda', 'gas', 'std\\n']\n",
            "['1', '101', 'honda', 'gas', 'std\\n']\n",
            "['1', '101', 'honda', 'gas', 'std\\n']\n",
            "['1', '101', 'honda', 'gas', 'std\\n']\n",
            "['0', '110', 'honda', 'gas', 'std\\n']\n",
            "['0', '78', 'honda', 'gas', 'std\\n']\n",
            "['0', '106', 'honda', 'gas', 'std\\n']\n",
            "['0', '106', 'honda', 'gas', 'std\\n']\n",
            "['0', '85', 'honda', 'gas', 'std\\n']\n",
            "['0', '85', 'honda', 'gas', 'std\\n']\n",
            "['0', '85', 'honda', 'gas', 'std\\n']\n",
            "['1', '107', 'honda', 'gas', 'std\\n']\n",
            "['0', '?', 'isuzu', 'gas', 'std\\n']\n",
            "['0', '0', '0', '0', '0\\n']\n",
            "['0', '0', '0', '0', '0\\n']\n",
            "['2', '?', 'isuzu', 'gas', 'std\\n']\n",
            "['0', '145', 'jaguar', 'gas', 'std\\n']\n",
            "['0', '?', 'jaguar', 'gas', 'std\\n']\n",
            "['0', '?', 'jaguar', 'gas', 'std\\n']\n",
            "['1', '104', 'mazda', 'gas', 'std\\n']\n",
            "['1', '104', 'mazda', 'gas', 'std\\n']\n",
            "['1', '104', 'mazda', 'gas', 'std\\n']\n",
            "['1', '113', 'mazda', 'gas', 'std\\n']\n",
            "['1', '113', 'mazda', 'gas', 'std\\n']\n",
            "['3', '150', 'mazda', 'gas', 'std\\n']\n",
            "['3', '150', 'mazda', 'gas', 'std\\n']\n",
            "['3', '150', 'mazda', 'gas', 'std\\n']\n",
            "['3', '150', 'mazda', 'gas', 'std\\n']\n",
            "['1', '129', 'mazda', 'gas', 'std\\n']\n",
            "['0', '115', 'mazda', 'gas', 'std\\n']\n",
            "['1', '129', 'mazda', 'gas', 'std\\n']\n",
            "['0', '115', 'mazda', 'gas', 'std\\n']\n",
            "['0', '?', 'mazda', 'diesel', 'std\\n']\n",
            "['0', '115', 'mazda', 'gas', 'std\\n']\n",
            "['0', '118', 'mazda', 'gas', 'std\\n']\n",
            "['0', '?', 'mazda', 'diesel', 'std\\n']\n",
            "['-1', '93', 'mercedes-benz', 'diesel', 'turbo\\n']\n",
            "['-1', '93', 'mercedes-benz', 'diesel', 'turbo\\n']\n",
            "['0', '93', 'mercedes-benz', 'diesel', 'turbo\\n']\n",
            "['-1', '93', 'mercedes-benz', 'diesel', 'turbo\\n']\n",
            "['-1', '?', 'mercedes-benz', 'gas', 'std\\n']\n",
            "['3', '142', 'mercedes-benz', 'gas', 'std\\n']\n",
            "['0', '?', 'mercedes-benz', 'gas', 'std\\n']\n",
            "['1', '?', 'mercedes-benz', 'gas', 'std\\n']\n",
            "['1', '?', 'mercury', 'gas', 'turbo\\n']\n",
            "['2', '161', 'mitsubishi', 'gas', 'std\\n']\n",
            "['2', '161', 'mitsubishi', 'gas', 'std\\n']\n",
            "['2', '161', 'mitsubishi', 'gas', 'std\\n']\n",
            "['1', '161', 'mitsubishi', 'gas', 'turbo\\n']\n",
            "['3', '153', 'mitsubishi', 'gas', 'turbo\\n']\n",
            "['3', '153', 'mitsubishi', 'gas', 'std\\n']\n",
            "['3', '?', 'mitsubishi', 'gas', 'turbo\\n']\n",
            "['3', '?', 'mitsubishi', 'gas', 'turbo\\n']\n",
            "['3', '?', 'mitsubishi', 'gas', 'turbo\\n']\n",
            "['1', '125', 'mitsubishi', 'gas', 'std\\n']\n",
            "['1', '125', 'mitsubishi', 'gas', 'std\\n']\n",
            "['1', '125', 'mitsubishi', 'gas', 'turbo\\n']\n",
            "['-1', '137', 'mitsubishi', 'gas', 'std\\n']\n",
            "['1', '128', 'nissan', 'gas', 'std\\n']\n",
            "['1', '128', 'nissan', 'diesel', 'std\\n']\n",
            "['1', '128', 'nissan', 'gas', 'std\\n']\n",
            "['1', '122', 'nissan', 'gas', 'std\\n']\n",
            "['1', '103', 'nissan', 'gas', 'std\\n']\n",
            "['1', '128', 'nissan', 'gas', 'std\\n']\n",
            "['1', '128', 'nissan', 'gas', 'std\\n']\n",
            "['1', '122', 'nissan', 'gas', 'std\\n']\n",
            "['1', '103', 'nissan', 'gas', 'std\\n']\n",
            "['2', '168', 'nissan', 'gas', 'std\\n']\n",
            "['0', '106', 'nissan', 'gas', 'std\\n']\n",
            "['0', '106', 'nissan', 'gas', 'std\\n']\n",
            "['0', '128', 'nissan', 'gas', 'std\\n']\n",
            "['0', '108', 'nissan', 'gas', 'std\\n']\n",
            "['0', '108', 'nissan', 'gas', 'std\\n']\n",
            "['3', '194', 'nissan', 'gas', 'std\\n']\n",
            "['3', '194', 'nissan', 'gas', 'turbo\\n']\n",
            "['1', '231', 'nissan', 'gas', 'std\\n']\n",
            "['0', '161', 'peugot', 'gas', 'std\\n']\n",
            "['0', '161', 'peugot', 'diesel', 'turbo\\n']\n",
            "['0', '?', 'peugot', 'gas', 'std\\n']\n",
            "['0', '?', 'peugot', 'diesel', 'turbo\\n']\n",
            "['0', '161', 'peugot', 'gas', 'std\\n']\n",
            "['0', '161', 'peugot', 'diesel', 'turbo\\n']\n",
            "['0', '?', 'peugot', 'gas', 'std\\n']\n",
            "['0', '?', 'peugot', 'diesel', 'turbo\\n']\n",
            "['0', '161', 'peugot', 'gas', 'std\\n']\n",
            "['0', '161', 'peugot', 'diesel', 'turbo\\n']\n",
            "['0', '161', 'peugot', 'gas', 'turbo\\n']\n",
            "['1', '119', 'plymouth', 'gas', 'std\\n']\n",
            "['1', '119', 'plymouth', 'gas', 'turbo\\n']\n",
            "['1', '154', 'plymouth', 'gas', 'std\\n']\n",
            "['1', '154', 'plymouth', 'gas', 'std\\n']\n",
            "['1', '154', 'plymouth', 'gas', 'std\\n']\n",
            "['-1', '74', 'plymouth', 'gas', 'std\\n']\n",
            "['3', '?', 'plymouth', 'gas', 'turbo\\n']\n",
            "['3', '186', 'porsche', 'gas', 'std\\n']\n",
            "['3', '?', 'porsche', 'gas', 'std\\n']\n",
            "['3', '?', 'porsche', 'gas', 'std\\n']\n",
            "['3', '?', 'porsche', 'gas', 'std\\n']\n",
            "['0', '0', '0', '0', '0\\n']\n",
            "['0', '?', 'renault', 'gas', 'std\\n']\n",
            "['2', '?', 'renault', 'gas', 'std\\n']\n",
            "['3', '150', 'saab', 'gas', 'std\\n']\n",
            "['2', '104', 'saab', 'gas', 'std\\n']\n",
            "['3', '150', 'saab', 'gas', 'std\\n']\n",
            "['2', '104', 'saab', 'gas', 'std\\n']\n",
            "['3', '150', 'saab', 'gas', 'turbo\\n']\n",
            "['2', '104', 'saab', 'gas', 'turbo\\n']\n",
            "['2', '83', 'subaru', 'gas', 'std\\n']\n",
            "['2', '83', 'subaru', 'gas', 'std\\n']\n",
            "['2', '83', 'subaru', 'gas', 'std\\n']\n",
            "['0', '102', 'subaru', 'gas', 'std\\n']\n",
            "['0', '102', 'subaru', 'gas', 'std\\n']\n",
            "['0', '102', 'subaru', 'gas', 'std\\n']\n",
            "['0', '102', 'subaru', 'gas', 'std\\n']\n",
            "['0', '102', 'subaru', 'gas', 'turbo\\n']\n",
            "['0', '89', 'subaru', 'gas', 'std\\n']\n",
            "['0', '89', 'subaru', 'gas', 'std\\n']\n",
            "['0', '85', 'subaru', 'gas', 'std\\n']\n",
            "['0', '85', 'subaru', 'gas', 'turbo\\n']\n",
            "['1', '87', 'toyota', 'gas', 'std\\n']\n",
            "['1', '87', 'toyota', 'gas', 'std\\n']\n",
            "['1', '74', 'toyota', 'gas', 'std\\n']\n",
            "['0', '77', 'toyota', 'gas', 'std\\n']\n",
            "['0', '81', 'toyota', 'gas', 'std\\n']\n",
            "['0', '91', 'toyota', 'gas', 'std\\n']\n",
            "['0', '91', 'toyota', 'gas', 'std\\n']\n",
            "['0', '91', 'toyota', 'gas', 'std\\n']\n",
            "['0', '91', 'toyota', 'diesel', 'std\\n']\n",
            "['0', '91', 'toyota', 'diesel', 'std\\n']\n",
            "['0', '91', 'toyota', 'gas', 'std\\n']\n",
            "['0', '91', 'toyota', 'gas', 'std\\n']\n",
            "['0', '91', 'toyota', 'gas', 'std\\n']\n",
            "['1', '168', 'toyota', 'gas', 'std\\n']\n",
            "['1', '168', 'toyota', 'gas', 'std\\n']\n",
            "['1', '168', 'toyota', 'gas', 'std\\n']\n",
            "['1', '168', 'toyota', 'gas', 'std\\n']\n",
            "['2', '134', 'toyota', 'gas', 'std\\n']\n",
            "['2', '134', 'toyota', 'gas', 'std\\n']\n",
            "['2', '134', 'toyota', 'gas', 'std\\n']\n",
            "['2', '134', 'toyota', 'gas', 'std\\n']\n",
            "['2', '134', 'toyota', 'gas', 'std\\n']\n",
            "['2', '134', 'toyota', 'gas', 'std\\n']\n",
            "['-1', '65', 'toyota', 'gas', 'std\\n']\n",
            "['-1', '65', 'toyota', 'diesel', 'turbo\\n']\n",
            "['-1', '65', 'toyota', 'gas', 'std\\n']\n",
            "['-1', '65', 'toyota', 'gas', 'std\\n']\n",
            "['-1', '65', 'toyota', 'gas', 'std\\n']\n",
            "['3', '197', 'toyota', 'gas', 'std\\n']\n",
            "['3', '197', 'toyota', 'gas', 'std\\n']\n",
            "['-1', '90', 'toyota', 'gas', 'std\\n']\n",
            "['-1', '?', 'toyota', 'gas', 'std\\n']\n",
            "['2', '122', 'volkswagen', 'diesel', 'std\\n']\n",
            "['2', '122', 'volkswagen', 'gas', 'std\\n']\n",
            "['2', '94', 'volkswagen', 'diesel', 'std\\n']\n",
            "['2', '94', 'volkswagen', 'gas', 'std\\n']\n",
            "['2', '94', 'volkswagen', 'gas', 'std\\n']\n",
            "['2', '94', 'volkswagen', 'diesel', 'turbo\\n']\n",
            "['2', '94', 'volkswagen', 'gas', 'std\\n']\n",
            "['3', '?', 'volkswagen', 'gas', 'std\\n']\n",
            "['3', '256', 'volkswagen', 'gas', 'std\\n']\n",
            "['0', '?', 'volkswagen', 'gas', 'std\\n']\n",
            "['0', '?', 'volkswagen', 'diesel', 'turbo\\n']\n",
            "['0', '?', 'volkswagen', 'gas', 'std\\n']\n",
            "['-2', '103', 'volvo', 'gas', 'std\\n']\n",
            "['-1', '74', 'volvo', 'gas', 'std\\n']\n",
            "['-2', '103', 'volvo', 'gas', 'std\\n']\n",
            "['-1', '74', 'volvo', 'gas', 'std\\n']\n",
            "['-2', '103', 'volvo', 'gas', 'turbo\\n']\n",
            "['-1', '74', 'volvo', 'gas', 'turbo\\n']\n",
            "['-1', '95', 'volvo', 'gas', 'std\\n']\n",
            "['-1', '95', 'volvo', 'gas', 'turbo\\n']\n",
            "['-1', '95', 'volvo', 'gas', 'std\\n']\n",
            "['-1', '95', 'volvo', 'diesel', 'turbo\\n']\n",
            "['-1', '95', 'volvo', 'gas', 'turbo\\n']\n"
          ],
          "name": "stdout"
        }
      ]
    }
  ]
}