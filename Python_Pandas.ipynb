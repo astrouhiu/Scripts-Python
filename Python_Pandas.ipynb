{
 "cells": [
  {
   "cell_type": "markdown",
   "metadata": {
    "id": "5geon9IguzLH"
   },
   "source": [
    "# Biblioteca Pandas"
   ]
  },
  {
   "cell_type": "raw",
   "metadata": {},
   "source": [
    "O Pandas é uma biblioteca do Python utilizada para análise e manipulação de dados. Nos permite trabalhar de forma rápida e eficiente com arquivos do tipo csv, excel, txt, etc. "
   ]
  },
  {
   "cell_type": "markdown",
   "metadata": {},
   "source": [
    "## Lendo um arquivo csv"
   ]
  },
  {
   "cell_type": "markdown",
   "metadata": {},
   "source": [
    "Iremos usar o arquivo da base de dados do Kaggle (kc_house_data.csv)."
   ]
  },
  {
   "cell_type": "code",
   "execution_count": 1,
   "metadata": {
    "id": "gGUrHmQou1M2"
   },
   "outputs": [],
   "source": [
    "# Importando o pandas\n",
    "import pandas as pd"
   ]
  },
  {
   "cell_type": "code",
   "execution_count": 2,
   "metadata": {
    "colab": {
     "base_uri": "https://localhost:8080/"
    },
    "id": "RrFADKJlu4kH",
    "outputId": "b8c310dd-32b7-4f7b-ac95-6f4c0f3404e1"
   },
   "outputs": [
    {
     "data": {
      "text/html": [
       "<div>\n",
       "<style scoped>\n",
       "    .dataframe tbody tr th:only-of-type {\n",
       "        vertical-align: middle;\n",
       "    }\n",
       "\n",
       "    .dataframe tbody tr th {\n",
       "        vertical-align: top;\n",
       "    }\n",
       "\n",
       "    .dataframe thead th {\n",
       "        text-align: right;\n",
       "    }\n",
       "</style>\n",
       "<table border=\"1\" class=\"dataframe\">\n",
       "  <thead>\n",
       "    <tr style=\"text-align: right;\">\n",
       "      <th></th>\n",
       "      <th>id</th>\n",
       "      <th>date</th>\n",
       "      <th>price</th>\n",
       "      <th>bedrooms</th>\n",
       "      <th>bathrooms</th>\n",
       "      <th>sqft_living</th>\n",
       "      <th>sqft_lot</th>\n",
       "      <th>floors</th>\n",
       "      <th>waterfront</th>\n",
       "      <th>view</th>\n",
       "      <th>...</th>\n",
       "      <th>grade</th>\n",
       "      <th>sqft_above</th>\n",
       "      <th>sqft_basement</th>\n",
       "      <th>yr_built</th>\n",
       "      <th>yr_renovated</th>\n",
       "      <th>zipcode</th>\n",
       "      <th>lat</th>\n",
       "      <th>long</th>\n",
       "      <th>sqft_living15</th>\n",
       "      <th>sqft_lot15</th>\n",
       "    </tr>\n",
       "  </thead>\n",
       "  <tbody>\n",
       "    <tr>\n",
       "      <th>0</th>\n",
       "      <td>7129300520</td>\n",
       "      <td>20141013T000000</td>\n",
       "      <td>221900.0</td>\n",
       "      <td>3.0</td>\n",
       "      <td>1.00</td>\n",
       "      <td>1180</td>\n",
       "      <td>5650</td>\n",
       "      <td>1.0</td>\n",
       "      <td>0</td>\n",
       "      <td>0</td>\n",
       "      <td>...</td>\n",
       "      <td>7</td>\n",
       "      <td>1180</td>\n",
       "      <td>0</td>\n",
       "      <td>1955</td>\n",
       "      <td>0</td>\n",
       "      <td>98178</td>\n",
       "      <td>47.5112</td>\n",
       "      <td>-122.257</td>\n",
       "      <td>1340</td>\n",
       "      <td>5650</td>\n",
       "    </tr>\n",
       "    <tr>\n",
       "      <th>1</th>\n",
       "      <td>6414100192</td>\n",
       "      <td>20141209T000000</td>\n",
       "      <td>538000.0</td>\n",
       "      <td>3.0</td>\n",
       "      <td>2.25</td>\n",
       "      <td>2570</td>\n",
       "      <td>7242</td>\n",
       "      <td>2.0</td>\n",
       "      <td>0</td>\n",
       "      <td>0</td>\n",
       "      <td>...</td>\n",
       "      <td>7</td>\n",
       "      <td>2170</td>\n",
       "      <td>400</td>\n",
       "      <td>1951</td>\n",
       "      <td>1991</td>\n",
       "      <td>98125</td>\n",
       "      <td>47.7210</td>\n",
       "      <td>-122.319</td>\n",
       "      <td>1690</td>\n",
       "      <td>7639</td>\n",
       "    </tr>\n",
       "    <tr>\n",
       "      <th>2</th>\n",
       "      <td>5631500400</td>\n",
       "      <td>20150225T000000</td>\n",
       "      <td>180000.0</td>\n",
       "      <td>2.0</td>\n",
       "      <td>1.00</td>\n",
       "      <td>770</td>\n",
       "      <td>10000</td>\n",
       "      <td>1.0</td>\n",
       "      <td>0</td>\n",
       "      <td>0</td>\n",
       "      <td>...</td>\n",
       "      <td>6</td>\n",
       "      <td>770</td>\n",
       "      <td>0</td>\n",
       "      <td>1933</td>\n",
       "      <td>0</td>\n",
       "      <td>98028</td>\n",
       "      <td>47.7379</td>\n",
       "      <td>-122.233</td>\n",
       "      <td>2720</td>\n",
       "      <td>8062</td>\n",
       "    </tr>\n",
       "    <tr>\n",
       "      <th>3</th>\n",
       "      <td>2487200875</td>\n",
       "      <td>20141209T000000</td>\n",
       "      <td>604000.0</td>\n",
       "      <td>4.0</td>\n",
       "      <td>3.00</td>\n",
       "      <td>1960</td>\n",
       "      <td>5000</td>\n",
       "      <td>1.0</td>\n",
       "      <td>0</td>\n",
       "      <td>0</td>\n",
       "      <td>...</td>\n",
       "      <td>7</td>\n",
       "      <td>1050</td>\n",
       "      <td>910</td>\n",
       "      <td>1965</td>\n",
       "      <td>0</td>\n",
       "      <td>98136</td>\n",
       "      <td>47.5208</td>\n",
       "      <td>-122.393</td>\n",
       "      <td>1360</td>\n",
       "      <td>5000</td>\n",
       "    </tr>\n",
       "    <tr>\n",
       "      <th>4</th>\n",
       "      <td>1954400510</td>\n",
       "      <td>20150218T000000</td>\n",
       "      <td>510000.0</td>\n",
       "      <td>3.0</td>\n",
       "      <td>2.00</td>\n",
       "      <td>1680</td>\n",
       "      <td>8080</td>\n",
       "      <td>1.0</td>\n",
       "      <td>0</td>\n",
       "      <td>0</td>\n",
       "      <td>...</td>\n",
       "      <td>8</td>\n",
       "      <td>1680</td>\n",
       "      <td>0</td>\n",
       "      <td>1987</td>\n",
       "      <td>0</td>\n",
       "      <td>98074</td>\n",
       "      <td>47.6168</td>\n",
       "      <td>-122.045</td>\n",
       "      <td>1800</td>\n",
       "      <td>7503</td>\n",
       "    </tr>\n",
       "    <tr>\n",
       "      <th>...</th>\n",
       "      <td>...</td>\n",
       "      <td>...</td>\n",
       "      <td>...</td>\n",
       "      <td>...</td>\n",
       "      <td>...</td>\n",
       "      <td>...</td>\n",
       "      <td>...</td>\n",
       "      <td>...</td>\n",
       "      <td>...</td>\n",
       "      <td>...</td>\n",
       "      <td>...</td>\n",
       "      <td>...</td>\n",
       "      <td>...</td>\n",
       "      <td>...</td>\n",
       "      <td>...</td>\n",
       "      <td>...</td>\n",
       "      <td>...</td>\n",
       "      <td>...</td>\n",
       "      <td>...</td>\n",
       "      <td>...</td>\n",
       "      <td>...</td>\n",
       "    </tr>\n",
       "    <tr>\n",
       "      <th>21608</th>\n",
       "      <td>263000018</td>\n",
       "      <td>20140521T000000</td>\n",
       "      <td>360000.0</td>\n",
       "      <td>3.0</td>\n",
       "      <td>2.50</td>\n",
       "      <td>1530</td>\n",
       "      <td>1131</td>\n",
       "      <td>3.0</td>\n",
       "      <td>0</td>\n",
       "      <td>0</td>\n",
       "      <td>...</td>\n",
       "      <td>8</td>\n",
       "      <td>1530</td>\n",
       "      <td>0</td>\n",
       "      <td>2009</td>\n",
       "      <td>0</td>\n",
       "      <td>98103</td>\n",
       "      <td>47.6993</td>\n",
       "      <td>-122.346</td>\n",
       "      <td>1530</td>\n",
       "      <td>1509</td>\n",
       "    </tr>\n",
       "    <tr>\n",
       "      <th>21609</th>\n",
       "      <td>6600060120</td>\n",
       "      <td>20150223T000000</td>\n",
       "      <td>400000.0</td>\n",
       "      <td>4.0</td>\n",
       "      <td>2.50</td>\n",
       "      <td>2310</td>\n",
       "      <td>5813</td>\n",
       "      <td>2.0</td>\n",
       "      <td>0</td>\n",
       "      <td>0</td>\n",
       "      <td>...</td>\n",
       "      <td>8</td>\n",
       "      <td>2310</td>\n",
       "      <td>0</td>\n",
       "      <td>2014</td>\n",
       "      <td>0</td>\n",
       "      <td>98146</td>\n",
       "      <td>47.5107</td>\n",
       "      <td>-122.362</td>\n",
       "      <td>1830</td>\n",
       "      <td>7200</td>\n",
       "    </tr>\n",
       "    <tr>\n",
       "      <th>21610</th>\n",
       "      <td>1523300141</td>\n",
       "      <td>20140623T000000</td>\n",
       "      <td>402101.0</td>\n",
       "      <td>2.0</td>\n",
       "      <td>0.75</td>\n",
       "      <td>1020</td>\n",
       "      <td>1350</td>\n",
       "      <td>2.0</td>\n",
       "      <td>0</td>\n",
       "      <td>0</td>\n",
       "      <td>...</td>\n",
       "      <td>7</td>\n",
       "      <td>1020</td>\n",
       "      <td>0</td>\n",
       "      <td>2009</td>\n",
       "      <td>0</td>\n",
       "      <td>98144</td>\n",
       "      <td>47.5944</td>\n",
       "      <td>-122.299</td>\n",
       "      <td>1020</td>\n",
       "      <td>2007</td>\n",
       "    </tr>\n",
       "    <tr>\n",
       "      <th>21611</th>\n",
       "      <td>291310100</td>\n",
       "      <td>20150116T000000</td>\n",
       "      <td>400000.0</td>\n",
       "      <td>3.0</td>\n",
       "      <td>2.50</td>\n",
       "      <td>1600</td>\n",
       "      <td>2388</td>\n",
       "      <td>2.0</td>\n",
       "      <td>0</td>\n",
       "      <td>0</td>\n",
       "      <td>...</td>\n",
       "      <td>8</td>\n",
       "      <td>1600</td>\n",
       "      <td>0</td>\n",
       "      <td>2004</td>\n",
       "      <td>0</td>\n",
       "      <td>98027</td>\n",
       "      <td>47.5345</td>\n",
       "      <td>-122.069</td>\n",
       "      <td>1410</td>\n",
       "      <td>1287</td>\n",
       "    </tr>\n",
       "    <tr>\n",
       "      <th>21612</th>\n",
       "      <td>1523300157</td>\n",
       "      <td>20141015T000000</td>\n",
       "      <td>325000.0</td>\n",
       "      <td>2.0</td>\n",
       "      <td>0.75</td>\n",
       "      <td>1020</td>\n",
       "      <td>1076</td>\n",
       "      <td>2.0</td>\n",
       "      <td>0</td>\n",
       "      <td>0</td>\n",
       "      <td>...</td>\n",
       "      <td>7</td>\n",
       "      <td>1020</td>\n",
       "      <td>0</td>\n",
       "      <td>2008</td>\n",
       "      <td>0</td>\n",
       "      <td>98144</td>\n",
       "      <td>47.5941</td>\n",
       "      <td>-122.299</td>\n",
       "      <td>1020</td>\n",
       "      <td>1357</td>\n",
       "    </tr>\n",
       "  </tbody>\n",
       "</table>\n",
       "<p>21613 rows × 21 columns</p>\n",
       "</div>"
      ],
      "text/plain": [
       "               id             date     price  bedrooms  bathrooms  \\\n",
       "0      7129300520  20141013T000000  221900.0       3.0       1.00   \n",
       "1      6414100192  20141209T000000  538000.0       3.0       2.25   \n",
       "2      5631500400  20150225T000000  180000.0       2.0       1.00   \n",
       "3      2487200875  20141209T000000  604000.0       4.0       3.00   \n",
       "4      1954400510  20150218T000000  510000.0       3.0       2.00   \n",
       "...           ...              ...       ...       ...        ...   \n",
       "21608   263000018  20140521T000000  360000.0       3.0       2.50   \n",
       "21609  6600060120  20150223T000000  400000.0       4.0       2.50   \n",
       "21610  1523300141  20140623T000000  402101.0       2.0       0.75   \n",
       "21611   291310100  20150116T000000  400000.0       3.0       2.50   \n",
       "21612  1523300157  20141015T000000  325000.0       2.0       0.75   \n",
       "\n",
       "       sqft_living  sqft_lot  floors  waterfront  view  ...  grade  \\\n",
       "0             1180      5650     1.0           0     0  ...      7   \n",
       "1             2570      7242     2.0           0     0  ...      7   \n",
       "2              770     10000     1.0           0     0  ...      6   \n",
       "3             1960      5000     1.0           0     0  ...      7   \n",
       "4             1680      8080     1.0           0     0  ...      8   \n",
       "...            ...       ...     ...         ...   ...  ...    ...   \n",
       "21608         1530      1131     3.0           0     0  ...      8   \n",
       "21609         2310      5813     2.0           0     0  ...      8   \n",
       "21610         1020      1350     2.0           0     0  ...      7   \n",
       "21611         1600      2388     2.0           0     0  ...      8   \n",
       "21612         1020      1076     2.0           0     0  ...      7   \n",
       "\n",
       "       sqft_above  sqft_basement  yr_built  yr_renovated  zipcode      lat  \\\n",
       "0            1180              0      1955             0    98178  47.5112   \n",
       "1            2170            400      1951          1991    98125  47.7210   \n",
       "2             770              0      1933             0    98028  47.7379   \n",
       "3            1050            910      1965             0    98136  47.5208   \n",
       "4            1680              0      1987             0    98074  47.6168   \n",
       "...           ...            ...       ...           ...      ...      ...   \n",
       "21608        1530              0      2009             0    98103  47.6993   \n",
       "21609        2310              0      2014             0    98146  47.5107   \n",
       "21610        1020              0      2009             0    98144  47.5944   \n",
       "21611        1600              0      2004             0    98027  47.5345   \n",
       "21612        1020              0      2008             0    98144  47.5941   \n",
       "\n",
       "          long  sqft_living15  sqft_lot15  \n",
       "0     -122.257           1340        5650  \n",
       "1     -122.319           1690        7639  \n",
       "2     -122.233           2720        8062  \n",
       "3     -122.393           1360        5000  \n",
       "4     -122.045           1800        7503  \n",
       "...        ...            ...         ...  \n",
       "21608 -122.346           1530        1509  \n",
       "21609 -122.362           1830        7200  \n",
       "21610 -122.299           1020        2007  \n",
       "21611 -122.069           1410        1287  \n",
       "21612 -122.299           1020        1357  \n",
       "\n",
       "[21613 rows x 21 columns]"
      ]
     },
     "execution_count": 2,
     "metadata": {},
     "output_type": "execute_result"
    }
   ],
   "source": [
    "# Método read_csv: Permite a leitura de uma base de dados no formato csv no pandas.\n",
    "# Parâmetro sep: Define o separador entre os atributos da base de dados. O padrão é ','.\n",
    "# Parâmetro header: Indica em qual linha estão os nomes das colunas. Se seu arquivo não tem cabeçalho (header) você\n",
    "# precisa definir header = None, neste caso o pandas gerará números sequenciais e os usará como atributos.\n",
    "arquivo = 'kc_house_data.csv'\n",
    "dataset = pd.read_csv(arquivo, sep = ',', header = 0)\n",
    "dataset"
   ]
  },
  {
   "cell_type": "code",
   "execution_count": 3,
   "metadata": {
    "colab": {
     "base_uri": "https://localhost:8080/"
    },
    "id": "9KfIHlukwSLZ",
    "outputId": "4dfe7e7b-c6e6-4e69-f851-de128d3d3a20"
   },
   "outputs": [
    {
     "data": {
      "text/plain": [
       "pandas.core.frame.DataFrame"
      ]
     },
     "execution_count": 3,
     "metadata": {},
     "output_type": "execute_result"
    }
   ],
   "source": [
    "# A variável 'dataset' é do tipo DataFrame, uma estrutura tabular de dados onde linhas podem ter colunas de \n",
    "# diferentes tipos. Cada coluna é um campo ou atributo da tabela e cada linha um registro. \n",
    "type(dataset)"
   ]
  },
  {
   "cell_type": "code",
   "execution_count": 4,
   "metadata": {
    "colab": {
     "base_uri": "https://localhost:8080/",
     "height": 238
    },
    "id": "3eynQ3NBwuQv",
    "outputId": "33dd2c4c-a52f-47e9-a260-30e2a8ef2f8d"
   },
   "outputs": [
    {
     "data": {
      "text/html": [
       "<div>\n",
       "<style scoped>\n",
       "    .dataframe tbody tr th:only-of-type {\n",
       "        vertical-align: middle;\n",
       "    }\n",
       "\n",
       "    .dataframe tbody tr th {\n",
       "        vertical-align: top;\n",
       "    }\n",
       "\n",
       "    .dataframe thead th {\n",
       "        text-align: right;\n",
       "    }\n",
       "</style>\n",
       "<table border=\"1\" class=\"dataframe\">\n",
       "  <thead>\n",
       "    <tr style=\"text-align: right;\">\n",
       "      <th></th>\n",
       "      <th>id</th>\n",
       "      <th>price</th>\n",
       "      <th>bedrooms</th>\n",
       "      <th>bathrooms</th>\n",
       "      <th>sqft_living</th>\n",
       "      <th>sqft_lot</th>\n",
       "      <th>floors</th>\n",
       "      <th>waterfront</th>\n",
       "      <th>view</th>\n",
       "      <th>condition</th>\n",
       "      <th>grade</th>\n",
       "      <th>sqft_above</th>\n",
       "      <th>sqft_basement</th>\n",
       "      <th>yr_built</th>\n",
       "      <th>yr_renovated</th>\n",
       "      <th>zipcode</th>\n",
       "      <th>lat</th>\n",
       "      <th>long</th>\n",
       "      <th>sqft_living15</th>\n",
       "      <th>sqft_lot15</th>\n",
       "    </tr>\n",
       "    <tr>\n",
       "      <th>date</th>\n",
       "      <th></th>\n",
       "      <th></th>\n",
       "      <th></th>\n",
       "      <th></th>\n",
       "      <th></th>\n",
       "      <th></th>\n",
       "      <th></th>\n",
       "      <th></th>\n",
       "      <th></th>\n",
       "      <th></th>\n",
       "      <th></th>\n",
       "      <th></th>\n",
       "      <th></th>\n",
       "      <th></th>\n",
       "      <th></th>\n",
       "      <th></th>\n",
       "      <th></th>\n",
       "      <th></th>\n",
       "      <th></th>\n",
       "      <th></th>\n",
       "    </tr>\n",
       "  </thead>\n",
       "  <tbody>\n",
       "    <tr>\n",
       "      <th>20141013T000000</th>\n",
       "      <td>7129300520</td>\n",
       "      <td>221900.0</td>\n",
       "      <td>3.0</td>\n",
       "      <td>1.00</td>\n",
       "      <td>1180</td>\n",
       "      <td>5650</td>\n",
       "      <td>1.0</td>\n",
       "      <td>0</td>\n",
       "      <td>0</td>\n",
       "      <td>3</td>\n",
       "      <td>7</td>\n",
       "      <td>1180</td>\n",
       "      <td>0</td>\n",
       "      <td>1955</td>\n",
       "      <td>0</td>\n",
       "      <td>98178</td>\n",
       "      <td>47.5112</td>\n",
       "      <td>-122.257</td>\n",
       "      <td>1340</td>\n",
       "      <td>5650</td>\n",
       "    </tr>\n",
       "    <tr>\n",
       "      <th>20141209T000000</th>\n",
       "      <td>6414100192</td>\n",
       "      <td>538000.0</td>\n",
       "      <td>3.0</td>\n",
       "      <td>2.25</td>\n",
       "      <td>2570</td>\n",
       "      <td>7242</td>\n",
       "      <td>2.0</td>\n",
       "      <td>0</td>\n",
       "      <td>0</td>\n",
       "      <td>3</td>\n",
       "      <td>7</td>\n",
       "      <td>2170</td>\n",
       "      <td>400</td>\n",
       "      <td>1951</td>\n",
       "      <td>1991</td>\n",
       "      <td>98125</td>\n",
       "      <td>47.7210</td>\n",
       "      <td>-122.319</td>\n",
       "      <td>1690</td>\n",
       "      <td>7639</td>\n",
       "    </tr>\n",
       "    <tr>\n",
       "      <th>20150225T000000</th>\n",
       "      <td>5631500400</td>\n",
       "      <td>180000.0</td>\n",
       "      <td>2.0</td>\n",
       "      <td>1.00</td>\n",
       "      <td>770</td>\n",
       "      <td>10000</td>\n",
       "      <td>1.0</td>\n",
       "      <td>0</td>\n",
       "      <td>0</td>\n",
       "      <td>3</td>\n",
       "      <td>6</td>\n",
       "      <td>770</td>\n",
       "      <td>0</td>\n",
       "      <td>1933</td>\n",
       "      <td>0</td>\n",
       "      <td>98028</td>\n",
       "      <td>47.7379</td>\n",
       "      <td>-122.233</td>\n",
       "      <td>2720</td>\n",
       "      <td>8062</td>\n",
       "    </tr>\n",
       "    <tr>\n",
       "      <th>20141209T000000</th>\n",
       "      <td>2487200875</td>\n",
       "      <td>604000.0</td>\n",
       "      <td>4.0</td>\n",
       "      <td>3.00</td>\n",
       "      <td>1960</td>\n",
       "      <td>5000</td>\n",
       "      <td>1.0</td>\n",
       "      <td>0</td>\n",
       "      <td>0</td>\n",
       "      <td>5</td>\n",
       "      <td>7</td>\n",
       "      <td>1050</td>\n",
       "      <td>910</td>\n",
       "      <td>1965</td>\n",
       "      <td>0</td>\n",
       "      <td>98136</td>\n",
       "      <td>47.5208</td>\n",
       "      <td>-122.393</td>\n",
       "      <td>1360</td>\n",
       "      <td>5000</td>\n",
       "    </tr>\n",
       "    <tr>\n",
       "      <th>20150218T000000</th>\n",
       "      <td>1954400510</td>\n",
       "      <td>510000.0</td>\n",
       "      <td>3.0</td>\n",
       "      <td>2.00</td>\n",
       "      <td>1680</td>\n",
       "      <td>8080</td>\n",
       "      <td>1.0</td>\n",
       "      <td>0</td>\n",
       "      <td>0</td>\n",
       "      <td>3</td>\n",
       "      <td>8</td>\n",
       "      <td>1680</td>\n",
       "      <td>0</td>\n",
       "      <td>1987</td>\n",
       "      <td>0</td>\n",
       "      <td>98074</td>\n",
       "      <td>47.6168</td>\n",
       "      <td>-122.045</td>\n",
       "      <td>1800</td>\n",
       "      <td>7503</td>\n",
       "    </tr>\n",
       "    <tr>\n",
       "      <th>...</th>\n",
       "      <td>...</td>\n",
       "      <td>...</td>\n",
       "      <td>...</td>\n",
       "      <td>...</td>\n",
       "      <td>...</td>\n",
       "      <td>...</td>\n",
       "      <td>...</td>\n",
       "      <td>...</td>\n",
       "      <td>...</td>\n",
       "      <td>...</td>\n",
       "      <td>...</td>\n",
       "      <td>...</td>\n",
       "      <td>...</td>\n",
       "      <td>...</td>\n",
       "      <td>...</td>\n",
       "      <td>...</td>\n",
       "      <td>...</td>\n",
       "      <td>...</td>\n",
       "      <td>...</td>\n",
       "      <td>...</td>\n",
       "    </tr>\n",
       "    <tr>\n",
       "      <th>20140521T000000</th>\n",
       "      <td>263000018</td>\n",
       "      <td>360000.0</td>\n",
       "      <td>3.0</td>\n",
       "      <td>2.50</td>\n",
       "      <td>1530</td>\n",
       "      <td>1131</td>\n",
       "      <td>3.0</td>\n",
       "      <td>0</td>\n",
       "      <td>0</td>\n",
       "      <td>3</td>\n",
       "      <td>8</td>\n",
       "      <td>1530</td>\n",
       "      <td>0</td>\n",
       "      <td>2009</td>\n",
       "      <td>0</td>\n",
       "      <td>98103</td>\n",
       "      <td>47.6993</td>\n",
       "      <td>-122.346</td>\n",
       "      <td>1530</td>\n",
       "      <td>1509</td>\n",
       "    </tr>\n",
       "    <tr>\n",
       "      <th>20150223T000000</th>\n",
       "      <td>6600060120</td>\n",
       "      <td>400000.0</td>\n",
       "      <td>4.0</td>\n",
       "      <td>2.50</td>\n",
       "      <td>2310</td>\n",
       "      <td>5813</td>\n",
       "      <td>2.0</td>\n",
       "      <td>0</td>\n",
       "      <td>0</td>\n",
       "      <td>3</td>\n",
       "      <td>8</td>\n",
       "      <td>2310</td>\n",
       "      <td>0</td>\n",
       "      <td>2014</td>\n",
       "      <td>0</td>\n",
       "      <td>98146</td>\n",
       "      <td>47.5107</td>\n",
       "      <td>-122.362</td>\n",
       "      <td>1830</td>\n",
       "      <td>7200</td>\n",
       "    </tr>\n",
       "    <tr>\n",
       "      <th>20140623T000000</th>\n",
       "      <td>1523300141</td>\n",
       "      <td>402101.0</td>\n",
       "      <td>2.0</td>\n",
       "      <td>0.75</td>\n",
       "      <td>1020</td>\n",
       "      <td>1350</td>\n",
       "      <td>2.0</td>\n",
       "      <td>0</td>\n",
       "      <td>0</td>\n",
       "      <td>3</td>\n",
       "      <td>7</td>\n",
       "      <td>1020</td>\n",
       "      <td>0</td>\n",
       "      <td>2009</td>\n",
       "      <td>0</td>\n",
       "      <td>98144</td>\n",
       "      <td>47.5944</td>\n",
       "      <td>-122.299</td>\n",
       "      <td>1020</td>\n",
       "      <td>2007</td>\n",
       "    </tr>\n",
       "    <tr>\n",
       "      <th>20150116T000000</th>\n",
       "      <td>291310100</td>\n",
       "      <td>400000.0</td>\n",
       "      <td>3.0</td>\n",
       "      <td>2.50</td>\n",
       "      <td>1600</td>\n",
       "      <td>2388</td>\n",
       "      <td>2.0</td>\n",
       "      <td>0</td>\n",
       "      <td>0</td>\n",
       "      <td>3</td>\n",
       "      <td>8</td>\n",
       "      <td>1600</td>\n",
       "      <td>0</td>\n",
       "      <td>2004</td>\n",
       "      <td>0</td>\n",
       "      <td>98027</td>\n",
       "      <td>47.5345</td>\n",
       "      <td>-122.069</td>\n",
       "      <td>1410</td>\n",
       "      <td>1287</td>\n",
       "    </tr>\n",
       "    <tr>\n",
       "      <th>20141015T000000</th>\n",
       "      <td>1523300157</td>\n",
       "      <td>325000.0</td>\n",
       "      <td>2.0</td>\n",
       "      <td>0.75</td>\n",
       "      <td>1020</td>\n",
       "      <td>1076</td>\n",
       "      <td>2.0</td>\n",
       "      <td>0</td>\n",
       "      <td>0</td>\n",
       "      <td>3</td>\n",
       "      <td>7</td>\n",
       "      <td>1020</td>\n",
       "      <td>0</td>\n",
       "      <td>2008</td>\n",
       "      <td>0</td>\n",
       "      <td>98144</td>\n",
       "      <td>47.5941</td>\n",
       "      <td>-122.299</td>\n",
       "      <td>1020</td>\n",
       "      <td>1357</td>\n",
       "    </tr>\n",
       "  </tbody>\n",
       "</table>\n",
       "<p>21613 rows × 20 columns</p>\n",
       "</div>"
      ],
      "text/plain": [
       "                         id     price  bedrooms  bathrooms  sqft_living  \\\n",
       "date                                                                      \n",
       "20141013T000000  7129300520  221900.0       3.0       1.00         1180   \n",
       "20141209T000000  6414100192  538000.0       3.0       2.25         2570   \n",
       "20150225T000000  5631500400  180000.0       2.0       1.00          770   \n",
       "20141209T000000  2487200875  604000.0       4.0       3.00         1960   \n",
       "20150218T000000  1954400510  510000.0       3.0       2.00         1680   \n",
       "...                     ...       ...       ...        ...          ...   \n",
       "20140521T000000   263000018  360000.0       3.0       2.50         1530   \n",
       "20150223T000000  6600060120  400000.0       4.0       2.50         2310   \n",
       "20140623T000000  1523300141  402101.0       2.0       0.75         1020   \n",
       "20150116T000000   291310100  400000.0       3.0       2.50         1600   \n",
       "20141015T000000  1523300157  325000.0       2.0       0.75         1020   \n",
       "\n",
       "                 sqft_lot  floors  waterfront  view  condition  grade  \\\n",
       "date                                                                    \n",
       "20141013T000000      5650     1.0           0     0          3      7   \n",
       "20141209T000000      7242     2.0           0     0          3      7   \n",
       "20150225T000000     10000     1.0           0     0          3      6   \n",
       "20141209T000000      5000     1.0           0     0          5      7   \n",
       "20150218T000000      8080     1.0           0     0          3      8   \n",
       "...                   ...     ...         ...   ...        ...    ...   \n",
       "20140521T000000      1131     3.0           0     0          3      8   \n",
       "20150223T000000      5813     2.0           0     0          3      8   \n",
       "20140623T000000      1350     2.0           0     0          3      7   \n",
       "20150116T000000      2388     2.0           0     0          3      8   \n",
       "20141015T000000      1076     2.0           0     0          3      7   \n",
       "\n",
       "                 sqft_above  sqft_basement  yr_built  yr_renovated  zipcode  \\\n",
       "date                                                                          \n",
       "20141013T000000        1180              0      1955             0    98178   \n",
       "20141209T000000        2170            400      1951          1991    98125   \n",
       "20150225T000000         770              0      1933             0    98028   \n",
       "20141209T000000        1050            910      1965             0    98136   \n",
       "20150218T000000        1680              0      1987             0    98074   \n",
       "...                     ...            ...       ...           ...      ...   \n",
       "20140521T000000        1530              0      2009             0    98103   \n",
       "20150223T000000        2310              0      2014             0    98146   \n",
       "20140623T000000        1020              0      2009             0    98144   \n",
       "20150116T000000        1600              0      2004             0    98027   \n",
       "20141015T000000        1020              0      2008             0    98144   \n",
       "\n",
       "                     lat     long  sqft_living15  sqft_lot15  \n",
       "date                                                          \n",
       "20141013T000000  47.5112 -122.257           1340        5650  \n",
       "20141209T000000  47.7210 -122.319           1690        7639  \n",
       "20150225T000000  47.7379 -122.233           2720        8062  \n",
       "20141209T000000  47.5208 -122.393           1360        5000  \n",
       "20150218T000000  47.6168 -122.045           1800        7503  \n",
       "...                  ...      ...            ...         ...  \n",
       "20140521T000000  47.6993 -122.346           1530        1509  \n",
       "20150223T000000  47.5107 -122.362           1830        7200  \n",
       "20140623T000000  47.5944 -122.299           1020        2007  \n",
       "20150116T000000  47.5345 -122.069           1410        1287  \n",
       "20141015T000000  47.5941 -122.299           1020        1357  \n",
       "\n",
       "[21613 rows x 20 columns]"
      ]
     },
     "execution_count": 4,
     "metadata": {},
     "output_type": "execute_result"
    }
   ],
   "source": [
    "# Parâmetro index_col: Informa a coluna a ser usada como índice\n",
    "dataset = pd.read_csv(arquivo, index_col = 'date')\n",
    "dataset"
   ]
  },
  {
   "cell_type": "markdown",
   "metadata": {},
   "source": [
    "Neste caso, *date* não é mais uma coluna normal, ela é agora a coluna que está indexando o Dataframe, a organização do mesmo é baseada nesta coluna."
   ]
  },
  {
   "cell_type": "code",
   "execution_count": 5,
   "metadata": {
    "colab": {
     "base_uri": "https://localhost:8080/",
     "height": 227
    },
    "id": "iBFzpeyHxskU",
    "outputId": "5164c323-96e2-43a9-86d0-35da52b6f1d6"
   },
   "outputs": [
    {
     "data": {
      "text/html": [
       "<div>\n",
       "<style scoped>\n",
       "    .dataframe tbody tr th:only-of-type {\n",
       "        vertical-align: middle;\n",
       "    }\n",
       "\n",
       "    .dataframe tbody tr th {\n",
       "        vertical-align: top;\n",
       "    }\n",
       "\n",
       "    .dataframe thead th {\n",
       "        text-align: right;\n",
       "    }\n",
       "</style>\n",
       "<table border=\"1\" class=\"dataframe\">\n",
       "  <thead>\n",
       "    <tr style=\"text-align: right;\">\n",
       "      <th></th>\n",
       "      <th>id</th>\n",
       "      <th>price</th>\n",
       "      <th>bedrooms</th>\n",
       "      <th>bathrooms</th>\n",
       "      <th>sqft_living</th>\n",
       "      <th>sqft_lot</th>\n",
       "      <th>floors</th>\n",
       "      <th>waterfront</th>\n",
       "      <th>view</th>\n",
       "      <th>condition</th>\n",
       "      <th>grade</th>\n",
       "      <th>sqft_above</th>\n",
       "      <th>sqft_basement</th>\n",
       "      <th>yr_built</th>\n",
       "      <th>yr_renovated</th>\n",
       "      <th>zipcode</th>\n",
       "      <th>lat</th>\n",
       "      <th>long</th>\n",
       "      <th>sqft_living15</th>\n",
       "      <th>sqft_lot15</th>\n",
       "    </tr>\n",
       "    <tr>\n",
       "      <th>date</th>\n",
       "      <th></th>\n",
       "      <th></th>\n",
       "      <th></th>\n",
       "      <th></th>\n",
       "      <th></th>\n",
       "      <th></th>\n",
       "      <th></th>\n",
       "      <th></th>\n",
       "      <th></th>\n",
       "      <th></th>\n",
       "      <th></th>\n",
       "      <th></th>\n",
       "      <th></th>\n",
       "      <th></th>\n",
       "      <th></th>\n",
       "      <th></th>\n",
       "      <th></th>\n",
       "      <th></th>\n",
       "      <th></th>\n",
       "      <th></th>\n",
       "    </tr>\n",
       "  </thead>\n",
       "  <tbody>\n",
       "    <tr>\n",
       "      <th>20141013T000000</th>\n",
       "      <td>7129300520</td>\n",
       "      <td>221900.0</td>\n",
       "      <td>3.0</td>\n",
       "      <td>1.00</td>\n",
       "      <td>1180</td>\n",
       "      <td>5650</td>\n",
       "      <td>1.0</td>\n",
       "      <td>0</td>\n",
       "      <td>0</td>\n",
       "      <td>3</td>\n",
       "      <td>7</td>\n",
       "      <td>1180</td>\n",
       "      <td>0</td>\n",
       "      <td>1955</td>\n",
       "      <td>0</td>\n",
       "      <td>98178</td>\n",
       "      <td>47.5112</td>\n",
       "      <td>-122.257</td>\n",
       "      <td>1340</td>\n",
       "      <td>5650</td>\n",
       "    </tr>\n",
       "    <tr>\n",
       "      <th>20141209T000000</th>\n",
       "      <td>6414100192</td>\n",
       "      <td>538000.0</td>\n",
       "      <td>3.0</td>\n",
       "      <td>2.25</td>\n",
       "      <td>2570</td>\n",
       "      <td>7242</td>\n",
       "      <td>2.0</td>\n",
       "      <td>0</td>\n",
       "      <td>0</td>\n",
       "      <td>3</td>\n",
       "      <td>7</td>\n",
       "      <td>2170</td>\n",
       "      <td>400</td>\n",
       "      <td>1951</td>\n",
       "      <td>1991</td>\n",
       "      <td>98125</td>\n",
       "      <td>47.7210</td>\n",
       "      <td>-122.319</td>\n",
       "      <td>1690</td>\n",
       "      <td>7639</td>\n",
       "    </tr>\n",
       "    <tr>\n",
       "      <th>20150225T000000</th>\n",
       "      <td>5631500400</td>\n",
       "      <td>180000.0</td>\n",
       "      <td>2.0</td>\n",
       "      <td>1.00</td>\n",
       "      <td>770</td>\n",
       "      <td>10000</td>\n",
       "      <td>1.0</td>\n",
       "      <td>0</td>\n",
       "      <td>0</td>\n",
       "      <td>3</td>\n",
       "      <td>6</td>\n",
       "      <td>770</td>\n",
       "      <td>0</td>\n",
       "      <td>1933</td>\n",
       "      <td>0</td>\n",
       "      <td>98028</td>\n",
       "      <td>47.7379</td>\n",
       "      <td>-122.233</td>\n",
       "      <td>2720</td>\n",
       "      <td>8062</td>\n",
       "    </tr>\n",
       "    <tr>\n",
       "      <th>20141209T000000</th>\n",
       "      <td>2487200875</td>\n",
       "      <td>604000.0</td>\n",
       "      <td>4.0</td>\n",
       "      <td>3.00</td>\n",
       "      <td>1960</td>\n",
       "      <td>5000</td>\n",
       "      <td>1.0</td>\n",
       "      <td>0</td>\n",
       "      <td>0</td>\n",
       "      <td>5</td>\n",
       "      <td>7</td>\n",
       "      <td>1050</td>\n",
       "      <td>910</td>\n",
       "      <td>1965</td>\n",
       "      <td>0</td>\n",
       "      <td>98136</td>\n",
       "      <td>47.5208</td>\n",
       "      <td>-122.393</td>\n",
       "      <td>1360</td>\n",
       "      <td>5000</td>\n",
       "    </tr>\n",
       "    <tr>\n",
       "      <th>20150218T000000</th>\n",
       "      <td>1954400510</td>\n",
       "      <td>510000.0</td>\n",
       "      <td>3.0</td>\n",
       "      <td>2.00</td>\n",
       "      <td>1680</td>\n",
       "      <td>8080</td>\n",
       "      <td>1.0</td>\n",
       "      <td>0</td>\n",
       "      <td>0</td>\n",
       "      <td>3</td>\n",
       "      <td>8</td>\n",
       "      <td>1680</td>\n",
       "      <td>0</td>\n",
       "      <td>1987</td>\n",
       "      <td>0</td>\n",
       "      <td>98074</td>\n",
       "      <td>47.6168</td>\n",
       "      <td>-122.045</td>\n",
       "      <td>1800</td>\n",
       "      <td>7503</td>\n",
       "    </tr>\n",
       "  </tbody>\n",
       "</table>\n",
       "</div>"
      ],
      "text/plain": [
       "                         id     price  bedrooms  bathrooms  sqft_living  \\\n",
       "date                                                                      \n",
       "20141013T000000  7129300520  221900.0       3.0       1.00         1180   \n",
       "20141209T000000  6414100192  538000.0       3.0       2.25         2570   \n",
       "20150225T000000  5631500400  180000.0       2.0       1.00          770   \n",
       "20141209T000000  2487200875  604000.0       4.0       3.00         1960   \n",
       "20150218T000000  1954400510  510000.0       3.0       2.00         1680   \n",
       "\n",
       "                 sqft_lot  floors  waterfront  view  condition  grade  \\\n",
       "date                                                                    \n",
       "20141013T000000      5650     1.0           0     0          3      7   \n",
       "20141209T000000      7242     2.0           0     0          3      7   \n",
       "20150225T000000     10000     1.0           0     0          3      6   \n",
       "20141209T000000      5000     1.0           0     0          5      7   \n",
       "20150218T000000      8080     1.0           0     0          3      8   \n",
       "\n",
       "                 sqft_above  sqft_basement  yr_built  yr_renovated  zipcode  \\\n",
       "date                                                                          \n",
       "20141013T000000        1180              0      1955             0    98178   \n",
       "20141209T000000        2170            400      1951          1991    98125   \n",
       "20150225T000000         770              0      1933             0    98028   \n",
       "20141209T000000        1050            910      1965             0    98136   \n",
       "20150218T000000        1680              0      1987             0    98074   \n",
       "\n",
       "                     lat     long  sqft_living15  sqft_lot15  \n",
       "date                                                          \n",
       "20141013T000000  47.5112 -122.257           1340        5650  \n",
       "20141209T000000  47.7210 -122.319           1690        7639  \n",
       "20150225T000000  47.7379 -122.233           2720        8062  \n",
       "20141209T000000  47.5208 -122.393           1360        5000  \n",
       "20150218T000000  47.6168 -122.045           1800        7503  "
      ]
     },
     "execution_count": 5,
     "metadata": {},
     "output_type": "execute_result"
    }
   ],
   "source": [
    "# Método head: Retorna as n primeiras filas do objeto. Por padrão n = 5\n",
    "dataset.head()"
   ]
  },
  {
   "cell_type": "code",
   "execution_count": 6,
   "metadata": {},
   "outputs": [
    {
     "data": {
      "text/html": [
       "<div>\n",
       "<style scoped>\n",
       "    .dataframe tbody tr th:only-of-type {\n",
       "        vertical-align: middle;\n",
       "    }\n",
       "\n",
       "    .dataframe tbody tr th {\n",
       "        vertical-align: top;\n",
       "    }\n",
       "\n",
       "    .dataframe thead th {\n",
       "        text-align: right;\n",
       "    }\n",
       "</style>\n",
       "<table border=\"1\" class=\"dataframe\">\n",
       "  <thead>\n",
       "    <tr style=\"text-align: right;\">\n",
       "      <th></th>\n",
       "      <th>id</th>\n",
       "      <th>price</th>\n",
       "      <th>bedrooms</th>\n",
       "      <th>bathrooms</th>\n",
       "      <th>sqft_living</th>\n",
       "      <th>sqft_lot</th>\n",
       "      <th>floors</th>\n",
       "      <th>waterfront</th>\n",
       "      <th>view</th>\n",
       "      <th>condition</th>\n",
       "      <th>grade</th>\n",
       "      <th>sqft_above</th>\n",
       "      <th>sqft_basement</th>\n",
       "      <th>yr_built</th>\n",
       "      <th>yr_renovated</th>\n",
       "      <th>zipcode</th>\n",
       "      <th>lat</th>\n",
       "      <th>long</th>\n",
       "      <th>sqft_living15</th>\n",
       "      <th>sqft_lot15</th>\n",
       "    </tr>\n",
       "    <tr>\n",
       "      <th>date</th>\n",
       "      <th></th>\n",
       "      <th></th>\n",
       "      <th></th>\n",
       "      <th></th>\n",
       "      <th></th>\n",
       "      <th></th>\n",
       "      <th></th>\n",
       "      <th></th>\n",
       "      <th></th>\n",
       "      <th></th>\n",
       "      <th></th>\n",
       "      <th></th>\n",
       "      <th></th>\n",
       "      <th></th>\n",
       "      <th></th>\n",
       "      <th></th>\n",
       "      <th></th>\n",
       "      <th></th>\n",
       "      <th></th>\n",
       "      <th></th>\n",
       "    </tr>\n",
       "  </thead>\n",
       "  <tbody>\n",
       "    <tr>\n",
       "      <th>20141013T000000</th>\n",
       "      <td>7129300520</td>\n",
       "      <td>221900.0</td>\n",
       "      <td>3.0</td>\n",
       "      <td>1.00</td>\n",
       "      <td>1180</td>\n",
       "      <td>5650</td>\n",
       "      <td>1.0</td>\n",
       "      <td>0</td>\n",
       "      <td>0</td>\n",
       "      <td>3</td>\n",
       "      <td>7</td>\n",
       "      <td>1180</td>\n",
       "      <td>0</td>\n",
       "      <td>1955</td>\n",
       "      <td>0</td>\n",
       "      <td>98178</td>\n",
       "      <td>47.5112</td>\n",
       "      <td>-122.257</td>\n",
       "      <td>1340</td>\n",
       "      <td>5650</td>\n",
       "    </tr>\n",
       "    <tr>\n",
       "      <th>20141209T000000</th>\n",
       "      <td>6414100192</td>\n",
       "      <td>538000.0</td>\n",
       "      <td>3.0</td>\n",
       "      <td>2.25</td>\n",
       "      <td>2570</td>\n",
       "      <td>7242</td>\n",
       "      <td>2.0</td>\n",
       "      <td>0</td>\n",
       "      <td>0</td>\n",
       "      <td>3</td>\n",
       "      <td>7</td>\n",
       "      <td>2170</td>\n",
       "      <td>400</td>\n",
       "      <td>1951</td>\n",
       "      <td>1991</td>\n",
       "      <td>98125</td>\n",
       "      <td>47.7210</td>\n",
       "      <td>-122.319</td>\n",
       "      <td>1690</td>\n",
       "      <td>7639</td>\n",
       "    </tr>\n",
       "    <tr>\n",
       "      <th>20150225T000000</th>\n",
       "      <td>5631500400</td>\n",
       "      <td>180000.0</td>\n",
       "      <td>2.0</td>\n",
       "      <td>1.00</td>\n",
       "      <td>770</td>\n",
       "      <td>10000</td>\n",
       "      <td>1.0</td>\n",
       "      <td>0</td>\n",
       "      <td>0</td>\n",
       "      <td>3</td>\n",
       "      <td>6</td>\n",
       "      <td>770</td>\n",
       "      <td>0</td>\n",
       "      <td>1933</td>\n",
       "      <td>0</td>\n",
       "      <td>98028</td>\n",
       "      <td>47.7379</td>\n",
       "      <td>-122.233</td>\n",
       "      <td>2720</td>\n",
       "      <td>8062</td>\n",
       "    </tr>\n",
       "    <tr>\n",
       "      <th>20141209T000000</th>\n",
       "      <td>2487200875</td>\n",
       "      <td>604000.0</td>\n",
       "      <td>4.0</td>\n",
       "      <td>3.00</td>\n",
       "      <td>1960</td>\n",
       "      <td>5000</td>\n",
       "      <td>1.0</td>\n",
       "      <td>0</td>\n",
       "      <td>0</td>\n",
       "      <td>5</td>\n",
       "      <td>7</td>\n",
       "      <td>1050</td>\n",
       "      <td>910</td>\n",
       "      <td>1965</td>\n",
       "      <td>0</td>\n",
       "      <td>98136</td>\n",
       "      <td>47.5208</td>\n",
       "      <td>-122.393</td>\n",
       "      <td>1360</td>\n",
       "      <td>5000</td>\n",
       "    </tr>\n",
       "    <tr>\n",
       "      <th>20150218T000000</th>\n",
       "      <td>1954400510</td>\n",
       "      <td>510000.0</td>\n",
       "      <td>3.0</td>\n",
       "      <td>2.00</td>\n",
       "      <td>1680</td>\n",
       "      <td>8080</td>\n",
       "      <td>1.0</td>\n",
       "      <td>0</td>\n",
       "      <td>0</td>\n",
       "      <td>3</td>\n",
       "      <td>8</td>\n",
       "      <td>1680</td>\n",
       "      <td>0</td>\n",
       "      <td>1987</td>\n",
       "      <td>0</td>\n",
       "      <td>98074</td>\n",
       "      <td>47.6168</td>\n",
       "      <td>-122.045</td>\n",
       "      <td>1800</td>\n",
       "      <td>7503</td>\n",
       "    </tr>\n",
       "    <tr>\n",
       "      <th>...</th>\n",
       "      <td>...</td>\n",
       "      <td>...</td>\n",
       "      <td>...</td>\n",
       "      <td>...</td>\n",
       "      <td>...</td>\n",
       "      <td>...</td>\n",
       "      <td>...</td>\n",
       "      <td>...</td>\n",
       "      <td>...</td>\n",
       "      <td>...</td>\n",
       "      <td>...</td>\n",
       "      <td>...</td>\n",
       "      <td>...</td>\n",
       "      <td>...</td>\n",
       "      <td>...</td>\n",
       "      <td>...</td>\n",
       "      <td>...</td>\n",
       "      <td>...</td>\n",
       "      <td>...</td>\n",
       "      <td>...</td>\n",
       "    </tr>\n",
       "    <tr>\n",
       "      <th>20140908T000000</th>\n",
       "      <td>1483300570</td>\n",
       "      <td>905000.0</td>\n",
       "      <td>4.0</td>\n",
       "      <td>2.50</td>\n",
       "      <td>3300</td>\n",
       "      <td>10250</td>\n",
       "      <td>1.0</td>\n",
       "      <td>0</td>\n",
       "      <td>0</td>\n",
       "      <td>3</td>\n",
       "      <td>7</td>\n",
       "      <td>2390</td>\n",
       "      <td>910</td>\n",
       "      <td>1946</td>\n",
       "      <td>1991</td>\n",
       "      <td>98040</td>\n",
       "      <td>47.5873</td>\n",
       "      <td>-122.249</td>\n",
       "      <td>1950</td>\n",
       "      <td>6045</td>\n",
       "    </tr>\n",
       "    <tr>\n",
       "      <th>20150330T000000</th>\n",
       "      <td>3422049190</td>\n",
       "      <td>247500.0</td>\n",
       "      <td>3.0</td>\n",
       "      <td>1.75</td>\n",
       "      <td>1960</td>\n",
       "      <td>15681</td>\n",
       "      <td>1.0</td>\n",
       "      <td>0</td>\n",
       "      <td>0</td>\n",
       "      <td>3</td>\n",
       "      <td>7</td>\n",
       "      <td>1960</td>\n",
       "      <td>0</td>\n",
       "      <td>1967</td>\n",
       "      <td>0</td>\n",
       "      <td>98032</td>\n",
       "      <td>47.3576</td>\n",
       "      <td>-122.277</td>\n",
       "      <td>1750</td>\n",
       "      <td>15616</td>\n",
       "    </tr>\n",
       "    <tr>\n",
       "      <th>20140912T000000</th>\n",
       "      <td>1099611230</td>\n",
       "      <td>199000.0</td>\n",
       "      <td>4.0</td>\n",
       "      <td>1.50</td>\n",
       "      <td>1160</td>\n",
       "      <td>6400</td>\n",
       "      <td>1.0</td>\n",
       "      <td>0</td>\n",
       "      <td>0</td>\n",
       "      <td>4</td>\n",
       "      <td>7</td>\n",
       "      <td>1160</td>\n",
       "      <td>0</td>\n",
       "      <td>1975</td>\n",
       "      <td>0</td>\n",
       "      <td>98023</td>\n",
       "      <td>47.3036</td>\n",
       "      <td>-122.378</td>\n",
       "      <td>1160</td>\n",
       "      <td>6400</td>\n",
       "    </tr>\n",
       "    <tr>\n",
       "      <th>20140711T000000</th>\n",
       "      <td>722079104</td>\n",
       "      <td>314000.0</td>\n",
       "      <td>3.0</td>\n",
       "      <td>1.75</td>\n",
       "      <td>1810</td>\n",
       "      <td>41800</td>\n",
       "      <td>1.0</td>\n",
       "      <td>0</td>\n",
       "      <td>0</td>\n",
       "      <td>5</td>\n",
       "      <td>7</td>\n",
       "      <td>1210</td>\n",
       "      <td>600</td>\n",
       "      <td>1980</td>\n",
       "      <td>0</td>\n",
       "      <td>98038</td>\n",
       "      <td>47.4109</td>\n",
       "      <td>-121.958</td>\n",
       "      <td>1650</td>\n",
       "      <td>135036</td>\n",
       "    </tr>\n",
       "    <tr>\n",
       "      <th>20140516T000000</th>\n",
       "      <td>7338200240</td>\n",
       "      <td>437500.0</td>\n",
       "      <td>3.0</td>\n",
       "      <td>2.50</td>\n",
       "      <td>2320</td>\n",
       "      <td>36847</td>\n",
       "      <td>2.0</td>\n",
       "      <td>0</td>\n",
       "      <td>2</td>\n",
       "      <td>3</td>\n",
       "      <td>9</td>\n",
       "      <td>2320</td>\n",
       "      <td>0</td>\n",
       "      <td>1992</td>\n",
       "      <td>0</td>\n",
       "      <td>98045</td>\n",
       "      <td>47.4838</td>\n",
       "      <td>-121.714</td>\n",
       "      <td>2550</td>\n",
       "      <td>35065</td>\n",
       "    </tr>\n",
       "  </tbody>\n",
       "</table>\n",
       "<p>100 rows × 20 columns</p>\n",
       "</div>"
      ],
      "text/plain": [
       "                         id     price  bedrooms  bathrooms  sqft_living  \\\n",
       "date                                                                      \n",
       "20141013T000000  7129300520  221900.0       3.0       1.00         1180   \n",
       "20141209T000000  6414100192  538000.0       3.0       2.25         2570   \n",
       "20150225T000000  5631500400  180000.0       2.0       1.00          770   \n",
       "20141209T000000  2487200875  604000.0       4.0       3.00         1960   \n",
       "20150218T000000  1954400510  510000.0       3.0       2.00         1680   \n",
       "...                     ...       ...       ...        ...          ...   \n",
       "20140908T000000  1483300570  905000.0       4.0       2.50         3300   \n",
       "20150330T000000  3422049190  247500.0       3.0       1.75         1960   \n",
       "20140912T000000  1099611230  199000.0       4.0       1.50         1160   \n",
       "20140711T000000   722079104  314000.0       3.0       1.75         1810   \n",
       "20140516T000000  7338200240  437500.0       3.0       2.50         2320   \n",
       "\n",
       "                 sqft_lot  floors  waterfront  view  condition  grade  \\\n",
       "date                                                                    \n",
       "20141013T000000      5650     1.0           0     0          3      7   \n",
       "20141209T000000      7242     2.0           0     0          3      7   \n",
       "20150225T000000     10000     1.0           0     0          3      6   \n",
       "20141209T000000      5000     1.0           0     0          5      7   \n",
       "20150218T000000      8080     1.0           0     0          3      8   \n",
       "...                   ...     ...         ...   ...        ...    ...   \n",
       "20140908T000000     10250     1.0           0     0          3      7   \n",
       "20150330T000000     15681     1.0           0     0          3      7   \n",
       "20140912T000000      6400     1.0           0     0          4      7   \n",
       "20140711T000000     41800     1.0           0     0          5      7   \n",
       "20140516T000000     36847     2.0           0     2          3      9   \n",
       "\n",
       "                 sqft_above  sqft_basement  yr_built  yr_renovated  zipcode  \\\n",
       "date                                                                          \n",
       "20141013T000000        1180              0      1955             0    98178   \n",
       "20141209T000000        2170            400      1951          1991    98125   \n",
       "20150225T000000         770              0      1933             0    98028   \n",
       "20141209T000000        1050            910      1965             0    98136   \n",
       "20150218T000000        1680              0      1987             0    98074   \n",
       "...                     ...            ...       ...           ...      ...   \n",
       "20140908T000000        2390            910      1946          1991    98040   \n",
       "20150330T000000        1960              0      1967             0    98032   \n",
       "20140912T000000        1160              0      1975             0    98023   \n",
       "20140711T000000        1210            600      1980             0    98038   \n",
       "20140516T000000        2320              0      1992             0    98045   \n",
       "\n",
       "                     lat     long  sqft_living15  sqft_lot15  \n",
       "date                                                          \n",
       "20141013T000000  47.5112 -122.257           1340        5650  \n",
       "20141209T000000  47.7210 -122.319           1690        7639  \n",
       "20150225T000000  47.7379 -122.233           2720        8062  \n",
       "20141209T000000  47.5208 -122.393           1360        5000  \n",
       "20150218T000000  47.6168 -122.045           1800        7503  \n",
       "...                  ...      ...            ...         ...  \n",
       "20140908T000000  47.5873 -122.249           1950        6045  \n",
       "20150330T000000  47.3576 -122.277           1750       15616  \n",
       "20140912T000000  47.3036 -122.378           1160        6400  \n",
       "20140711T000000  47.4109 -121.958           1650      135036  \n",
       "20140516T000000  47.4838 -121.714           2550       35065  \n",
       "\n",
       "[100 rows x 20 columns]"
      ]
     },
     "execution_count": 6,
     "metadata": {},
     "output_type": "execute_result"
    }
   ],
   "source": [
    "# Imprime as 100 primeiras linhas do DataFrame\n",
    "dataset.head(100)"
   ]
  },
  {
   "cell_type": "code",
   "execution_count": 7,
   "metadata": {
    "colab": {
     "base_uri": "https://localhost:8080/",
     "height": 207
    },
    "id": "LwqT0TcjzHFt",
    "outputId": "67d6f8af-2a52-4114-9a97-1c289aaaaef4"
   },
   "outputs": [
    {
     "data": {
      "text/html": [
       "<div>\n",
       "<style scoped>\n",
       "    .dataframe tbody tr th:only-of-type {\n",
       "        vertical-align: middle;\n",
       "    }\n",
       "\n",
       "    .dataframe tbody tr th {\n",
       "        vertical-align: top;\n",
       "    }\n",
       "\n",
       "    .dataframe thead th {\n",
       "        text-align: right;\n",
       "    }\n",
       "</style>\n",
       "<table border=\"1\" class=\"dataframe\">\n",
       "  <thead>\n",
       "    <tr style=\"text-align: right;\">\n",
       "      <th></th>\n",
       "      <th>id</th>\n",
       "      <th>price</th>\n",
       "      <th>bedrooms</th>\n",
       "      <th>bathrooms</th>\n",
       "      <th>sqft_living</th>\n",
       "      <th>sqft_lot</th>\n",
       "      <th>floors</th>\n",
       "      <th>waterfront</th>\n",
       "      <th>view</th>\n",
       "      <th>condition</th>\n",
       "      <th>grade</th>\n",
       "      <th>sqft_above</th>\n",
       "      <th>sqft_basement</th>\n",
       "      <th>yr_built</th>\n",
       "      <th>yr_renovated</th>\n",
       "      <th>zipcode</th>\n",
       "      <th>lat</th>\n",
       "      <th>long</th>\n",
       "      <th>sqft_living15</th>\n",
       "      <th>sqft_lot15</th>\n",
       "    </tr>\n",
       "    <tr>\n",
       "      <th>date</th>\n",
       "      <th></th>\n",
       "      <th></th>\n",
       "      <th></th>\n",
       "      <th></th>\n",
       "      <th></th>\n",
       "      <th></th>\n",
       "      <th></th>\n",
       "      <th></th>\n",
       "      <th></th>\n",
       "      <th></th>\n",
       "      <th></th>\n",
       "      <th></th>\n",
       "      <th></th>\n",
       "      <th></th>\n",
       "      <th></th>\n",
       "      <th></th>\n",
       "      <th></th>\n",
       "      <th></th>\n",
       "      <th></th>\n",
       "      <th></th>\n",
       "    </tr>\n",
       "  </thead>\n",
       "  <tbody>\n",
       "    <tr>\n",
       "      <th>20140521T000000</th>\n",
       "      <td>263000018</td>\n",
       "      <td>360000.0</td>\n",
       "      <td>3.0</td>\n",
       "      <td>2.50</td>\n",
       "      <td>1530</td>\n",
       "      <td>1131</td>\n",
       "      <td>3.0</td>\n",
       "      <td>0</td>\n",
       "      <td>0</td>\n",
       "      <td>3</td>\n",
       "      <td>8</td>\n",
       "      <td>1530</td>\n",
       "      <td>0</td>\n",
       "      <td>2009</td>\n",
       "      <td>0</td>\n",
       "      <td>98103</td>\n",
       "      <td>47.6993</td>\n",
       "      <td>-122.346</td>\n",
       "      <td>1530</td>\n",
       "      <td>1509</td>\n",
       "    </tr>\n",
       "    <tr>\n",
       "      <th>20150223T000000</th>\n",
       "      <td>6600060120</td>\n",
       "      <td>400000.0</td>\n",
       "      <td>4.0</td>\n",
       "      <td>2.50</td>\n",
       "      <td>2310</td>\n",
       "      <td>5813</td>\n",
       "      <td>2.0</td>\n",
       "      <td>0</td>\n",
       "      <td>0</td>\n",
       "      <td>3</td>\n",
       "      <td>8</td>\n",
       "      <td>2310</td>\n",
       "      <td>0</td>\n",
       "      <td>2014</td>\n",
       "      <td>0</td>\n",
       "      <td>98146</td>\n",
       "      <td>47.5107</td>\n",
       "      <td>-122.362</td>\n",
       "      <td>1830</td>\n",
       "      <td>7200</td>\n",
       "    </tr>\n",
       "    <tr>\n",
       "      <th>20140623T000000</th>\n",
       "      <td>1523300141</td>\n",
       "      <td>402101.0</td>\n",
       "      <td>2.0</td>\n",
       "      <td>0.75</td>\n",
       "      <td>1020</td>\n",
       "      <td>1350</td>\n",
       "      <td>2.0</td>\n",
       "      <td>0</td>\n",
       "      <td>0</td>\n",
       "      <td>3</td>\n",
       "      <td>7</td>\n",
       "      <td>1020</td>\n",
       "      <td>0</td>\n",
       "      <td>2009</td>\n",
       "      <td>0</td>\n",
       "      <td>98144</td>\n",
       "      <td>47.5944</td>\n",
       "      <td>-122.299</td>\n",
       "      <td>1020</td>\n",
       "      <td>2007</td>\n",
       "    </tr>\n",
       "    <tr>\n",
       "      <th>20150116T000000</th>\n",
       "      <td>291310100</td>\n",
       "      <td>400000.0</td>\n",
       "      <td>3.0</td>\n",
       "      <td>2.50</td>\n",
       "      <td>1600</td>\n",
       "      <td>2388</td>\n",
       "      <td>2.0</td>\n",
       "      <td>0</td>\n",
       "      <td>0</td>\n",
       "      <td>3</td>\n",
       "      <td>8</td>\n",
       "      <td>1600</td>\n",
       "      <td>0</td>\n",
       "      <td>2004</td>\n",
       "      <td>0</td>\n",
       "      <td>98027</td>\n",
       "      <td>47.5345</td>\n",
       "      <td>-122.069</td>\n",
       "      <td>1410</td>\n",
       "      <td>1287</td>\n",
       "    </tr>\n",
       "    <tr>\n",
       "      <th>20141015T000000</th>\n",
       "      <td>1523300157</td>\n",
       "      <td>325000.0</td>\n",
       "      <td>2.0</td>\n",
       "      <td>0.75</td>\n",
       "      <td>1020</td>\n",
       "      <td>1076</td>\n",
       "      <td>2.0</td>\n",
       "      <td>0</td>\n",
       "      <td>0</td>\n",
       "      <td>3</td>\n",
       "      <td>7</td>\n",
       "      <td>1020</td>\n",
       "      <td>0</td>\n",
       "      <td>2008</td>\n",
       "      <td>0</td>\n",
       "      <td>98144</td>\n",
       "      <td>47.5941</td>\n",
       "      <td>-122.299</td>\n",
       "      <td>1020</td>\n",
       "      <td>1357</td>\n",
       "    </tr>\n",
       "  </tbody>\n",
       "</table>\n",
       "</div>"
      ],
      "text/plain": [
       "                         id     price  bedrooms  bathrooms  sqft_living  \\\n",
       "date                                                                      \n",
       "20140521T000000   263000018  360000.0       3.0       2.50         1530   \n",
       "20150223T000000  6600060120  400000.0       4.0       2.50         2310   \n",
       "20140623T000000  1523300141  402101.0       2.0       0.75         1020   \n",
       "20150116T000000   291310100  400000.0       3.0       2.50         1600   \n",
       "20141015T000000  1523300157  325000.0       2.0       0.75         1020   \n",
       "\n",
       "                 sqft_lot  floors  waterfront  view  condition  grade  \\\n",
       "date                                                                    \n",
       "20140521T000000      1131     3.0           0     0          3      8   \n",
       "20150223T000000      5813     2.0           0     0          3      8   \n",
       "20140623T000000      1350     2.0           0     0          3      7   \n",
       "20150116T000000      2388     2.0           0     0          3      8   \n",
       "20141015T000000      1076     2.0           0     0          3      7   \n",
       "\n",
       "                 sqft_above  sqft_basement  yr_built  yr_renovated  zipcode  \\\n",
       "date                                                                          \n",
       "20140521T000000        1530              0      2009             0    98103   \n",
       "20150223T000000        2310              0      2014             0    98146   \n",
       "20140623T000000        1020              0      2009             0    98144   \n",
       "20150116T000000        1600              0      2004             0    98027   \n",
       "20141015T000000        1020              0      2008             0    98144   \n",
       "\n",
       "                     lat     long  sqft_living15  sqft_lot15  \n",
       "date                                                          \n",
       "20140521T000000  47.6993 -122.346           1530        1509  \n",
       "20150223T000000  47.5107 -122.362           1830        7200  \n",
       "20140623T000000  47.5944 -122.299           1020        2007  \n",
       "20150116T000000  47.5345 -122.069           1410        1287  \n",
       "20141015T000000  47.5941 -122.299           1020        1357  "
      ]
     },
     "execution_count": 7,
     "metadata": {},
     "output_type": "execute_result"
    }
   ],
   "source": [
    "# Método tail: Retorna as n últimas linhas. Por padrão n = 5\n",
    "dataset.tail()"
   ]
  },
  {
   "cell_type": "code",
   "execution_count": 8,
   "metadata": {
    "colab": {
     "base_uri": "https://localhost:8080/",
     "height": 424
    },
    "id": "YQNINm8hazE3",
    "outputId": "f58735d7-ad7c-4495-fb2b-13f59001e118"
   },
   "outputs": [
    {
     "data": {
      "text/html": [
       "<div>\n",
       "<style scoped>\n",
       "    .dataframe tbody tr th:only-of-type {\n",
       "        vertical-align: middle;\n",
       "    }\n",
       "\n",
       "    .dataframe tbody tr th {\n",
       "        vertical-align: top;\n",
       "    }\n",
       "\n",
       "    .dataframe thead th {\n",
       "        text-align: right;\n",
       "    }\n",
       "</style>\n",
       "<table border=\"1\" class=\"dataframe\">\n",
       "  <thead>\n",
       "    <tr style=\"text-align: right;\">\n",
       "      <th></th>\n",
       "      <th>id</th>\n",
       "      <th>price</th>\n",
       "      <th>bedrooms</th>\n",
       "      <th>bathrooms</th>\n",
       "      <th>sqft_living</th>\n",
       "      <th>sqft_lot</th>\n",
       "      <th>floors</th>\n",
       "      <th>waterfront</th>\n",
       "      <th>view</th>\n",
       "      <th>condition</th>\n",
       "      <th>grade</th>\n",
       "      <th>sqft_above</th>\n",
       "      <th>sqft_basement</th>\n",
       "      <th>yr_built</th>\n",
       "      <th>yr_renovated</th>\n",
       "      <th>zipcode</th>\n",
       "      <th>lat</th>\n",
       "      <th>long</th>\n",
       "      <th>sqft_living15</th>\n",
       "      <th>sqft_lot15</th>\n",
       "    </tr>\n",
       "    <tr>\n",
       "      <th>date</th>\n",
       "      <th></th>\n",
       "      <th></th>\n",
       "      <th></th>\n",
       "      <th></th>\n",
       "      <th></th>\n",
       "      <th></th>\n",
       "      <th></th>\n",
       "      <th></th>\n",
       "      <th></th>\n",
       "      <th></th>\n",
       "      <th></th>\n",
       "      <th></th>\n",
       "      <th></th>\n",
       "      <th></th>\n",
       "      <th></th>\n",
       "      <th></th>\n",
       "      <th></th>\n",
       "      <th></th>\n",
       "      <th></th>\n",
       "      <th></th>\n",
       "    </tr>\n",
       "  </thead>\n",
       "  <tbody>\n",
       "    <tr>\n",
       "      <th>20140513T000000</th>\n",
       "      <td>1023059465</td>\n",
       "      <td>505000.0</td>\n",
       "      <td>4.0</td>\n",
       "      <td>2.50</td>\n",
       "      <td>2790</td>\n",
       "      <td>5602</td>\n",
       "      <td>2.0</td>\n",
       "      <td>0</td>\n",
       "      <td>0</td>\n",
       "      <td>3</td>\n",
       "      <td>8</td>\n",
       "      <td>2790</td>\n",
       "      <td>0</td>\n",
       "      <td>2009</td>\n",
       "      <td>0</td>\n",
       "      <td>98059</td>\n",
       "      <td>47.4959</td>\n",
       "      <td>-122.150</td>\n",
       "      <td>2790</td>\n",
       "      <td>5309</td>\n",
       "    </tr>\n",
       "    <tr>\n",
       "      <th>20150227T000000</th>\n",
       "      <td>3262300818</td>\n",
       "      <td>1865000.0</td>\n",
       "      <td>4.0</td>\n",
       "      <td>3.75</td>\n",
       "      <td>3790</td>\n",
       "      <td>8797</td>\n",
       "      <td>2.0</td>\n",
       "      <td>0</td>\n",
       "      <td>0</td>\n",
       "      <td>3</td>\n",
       "      <td>11</td>\n",
       "      <td>3290</td>\n",
       "      <td>500</td>\n",
       "      <td>2006</td>\n",
       "      <td>0</td>\n",
       "      <td>98039</td>\n",
       "      <td>47.6351</td>\n",
       "      <td>-122.236</td>\n",
       "      <td>2660</td>\n",
       "      <td>12150</td>\n",
       "    </tr>\n",
       "    <tr>\n",
       "      <th>20141215T000000</th>\n",
       "      <td>2937300040</td>\n",
       "      <td>942990.0</td>\n",
       "      <td>4.0</td>\n",
       "      <td>2.50</td>\n",
       "      <td>3570</td>\n",
       "      <td>6218</td>\n",
       "      <td>2.0</td>\n",
       "      <td>0</td>\n",
       "      <td>0</td>\n",
       "      <td>3</td>\n",
       "      <td>9</td>\n",
       "      <td>3570</td>\n",
       "      <td>0</td>\n",
       "      <td>2014</td>\n",
       "      <td>0</td>\n",
       "      <td>98052</td>\n",
       "      <td>47.7046</td>\n",
       "      <td>-122.123</td>\n",
       "      <td>3230</td>\n",
       "      <td>5972</td>\n",
       "    </tr>\n",
       "    <tr>\n",
       "      <th>20141001T000000</th>\n",
       "      <td>2768100206</td>\n",
       "      <td>440000.0</td>\n",
       "      <td>3.0</td>\n",
       "      <td>2.25</td>\n",
       "      <td>1230</td>\n",
       "      <td>1097</td>\n",
       "      <td>3.0</td>\n",
       "      <td>0</td>\n",
       "      <td>0</td>\n",
       "      <td>3</td>\n",
       "      <td>8</td>\n",
       "      <td>1230</td>\n",
       "      <td>0</td>\n",
       "      <td>2009</td>\n",
       "      <td>0</td>\n",
       "      <td>98107</td>\n",
       "      <td>47.6697</td>\n",
       "      <td>-122.372</td>\n",
       "      <td>1420</td>\n",
       "      <td>1437</td>\n",
       "    </tr>\n",
       "    <tr>\n",
       "      <th>20140626T000000</th>\n",
       "      <td>7904700134</td>\n",
       "      <td>390000.0</td>\n",
       "      <td>3.0</td>\n",
       "      <td>3.25</td>\n",
       "      <td>1370</td>\n",
       "      <td>913</td>\n",
       "      <td>2.0</td>\n",
       "      <td>0</td>\n",
       "      <td>0</td>\n",
       "      <td>3</td>\n",
       "      <td>8</td>\n",
       "      <td>1100</td>\n",
       "      <td>270</td>\n",
       "      <td>2006</td>\n",
       "      <td>0</td>\n",
       "      <td>98116</td>\n",
       "      <td>47.5636</td>\n",
       "      <td>-122.388</td>\n",
       "      <td>1370</td>\n",
       "      <td>915</td>\n",
       "    </tr>\n",
       "    <tr>\n",
       "      <th>...</th>\n",
       "      <td>...</td>\n",
       "      <td>...</td>\n",
       "      <td>...</td>\n",
       "      <td>...</td>\n",
       "      <td>...</td>\n",
       "      <td>...</td>\n",
       "      <td>...</td>\n",
       "      <td>...</td>\n",
       "      <td>...</td>\n",
       "      <td>...</td>\n",
       "      <td>...</td>\n",
       "      <td>...</td>\n",
       "      <td>...</td>\n",
       "      <td>...</td>\n",
       "      <td>...</td>\n",
       "      <td>...</td>\n",
       "      <td>...</td>\n",
       "      <td>...</td>\n",
       "      <td>...</td>\n",
       "      <td>...</td>\n",
       "    </tr>\n",
       "    <tr>\n",
       "      <th>20140521T000000</th>\n",
       "      <td>263000018</td>\n",
       "      <td>360000.0</td>\n",
       "      <td>3.0</td>\n",
       "      <td>2.50</td>\n",
       "      <td>1530</td>\n",
       "      <td>1131</td>\n",
       "      <td>3.0</td>\n",
       "      <td>0</td>\n",
       "      <td>0</td>\n",
       "      <td>3</td>\n",
       "      <td>8</td>\n",
       "      <td>1530</td>\n",
       "      <td>0</td>\n",
       "      <td>2009</td>\n",
       "      <td>0</td>\n",
       "      <td>98103</td>\n",
       "      <td>47.6993</td>\n",
       "      <td>-122.346</td>\n",
       "      <td>1530</td>\n",
       "      <td>1509</td>\n",
       "    </tr>\n",
       "    <tr>\n",
       "      <th>20150223T000000</th>\n",
       "      <td>6600060120</td>\n",
       "      <td>400000.0</td>\n",
       "      <td>4.0</td>\n",
       "      <td>2.50</td>\n",
       "      <td>2310</td>\n",
       "      <td>5813</td>\n",
       "      <td>2.0</td>\n",
       "      <td>0</td>\n",
       "      <td>0</td>\n",
       "      <td>3</td>\n",
       "      <td>8</td>\n",
       "      <td>2310</td>\n",
       "      <td>0</td>\n",
       "      <td>2014</td>\n",
       "      <td>0</td>\n",
       "      <td>98146</td>\n",
       "      <td>47.5107</td>\n",
       "      <td>-122.362</td>\n",
       "      <td>1830</td>\n",
       "      <td>7200</td>\n",
       "    </tr>\n",
       "    <tr>\n",
       "      <th>20140623T000000</th>\n",
       "      <td>1523300141</td>\n",
       "      <td>402101.0</td>\n",
       "      <td>2.0</td>\n",
       "      <td>0.75</td>\n",
       "      <td>1020</td>\n",
       "      <td>1350</td>\n",
       "      <td>2.0</td>\n",
       "      <td>0</td>\n",
       "      <td>0</td>\n",
       "      <td>3</td>\n",
       "      <td>7</td>\n",
       "      <td>1020</td>\n",
       "      <td>0</td>\n",
       "      <td>2009</td>\n",
       "      <td>0</td>\n",
       "      <td>98144</td>\n",
       "      <td>47.5944</td>\n",
       "      <td>-122.299</td>\n",
       "      <td>1020</td>\n",
       "      <td>2007</td>\n",
       "    </tr>\n",
       "    <tr>\n",
       "      <th>20150116T000000</th>\n",
       "      <td>291310100</td>\n",
       "      <td>400000.0</td>\n",
       "      <td>3.0</td>\n",
       "      <td>2.50</td>\n",
       "      <td>1600</td>\n",
       "      <td>2388</td>\n",
       "      <td>2.0</td>\n",
       "      <td>0</td>\n",
       "      <td>0</td>\n",
       "      <td>3</td>\n",
       "      <td>8</td>\n",
       "      <td>1600</td>\n",
       "      <td>0</td>\n",
       "      <td>2004</td>\n",
       "      <td>0</td>\n",
       "      <td>98027</td>\n",
       "      <td>47.5345</td>\n",
       "      <td>-122.069</td>\n",
       "      <td>1410</td>\n",
       "      <td>1287</td>\n",
       "    </tr>\n",
       "    <tr>\n",
       "      <th>20141015T000000</th>\n",
       "      <td>1523300157</td>\n",
       "      <td>325000.0</td>\n",
       "      <td>2.0</td>\n",
       "      <td>0.75</td>\n",
       "      <td>1020</td>\n",
       "      <td>1076</td>\n",
       "      <td>2.0</td>\n",
       "      <td>0</td>\n",
       "      <td>0</td>\n",
       "      <td>3</td>\n",
       "      <td>7</td>\n",
       "      <td>1020</td>\n",
       "      <td>0</td>\n",
       "      <td>2008</td>\n",
       "      <td>0</td>\n",
       "      <td>98144</td>\n",
       "      <td>47.5941</td>\n",
       "      <td>-122.299</td>\n",
       "      <td>1020</td>\n",
       "      <td>1357</td>\n",
       "    </tr>\n",
       "  </tbody>\n",
       "</table>\n",
       "<p>100 rows × 20 columns</p>\n",
       "</div>"
      ],
      "text/plain": [
       "                         id      price  bedrooms  bathrooms  sqft_living  \\\n",
       "date                                                                       \n",
       "20140513T000000  1023059465   505000.0       4.0       2.50         2790   \n",
       "20150227T000000  3262300818  1865000.0       4.0       3.75         3790   \n",
       "20141215T000000  2937300040   942990.0       4.0       2.50         3570   \n",
       "20141001T000000  2768100206   440000.0       3.0       2.25         1230   \n",
       "20140626T000000  7904700134   390000.0       3.0       3.25         1370   \n",
       "...                     ...        ...       ...        ...          ...   \n",
       "20140521T000000   263000018   360000.0       3.0       2.50         1530   \n",
       "20150223T000000  6600060120   400000.0       4.0       2.50         2310   \n",
       "20140623T000000  1523300141   402101.0       2.0       0.75         1020   \n",
       "20150116T000000   291310100   400000.0       3.0       2.50         1600   \n",
       "20141015T000000  1523300157   325000.0       2.0       0.75         1020   \n",
       "\n",
       "                 sqft_lot  floors  waterfront  view  condition  grade  \\\n",
       "date                                                                    \n",
       "20140513T000000      5602     2.0           0     0          3      8   \n",
       "20150227T000000      8797     2.0           0     0          3     11   \n",
       "20141215T000000      6218     2.0           0     0          3      9   \n",
       "20141001T000000      1097     3.0           0     0          3      8   \n",
       "20140626T000000       913     2.0           0     0          3      8   \n",
       "...                   ...     ...         ...   ...        ...    ...   \n",
       "20140521T000000      1131     3.0           0     0          3      8   \n",
       "20150223T000000      5813     2.0           0     0          3      8   \n",
       "20140623T000000      1350     2.0           0     0          3      7   \n",
       "20150116T000000      2388     2.0           0     0          3      8   \n",
       "20141015T000000      1076     2.0           0     0          3      7   \n",
       "\n",
       "                 sqft_above  sqft_basement  yr_built  yr_renovated  zipcode  \\\n",
       "date                                                                          \n",
       "20140513T000000        2790              0      2009             0    98059   \n",
       "20150227T000000        3290            500      2006             0    98039   \n",
       "20141215T000000        3570              0      2014             0    98052   \n",
       "20141001T000000        1230              0      2009             0    98107   \n",
       "20140626T000000        1100            270      2006             0    98116   \n",
       "...                     ...            ...       ...           ...      ...   \n",
       "20140521T000000        1530              0      2009             0    98103   \n",
       "20150223T000000        2310              0      2014             0    98146   \n",
       "20140623T000000        1020              0      2009             0    98144   \n",
       "20150116T000000        1600              0      2004             0    98027   \n",
       "20141015T000000        1020              0      2008             0    98144   \n",
       "\n",
       "                     lat     long  sqft_living15  sqft_lot15  \n",
       "date                                                          \n",
       "20140513T000000  47.4959 -122.150           2790        5309  \n",
       "20150227T000000  47.6351 -122.236           2660       12150  \n",
       "20141215T000000  47.7046 -122.123           3230        5972  \n",
       "20141001T000000  47.6697 -122.372           1420        1437  \n",
       "20140626T000000  47.5636 -122.388           1370         915  \n",
       "...                  ...      ...            ...         ...  \n",
       "20140521T000000  47.6993 -122.346           1530        1509  \n",
       "20150223T000000  47.5107 -122.362           1830        7200  \n",
       "20140623T000000  47.5944 -122.299           1020        2007  \n",
       "20150116T000000  47.5345 -122.069           1410        1287  \n",
       "20141015T000000  47.5941 -122.299           1020        1357  \n",
       "\n",
       "[100 rows x 20 columns]"
      ]
     },
     "execution_count": 8,
     "metadata": {},
     "output_type": "execute_result"
    }
   ],
   "source": [
    "# Imprime as 100 últimas linhas do DataFrame\n",
    "dataset.tail(100)"
   ]
  },
  {
   "cell_type": "code",
   "execution_count": 9,
   "metadata": {
    "colab": {
     "base_uri": "https://localhost:8080/"
    },
    "id": "z5q0J7xwx5O4",
    "outputId": "4399a192-9362-470e-90df-56458587c1c4"
   },
   "outputs": [
    {
     "data": {
      "text/plain": [
       "Index(['id', 'price', 'bedrooms', 'bathrooms', 'sqft_living', 'sqft_lot',\n",
       "       'floors', 'waterfront', 'view', 'condition', 'grade', 'sqft_above',\n",
       "       'sqft_basement', 'yr_built', 'yr_renovated', 'zipcode', 'lat', 'long',\n",
       "       'sqft_living15', 'sqft_lot15'],\n",
       "      dtype='object')"
      ]
     },
     "execution_count": 9,
     "metadata": {},
     "output_type": "execute_result"
    }
   ],
   "source": [
    "# Método columns: Retorna o nomes das colunas que contém o DataFrame\n",
    "dataset.columns"
   ]
  },
  {
   "cell_type": "code",
   "execution_count": 10,
   "metadata": {
    "colab": {
     "base_uri": "https://localhost:8080/"
    },
    "id": "FjGDDAjYyhRR",
    "outputId": "7f4d7f49-683e-4043-df6b-20345053c2fa"
   },
   "outputs": [
    {
     "data": {
      "text/plain": [
       "id               21613\n",
       "price            21613\n",
       "bedrooms         21609\n",
       "bathrooms        21613\n",
       "sqft_living      21613\n",
       "sqft_lot         21613\n",
       "floors           21612\n",
       "waterfront       21613\n",
       "view             21613\n",
       "condition        21613\n",
       "grade            21613\n",
       "sqft_above       21613\n",
       "sqft_basement    21613\n",
       "yr_built         21613\n",
       "yr_renovated     21613\n",
       "zipcode          21613\n",
       "lat              21613\n",
       "long             21613\n",
       "sqft_living15    21613\n",
       "sqft_lot15       21613\n",
       "dtype: int64"
      ]
     },
     "execution_count": 10,
     "metadata": {},
     "output_type": "execute_result"
    }
   ],
   "source": [
    "# Método count: Retorna a quantidade de linhas de cada coluna\n",
    "dataset.count()"
   ]
  },
  {
   "cell_type": "code",
   "execution_count": 11,
   "metadata": {
    "colab": {
     "base_uri": "https://localhost:8080/",
     "height": 301
    },
    "id": "IoyzPAw2ymRT",
    "outputId": "a12fdcef-e4af-4f87-be4c-fb388dcf85ff"
   },
   "outputs": [
    {
     "data": {
      "text/html": [
       "<div>\n",
       "<style scoped>\n",
       "    .dataframe tbody tr th:only-of-type {\n",
       "        vertical-align: middle;\n",
       "    }\n",
       "\n",
       "    .dataframe tbody tr th {\n",
       "        vertical-align: top;\n",
       "    }\n",
       "\n",
       "    .dataframe thead th {\n",
       "        text-align: right;\n",
       "    }\n",
       "</style>\n",
       "<table border=\"1\" class=\"dataframe\">\n",
       "  <thead>\n",
       "    <tr style=\"text-align: right;\">\n",
       "      <th></th>\n",
       "      <th>id</th>\n",
       "      <th>price</th>\n",
       "      <th>bedrooms</th>\n",
       "      <th>bathrooms</th>\n",
       "      <th>sqft_living</th>\n",
       "      <th>sqft_lot</th>\n",
       "      <th>floors</th>\n",
       "      <th>waterfront</th>\n",
       "      <th>view</th>\n",
       "      <th>condition</th>\n",
       "      <th>grade</th>\n",
       "      <th>sqft_above</th>\n",
       "      <th>sqft_basement</th>\n",
       "      <th>yr_built</th>\n",
       "      <th>yr_renovated</th>\n",
       "      <th>zipcode</th>\n",
       "      <th>lat</th>\n",
       "      <th>long</th>\n",
       "      <th>sqft_living15</th>\n",
       "      <th>sqft_lot15</th>\n",
       "    </tr>\n",
       "  </thead>\n",
       "  <tbody>\n",
       "    <tr>\n",
       "      <th>count</th>\n",
       "      <td>2.161300e+04</td>\n",
       "      <td>2.161300e+04</td>\n",
       "      <td>21609.000000</td>\n",
       "      <td>21613.000000</td>\n",
       "      <td>21613.000000</td>\n",
       "      <td>2.161300e+04</td>\n",
       "      <td>21612.000000</td>\n",
       "      <td>21613.000000</td>\n",
       "      <td>21613.000000</td>\n",
       "      <td>21613.000000</td>\n",
       "      <td>21613.000000</td>\n",
       "      <td>21613.000000</td>\n",
       "      <td>21613.000000</td>\n",
       "      <td>21613.000000</td>\n",
       "      <td>21613.000000</td>\n",
       "      <td>21613.000000</td>\n",
       "      <td>21613.000000</td>\n",
       "      <td>21613.000000</td>\n",
       "      <td>21613.000000</td>\n",
       "      <td>21613.000000</td>\n",
       "    </tr>\n",
       "    <tr>\n",
       "      <th>mean</th>\n",
       "      <td>4.580302e+09</td>\n",
       "      <td>5.400881e+05</td>\n",
       "      <td>3.370910</td>\n",
       "      <td>2.114757</td>\n",
       "      <td>2079.899736</td>\n",
       "      <td>1.510697e+04</td>\n",
       "      <td>1.494332</td>\n",
       "      <td>0.007542</td>\n",
       "      <td>0.234303</td>\n",
       "      <td>3.409430</td>\n",
       "      <td>7.656873</td>\n",
       "      <td>1788.390691</td>\n",
       "      <td>291.509045</td>\n",
       "      <td>1971.005136</td>\n",
       "      <td>84.402258</td>\n",
       "      <td>98077.939805</td>\n",
       "      <td>47.560053</td>\n",
       "      <td>-122.213896</td>\n",
       "      <td>1986.552492</td>\n",
       "      <td>12768.455652</td>\n",
       "    </tr>\n",
       "    <tr>\n",
       "      <th>std</th>\n",
       "      <td>2.876566e+09</td>\n",
       "      <td>3.671272e+05</td>\n",
       "      <td>0.930084</td>\n",
       "      <td>0.770163</td>\n",
       "      <td>918.440897</td>\n",
       "      <td>4.142051e+04</td>\n",
       "      <td>0.539991</td>\n",
       "      <td>0.086517</td>\n",
       "      <td>0.766318</td>\n",
       "      <td>0.650743</td>\n",
       "      <td>1.175459</td>\n",
       "      <td>828.090978</td>\n",
       "      <td>442.575043</td>\n",
       "      <td>29.373411</td>\n",
       "      <td>401.679240</td>\n",
       "      <td>53.505026</td>\n",
       "      <td>0.138564</td>\n",
       "      <td>0.140828</td>\n",
       "      <td>685.391304</td>\n",
       "      <td>27304.179631</td>\n",
       "    </tr>\n",
       "    <tr>\n",
       "      <th>min</th>\n",
       "      <td>1.000102e+06</td>\n",
       "      <td>7.500000e+04</td>\n",
       "      <td>0.000000</td>\n",
       "      <td>0.000000</td>\n",
       "      <td>290.000000</td>\n",
       "      <td>5.200000e+02</td>\n",
       "      <td>1.000000</td>\n",
       "      <td>0.000000</td>\n",
       "      <td>0.000000</td>\n",
       "      <td>1.000000</td>\n",
       "      <td>1.000000</td>\n",
       "      <td>290.000000</td>\n",
       "      <td>0.000000</td>\n",
       "      <td>1900.000000</td>\n",
       "      <td>0.000000</td>\n",
       "      <td>98001.000000</td>\n",
       "      <td>47.155900</td>\n",
       "      <td>-122.519000</td>\n",
       "      <td>399.000000</td>\n",
       "      <td>651.000000</td>\n",
       "    </tr>\n",
       "    <tr>\n",
       "      <th>25%</th>\n",
       "      <td>2.123049e+09</td>\n",
       "      <td>3.219500e+05</td>\n",
       "      <td>3.000000</td>\n",
       "      <td>1.750000</td>\n",
       "      <td>1427.000000</td>\n",
       "      <td>5.040000e+03</td>\n",
       "      <td>1.000000</td>\n",
       "      <td>0.000000</td>\n",
       "      <td>0.000000</td>\n",
       "      <td>3.000000</td>\n",
       "      <td>7.000000</td>\n",
       "      <td>1190.000000</td>\n",
       "      <td>0.000000</td>\n",
       "      <td>1951.000000</td>\n",
       "      <td>0.000000</td>\n",
       "      <td>98033.000000</td>\n",
       "      <td>47.471000</td>\n",
       "      <td>-122.328000</td>\n",
       "      <td>1490.000000</td>\n",
       "      <td>5100.000000</td>\n",
       "    </tr>\n",
       "    <tr>\n",
       "      <th>50%</th>\n",
       "      <td>3.904930e+09</td>\n",
       "      <td>4.500000e+05</td>\n",
       "      <td>3.000000</td>\n",
       "      <td>2.250000</td>\n",
       "      <td>1910.000000</td>\n",
       "      <td>7.618000e+03</td>\n",
       "      <td>1.500000</td>\n",
       "      <td>0.000000</td>\n",
       "      <td>0.000000</td>\n",
       "      <td>3.000000</td>\n",
       "      <td>7.000000</td>\n",
       "      <td>1560.000000</td>\n",
       "      <td>0.000000</td>\n",
       "      <td>1975.000000</td>\n",
       "      <td>0.000000</td>\n",
       "      <td>98065.000000</td>\n",
       "      <td>47.571800</td>\n",
       "      <td>-122.230000</td>\n",
       "      <td>1840.000000</td>\n",
       "      <td>7620.000000</td>\n",
       "    </tr>\n",
       "    <tr>\n",
       "      <th>75%</th>\n",
       "      <td>7.308900e+09</td>\n",
       "      <td>6.450000e+05</td>\n",
       "      <td>4.000000</td>\n",
       "      <td>2.500000</td>\n",
       "      <td>2550.000000</td>\n",
       "      <td>1.068800e+04</td>\n",
       "      <td>2.000000</td>\n",
       "      <td>0.000000</td>\n",
       "      <td>0.000000</td>\n",
       "      <td>4.000000</td>\n",
       "      <td>8.000000</td>\n",
       "      <td>2210.000000</td>\n",
       "      <td>560.000000</td>\n",
       "      <td>1997.000000</td>\n",
       "      <td>0.000000</td>\n",
       "      <td>98118.000000</td>\n",
       "      <td>47.678000</td>\n",
       "      <td>-122.125000</td>\n",
       "      <td>2360.000000</td>\n",
       "      <td>10083.000000</td>\n",
       "    </tr>\n",
       "    <tr>\n",
       "      <th>max</th>\n",
       "      <td>9.900000e+09</td>\n",
       "      <td>7.700000e+06</td>\n",
       "      <td>33.000000</td>\n",
       "      <td>8.000000</td>\n",
       "      <td>13540.000000</td>\n",
       "      <td>1.651359e+06</td>\n",
       "      <td>3.500000</td>\n",
       "      <td>1.000000</td>\n",
       "      <td>4.000000</td>\n",
       "      <td>5.000000</td>\n",
       "      <td>13.000000</td>\n",
       "      <td>9410.000000</td>\n",
       "      <td>4820.000000</td>\n",
       "      <td>2015.000000</td>\n",
       "      <td>2015.000000</td>\n",
       "      <td>98199.000000</td>\n",
       "      <td>47.777600</td>\n",
       "      <td>-121.315000</td>\n",
       "      <td>6210.000000</td>\n",
       "      <td>871200.000000</td>\n",
       "    </tr>\n",
       "  </tbody>\n",
       "</table>\n",
       "</div>"
      ],
      "text/plain": [
       "                 id         price      bedrooms     bathrooms   sqft_living  \\\n",
       "count  2.161300e+04  2.161300e+04  21609.000000  21613.000000  21613.000000   \n",
       "mean   4.580302e+09  5.400881e+05      3.370910      2.114757   2079.899736   \n",
       "std    2.876566e+09  3.671272e+05      0.930084      0.770163    918.440897   \n",
       "min    1.000102e+06  7.500000e+04      0.000000      0.000000    290.000000   \n",
       "25%    2.123049e+09  3.219500e+05      3.000000      1.750000   1427.000000   \n",
       "50%    3.904930e+09  4.500000e+05      3.000000      2.250000   1910.000000   \n",
       "75%    7.308900e+09  6.450000e+05      4.000000      2.500000   2550.000000   \n",
       "max    9.900000e+09  7.700000e+06     33.000000      8.000000  13540.000000   \n",
       "\n",
       "           sqft_lot        floors    waterfront          view     condition  \\\n",
       "count  2.161300e+04  21612.000000  21613.000000  21613.000000  21613.000000   \n",
       "mean   1.510697e+04      1.494332      0.007542      0.234303      3.409430   \n",
       "std    4.142051e+04      0.539991      0.086517      0.766318      0.650743   \n",
       "min    5.200000e+02      1.000000      0.000000      0.000000      1.000000   \n",
       "25%    5.040000e+03      1.000000      0.000000      0.000000      3.000000   \n",
       "50%    7.618000e+03      1.500000      0.000000      0.000000      3.000000   \n",
       "75%    1.068800e+04      2.000000      0.000000      0.000000      4.000000   \n",
       "max    1.651359e+06      3.500000      1.000000      4.000000      5.000000   \n",
       "\n",
       "              grade    sqft_above  sqft_basement      yr_built  yr_renovated  \\\n",
       "count  21613.000000  21613.000000   21613.000000  21613.000000  21613.000000   \n",
       "mean       7.656873   1788.390691     291.509045   1971.005136     84.402258   \n",
       "std        1.175459    828.090978     442.575043     29.373411    401.679240   \n",
       "min        1.000000    290.000000       0.000000   1900.000000      0.000000   \n",
       "25%        7.000000   1190.000000       0.000000   1951.000000      0.000000   \n",
       "50%        7.000000   1560.000000       0.000000   1975.000000      0.000000   \n",
       "75%        8.000000   2210.000000     560.000000   1997.000000      0.000000   \n",
       "max       13.000000   9410.000000    4820.000000   2015.000000   2015.000000   \n",
       "\n",
       "            zipcode           lat          long  sqft_living15     sqft_lot15  \n",
       "count  21613.000000  21613.000000  21613.000000   21613.000000   21613.000000  \n",
       "mean   98077.939805     47.560053   -122.213896    1986.552492   12768.455652  \n",
       "std       53.505026      0.138564      0.140828     685.391304   27304.179631  \n",
       "min    98001.000000     47.155900   -122.519000     399.000000     651.000000  \n",
       "25%    98033.000000     47.471000   -122.328000    1490.000000    5100.000000  \n",
       "50%    98065.000000     47.571800   -122.230000    1840.000000    7620.000000  \n",
       "75%    98118.000000     47.678000   -122.125000    2360.000000   10083.000000  \n",
       "max    98199.000000     47.777600   -121.315000    6210.000000  871200.000000  "
      ]
     },
     "execution_count": 11,
     "metadata": {},
     "output_type": "execute_result"
    }
   ],
   "source": [
    "# Método describe: Exibe estatísticas descritivas da base de dados (número de registros, média, desvío padrão, \n",
    "# valor mínimo, quartis e valor máximo; por coluna)\n",
    "dataset.describe()"
   ]
  },
  {
   "cell_type": "code",
   "execution_count": 12,
   "metadata": {
    "colab": {
     "base_uri": "https://localhost:8080/",
     "height": 207
    },
    "id": "HE15LdIGzKNL",
    "outputId": "fcc64530-cc7c-436c-9eba-1311820747b7"
   },
   "outputs": [
    {
     "data": {
      "text/html": [
       "<div>\n",
       "<style scoped>\n",
       "    .dataframe tbody tr th:only-of-type {\n",
       "        vertical-align: middle;\n",
       "    }\n",
       "\n",
       "    .dataframe tbody tr th {\n",
       "        vertical-align: top;\n",
       "    }\n",
       "\n",
       "    .dataframe thead th {\n",
       "        text-align: right;\n",
       "    }\n",
       "</style>\n",
       "<table border=\"1\" class=\"dataframe\">\n",
       "  <thead>\n",
       "    <tr style=\"text-align: right;\">\n",
       "      <th></th>\n",
       "      <th>id</th>\n",
       "      <th>price</th>\n",
       "      <th>bedrooms</th>\n",
       "      <th>bathrooms</th>\n",
       "      <th>sqft_living</th>\n",
       "      <th>sqft_lot</th>\n",
       "      <th>floors</th>\n",
       "      <th>waterfront</th>\n",
       "      <th>view</th>\n",
       "      <th>condition</th>\n",
       "      <th>grade</th>\n",
       "      <th>sqft_above</th>\n",
       "      <th>sqft_basement</th>\n",
       "      <th>yr_built</th>\n",
       "      <th>yr_renovated</th>\n",
       "      <th>zipcode</th>\n",
       "      <th>lat</th>\n",
       "      <th>long</th>\n",
       "      <th>sqft_living15</th>\n",
       "      <th>sqft_lot15</th>\n",
       "    </tr>\n",
       "    <tr>\n",
       "      <th>date</th>\n",
       "      <th></th>\n",
       "      <th></th>\n",
       "      <th></th>\n",
       "      <th></th>\n",
       "      <th></th>\n",
       "      <th></th>\n",
       "      <th></th>\n",
       "      <th></th>\n",
       "      <th></th>\n",
       "      <th></th>\n",
       "      <th></th>\n",
       "      <th></th>\n",
       "      <th></th>\n",
       "      <th></th>\n",
       "      <th></th>\n",
       "      <th></th>\n",
       "      <th></th>\n",
       "      <th></th>\n",
       "      <th></th>\n",
       "      <th></th>\n",
       "    </tr>\n",
       "  </thead>\n",
       "  <tbody>\n",
       "    <tr>\n",
       "      <th>20140508T000000</th>\n",
       "      <td>128500260</td>\n",
       "      <td>262000.0</td>\n",
       "      <td>4.0</td>\n",
       "      <td>2.50</td>\n",
       "      <td>2020</td>\n",
       "      <td>6236</td>\n",
       "      <td>2.0</td>\n",
       "      <td>0</td>\n",
       "      <td>0</td>\n",
       "      <td>3</td>\n",
       "      <td>7</td>\n",
       "      <td>2020</td>\n",
       "      <td>0</td>\n",
       "      <td>2002</td>\n",
       "      <td>0</td>\n",
       "      <td>98001</td>\n",
       "      <td>47.2796</td>\n",
       "      <td>-122.247</td>\n",
       "      <td>1940</td>\n",
       "      <td>5076</td>\n",
       "    </tr>\n",
       "    <tr>\n",
       "      <th>20140808T000000</th>\n",
       "      <td>5536100005</td>\n",
       "      <td>2300000.0</td>\n",
       "      <td>7.0</td>\n",
       "      <td>4.75</td>\n",
       "      <td>5310</td>\n",
       "      <td>8816</td>\n",
       "      <td>2.0</td>\n",
       "      <td>0</td>\n",
       "      <td>0</td>\n",
       "      <td>3</td>\n",
       "      <td>10</td>\n",
       "      <td>3650</td>\n",
       "      <td>1660</td>\n",
       "      <td>2013</td>\n",
       "      <td>0</td>\n",
       "      <td>98004</td>\n",
       "      <td>47.6221</td>\n",
       "      <td>-122.208</td>\n",
       "      <td>2920</td>\n",
       "      <td>10610</td>\n",
       "    </tr>\n",
       "    <tr>\n",
       "      <th>20141202T000000</th>\n",
       "      <td>8029500360</td>\n",
       "      <td>330000.0</td>\n",
       "      <td>3.0</td>\n",
       "      <td>2.50</td>\n",
       "      <td>2370</td>\n",
       "      <td>9102</td>\n",
       "      <td>2.0</td>\n",
       "      <td>0</td>\n",
       "      <td>0</td>\n",
       "      <td>3</td>\n",
       "      <td>9</td>\n",
       "      <td>2370</td>\n",
       "      <td>0</td>\n",
       "      <td>1990</td>\n",
       "      <td>0</td>\n",
       "      <td>98023</td>\n",
       "      <td>47.3067</td>\n",
       "      <td>-122.394</td>\n",
       "      <td>2530</td>\n",
       "      <td>9883</td>\n",
       "    </tr>\n",
       "  </tbody>\n",
       "</table>\n",
       "</div>"
      ],
      "text/plain": [
       "                         id      price  bedrooms  bathrooms  sqft_living  \\\n",
       "date                                                                       \n",
       "20140508T000000   128500260   262000.0       4.0       2.50         2020   \n",
       "20140808T000000  5536100005  2300000.0       7.0       4.75         5310   \n",
       "20141202T000000  8029500360   330000.0       3.0       2.50         2370   \n",
       "\n",
       "                 sqft_lot  floors  waterfront  view  condition  grade  \\\n",
       "date                                                                    \n",
       "20140508T000000      6236     2.0           0     0          3      7   \n",
       "20140808T000000      8816     2.0           0     0          3     10   \n",
       "20141202T000000      9102     2.0           0     0          3      9   \n",
       "\n",
       "                 sqft_above  sqft_basement  yr_built  yr_renovated  zipcode  \\\n",
       "date                                                                          \n",
       "20140508T000000        2020              0      2002             0    98001   \n",
       "20140808T000000        3650           1660      2013             0    98004   \n",
       "20141202T000000        2370              0      1990             0    98023   \n",
       "\n",
       "                     lat     long  sqft_living15  sqft_lot15  \n",
       "date                                                          \n",
       "20140508T000000  47.2796 -122.247           1940        5076  \n",
       "20140808T000000  47.6221 -122.208           2920       10610  \n",
       "20141202T000000  47.3067 -122.394           2530        9883  "
      ]
     },
     "execution_count": 12,
     "metadata": {},
     "output_type": "execute_result"
    }
   ],
   "source": [
    "# Método sample: Retorna uma amostra aleatória do DataFrame. O padrão é 1\n",
    "dataset.sample(3)"
   ]
  },
  {
   "cell_type": "code",
   "execution_count": 13,
   "metadata": {
    "colab": {
     "base_uri": "https://localhost:8080/"
    },
    "id": "t1Ni4TeVzX9X",
    "outputId": "cf57e80e-e427-4ec9-e60e-7a5930a94eb7"
   },
   "outputs": [
    {
     "data": {
      "text/plain": [
       "(21613, 20)"
      ]
     },
     "execution_count": 13,
     "metadata": {},
     "output_type": "execute_result"
    }
   ],
   "source": [
    "# Método shape: Retorna em formato de tupla a quantidade de linhas e colunas do DataFrame\n",
    "dataset.shape"
   ]
  },
  {
   "cell_type": "code",
   "execution_count": 14,
   "metadata": {
    "colab": {
     "base_uri": "https://localhost:8080/"
    },
    "id": "WQmAgR5AzkuM",
    "outputId": "defec206-d2b0-49ce-c2c3-b37f0e9c2489"
   },
   "outputs": [
    {
     "name": "stdout",
     "output_type": "stream",
     "text": [
      "<class 'pandas.core.frame.DataFrame'>\n",
      "Index: 21613 entries, 20141013T000000 to 20141015T000000\n",
      "Data columns (total 20 columns):\n",
      " #   Column         Non-Null Count  Dtype  \n",
      "---  ------         --------------  -----  \n",
      " 0   id             21613 non-null  int64  \n",
      " 1   price          21613 non-null  float64\n",
      " 2   bedrooms       21609 non-null  float64\n",
      " 3   bathrooms      21613 non-null  float64\n",
      " 4   sqft_living    21613 non-null  int64  \n",
      " 5   sqft_lot       21613 non-null  int64  \n",
      " 6   floors         21612 non-null  float64\n",
      " 7   waterfront     21613 non-null  int64  \n",
      " 8   view           21613 non-null  int64  \n",
      " 9   condition      21613 non-null  int64  \n",
      " 10  grade          21613 non-null  int64  \n",
      " 11  sqft_above     21613 non-null  int64  \n",
      " 12  sqft_basement  21613 non-null  int64  \n",
      " 13  yr_built       21613 non-null  int64  \n",
      " 14  yr_renovated   21613 non-null  int64  \n",
      " 15  zipcode        21613 non-null  int64  \n",
      " 16  lat            21613 non-null  float64\n",
      " 17  long           21613 non-null  float64\n",
      " 18  sqft_living15  21613 non-null  int64  \n",
      " 19  sqft_lot15     21613 non-null  int64  \n",
      "dtypes: float64(6), int64(14)\n",
      "memory usage: 3.5+ MB\n"
     ]
    }
   ],
   "source": [
    "# Método info: Imprime informações sobre o Dataframe (nome de cada coluna, número de linhas por coluna, o tipo de \n",
    "# dado de cada uma dessas colunas e a quantidade de memória utilizada para ler o arquivo).\n",
    "\n",
    "# Por padrão ele tenta identificar o tipo de dado como int, float, datetime, ou object caso ele não consiga \n",
    "# identificar o tipo exato. Coluna de tipo string fica no formato object no pandas.\n",
    "\n",
    "dataset.info()"
   ]
  },
  {
   "cell_type": "code",
   "execution_count": 15,
   "metadata": {},
   "outputs": [
    {
     "data": {
      "text/html": [
       "<div>\n",
       "<style scoped>\n",
       "    .dataframe tbody tr th:only-of-type {\n",
       "        vertical-align: middle;\n",
       "    }\n",
       "\n",
       "    .dataframe tbody tr th {\n",
       "        vertical-align: top;\n",
       "    }\n",
       "\n",
       "    .dataframe thead th {\n",
       "        text-align: right;\n",
       "    }\n",
       "</style>\n",
       "<table border=\"1\" class=\"dataframe\">\n",
       "  <thead>\n",
       "    <tr style=\"text-align: right;\">\n",
       "      <th></th>\n",
       "      <th>id</th>\n",
       "      <th>bedrooms</th>\n",
       "    </tr>\n",
       "    <tr>\n",
       "      <th>date</th>\n",
       "      <th></th>\n",
       "      <th></th>\n",
       "    </tr>\n",
       "  </thead>\n",
       "  <tbody>\n",
       "    <tr>\n",
       "      <th>20141013T000000</th>\n",
       "      <td>7129300520</td>\n",
       "      <td>3.0</td>\n",
       "    </tr>\n",
       "    <tr>\n",
       "      <th>20141209T000000</th>\n",
       "      <td>6414100192</td>\n",
       "      <td>3.0</td>\n",
       "    </tr>\n",
       "    <tr>\n",
       "      <th>20150225T000000</th>\n",
       "      <td>5631500400</td>\n",
       "      <td>2.0</td>\n",
       "    </tr>\n",
       "    <tr>\n",
       "      <th>20141209T000000</th>\n",
       "      <td>2487200875</td>\n",
       "      <td>4.0</td>\n",
       "    </tr>\n",
       "    <tr>\n",
       "      <th>20150218T000000</th>\n",
       "      <td>1954400510</td>\n",
       "      <td>3.0</td>\n",
       "    </tr>\n",
       "    <tr>\n",
       "      <th>...</th>\n",
       "      <td>...</td>\n",
       "      <td>...</td>\n",
       "    </tr>\n",
       "    <tr>\n",
       "      <th>20140521T000000</th>\n",
       "      <td>263000018</td>\n",
       "      <td>3.0</td>\n",
       "    </tr>\n",
       "    <tr>\n",
       "      <th>20150223T000000</th>\n",
       "      <td>6600060120</td>\n",
       "      <td>4.0</td>\n",
       "    </tr>\n",
       "    <tr>\n",
       "      <th>20140623T000000</th>\n",
       "      <td>1523300141</td>\n",
       "      <td>2.0</td>\n",
       "    </tr>\n",
       "    <tr>\n",
       "      <th>20150116T000000</th>\n",
       "      <td>291310100</td>\n",
       "      <td>3.0</td>\n",
       "    </tr>\n",
       "    <tr>\n",
       "      <th>20141015T000000</th>\n",
       "      <td>1523300157</td>\n",
       "      <td>2.0</td>\n",
       "    </tr>\n",
       "  </tbody>\n",
       "</table>\n",
       "<p>21613 rows × 2 columns</p>\n",
       "</div>"
      ],
      "text/plain": [
       "                         id  bedrooms\n",
       "date                                 \n",
       "20141013T000000  7129300520       3.0\n",
       "20141209T000000  6414100192       3.0\n",
       "20150225T000000  5631500400       2.0\n",
       "20141209T000000  2487200875       4.0\n",
       "20150218T000000  1954400510       3.0\n",
       "...                     ...       ...\n",
       "20140521T000000   263000018       3.0\n",
       "20150223T000000  6600060120       4.0\n",
       "20140623T000000  1523300141       2.0\n",
       "20150116T000000   291310100       3.0\n",
       "20141015T000000  1523300157       2.0\n",
       "\n",
       "[21613 rows x 2 columns]"
      ]
     },
     "execution_count": 15,
     "metadata": {},
     "output_type": "execute_result"
    }
   ],
   "source": [
    "# Imprime colunas específicas\n",
    "dataset[['id', 'bedrooms']]"
   ]
  },
  {
   "cell_type": "code",
   "execution_count": 16,
   "metadata": {},
   "outputs": [
    {
     "data": {
      "text/plain": [
       "date\n",
       "20141013T000000    3.0\n",
       "20141209T000000    3.0\n",
       "20150225T000000    2.0\n",
       "20141209T000000    4.0\n",
       "20150218T000000    3.0\n",
       "                  ... \n",
       "20140521T000000    3.0\n",
       "20150223T000000    4.0\n",
       "20140623T000000    2.0\n",
       "20150116T000000    3.0\n",
       "20141015T000000    2.0\n",
       "Name: bedrooms, Length: 21613, dtype: float64"
      ]
     },
     "execution_count": 16,
     "metadata": {},
     "output_type": "execute_result"
    }
   ],
   "source": [
    "# Imprime uma coluna\n",
    "dataset.bedrooms\n",
    "\n",
    "# ou\n",
    "dataset['bedrooms']"
   ]
  },
  {
   "cell_type": "code",
   "execution_count": 17,
   "metadata": {},
   "outputs": [
    {
     "data": {
      "text/plain": [
       "pandas.core.series.Series"
      ]
     },
     "execution_count": 17,
     "metadata": {},
     "output_type": "execute_result"
    }
   ],
   "source": [
    "# Objeto do tipo Series, uma matriz unidimensional que contém uma sequencia de valores acompanhado de seus \n",
    "# respectivos índices\n",
    "type(dataset.bedrooms)"
   ]
  },
  {
   "cell_type": "markdown",
   "metadata": {},
   "source": [
    "## **Criando um DataFrame a partir de um Dicionário**"
   ]
  },
  {
   "cell_type": "code",
   "execution_count": 18,
   "metadata": {},
   "outputs": [
    {
     "data": {
      "text/html": [
       "<div>\n",
       "<style scoped>\n",
       "    .dataframe tbody tr th:only-of-type {\n",
       "        vertical-align: middle;\n",
       "    }\n",
       "\n",
       "    .dataframe tbody tr th {\n",
       "        vertical-align: top;\n",
       "    }\n",
       "\n",
       "    .dataframe thead th {\n",
       "        text-align: right;\n",
       "    }\n",
       "</style>\n",
       "<table border=\"1\" class=\"dataframe\">\n",
       "  <thead>\n",
       "    <tr style=\"text-align: right;\">\n",
       "      <th></th>\n",
       "      <th>a</th>\n",
       "      <th>b</th>\n",
       "    </tr>\n",
       "  </thead>\n",
       "  <tbody>\n",
       "    <tr>\n",
       "      <th>0</th>\n",
       "      <td>1</td>\n",
       "      <td>4.0</td>\n",
       "    </tr>\n",
       "    <tr>\n",
       "      <th>1</th>\n",
       "      <td>2</td>\n",
       "      <td>5.1</td>\n",
       "    </tr>\n",
       "    <tr>\n",
       "      <th>2</th>\n",
       "      <td>3</td>\n",
       "      <td>6.0</td>\n",
       "    </tr>\n",
       "  </tbody>\n",
       "</table>\n",
       "</div>"
      ],
      "text/plain": [
       "   a    b\n",
       "0  1  4.0\n",
       "1  2  5.1\n",
       "2  3  6.0"
      ]
     },
     "execution_count": 18,
     "metadata": {},
     "output_type": "execute_result"
    }
   ],
   "source": [
    "# Criando o Dataframe\n",
    "dataset1 = pd.DataFrame({'a': [1, 2, 3], 'b': [4.0, 5.1, 6]})\n",
    "dataset1.head()"
   ]
  },
  {
   "cell_type": "code",
   "execution_count": 19,
   "metadata": {},
   "outputs": [
    {
     "data": {
      "text/html": [
       "<div>\n",
       "<style scoped>\n",
       "    .dataframe tbody tr th:only-of-type {\n",
       "        vertical-align: middle;\n",
       "    }\n",
       "\n",
       "    .dataframe tbody tr th {\n",
       "        vertical-align: top;\n",
       "    }\n",
       "\n",
       "    .dataframe thead th {\n",
       "        text-align: right;\n",
       "    }\n",
       "</style>\n",
       "<table border=\"1\" class=\"dataframe\">\n",
       "  <thead>\n",
       "    <tr style=\"text-align: right;\">\n",
       "      <th></th>\n",
       "      <th>a</th>\n",
       "      <th>b</th>\n",
       "      <th>c</th>\n",
       "    </tr>\n",
       "  </thead>\n",
       "  <tbody>\n",
       "    <tr>\n",
       "      <th>Jan</th>\n",
       "      <td>7</td>\n",
       "      <td>11</td>\n",
       "      <td>15</td>\n",
       "    </tr>\n",
       "    <tr>\n",
       "      <th>Feb</th>\n",
       "      <td>8</td>\n",
       "      <td>12</td>\n",
       "      <td>16</td>\n",
       "    </tr>\n",
       "    <tr>\n",
       "      <th>Mar</th>\n",
       "      <td>9</td>\n",
       "      <td>13</td>\n",
       "      <td>17</td>\n",
       "    </tr>\n",
       "    <tr>\n",
       "      <th>Abr</th>\n",
       "      <td>10</td>\n",
       "      <td>14</td>\n",
       "      <td>18</td>\n",
       "    </tr>\n",
       "  </tbody>\n",
       "</table>\n",
       "</div>"
      ],
      "text/plain": [
       "      a   b   c\n",
       "Jan   7  11  15\n",
       "Feb   8  12  16\n",
       "Mar   9  13  17\n",
       "Abr  10  14  18"
      ]
     },
     "execution_count": 19,
     "metadata": {},
     "output_type": "execute_result"
    }
   ],
   "source": [
    "# Parâmetro index: Índice a ser usado para o frame resultante. Por padrão é uma sequência de números \n",
    "# (0, 1, 2,..., n)\n",
    "dataset2 = pd.DataFrame({'a': [7, 8 , 9, 10], 'b': [11, 12, 13, 14], 'c': [15, 16, 17, 18]}, \n",
    "                        index = ['Jan', 'Feb', 'Mar', 'Abr'])\n",
    "dataset2"
   ]
  },
  {
   "cell_type": "markdown",
   "metadata": {},
   "source": [
    "## **Anexando dois DataFrames**"
   ]
  },
  {
   "cell_type": "markdown",
   "metadata": {},
   "source": [
    "Quando anexamos DataFrames com número de colunas diferentes, os valores não existentes são preenchidos com NaN."
   ]
  },
  {
   "cell_type": "code",
   "execution_count": 20,
   "metadata": {},
   "outputs": [
    {
     "data": {
      "text/html": [
       "<div>\n",
       "<style scoped>\n",
       "    .dataframe tbody tr th:only-of-type {\n",
       "        vertical-align: middle;\n",
       "    }\n",
       "\n",
       "    .dataframe tbody tr th {\n",
       "        vertical-align: top;\n",
       "    }\n",
       "\n",
       "    .dataframe thead th {\n",
       "        text-align: right;\n",
       "    }\n",
       "</style>\n",
       "<table border=\"1\" class=\"dataframe\">\n",
       "  <thead>\n",
       "    <tr style=\"text-align: right;\">\n",
       "      <th></th>\n",
       "      <th>a</th>\n",
       "      <th>b</th>\n",
       "      <th>c</th>\n",
       "    </tr>\n",
       "  </thead>\n",
       "  <tbody>\n",
       "    <tr>\n",
       "      <th>0</th>\n",
       "      <td>1</td>\n",
       "      <td>4.0</td>\n",
       "      <td>NaN</td>\n",
       "    </tr>\n",
       "    <tr>\n",
       "      <th>1</th>\n",
       "      <td>2</td>\n",
       "      <td>5.1</td>\n",
       "      <td>NaN</td>\n",
       "    </tr>\n",
       "    <tr>\n",
       "      <th>2</th>\n",
       "      <td>3</td>\n",
       "      <td>6.0</td>\n",
       "      <td>NaN</td>\n",
       "    </tr>\n",
       "    <tr>\n",
       "      <th>Jan</th>\n",
       "      <td>7</td>\n",
       "      <td>11.0</td>\n",
       "      <td>15.0</td>\n",
       "    </tr>\n",
       "    <tr>\n",
       "      <th>Feb</th>\n",
       "      <td>8</td>\n",
       "      <td>12.0</td>\n",
       "      <td>16.0</td>\n",
       "    </tr>\n",
       "    <tr>\n",
       "      <th>Mar</th>\n",
       "      <td>9</td>\n",
       "      <td>13.0</td>\n",
       "      <td>17.0</td>\n",
       "    </tr>\n",
       "    <tr>\n",
       "      <th>Abr</th>\n",
       "      <td>10</td>\n",
       "      <td>14.0</td>\n",
       "      <td>18.0</td>\n",
       "    </tr>\n",
       "  </tbody>\n",
       "</table>\n",
       "</div>"
      ],
      "text/plain": [
       "      a     b     c\n",
       "0     1   4.0   NaN\n",
       "1     2   5.1   NaN\n",
       "2     3   6.0   NaN\n",
       "Jan   7  11.0  15.0\n",
       "Feb   8  12.0  16.0\n",
       "Mar   9  13.0  17.0\n",
       "Abr  10  14.0  18.0"
      ]
     },
     "execution_count": 20,
     "metadata": {},
     "output_type": "execute_result"
    }
   ],
   "source": [
    "# Função append: Anexa linhas de um DataFrame ao final de outro\n",
    "dataset1.append(dataset2)"
   ]
  },
  {
   "cell_type": "markdown",
   "metadata": {},
   "source": [
    "Note que os índices do segundo DataFrame são mantidos."
   ]
  },
  {
   "cell_type": "code",
   "execution_count": 21,
   "metadata": {},
   "outputs": [
    {
     "data": {
      "text/html": [
       "<div>\n",
       "<style scoped>\n",
       "    .dataframe tbody tr th:only-of-type {\n",
       "        vertical-align: middle;\n",
       "    }\n",
       "\n",
       "    .dataframe tbody tr th {\n",
       "        vertical-align: top;\n",
       "    }\n",
       "\n",
       "    .dataframe thead th {\n",
       "        text-align: right;\n",
       "    }\n",
       "</style>\n",
       "<table border=\"1\" class=\"dataframe\">\n",
       "  <thead>\n",
       "    <tr style=\"text-align: right;\">\n",
       "      <th></th>\n",
       "      <th>a</th>\n",
       "      <th>b</th>\n",
       "      <th>c</th>\n",
       "    </tr>\n",
       "  </thead>\n",
       "  <tbody>\n",
       "    <tr>\n",
       "      <th>0</th>\n",
       "      <td>1</td>\n",
       "      <td>4.0</td>\n",
       "      <td>NaN</td>\n",
       "    </tr>\n",
       "    <tr>\n",
       "      <th>1</th>\n",
       "      <td>2</td>\n",
       "      <td>5.1</td>\n",
       "      <td>NaN</td>\n",
       "    </tr>\n",
       "    <tr>\n",
       "      <th>2</th>\n",
       "      <td>3</td>\n",
       "      <td>6.0</td>\n",
       "      <td>NaN</td>\n",
       "    </tr>\n",
       "    <tr>\n",
       "      <th>3</th>\n",
       "      <td>7</td>\n",
       "      <td>11.0</td>\n",
       "      <td>15.0</td>\n",
       "    </tr>\n",
       "    <tr>\n",
       "      <th>4</th>\n",
       "      <td>8</td>\n",
       "      <td>12.0</td>\n",
       "      <td>16.0</td>\n",
       "    </tr>\n",
       "    <tr>\n",
       "      <th>5</th>\n",
       "      <td>9</td>\n",
       "      <td>13.0</td>\n",
       "      <td>17.0</td>\n",
       "    </tr>\n",
       "    <tr>\n",
       "      <th>6</th>\n",
       "      <td>10</td>\n",
       "      <td>14.0</td>\n",
       "      <td>18.0</td>\n",
       "    </tr>\n",
       "  </tbody>\n",
       "</table>\n",
       "</div>"
      ],
      "text/plain": [
       "    a     b     c\n",
       "0   1   4.0   NaN\n",
       "1   2   5.1   NaN\n",
       "2   3   6.0   NaN\n",
       "3   7  11.0  15.0\n",
       "4   8  12.0  16.0\n",
       "5   9  13.0  17.0\n",
       "6  10  14.0  18.0"
      ]
     },
     "execution_count": 21,
     "metadata": {},
     "output_type": "execute_result"
    }
   ],
   "source": [
    "# Anexando dataset2 ao final de dataset1 mantendo valores contínuos no 'index'\n",
    "dataset1.append(dataset2, ignore_index = True)"
   ]
  },
  {
   "cell_type": "markdown",
   "metadata": {},
   "source": [
    "## **Adicionando uma Linha a um DataFrame**"
   ]
  },
  {
   "cell_type": "code",
   "execution_count": 22,
   "metadata": {},
   "outputs": [
    {
     "data": {
      "text/html": [
       "<div>\n",
       "<style scoped>\n",
       "    .dataframe tbody tr th:only-of-type {\n",
       "        vertical-align: middle;\n",
       "    }\n",
       "\n",
       "    .dataframe tbody tr th {\n",
       "        vertical-align: top;\n",
       "    }\n",
       "\n",
       "    .dataframe thead th {\n",
       "        text-align: right;\n",
       "    }\n",
       "</style>\n",
       "<table border=\"1\" class=\"dataframe\">\n",
       "  <thead>\n",
       "    <tr style=\"text-align: right;\">\n",
       "      <th></th>\n",
       "      <th>a</th>\n",
       "      <th>b</th>\n",
       "      <th>c</th>\n",
       "    </tr>\n",
       "  </thead>\n",
       "  <tbody>\n",
       "    <tr>\n",
       "      <th>0</th>\n",
       "      <td>1</td>\n",
       "      <td>4.0</td>\n",
       "      <td>NaN</td>\n",
       "    </tr>\n",
       "    <tr>\n",
       "      <th>1</th>\n",
       "      <td>2</td>\n",
       "      <td>5.1</td>\n",
       "      <td>NaN</td>\n",
       "    </tr>\n",
       "    <tr>\n",
       "      <th>2</th>\n",
       "      <td>3</td>\n",
       "      <td>6.0</td>\n",
       "      <td>NaN</td>\n",
       "    </tr>\n",
       "    <tr>\n",
       "      <th>3</th>\n",
       "      <td>7</td>\n",
       "      <td>77.0</td>\n",
       "      <td>777.0</td>\n",
       "    </tr>\n",
       "  </tbody>\n",
       "</table>\n",
       "</div>"
      ],
      "text/plain": [
       "   a     b      c\n",
       "0  1   4.0    NaN\n",
       "1  2   5.1    NaN\n",
       "2  3   6.0    NaN\n",
       "3  7  77.0  777.0"
      ]
     },
     "execution_count": 22,
     "metadata": {},
     "output_type": "execute_result"
    }
   ],
   "source": [
    "# Anexando uma linha a um DataFrame. Ignore_index precisa ser igual a True\n",
    "nova_linha = {'a':7, 'b':77, 'c': 777}\n",
    "dataset1 = dataset1.append(nova_linha, ignore_index = True)\n",
    "dataset1"
   ]
  },
  {
   "cell_type": "markdown",
   "metadata": {},
   "source": [
    "## **Adicionando uma Coluna a um DataFrame**"
   ]
  },
  {
   "cell_type": "code",
   "execution_count": 23,
   "metadata": {},
   "outputs": [
    {
     "data": {
      "text/html": [
       "<div>\n",
       "<style scoped>\n",
       "    .dataframe tbody tr th:only-of-type {\n",
       "        vertical-align: middle;\n",
       "    }\n",
       "\n",
       "    .dataframe tbody tr th {\n",
       "        vertical-align: top;\n",
       "    }\n",
       "\n",
       "    .dataframe thead th {\n",
       "        text-align: right;\n",
       "    }\n",
       "</style>\n",
       "<table border=\"1\" class=\"dataframe\">\n",
       "  <thead>\n",
       "    <tr style=\"text-align: right;\">\n",
       "      <th></th>\n",
       "      <th>a</th>\n",
       "      <th>b</th>\n",
       "      <th>c</th>\n",
       "      <th>Ano</th>\n",
       "    </tr>\n",
       "  </thead>\n",
       "  <tbody>\n",
       "    <tr>\n",
       "      <th>Jan</th>\n",
       "      <td>7</td>\n",
       "      <td>11</td>\n",
       "      <td>15</td>\n",
       "      <td>1987</td>\n",
       "    </tr>\n",
       "    <tr>\n",
       "      <th>Feb</th>\n",
       "      <td>8</td>\n",
       "      <td>12</td>\n",
       "      <td>16</td>\n",
       "      <td>1990</td>\n",
       "    </tr>\n",
       "    <tr>\n",
       "      <th>Mar</th>\n",
       "      <td>9</td>\n",
       "      <td>13</td>\n",
       "      <td>17</td>\n",
       "      <td>2010</td>\n",
       "    </tr>\n",
       "    <tr>\n",
       "      <th>Abr</th>\n",
       "      <td>10</td>\n",
       "      <td>14</td>\n",
       "      <td>18</td>\n",
       "      <td>1843</td>\n",
       "    </tr>\n",
       "  </tbody>\n",
       "</table>\n",
       "</div>"
      ],
      "text/plain": [
       "      a   b   c   Ano\n",
       "Jan   7  11  15  1987\n",
       "Feb   8  12  16  1990\n",
       "Mar   9  13  17  2010\n",
       "Abr  10  14  18  1843"
      ]
     },
     "execution_count": 23,
     "metadata": {},
     "output_type": "execute_result"
    }
   ],
   "source": [
    "# Adicionando uma coluna a um DataFrame\n",
    "dataset2['Ano'] = [1987, 1990, 2010, 1843]\n",
    "dataset2"
   ]
  },
  {
   "cell_type": "markdown",
   "metadata": {},
   "source": [
    "## **Criando Series**"
   ]
  },
  {
   "cell_type": "code",
   "execution_count": 24,
   "metadata": {},
   "outputs": [
    {
     "data": {
      "text/plain": [
       "0    Chespirito\n",
       "1       Vallejo\n",
       "2         Sagan\n",
       "dtype: object"
      ]
     },
     "execution_count": 24,
     "metadata": {},
     "output_type": "execute_result"
    }
   ],
   "source": [
    "# Criando uma série a partir de uma lista\n",
    "lista = ['Chespirito', 'Vallejo' , 'Sagan']\n",
    "serie = pd.Series(lista)\n",
    "serie"
   ]
  },
  {
   "cell_type": "code",
   "execution_count": 25,
   "metadata": {},
   "outputs": [
    {
     "data": {
      "text/plain": [
       "0    x\n",
       "1    y\n",
       "2    z\n",
       "dtype: object"
      ]
     },
     "execution_count": 25,
     "metadata": {},
     "output_type": "execute_result"
    }
   ],
   "source": [
    "# Criando uma série a partir de um ndarray\n",
    "import numpy as np\n",
    "ndarray = np.array(['x', 'y', 'z'])\n",
    "serie = pd.Series(ndarray)\n",
    "serie"
   ]
  },
  {
   "cell_type": "code",
   "execution_count": 26,
   "metadata": {},
   "outputs": [
    {
     "data": {
      "text/plain": [
       "index_1    linha_1\n",
       "index_2    linha_2\n",
       "index_3    linha_3\n",
       "dtype: object"
      ]
     },
     "execution_count": 26,
     "metadata": {},
     "output_type": "execute_result"
    }
   ],
   "source": [
    "# Criando uma série a partir de um dicionário. As chaves do dicionário são utilizadas como índices\n",
    "dic = {'index_1': 'linha_1', 'index_2': 'linha_2', 'index_3': 'linha_3'}\n",
    "serie = pd.Series(dic)\n",
    "serie"
   ]
  },
  {
   "cell_type": "raw",
   "metadata": {},
   "source": [
    "Você pode acessar os dados da série como faria com uma lista ou ndarray."
   ]
  },
  {
   "cell_type": "code",
   "execution_count": 27,
   "metadata": {},
   "outputs": [
    {
     "data": {
      "text/plain": [
       "'linha_3'"
      ]
     },
     "execution_count": 27,
     "metadata": {},
     "output_type": "execute_result"
    }
   ],
   "source": [
    "# Acessando o último registro da série\n",
    "serie[-1]"
   ]
  },
  {
   "cell_type": "code",
   "execution_count": 28,
   "metadata": {},
   "outputs": [
    {
     "data": {
      "text/plain": [
       "index_1    linha_1\n",
       "index_2    linha_2\n",
       "index_3    linha_3\n",
       "dtype: object"
      ]
     },
     "execution_count": 28,
     "metadata": {},
     "output_type": "execute_result"
    }
   ],
   "source": [
    "# Fatiando uma série\n",
    "serie[:3]"
   ]
  },
  {
   "cell_type": "code",
   "execution_count": 29,
   "metadata": {},
   "outputs": [
    {
     "data": {
      "text/plain": [
       "index_2    linha_2\n",
       "index_3    linha_3\n",
       "dtype: object"
      ]
     },
     "execution_count": 29,
     "metadata": {},
     "output_type": "execute_result"
    }
   ],
   "source": [
    "serie[1:3]"
   ]
  },
  {
   "cell_type": "markdown",
   "metadata": {
    "id": "L-B196ypfsPj"
   },
   "source": [
    "## Pandas Profiling"
   ]
  },
  {
   "cell_type": "markdown",
   "metadata": {
    "id": "hjqSR-h7f4lD"
   },
   "source": [
    "O módulo pandas_profiling inclui o método ProfileReport que gera um relatório interativo em formato web (html) a partir de um Dataframe, com informações estatísticas e as principais características do mesmo, utilizando apenas algumas linhas de código. Este relatório poderia ser exportado pro disco no formato pdf para tê-lo como consulta durante o trabalho.\n",
    "\n",
    "Um dos pontos fortes do relatório gerado são os warnings, onde indica as variáveis que contêm valores NaN, variáveis com muitos zeros, variáveis categóricas com alta cardinalidade, etc... Outro ponto interessante são as correlações entre atributos (correlação de Pearson, correlação de Spearman, etc.).\n",
    "\n",
    "O Pandas Profiling é uma extensão ao Pandas. Por ser um recurso externo ele não vem instalado no Anaconda."
   ]
  },
  {
   "cell_type": "markdown",
   "metadata": {},
   "source": [
    "Instalação do Pandas Profiling ('!' indica para o Jupyter Notebook que estamos invocando um comando do sistema operacional):"
   ]
  },
  {
   "cell_type": "code",
   "execution_count": 30,
   "metadata": {
    "colab": {
     "base_uri": "https://localhost:8080/"
    },
    "id": "AuGRiixuf2OE",
    "outputId": "c7768476-f40f-4fe8-ca0e-234ea2b96748"
   },
   "outputs": [
    {
     "name": "stdout",
     "output_type": "stream",
     "text": [
      "Collecting https://github.com/pandas-profiling/pandas-profiling/archive/master.zip\n",
      "  Using cached https://github.com/pandas-profiling/pandas-profiling/archive/master.zip\n",
      "Requirement already satisfied (use --upgrade to upgrade): pandas-profiling==2.10.0 from https://github.com/pandas-profiling/pandas-profiling/archive/master.zip in /home/jessi/anaconda3/lib/python3.8/site-packages\n",
      "Requirement already satisfied: joblib in /home/jessi/anaconda3/lib/python3.8/site-packages (from pandas-profiling==2.10.0) (0.16.0)\n",
      "Requirement already satisfied: scipy>=1.4.1 in /home/jessi/anaconda3/lib/python3.8/site-packages (from pandas-profiling==2.10.0) (1.5.0)\n",
      "Requirement already satisfied: pandas!=1.0.0,!=1.0.1,!=1.0.2,!=1.1.0,>=0.25.3 in /home/jessi/anaconda3/lib/python3.8/site-packages (from pandas-profiling==2.10.0) (1.0.5)\n",
      "Requirement already satisfied: matplotlib>=3.2.0 in /home/jessi/anaconda3/lib/python3.8/site-packages (from pandas-profiling==2.10.0) (3.2.2)\n",
      "Requirement already satisfied: confuse>=1.0.0 in /home/jessi/anaconda3/lib/python3.8/site-packages (from pandas-profiling==2.10.0) (1.3.0)\n",
      "Requirement already satisfied: jinja2>=2.11.1 in /home/jessi/anaconda3/lib/python3.8/site-packages (from pandas-profiling==2.10.0) (2.11.2)\n",
      "Requirement already satisfied: visions[type_image_path]==0.6.0 in /home/jessi/anaconda3/lib/python3.8/site-packages (from pandas-profiling==2.10.0) (0.6.0)\n",
      "Requirement already satisfied: numpy>=1.16.0 in /home/jessi/anaconda3/lib/python3.8/site-packages (from pandas-profiling==2.10.0) (1.18.5)\n",
      "Requirement already satisfied: attrs>=19.3.0 in /home/jessi/anaconda3/lib/python3.8/site-packages (from pandas-profiling==2.10.0) (19.3.0)\n",
      "Requirement already satisfied: htmlmin>=0.1.12 in /home/jessi/anaconda3/lib/python3.8/site-packages (from pandas-profiling==2.10.0) (0.1.12)\n",
      "Requirement already satisfied: missingno>=0.4.2 in /home/jessi/anaconda3/lib/python3.8/site-packages (from pandas-profiling==2.10.0) (0.4.2)\n",
      "Requirement already satisfied: phik>=0.9.10 in /home/jessi/anaconda3/lib/python3.8/site-packages (from pandas-profiling==2.10.0) (0.10.0)\n",
      "Requirement already satisfied: tangled-up-in-unicode>=0.0.6 in /home/jessi/anaconda3/lib/python3.8/site-packages (from pandas-profiling==2.10.0) (0.0.6)\n",
      "Requirement already satisfied: requests>=2.23.0 in /home/jessi/anaconda3/lib/python3.8/site-packages (from pandas-profiling==2.10.0) (2.24.0)\n",
      "Requirement already satisfied: tqdm>=4.43.0 in /home/jessi/anaconda3/lib/python3.8/site-packages (from pandas-profiling==2.10.0) (4.47.0)\n",
      "Requirement already satisfied: ipywidgets>=7.5.1 in /home/jessi/anaconda3/lib/python3.8/site-packages (from pandas-profiling==2.10.0) (7.5.1)\n",
      "Requirement already satisfied: seaborn>=0.10.1 in /home/jessi/anaconda3/lib/python3.8/site-packages (from pandas-profiling==2.10.0) (0.10.1)\n",
      "Requirement already satisfied: pytz>=2017.2 in /home/jessi/anaconda3/lib/python3.8/site-packages (from pandas!=1.0.0,!=1.0.1,!=1.0.2,!=1.1.0,>=0.25.3->pandas-profiling==2.10.0) (2020.1)\n",
      "Requirement already satisfied: python-dateutil>=2.6.1 in /home/jessi/anaconda3/lib/python3.8/site-packages (from pandas!=1.0.0,!=1.0.1,!=1.0.2,!=1.1.0,>=0.25.3->pandas-profiling==2.10.0) (2.8.1)\n",
      "Requirement already satisfied: cycler>=0.10 in /home/jessi/anaconda3/lib/python3.8/site-packages (from matplotlib>=3.2.0->pandas-profiling==2.10.0) (0.10.0)\n",
      "Requirement already satisfied: kiwisolver>=1.0.1 in /home/jessi/anaconda3/lib/python3.8/site-packages (from matplotlib>=3.2.0->pandas-profiling==2.10.0) (1.2.0)\n",
      "Requirement already satisfied: pyparsing!=2.0.4,!=2.1.2,!=2.1.6,>=2.0.1 in /home/jessi/anaconda3/lib/python3.8/site-packages (from matplotlib>=3.2.0->pandas-profiling==2.10.0) (2.4.7)\n",
      "Requirement already satisfied: pyyaml in /home/jessi/anaconda3/lib/python3.8/site-packages (from confuse>=1.0.0->pandas-profiling==2.10.0) (5.3.1)\n",
      "Requirement already satisfied: MarkupSafe>=0.23 in /home/jessi/anaconda3/lib/python3.8/site-packages (from jinja2>=2.11.1->pandas-profiling==2.10.0) (1.1.1)\n",
      "Requirement already satisfied: networkx>=2.4 in /home/jessi/anaconda3/lib/python3.8/site-packages (from visions[type_image_path]==0.6.0->pandas-profiling==2.10.0) (2.4)\n",
      "Requirement already satisfied: imagehash; extra == \"type_image_path\" in /home/jessi/anaconda3/lib/python3.8/site-packages (from visions[type_image_path]==0.6.0->pandas-profiling==2.10.0) (4.2.0)\n",
      "Requirement already satisfied: Pillow; extra == \"type_image_path\" in /home/jessi/anaconda3/lib/python3.8/site-packages (from visions[type_image_path]==0.6.0->pandas-profiling==2.10.0) (7.2.0)\n",
      "Requirement already satisfied: numba>=0.38.1 in /home/jessi/anaconda3/lib/python3.8/site-packages (from phik>=0.9.10->pandas-profiling==2.10.0) (0.50.1)\n",
      "Requirement already satisfied: idna<3,>=2.5 in /home/jessi/anaconda3/lib/python3.8/site-packages (from requests>=2.23.0->pandas-profiling==2.10.0) (2.10)\n",
      "Requirement already satisfied: chardet<4,>=3.0.2 in /home/jessi/anaconda3/lib/python3.8/site-packages (from requests>=2.23.0->pandas-profiling==2.10.0) (3.0.4)\n",
      "Requirement already satisfied: certifi>=2017.4.17 in /home/jessi/anaconda3/lib/python3.8/site-packages (from requests>=2.23.0->pandas-profiling==2.10.0) (2020.6.20)\n",
      "Requirement already satisfied: urllib3!=1.25.0,!=1.25.1,<1.26,>=1.21.1 in /home/jessi/anaconda3/lib/python3.8/site-packages (from requests>=2.23.0->pandas-profiling==2.10.0) (1.25.9)\n",
      "Requirement already satisfied: ipykernel>=4.5.1 in /home/jessi/anaconda3/lib/python3.8/site-packages (from ipywidgets>=7.5.1->pandas-profiling==2.10.0) (5.3.2)\n",
      "Requirement already satisfied: ipython>=4.0.0; python_version >= \"3.3\" in /home/jessi/anaconda3/lib/python3.8/site-packages (from ipywidgets>=7.5.1->pandas-profiling==2.10.0) (7.16.1)\n",
      "Requirement already satisfied: traitlets>=4.3.1 in /home/jessi/anaconda3/lib/python3.8/site-packages (from ipywidgets>=7.5.1->pandas-profiling==2.10.0) (4.3.3)\n",
      "Requirement already satisfied: nbformat>=4.2.0 in /home/jessi/anaconda3/lib/python3.8/site-packages (from ipywidgets>=7.5.1->pandas-profiling==2.10.0) (5.0.7)\n",
      "Requirement already satisfied: widgetsnbextension~=3.5.0 in /home/jessi/anaconda3/lib/python3.8/site-packages (from ipywidgets>=7.5.1->pandas-profiling==2.10.0) (3.5.1)\n",
      "Requirement already satisfied: six>=1.5 in /home/jessi/anaconda3/lib/python3.8/site-packages (from python-dateutil>=2.6.1->pandas!=1.0.0,!=1.0.1,!=1.0.2,!=1.1.0,>=0.25.3->pandas-profiling==2.10.0) (1.15.0)\n",
      "Requirement already satisfied: decorator>=4.3.0 in /home/jessi/anaconda3/lib/python3.8/site-packages (from networkx>=2.4->visions[type_image_path]==0.6.0->pandas-profiling==2.10.0) (4.4.2)\n",
      "Requirement already satisfied: PyWavelets in /home/jessi/anaconda3/lib/python3.8/site-packages (from imagehash; extra == \"type_image_path\"->visions[type_image_path]==0.6.0->pandas-profiling==2.10.0) (1.1.1)\n",
      "Requirement already satisfied: llvmlite<0.34,>=0.33.0.dev0 in /home/jessi/anaconda3/lib/python3.8/site-packages (from numba>=0.38.1->phik>=0.9.10->pandas-profiling==2.10.0) (0.33.0+1.g022ab0f)\n",
      "Requirement already satisfied: setuptools in /home/jessi/anaconda3/lib/python3.8/site-packages (from numba>=0.38.1->phik>=0.9.10->pandas-profiling==2.10.0) (49.2.0.post20200714)\n",
      "Requirement already satisfied: tornado>=4.2 in /home/jessi/anaconda3/lib/python3.8/site-packages (from ipykernel>=4.5.1->ipywidgets>=7.5.1->pandas-profiling==2.10.0) (6.0.4)\n",
      "Requirement already satisfied: jupyter-client in /home/jessi/anaconda3/lib/python3.8/site-packages (from ipykernel>=4.5.1->ipywidgets>=7.5.1->pandas-profiling==2.10.0) (6.1.6)\n",
      "Requirement already satisfied: pygments in /home/jessi/anaconda3/lib/python3.8/site-packages (from ipython>=4.0.0; python_version >= \"3.3\"->ipywidgets>=7.5.1->pandas-profiling==2.10.0) (2.6.1)\n",
      "Requirement already satisfied: prompt-toolkit!=3.0.0,!=3.0.1,<3.1.0,>=2.0.0 in /home/jessi/anaconda3/lib/python3.8/site-packages (from ipython>=4.0.0; python_version >= \"3.3\"->ipywidgets>=7.5.1->pandas-profiling==2.10.0) (3.0.5)\n",
      "Requirement already satisfied: pexpect; sys_platform != \"win32\" in /home/jessi/anaconda3/lib/python3.8/site-packages (from ipython>=4.0.0; python_version >= \"3.3\"->ipywidgets>=7.5.1->pandas-profiling==2.10.0) (4.8.0)\n",
      "Requirement already satisfied: pickleshare in /home/jessi/anaconda3/lib/python3.8/site-packages (from ipython>=4.0.0; python_version >= \"3.3\"->ipywidgets>=7.5.1->pandas-profiling==2.10.0) (0.7.5)\n",
      "Requirement already satisfied: jedi>=0.10 in /home/jessi/anaconda3/lib/python3.8/site-packages (from ipython>=4.0.0; python_version >= \"3.3\"->ipywidgets>=7.5.1->pandas-profiling==2.10.0) (0.17.1)\n",
      "Requirement already satisfied: backcall in /home/jessi/anaconda3/lib/python3.8/site-packages (from ipython>=4.0.0; python_version >= \"3.3\"->ipywidgets>=7.5.1->pandas-profiling==2.10.0) (0.2.0)\n",
      "Requirement already satisfied: ipython-genutils in /home/jessi/anaconda3/lib/python3.8/site-packages (from traitlets>=4.3.1->ipywidgets>=7.5.1->pandas-profiling==2.10.0) (0.2.0)\n",
      "Requirement already satisfied: jsonschema!=2.5.0,>=2.4 in /home/jessi/anaconda3/lib/python3.8/site-packages (from nbformat>=4.2.0->ipywidgets>=7.5.1->pandas-profiling==2.10.0) (3.2.0)\n"
     ]
    },
    {
     "name": "stdout",
     "output_type": "stream",
     "text": [
      "Requirement already satisfied: jupyter-core in /home/jessi/anaconda3/lib/python3.8/site-packages (from nbformat>=4.2.0->ipywidgets>=7.5.1->pandas-profiling==2.10.0) (4.6.3)\n",
      "Requirement already satisfied: notebook>=4.4.1 in /home/jessi/anaconda3/lib/python3.8/site-packages (from widgetsnbextension~=3.5.0->ipywidgets>=7.5.1->pandas-profiling==2.10.0) (6.0.3)\n",
      "Requirement already satisfied: pyzmq>=13 in /home/jessi/anaconda3/lib/python3.8/site-packages (from jupyter-client->ipykernel>=4.5.1->ipywidgets>=7.5.1->pandas-profiling==2.10.0) (19.0.1)\n",
      "Requirement already satisfied: wcwidth in /home/jessi/anaconda3/lib/python3.8/site-packages (from prompt-toolkit!=3.0.0,!=3.0.1,<3.1.0,>=2.0.0->ipython>=4.0.0; python_version >= \"3.3\"->ipywidgets>=7.5.1->pandas-profiling==2.10.0) (0.2.5)\n",
      "Requirement already satisfied: ptyprocess>=0.5 in /home/jessi/anaconda3/lib/python3.8/site-packages (from pexpect; sys_platform != \"win32\"->ipython>=4.0.0; python_version >= \"3.3\"->ipywidgets>=7.5.1->pandas-profiling==2.10.0) (0.6.0)\n",
      "Requirement already satisfied: parso<0.8.0,>=0.7.0 in /home/jessi/anaconda3/lib/python3.8/site-packages (from jedi>=0.10->ipython>=4.0.0; python_version >= \"3.3\"->ipywidgets>=7.5.1->pandas-profiling==2.10.0) (0.7.0)\n",
      "Requirement already satisfied: pyrsistent>=0.14.0 in /home/jessi/anaconda3/lib/python3.8/site-packages (from jsonschema!=2.5.0,>=2.4->nbformat>=4.2.0->ipywidgets>=7.5.1->pandas-profiling==2.10.0) (0.16.0)\n",
      "Requirement already satisfied: Send2Trash in /home/jessi/anaconda3/lib/python3.8/site-packages (from notebook>=4.4.1->widgetsnbextension~=3.5.0->ipywidgets>=7.5.1->pandas-profiling==2.10.0) (1.5.0)\n",
      "Requirement already satisfied: prometheus-client in /home/jessi/anaconda3/lib/python3.8/site-packages (from notebook>=4.4.1->widgetsnbextension~=3.5.0->ipywidgets>=7.5.1->pandas-profiling==2.10.0) (0.8.0)\n",
      "Requirement already satisfied: terminado>=0.8.1 in /home/jessi/anaconda3/lib/python3.8/site-packages (from notebook>=4.4.1->widgetsnbextension~=3.5.0->ipywidgets>=7.5.1->pandas-profiling==2.10.0) (0.8.3)\n",
      "Requirement already satisfied: nbconvert in /home/jessi/anaconda3/lib/python3.8/site-packages (from notebook>=4.4.1->widgetsnbextension~=3.5.0->ipywidgets>=7.5.1->pandas-profiling==2.10.0) (5.6.1)\n",
      "Requirement already satisfied: entrypoints>=0.2.2 in /home/jessi/anaconda3/lib/python3.8/site-packages (from nbconvert->notebook>=4.4.1->widgetsnbextension~=3.5.0->ipywidgets>=7.5.1->pandas-profiling==2.10.0) (0.3)\n",
      "Requirement already satisfied: bleach in /home/jessi/anaconda3/lib/python3.8/site-packages (from nbconvert->notebook>=4.4.1->widgetsnbextension~=3.5.0->ipywidgets>=7.5.1->pandas-profiling==2.10.0) (3.1.5)\n",
      "Requirement already satisfied: testpath in /home/jessi/anaconda3/lib/python3.8/site-packages (from nbconvert->notebook>=4.4.1->widgetsnbextension~=3.5.0->ipywidgets>=7.5.1->pandas-profiling==2.10.0) (0.4.4)\n",
      "Requirement already satisfied: pandocfilters>=1.4.1 in /home/jessi/anaconda3/lib/python3.8/site-packages (from nbconvert->notebook>=4.4.1->widgetsnbextension~=3.5.0->ipywidgets>=7.5.1->pandas-profiling==2.10.0) (1.4.2)\n",
      "Requirement already satisfied: mistune<2,>=0.8.1 in /home/jessi/anaconda3/lib/python3.8/site-packages (from nbconvert->notebook>=4.4.1->widgetsnbextension~=3.5.0->ipywidgets>=7.5.1->pandas-profiling==2.10.0) (0.8.4)\n",
      "Requirement already satisfied: defusedxml in /home/jessi/anaconda3/lib/python3.8/site-packages (from nbconvert->notebook>=4.4.1->widgetsnbextension~=3.5.0->ipywidgets>=7.5.1->pandas-profiling==2.10.0) (0.6.0)\n",
      "Requirement already satisfied: packaging in /home/jessi/anaconda3/lib/python3.8/site-packages (from bleach->nbconvert->notebook>=4.4.1->widgetsnbextension~=3.5.0->ipywidgets>=7.5.1->pandas-profiling==2.10.0) (20.4)\n",
      "Requirement already satisfied: webencodings in /home/jessi/anaconda3/lib/python3.8/site-packages (from bleach->nbconvert->notebook>=4.4.1->widgetsnbextension~=3.5.0->ipywidgets>=7.5.1->pandas-profiling==2.10.0) (0.5.1)\n",
      "Building wheels for collected packages: pandas-profiling\n",
      "  Building wheel for pandas-profiling (setup.py) ... \u001b[?25ldone\n",
      "\u001b[?25h  Created wheel for pandas-profiling: filename=pandas_profiling-2.10.0-py2.py3-none-any.whl size=232423 sha256=3c4f64b843c9c9a9954c62a4064350b24c958fa476e43f2d662220b7860cf0fa\n",
      "  Stored in directory: /tmp/pip-ephem-wheel-cache-4mp55lg2/wheels/64/b6/85/dfc808b23666a5910371784e349d28818006ff63ed9cfeca59\n",
      "Successfully built pandas-profiling\n"
     ]
    }
   ],
   "source": [
    "!pip install https://github.com/pandas-profiling/pandas-profiling/archive/master.zip"
   ]
  },
  {
   "cell_type": "markdown",
   "metadata": {},
   "source": [
    "Devido ao consumo de memória deixarei os comandos desta seção comentados."
   ]
  },
  {
   "cell_type": "code",
   "execution_count": 31,
   "metadata": {
    "id": "ro9F2-KxgCCN"
   },
   "outputs": [],
   "source": [
    "#import pandas_profiling"
   ]
  },
  {
   "cell_type": "code",
   "execution_count": 32,
   "metadata": {
    "colab": {
     "base_uri": "https://localhost:8080/",
     "height": 444
    },
    "id": "_y97fYBHgK2y",
    "outputId": "402ab8af-156d-46ae-951a-0605bb4124b3"
   },
   "outputs": [],
   "source": [
    "# Lendo o arquivo de dados e criando o Dataframe chamado df\n",
    "#df = pd.read_csv(arquivo)\n",
    "#df.head()"
   ]
  },
  {
   "cell_type": "code",
   "execution_count": 33,
   "metadata": {
    "colab": {
     "base_uri": "https://localhost:8080/",
     "height": 969,
     "referenced_widgets": [
      "8810f0af71574ac195be9f0f64481c51",
      "514e50028d984088a7af7b6ff540a21b",
      "cffbc8789e1944c280e96325252b2025",
      "4e2a10a4c7954289877fe41ec6477d47",
      "2134dbd1e6f944bca55a9db22f73bf3f",
      "d4c960708dfe4dcfa48f27882a1f1fba",
      "77f4b03e2a5348e5951ae7e4ea1c2418",
      "d75b484bca03443ca7d44c08ec6a43c5",
      "16f1e0e0514d4d6cb56c625a50b76022",
      "fbaa2d6885f14f48a444aa82628d427e",
      "09502d9cfd8143c5afa23f015929b30e",
      "b66b139bc4384fb6a9d8b7867fa15a90",
      "da4aa2c654294edaae85feefa24bdc2c",
      "f0f13bd5bd9d484db2201f374b0c66ce",
      "85f32fe1286d4fbb9276b2099a75d0f5",
      "e661d2ec162b4e3c9f6eaba1c94a0335",
      "34ae2e520310459080bbb623a6d1fe7e",
      "a31f6d7f00e8432389e52379394c0d37",
      "805fddd85fff4706a2c74c47c81b6371",
      "d106d2ab029b48af8920a972aba2da60",
      "3861949dace14fcf9027c00e9fc4ba04",
      "149db4d00bb54fa9b805f7705465d157",
      "0718067ab0e74fdcbd830d52541e4f5a",
      "2a80e8818dae482fb3b96dfe1e5e903a",
      "a909f2451ba94adaa029408435e48a31",
      "f467fe4c79fc4b26a1f691edf8067ea9",
      "b6a78d5b4201446faf73095fb0ec0c25",
      "4a1a8025adf344abb9049ea8ccc9c42e",
      "3cc18f9416854486bb8db0de525c8df4",
      "12054e641c7048dd9ff69e7f0e24a826",
      "e34ec70f799d4c7f9661a7af20543769",
      "931cc5cf189c4cf5bcc01d73ea44e53d",
      "97dce6086d834b088d6156397911991c"
     ]
    },
    "id": "WewGtkRIg16X",
    "outputId": "c5b2cc6c-464f-4124-bc80-e22a5da07921"
   },
   "outputs": [],
   "source": [
    "# Usando o pandas_profiling no Jupyter Notebook\n",
    "#pandas_profiling.ProfileReport(df, title = 'Pandas Profile Report', explorative = False)"
   ]
  },
  {
   "cell_type": "markdown",
   "metadata": {},
   "source": [
    "Para gerar um arquivo html, salvamos o relatório em um objeto e usamos a função `to_file`."
   ]
  },
  {
   "cell_type": "code",
   "execution_count": 34,
   "metadata": {
    "colab": {
     "base_uri": "https://localhost:8080/",
     "height": 214,
     "referenced_widgets": [
      "405b5dd099ca4f298126385cee05aa37",
      "489934f99a4043cbad66c0ea8fd1e742",
      "38da4c62ca62489d8fd98757d16aef36",
      "77f44cd691314379ac10c4ebeb4d5418",
      "88f44d15b3774d7fa52990b5254ffc10",
      "c04ce8f3594145779df25d03de61dad1",
      "3d1dac5ee8bf480bad76f08764c8e036",
      "95ffbf994ca94fb489a3a14ec6e9de3e",
      "05e3ae0b4c174d96aeefc4f48bc0ac3b",
      "d2a7f108de93447faeb0b33aab30c570",
      "0326093dafc44ce685adfffed94932e2",
      "88ccdb2ac0744ae49f6e1fba505f55a7",
      "0e14ac454fa942d5a8fdb6a728eeb119",
      "6f17a3f2ad5b465e88524049a87eeea5",
      "1ce252497be7445ab64140b4a275a8d9",
      "86b2118244594619bac4cef47e0cd7bc",
      "2b40d03664e74d919f2eb72ed98086bb",
      "3bb1bbf850ff4908ad247af19cd4cb08",
      "d71ad0f532a740758fdb9aa04c7e5571",
      "757d083ecbb44cee9c3281dac58bc68d",
      "5f25a3cdc61d44f297c1a9f40bdee023",
      "ff6cb0e5a2c0482f88f686c3557b49dd",
      "25ba95efdc134ceeae59d2f9c62c4f0f",
      "e14f850449c94829a12ee68201b02624",
      "30effdddd3ea4ef99cdb79ff9106bc56",
      "b2b151ca8da24291acee3825bfc48b17",
      "e081e31ce8ce4d0eb49677402fac774e",
      "382b601e9fef44d18dd18ed1c07170b6",
      "2377e3830c9f4462a9a5424fd70c4f15",
      "570f61ee6bf84c899f158be46a2edd55",
      "9ce4209354b042c69bb81ec7578b8440",
      "96beeacf367c43b796d0ebd930794a18",
      "b4925f3f2ab34df6a6fa7b999e2f6e83",
      "d309929e2e264a4798cf3c38cafccd40",
      "c7a2b778285443e8ab5c9606e1c0038d",
      "bd66042d87734214bdd5a2c00b8d1a2f",
      "db8415b31ba24c238c5fb41e21c339ce",
      "67058dc11dba4aadaa3ffef89c93259b",
      "b91064c7c8924bff9812a2ab6299143f",
      "4315053ed6f642e3b49ed489c2c9b266",
      "17f327d52cae401e9de4f9cf1116dd1d",
      "71f89c620d5b46ad985cb2273ce96311",
      "6d7beeef93264fdfb52a947c23c4ae98",
      "b4043326ce8a41b1b1d1b71629d2e3fc"
     ]
    },
    "id": "o7-xfEihg-Ty",
    "outputId": "6ffd04a2-15d8-4a46-de30-1e7e6cd7e3b7"
   },
   "outputs": [],
   "source": [
    "# Gerando um relatório html\n",
    "#profile = pandas_profiling.ProfileReport(df)\n",
    "#profile.to_file(output_file = 'report.html')"
   ]
  },
  {
   "cell_type": "markdown",
   "metadata": {
    "id": "2fy3hf4H0Mc0"
   },
   "source": [
    "## **Trabalhando com Grandes Arquivos**\n",
    "\n",
    "Quando trabalhamos com arquivos grandes temos o desafio de não consumir toda a memória do servidor. O Pandas não é utilizado para substituir a infraestrutura de bigdata (Hadoop, Spark ou qualquer outra ferramenta em bigdata), ele tem limite de desempenho e tamanho de base de dados. Mas, existem alguns recursos que podem ser usados para trabalhar com base de dados maiores e que resolve o problema sem ter que recurrir ao uso de mais processadores ou memória. Nesta seção veremos algumas formas de gerenciar a memória em bases de dados grandes."
   ]
  },
  {
   "cell_type": "code",
   "execution_count": 35,
   "metadata": {},
   "outputs": [
    {
     "name": "stdout",
     "output_type": "stream",
     "text": [
      "<class 'pandas.core.frame.DataFrame'>\n",
      "RangeIndex: 21613 entries, 0 to 21612\n",
      "Data columns (total 21 columns):\n",
      " #   Column         Non-Null Count  Dtype  \n",
      "---  ------         --------------  -----  \n",
      " 0   id             21613 non-null  int64  \n",
      " 1   date           21613 non-null  object \n",
      " 2   price          21613 non-null  float64\n",
      " 3   bedrooms       21609 non-null  float64\n",
      " 4   bathrooms      21613 non-null  float64\n",
      " 5   sqft_living    21613 non-null  int64  \n",
      " 6   sqft_lot       21613 non-null  int64  \n",
      " 7   floors         21612 non-null  float64\n",
      " 8   waterfront     21613 non-null  int64  \n",
      " 9   view           21613 non-null  int64  \n",
      " 10  condition      21613 non-null  int64  \n",
      " 11  grade          21613 non-null  int64  \n",
      " 12  sqft_above     21613 non-null  int64  \n",
      " 13  sqft_basement  21613 non-null  int64  \n",
      " 14  yr_built       21613 non-null  int64  \n",
      " 15  yr_renovated   21613 non-null  int64  \n",
      " 16  zipcode        21613 non-null  int64  \n",
      " 17  lat            21613 non-null  float64\n",
      " 18  long           21613 non-null  float64\n",
      " 19  sqft_living15  21613 non-null  int64  \n",
      " 20  sqft_lot15     21613 non-null  int64  \n",
      "dtypes: float64(6), int64(14), object(1)\n",
      "memory usage: 3.5+ MB\n"
     ]
    }
   ],
   "source": [
    "# Leitura do arquivo completo e impressão do uso de memória\n",
    "dataset = pd.read_csv(arquivo)\n",
    "dataset.info()"
   ]
  },
  {
   "cell_type": "markdown",
   "metadata": {},
   "source": [
    "1. **Não colocar todo o arquivo em memória**: Ler o arquivo de forma limitada."
   ]
  },
  {
   "cell_type": "markdown",
   "metadata": {},
   "source": [
    "*   **Leitura de algumas primeiras linhas no momento de carregar o arquivo para a memória**"
   ]
  },
  {
   "cell_type": "code",
   "execution_count": 36,
   "metadata": {
    "colab": {
     "base_uri": "https://localhost:8080/",
     "height": 289
    },
    "id": "8lx_5DcF2Ms_",
    "outputId": "a0d8e024-d45f-4a2a-9ae7-9e953f9fd891"
   },
   "outputs": [
    {
     "data": {
      "text/html": [
       "<div>\n",
       "<style scoped>\n",
       "    .dataframe tbody tr th:only-of-type {\n",
       "        vertical-align: middle;\n",
       "    }\n",
       "\n",
       "    .dataframe tbody tr th {\n",
       "        vertical-align: top;\n",
       "    }\n",
       "\n",
       "    .dataframe thead th {\n",
       "        text-align: right;\n",
       "    }\n",
       "</style>\n",
       "<table border=\"1\" class=\"dataframe\">\n",
       "  <thead>\n",
       "    <tr style=\"text-align: right;\">\n",
       "      <th></th>\n",
       "      <th>id</th>\n",
       "      <th>date</th>\n",
       "      <th>price</th>\n",
       "      <th>bedrooms</th>\n",
       "      <th>bathrooms</th>\n",
       "      <th>sqft_living</th>\n",
       "      <th>sqft_lot</th>\n",
       "      <th>floors</th>\n",
       "      <th>waterfront</th>\n",
       "      <th>view</th>\n",
       "      <th>...</th>\n",
       "      <th>grade</th>\n",
       "      <th>sqft_above</th>\n",
       "      <th>sqft_basement</th>\n",
       "      <th>yr_built</th>\n",
       "      <th>yr_renovated</th>\n",
       "      <th>zipcode</th>\n",
       "      <th>lat</th>\n",
       "      <th>long</th>\n",
       "      <th>sqft_living15</th>\n",
       "      <th>sqft_lot15</th>\n",
       "    </tr>\n",
       "  </thead>\n",
       "  <tbody>\n",
       "    <tr>\n",
       "      <th>95</th>\n",
       "      <td>1483300570</td>\n",
       "      <td>20140908T000000</td>\n",
       "      <td>905000.0</td>\n",
       "      <td>4.0</td>\n",
       "      <td>2.50</td>\n",
       "      <td>3300</td>\n",
       "      <td>10250</td>\n",
       "      <td>1.0</td>\n",
       "      <td>0</td>\n",
       "      <td>0</td>\n",
       "      <td>...</td>\n",
       "      <td>7</td>\n",
       "      <td>2390</td>\n",
       "      <td>910</td>\n",
       "      <td>1946</td>\n",
       "      <td>1991</td>\n",
       "      <td>98040</td>\n",
       "      <td>47.5873</td>\n",
       "      <td>-122.249</td>\n",
       "      <td>1950</td>\n",
       "      <td>6045</td>\n",
       "    </tr>\n",
       "    <tr>\n",
       "      <th>96</th>\n",
       "      <td>3422049190</td>\n",
       "      <td>20150330T000000</td>\n",
       "      <td>247500.0</td>\n",
       "      <td>3.0</td>\n",
       "      <td>1.75</td>\n",
       "      <td>1960</td>\n",
       "      <td>15681</td>\n",
       "      <td>1.0</td>\n",
       "      <td>0</td>\n",
       "      <td>0</td>\n",
       "      <td>...</td>\n",
       "      <td>7</td>\n",
       "      <td>1960</td>\n",
       "      <td>0</td>\n",
       "      <td>1967</td>\n",
       "      <td>0</td>\n",
       "      <td>98032</td>\n",
       "      <td>47.3576</td>\n",
       "      <td>-122.277</td>\n",
       "      <td>1750</td>\n",
       "      <td>15616</td>\n",
       "    </tr>\n",
       "    <tr>\n",
       "      <th>97</th>\n",
       "      <td>1099611230</td>\n",
       "      <td>20140912T000000</td>\n",
       "      <td>199000.0</td>\n",
       "      <td>4.0</td>\n",
       "      <td>1.50</td>\n",
       "      <td>1160</td>\n",
       "      <td>6400</td>\n",
       "      <td>1.0</td>\n",
       "      <td>0</td>\n",
       "      <td>0</td>\n",
       "      <td>...</td>\n",
       "      <td>7</td>\n",
       "      <td>1160</td>\n",
       "      <td>0</td>\n",
       "      <td>1975</td>\n",
       "      <td>0</td>\n",
       "      <td>98023</td>\n",
       "      <td>47.3036</td>\n",
       "      <td>-122.378</td>\n",
       "      <td>1160</td>\n",
       "      <td>6400</td>\n",
       "    </tr>\n",
       "    <tr>\n",
       "      <th>98</th>\n",
       "      <td>722079104</td>\n",
       "      <td>20140711T000000</td>\n",
       "      <td>314000.0</td>\n",
       "      <td>3.0</td>\n",
       "      <td>1.75</td>\n",
       "      <td>1810</td>\n",
       "      <td>41800</td>\n",
       "      <td>1.0</td>\n",
       "      <td>0</td>\n",
       "      <td>0</td>\n",
       "      <td>...</td>\n",
       "      <td>7</td>\n",
       "      <td>1210</td>\n",
       "      <td>600</td>\n",
       "      <td>1980</td>\n",
       "      <td>0</td>\n",
       "      <td>98038</td>\n",
       "      <td>47.4109</td>\n",
       "      <td>-121.958</td>\n",
       "      <td>1650</td>\n",
       "      <td>135036</td>\n",
       "    </tr>\n",
       "    <tr>\n",
       "      <th>99</th>\n",
       "      <td>7338200240</td>\n",
       "      <td>20140516T000000</td>\n",
       "      <td>437500.0</td>\n",
       "      <td>3.0</td>\n",
       "      <td>2.50</td>\n",
       "      <td>2320</td>\n",
       "      <td>36847</td>\n",
       "      <td>2.0</td>\n",
       "      <td>0</td>\n",
       "      <td>2</td>\n",
       "      <td>...</td>\n",
       "      <td>9</td>\n",
       "      <td>2320</td>\n",
       "      <td>0</td>\n",
       "      <td>1992</td>\n",
       "      <td>0</td>\n",
       "      <td>98045</td>\n",
       "      <td>47.4838</td>\n",
       "      <td>-121.714</td>\n",
       "      <td>2550</td>\n",
       "      <td>35065</td>\n",
       "    </tr>\n",
       "  </tbody>\n",
       "</table>\n",
       "<p>5 rows × 21 columns</p>\n",
       "</div>"
      ],
      "text/plain": [
       "            id             date     price  bedrooms  bathrooms  sqft_living  \\\n",
       "95  1483300570  20140908T000000  905000.0       4.0       2.50         3300   \n",
       "96  3422049190  20150330T000000  247500.0       3.0       1.75         1960   \n",
       "97  1099611230  20140912T000000  199000.0       4.0       1.50         1160   \n",
       "98   722079104  20140711T000000  314000.0       3.0       1.75         1810   \n",
       "99  7338200240  20140516T000000  437500.0       3.0       2.50         2320   \n",
       "\n",
       "    sqft_lot  floors  waterfront  view  ...  grade  sqft_above  sqft_basement  \\\n",
       "95     10250     1.0           0     0  ...      7        2390            910   \n",
       "96     15681     1.0           0     0  ...      7        1960              0   \n",
       "97      6400     1.0           0     0  ...      7        1160              0   \n",
       "98     41800     1.0           0     0  ...      7        1210            600   \n",
       "99     36847     2.0           0     2  ...      9        2320              0   \n",
       "\n",
       "    yr_built  yr_renovated  zipcode      lat     long  sqft_living15  \\\n",
       "95      1946          1991    98040  47.5873 -122.249           1950   \n",
       "96      1967             0    98032  47.3576 -122.277           1750   \n",
       "97      1975             0    98023  47.3036 -122.378           1160   \n",
       "98      1980             0    98038  47.4109 -121.958           1650   \n",
       "99      1992             0    98045  47.4838 -121.714           2550   \n",
       "\n",
       "    sqft_lot15  \n",
       "95        6045  \n",
       "96       15616  \n",
       "97        6400  \n",
       "98      135036  \n",
       "99       35065  \n",
       "\n",
       "[5 rows x 21 columns]"
      ]
     },
     "execution_count": 36,
     "metadata": {},
     "output_type": "execute_result"
    }
   ],
   "source": [
    "# Parâmetro nrows: Número de linhas do arquivo para ler. Sem este parâmetro opcional o pandas lê todo o arquivo e \n",
    "# coloca todo seu conteúdo em memória\n",
    "df = pd.read_csv(arquivo, nrows = 100)\n",
    "df.tail()"
   ]
  },
  {
   "cell_type": "markdown",
   "metadata": {},
   "source": [
    "Compare o uso de memória entre ler o arquivo completo e ler ele limitando as linhas (o método *info* mostra o tamanho do Dataframe)."
   ]
  },
  {
   "cell_type": "code",
   "execution_count": 37,
   "metadata": {},
   "outputs": [
    {
     "name": "stdout",
     "output_type": "stream",
     "text": [
      "<class 'pandas.core.frame.DataFrame'>\n",
      "RangeIndex: 100 entries, 0 to 99\n",
      "Data columns (total 21 columns):\n",
      " #   Column         Non-Null Count  Dtype  \n",
      "---  ------         --------------  -----  \n",
      " 0   id             100 non-null    int64  \n",
      " 1   date           100 non-null    object \n",
      " 2   price          100 non-null    float64\n",
      " 3   bedrooms       96 non-null     float64\n",
      " 4   bathrooms      100 non-null    float64\n",
      " 5   sqft_living    100 non-null    int64  \n",
      " 6   sqft_lot       100 non-null    int64  \n",
      " 7   floors         99 non-null     float64\n",
      " 8   waterfront     100 non-null    int64  \n",
      " 9   view           100 non-null    int64  \n",
      " 10  condition      100 non-null    int64  \n",
      " 11  grade          100 non-null    int64  \n",
      " 12  sqft_above     100 non-null    int64  \n",
      " 13  sqft_basement  100 non-null    int64  \n",
      " 14  yr_built       100 non-null    int64  \n",
      " 15  yr_renovated   100 non-null    int64  \n",
      " 16  zipcode        100 non-null    int64  \n",
      " 17  lat            100 non-null    float64\n",
      " 18  long           100 non-null    float64\n",
      " 19  sqft_living15  100 non-null    int64  \n",
      " 20  sqft_lot15     100 non-null    int64  \n",
      "dtypes: float64(6), int64(14), object(1)\n",
      "memory usage: 16.5+ KB\n"
     ]
    }
   ],
   "source": [
    "df.info()"
   ]
  },
  {
   "cell_type": "markdown",
   "metadata": {},
   "source": [
    "*   **Leitura do arquivo usando blocos de linhas de cada vez**"
   ]
  },
  {
   "cell_type": "code",
   "execution_count": 38,
   "metadata": {
    "colab": {
     "base_uri": "https://localhost:8080/"
    },
    "id": "v5N36aii2s_0",
    "outputId": "84684ce0-e045-485a-8bad-ef0f2764956f"
   },
   "outputs": [],
   "source": [
    "# Parâmetro chunksize: Define quantas linhas irá conter cada bloco de memória\n",
    "chunk = pd.read_csv(arquivo, chunksize = 5000)"
   ]
  },
  {
   "cell_type": "code",
   "execution_count": 39,
   "metadata": {},
   "outputs": [
    {
     "data": {
      "text/plain": [
       "pandas.io.parsers.TextFileReader"
      ]
     },
     "execution_count": 39,
     "metadata": {},
     "output_type": "execute_result"
    }
   ],
   "source": [
    "# A variável 'chunk' é um objeto tipo arquivo do pandas\n",
    "type(chunk)"
   ]
  },
  {
   "cell_type": "code",
   "execution_count": 40,
   "metadata": {
    "colab": {
     "base_uri": "https://localhost:8080/"
    },
    "id": "tbOejZ49-S2H",
    "outputId": "9031ea30-90b5-4b79-90f3-b04eef6528b2"
   },
   "outputs": [
    {
     "name": "stdout",
     "output_type": "stream",
     "text": [
      "5000\n",
      "5000\n",
      "5000\n",
      "5000\n",
      "1613\n"
     ]
    }
   ],
   "source": [
    "# Imprimindo tamanho de cada bloco em que foi dividido o arquivo\n",
    "for parte in chunk:\n",
    "  print(len(parte))"
   ]
  },
  {
   "cell_type": "markdown",
   "metadata": {},
   "source": [
    "Processamento dos blocos:"
   ]
  },
  {
   "cell_type": "code",
   "execution_count": 41,
   "metadata": {},
   "outputs": [],
   "source": [
    "# Criando uma nova coluna no 'dataset' (floor_size)\n",
    "\n",
    "chunk = pd.read_csv(arquivo, nrows = 7, chunksize = 5000)\n",
    "# Iteramos sobre cada bloco e salvamos o resultado numa mesma lista \n",
    "lista = []\n",
    "for parte in chunk:\n",
    "    # Multiplicando o valor de cada linha da coluna 'floors' por 3\n",
    "    lista.append(parte['floors']*3)\n",
    "# Método concat: Concatena uma lista a um Dataframe existente    \n",
    "dataset['floors_size'] = pd.concat(lista)\n",
    "\n",
    "# Outra forma:\n",
    "\n",
    "chunk = pd.read_csv(arquivo, chunksize = 5000)\n",
    "dataset['floors_size'] = pd.concat(chunk, ignore_index = True)['floors']*3"
   ]
  },
  {
   "cell_type": "code",
   "execution_count": 42,
   "metadata": {
    "colab": {
     "base_uri": "https://localhost:8080/",
     "height": 289
    },
    "id": "HAJzLvmDFvUL",
    "outputId": "d5911f44-416f-4045-e802-9374eab892e1"
   },
   "outputs": [
    {
     "data": {
      "text/html": [
       "<div>\n",
       "<style scoped>\n",
       "    .dataframe tbody tr th:only-of-type {\n",
       "        vertical-align: middle;\n",
       "    }\n",
       "\n",
       "    .dataframe tbody tr th {\n",
       "        vertical-align: top;\n",
       "    }\n",
       "\n",
       "    .dataframe thead th {\n",
       "        text-align: right;\n",
       "    }\n",
       "</style>\n",
       "<table border=\"1\" class=\"dataframe\">\n",
       "  <thead>\n",
       "    <tr style=\"text-align: right;\">\n",
       "      <th></th>\n",
       "      <th>id</th>\n",
       "      <th>date</th>\n",
       "      <th>price</th>\n",
       "      <th>bedrooms</th>\n",
       "      <th>bathrooms</th>\n",
       "      <th>sqft_living</th>\n",
       "      <th>sqft_lot</th>\n",
       "      <th>floors</th>\n",
       "      <th>waterfront</th>\n",
       "      <th>view</th>\n",
       "      <th>...</th>\n",
       "      <th>sqft_above</th>\n",
       "      <th>sqft_basement</th>\n",
       "      <th>yr_built</th>\n",
       "      <th>yr_renovated</th>\n",
       "      <th>zipcode</th>\n",
       "      <th>lat</th>\n",
       "      <th>long</th>\n",
       "      <th>sqft_living15</th>\n",
       "      <th>sqft_lot15</th>\n",
       "      <th>floors_size</th>\n",
       "    </tr>\n",
       "  </thead>\n",
       "  <tbody>\n",
       "    <tr>\n",
       "      <th>0</th>\n",
       "      <td>7129300520</td>\n",
       "      <td>20141013T000000</td>\n",
       "      <td>221900.0</td>\n",
       "      <td>3.0</td>\n",
       "      <td>1.00</td>\n",
       "      <td>1180</td>\n",
       "      <td>5650</td>\n",
       "      <td>1.0</td>\n",
       "      <td>0</td>\n",
       "      <td>0</td>\n",
       "      <td>...</td>\n",
       "      <td>1180</td>\n",
       "      <td>0</td>\n",
       "      <td>1955</td>\n",
       "      <td>0</td>\n",
       "      <td>98178</td>\n",
       "      <td>47.5112</td>\n",
       "      <td>-122.257</td>\n",
       "      <td>1340</td>\n",
       "      <td>5650</td>\n",
       "      <td>3.0</td>\n",
       "    </tr>\n",
       "    <tr>\n",
       "      <th>1</th>\n",
       "      <td>6414100192</td>\n",
       "      <td>20141209T000000</td>\n",
       "      <td>538000.0</td>\n",
       "      <td>3.0</td>\n",
       "      <td>2.25</td>\n",
       "      <td>2570</td>\n",
       "      <td>7242</td>\n",
       "      <td>2.0</td>\n",
       "      <td>0</td>\n",
       "      <td>0</td>\n",
       "      <td>...</td>\n",
       "      <td>2170</td>\n",
       "      <td>400</td>\n",
       "      <td>1951</td>\n",
       "      <td>1991</td>\n",
       "      <td>98125</td>\n",
       "      <td>47.7210</td>\n",
       "      <td>-122.319</td>\n",
       "      <td>1690</td>\n",
       "      <td>7639</td>\n",
       "      <td>6.0</td>\n",
       "    </tr>\n",
       "    <tr>\n",
       "      <th>2</th>\n",
       "      <td>5631500400</td>\n",
       "      <td>20150225T000000</td>\n",
       "      <td>180000.0</td>\n",
       "      <td>2.0</td>\n",
       "      <td>1.00</td>\n",
       "      <td>770</td>\n",
       "      <td>10000</td>\n",
       "      <td>1.0</td>\n",
       "      <td>0</td>\n",
       "      <td>0</td>\n",
       "      <td>...</td>\n",
       "      <td>770</td>\n",
       "      <td>0</td>\n",
       "      <td>1933</td>\n",
       "      <td>0</td>\n",
       "      <td>98028</td>\n",
       "      <td>47.7379</td>\n",
       "      <td>-122.233</td>\n",
       "      <td>2720</td>\n",
       "      <td>8062</td>\n",
       "      <td>3.0</td>\n",
       "    </tr>\n",
       "    <tr>\n",
       "      <th>3</th>\n",
       "      <td>2487200875</td>\n",
       "      <td>20141209T000000</td>\n",
       "      <td>604000.0</td>\n",
       "      <td>4.0</td>\n",
       "      <td>3.00</td>\n",
       "      <td>1960</td>\n",
       "      <td>5000</td>\n",
       "      <td>1.0</td>\n",
       "      <td>0</td>\n",
       "      <td>0</td>\n",
       "      <td>...</td>\n",
       "      <td>1050</td>\n",
       "      <td>910</td>\n",
       "      <td>1965</td>\n",
       "      <td>0</td>\n",
       "      <td>98136</td>\n",
       "      <td>47.5208</td>\n",
       "      <td>-122.393</td>\n",
       "      <td>1360</td>\n",
       "      <td>5000</td>\n",
       "      <td>3.0</td>\n",
       "    </tr>\n",
       "    <tr>\n",
       "      <th>4</th>\n",
       "      <td>1954400510</td>\n",
       "      <td>20150218T000000</td>\n",
       "      <td>510000.0</td>\n",
       "      <td>3.0</td>\n",
       "      <td>2.00</td>\n",
       "      <td>1680</td>\n",
       "      <td>8080</td>\n",
       "      <td>1.0</td>\n",
       "      <td>0</td>\n",
       "      <td>0</td>\n",
       "      <td>...</td>\n",
       "      <td>1680</td>\n",
       "      <td>0</td>\n",
       "      <td>1987</td>\n",
       "      <td>0</td>\n",
       "      <td>98074</td>\n",
       "      <td>47.6168</td>\n",
       "      <td>-122.045</td>\n",
       "      <td>1800</td>\n",
       "      <td>7503</td>\n",
       "      <td>3.0</td>\n",
       "    </tr>\n",
       "    <tr>\n",
       "      <th>...</th>\n",
       "      <td>...</td>\n",
       "      <td>...</td>\n",
       "      <td>...</td>\n",
       "      <td>...</td>\n",
       "      <td>...</td>\n",
       "      <td>...</td>\n",
       "      <td>...</td>\n",
       "      <td>...</td>\n",
       "      <td>...</td>\n",
       "      <td>...</td>\n",
       "      <td>...</td>\n",
       "      <td>...</td>\n",
       "      <td>...</td>\n",
       "      <td>...</td>\n",
       "      <td>...</td>\n",
       "      <td>...</td>\n",
       "      <td>...</td>\n",
       "      <td>...</td>\n",
       "      <td>...</td>\n",
       "      <td>...</td>\n",
       "      <td>...</td>\n",
       "    </tr>\n",
       "    <tr>\n",
       "      <th>21608</th>\n",
       "      <td>263000018</td>\n",
       "      <td>20140521T000000</td>\n",
       "      <td>360000.0</td>\n",
       "      <td>3.0</td>\n",
       "      <td>2.50</td>\n",
       "      <td>1530</td>\n",
       "      <td>1131</td>\n",
       "      <td>3.0</td>\n",
       "      <td>0</td>\n",
       "      <td>0</td>\n",
       "      <td>...</td>\n",
       "      <td>1530</td>\n",
       "      <td>0</td>\n",
       "      <td>2009</td>\n",
       "      <td>0</td>\n",
       "      <td>98103</td>\n",
       "      <td>47.6993</td>\n",
       "      <td>-122.346</td>\n",
       "      <td>1530</td>\n",
       "      <td>1509</td>\n",
       "      <td>9.0</td>\n",
       "    </tr>\n",
       "    <tr>\n",
       "      <th>21609</th>\n",
       "      <td>6600060120</td>\n",
       "      <td>20150223T000000</td>\n",
       "      <td>400000.0</td>\n",
       "      <td>4.0</td>\n",
       "      <td>2.50</td>\n",
       "      <td>2310</td>\n",
       "      <td>5813</td>\n",
       "      <td>2.0</td>\n",
       "      <td>0</td>\n",
       "      <td>0</td>\n",
       "      <td>...</td>\n",
       "      <td>2310</td>\n",
       "      <td>0</td>\n",
       "      <td>2014</td>\n",
       "      <td>0</td>\n",
       "      <td>98146</td>\n",
       "      <td>47.5107</td>\n",
       "      <td>-122.362</td>\n",
       "      <td>1830</td>\n",
       "      <td>7200</td>\n",
       "      <td>6.0</td>\n",
       "    </tr>\n",
       "    <tr>\n",
       "      <th>21610</th>\n",
       "      <td>1523300141</td>\n",
       "      <td>20140623T000000</td>\n",
       "      <td>402101.0</td>\n",
       "      <td>2.0</td>\n",
       "      <td>0.75</td>\n",
       "      <td>1020</td>\n",
       "      <td>1350</td>\n",
       "      <td>2.0</td>\n",
       "      <td>0</td>\n",
       "      <td>0</td>\n",
       "      <td>...</td>\n",
       "      <td>1020</td>\n",
       "      <td>0</td>\n",
       "      <td>2009</td>\n",
       "      <td>0</td>\n",
       "      <td>98144</td>\n",
       "      <td>47.5944</td>\n",
       "      <td>-122.299</td>\n",
       "      <td>1020</td>\n",
       "      <td>2007</td>\n",
       "      <td>6.0</td>\n",
       "    </tr>\n",
       "    <tr>\n",
       "      <th>21611</th>\n",
       "      <td>291310100</td>\n",
       "      <td>20150116T000000</td>\n",
       "      <td>400000.0</td>\n",
       "      <td>3.0</td>\n",
       "      <td>2.50</td>\n",
       "      <td>1600</td>\n",
       "      <td>2388</td>\n",
       "      <td>2.0</td>\n",
       "      <td>0</td>\n",
       "      <td>0</td>\n",
       "      <td>...</td>\n",
       "      <td>1600</td>\n",
       "      <td>0</td>\n",
       "      <td>2004</td>\n",
       "      <td>0</td>\n",
       "      <td>98027</td>\n",
       "      <td>47.5345</td>\n",
       "      <td>-122.069</td>\n",
       "      <td>1410</td>\n",
       "      <td>1287</td>\n",
       "      <td>6.0</td>\n",
       "    </tr>\n",
       "    <tr>\n",
       "      <th>21612</th>\n",
       "      <td>1523300157</td>\n",
       "      <td>20141015T000000</td>\n",
       "      <td>325000.0</td>\n",
       "      <td>2.0</td>\n",
       "      <td>0.75</td>\n",
       "      <td>1020</td>\n",
       "      <td>1076</td>\n",
       "      <td>2.0</td>\n",
       "      <td>0</td>\n",
       "      <td>0</td>\n",
       "      <td>...</td>\n",
       "      <td>1020</td>\n",
       "      <td>0</td>\n",
       "      <td>2008</td>\n",
       "      <td>0</td>\n",
       "      <td>98144</td>\n",
       "      <td>47.5941</td>\n",
       "      <td>-122.299</td>\n",
       "      <td>1020</td>\n",
       "      <td>1357</td>\n",
       "      <td>6.0</td>\n",
       "    </tr>\n",
       "  </tbody>\n",
       "</table>\n",
       "<p>21613 rows × 22 columns</p>\n",
       "</div>"
      ],
      "text/plain": [
       "               id             date     price  bedrooms  bathrooms  \\\n",
       "0      7129300520  20141013T000000  221900.0       3.0       1.00   \n",
       "1      6414100192  20141209T000000  538000.0       3.0       2.25   \n",
       "2      5631500400  20150225T000000  180000.0       2.0       1.00   \n",
       "3      2487200875  20141209T000000  604000.0       4.0       3.00   \n",
       "4      1954400510  20150218T000000  510000.0       3.0       2.00   \n",
       "...           ...              ...       ...       ...        ...   \n",
       "21608   263000018  20140521T000000  360000.0       3.0       2.50   \n",
       "21609  6600060120  20150223T000000  400000.0       4.0       2.50   \n",
       "21610  1523300141  20140623T000000  402101.0       2.0       0.75   \n",
       "21611   291310100  20150116T000000  400000.0       3.0       2.50   \n",
       "21612  1523300157  20141015T000000  325000.0       2.0       0.75   \n",
       "\n",
       "       sqft_living  sqft_lot  floors  waterfront  view  ...  sqft_above  \\\n",
       "0             1180      5650     1.0           0     0  ...        1180   \n",
       "1             2570      7242     2.0           0     0  ...        2170   \n",
       "2              770     10000     1.0           0     0  ...         770   \n",
       "3             1960      5000     1.0           0     0  ...        1050   \n",
       "4             1680      8080     1.0           0     0  ...        1680   \n",
       "...            ...       ...     ...         ...   ...  ...         ...   \n",
       "21608         1530      1131     3.0           0     0  ...        1530   \n",
       "21609         2310      5813     2.0           0     0  ...        2310   \n",
       "21610         1020      1350     2.0           0     0  ...        1020   \n",
       "21611         1600      2388     2.0           0     0  ...        1600   \n",
       "21612         1020      1076     2.0           0     0  ...        1020   \n",
       "\n",
       "       sqft_basement  yr_built  yr_renovated  zipcode      lat     long  \\\n",
       "0                  0      1955             0    98178  47.5112 -122.257   \n",
       "1                400      1951          1991    98125  47.7210 -122.319   \n",
       "2                  0      1933             0    98028  47.7379 -122.233   \n",
       "3                910      1965             0    98136  47.5208 -122.393   \n",
       "4                  0      1987             0    98074  47.6168 -122.045   \n",
       "...              ...       ...           ...      ...      ...      ...   \n",
       "21608              0      2009             0    98103  47.6993 -122.346   \n",
       "21609              0      2014             0    98146  47.5107 -122.362   \n",
       "21610              0      2009             0    98144  47.5944 -122.299   \n",
       "21611              0      2004             0    98027  47.5345 -122.069   \n",
       "21612              0      2008             0    98144  47.5941 -122.299   \n",
       "\n",
       "       sqft_living15  sqft_lot15  floors_size  \n",
       "0               1340        5650          3.0  \n",
       "1               1690        7639          6.0  \n",
       "2               2720        8062          3.0  \n",
       "3               1360        5000          3.0  \n",
       "4               1800        7503          3.0  \n",
       "...              ...         ...          ...  \n",
       "21608           1530        1509          9.0  \n",
       "21609           1830        7200          6.0  \n",
       "21610           1020        2007          6.0  \n",
       "21611           1410        1287          6.0  \n",
       "21612           1020        1357          6.0  \n",
       "\n",
       "[21613 rows x 22 columns]"
      ]
     },
     "execution_count": 42,
     "metadata": {},
     "output_type": "execute_result"
    }
   ],
   "source": [
    "dataset"
   ]
  },
  {
   "cell_type": "markdown",
   "metadata": {
    "id": "UJCDtOnRI2Fd"
   },
   "source": [
    "*   **Trabalhe apenas com as colunas que precisar**: Uma forma de fazer isso é primeiro usar `nrows` para ler as 5 primeiras linhas e depois exportar os nomes das colunas como segue, para usar o parâmetro usecols."
   ]
  },
  {
   "cell_type": "code",
   "execution_count": 43,
   "metadata": {
    "colab": {
     "base_uri": "https://localhost:8080/"
    },
    "id": "E2NLfpvZI5lt",
    "outputId": "e3ac5995-d54b-45f5-c66c-0c7442d6d9bd"
   },
   "outputs": [
    {
     "data": {
      "text/plain": [
       "['id',\n",
       " 'date',\n",
       " 'price',\n",
       " 'bedrooms',\n",
       " 'bathrooms',\n",
       " 'sqft_living',\n",
       " 'sqft_lot',\n",
       " 'floors',\n",
       " 'waterfront',\n",
       " 'view',\n",
       " 'condition',\n",
       " 'grade',\n",
       " 'sqft_above',\n",
       " 'sqft_basement',\n",
       " 'yr_built',\n",
       " 'yr_renovated',\n",
       " 'zipcode',\n",
       " 'lat',\n",
       " 'long',\n",
       " 'sqft_living15',\n",
       " 'sqft_lot15']"
      ]
     },
     "execution_count": 43,
     "metadata": {},
     "output_type": "execute_result"
    }
   ],
   "source": [
    "# Exportar os nomes das colunas\n",
    "\n",
    "# Método tolist: Tranforma uma sequencia de dados a lista\n",
    "df.columns.tolist()"
   ]
  },
  {
   "cell_type": "code",
   "execution_count": 44,
   "metadata": {
    "colab": {
     "base_uri": "https://localhost:8080/",
     "height": 424
    },
    "id": "yrnT54QhI8-F",
    "outputId": "135f5f9f-b7cf-4549-8a2d-80d503a43c66"
   },
   "outputs": [
    {
     "data": {
      "text/html": [
       "<div>\n",
       "<style scoped>\n",
       "    .dataframe tbody tr th:only-of-type {\n",
       "        vertical-align: middle;\n",
       "    }\n",
       "\n",
       "    .dataframe tbody tr th {\n",
       "        vertical-align: top;\n",
       "    }\n",
       "\n",
       "    .dataframe thead th {\n",
       "        text-align: right;\n",
       "    }\n",
       "</style>\n",
       "<table border=\"1\" class=\"dataframe\">\n",
       "  <thead>\n",
       "    <tr style=\"text-align: right;\">\n",
       "      <th></th>\n",
       "      <th>id</th>\n",
       "      <th>date</th>\n",
       "      <th>price</th>\n",
       "      <th>bedrooms</th>\n",
       "      <th>bathrooms</th>\n",
       "      <th>sqft_living</th>\n",
       "      <th>sqft_lot</th>\n",
       "    </tr>\n",
       "  </thead>\n",
       "  <tbody>\n",
       "    <tr>\n",
       "      <th>0</th>\n",
       "      <td>7129300520</td>\n",
       "      <td>20141013T000000</td>\n",
       "      <td>221900.0</td>\n",
       "      <td>3.0</td>\n",
       "      <td>1.00</td>\n",
       "      <td>1180</td>\n",
       "      <td>5650</td>\n",
       "    </tr>\n",
       "    <tr>\n",
       "      <th>1</th>\n",
       "      <td>6414100192</td>\n",
       "      <td>20141209T000000</td>\n",
       "      <td>538000.0</td>\n",
       "      <td>3.0</td>\n",
       "      <td>2.25</td>\n",
       "      <td>2570</td>\n",
       "      <td>7242</td>\n",
       "    </tr>\n",
       "    <tr>\n",
       "      <th>2</th>\n",
       "      <td>5631500400</td>\n",
       "      <td>20150225T000000</td>\n",
       "      <td>180000.0</td>\n",
       "      <td>2.0</td>\n",
       "      <td>1.00</td>\n",
       "      <td>770</td>\n",
       "      <td>10000</td>\n",
       "    </tr>\n",
       "    <tr>\n",
       "      <th>3</th>\n",
       "      <td>2487200875</td>\n",
       "      <td>20141209T000000</td>\n",
       "      <td>604000.0</td>\n",
       "      <td>4.0</td>\n",
       "      <td>3.00</td>\n",
       "      <td>1960</td>\n",
       "      <td>5000</td>\n",
       "    </tr>\n",
       "    <tr>\n",
       "      <th>4</th>\n",
       "      <td>1954400510</td>\n",
       "      <td>20150218T000000</td>\n",
       "      <td>510000.0</td>\n",
       "      <td>3.0</td>\n",
       "      <td>2.00</td>\n",
       "      <td>1680</td>\n",
       "      <td>8080</td>\n",
       "    </tr>\n",
       "  </tbody>\n",
       "</table>\n",
       "</div>"
      ],
      "text/plain": [
       "           id             date     price  bedrooms  bathrooms  sqft_living  \\\n",
       "0  7129300520  20141013T000000  221900.0       3.0       1.00         1180   \n",
       "1  6414100192  20141209T000000  538000.0       3.0       2.25         2570   \n",
       "2  5631500400  20150225T000000  180000.0       2.0       1.00          770   \n",
       "3  2487200875  20141209T000000  604000.0       4.0       3.00         1960   \n",
       "4  1954400510  20150218T000000  510000.0       3.0       2.00         1680   \n",
       "\n",
       "   sqft_lot  \n",
       "0      5650  \n",
       "1      7242  \n",
       "2     10000  \n",
       "3      5000  \n",
       "4      8080  "
      ]
     },
     "execution_count": 44,
     "metadata": {},
     "output_type": "execute_result"
    }
   ],
   "source": [
    "# Definindo as colunas que serão usadas no momento de ler a base de dados.\n",
    "\n",
    "# Parâmetro usecols: Carrega colunas específicas no Dataframe.\n",
    "df = pd.read_csv(arquivo, usecols = ['id', 'date', 'price', 'bedrooms', 'bathrooms', 'sqft_living', 'sqft_lot'])\n",
    "df.head()"
   ]
  },
  {
   "cell_type": "code",
   "execution_count": 45,
   "metadata": {
    "colab": {
     "base_uri": "https://localhost:8080/",
     "height": 207
    },
    "id": "qq6isqCzPqsW",
    "outputId": "ba3ccfc0-7a64-4c37-b685-5a2d5c5b2c25"
   },
   "outputs": [
    {
     "data": {
      "text/html": [
       "<div>\n",
       "<style scoped>\n",
       "    .dataframe tbody tr th:only-of-type {\n",
       "        vertical-align: middle;\n",
       "    }\n",
       "\n",
       "    .dataframe tbody tr th {\n",
       "        vertical-align: top;\n",
       "    }\n",
       "\n",
       "    .dataframe thead th {\n",
       "        text-align: right;\n",
       "    }\n",
       "</style>\n",
       "<table border=\"1\" class=\"dataframe\">\n",
       "  <thead>\n",
       "    <tr style=\"text-align: right;\">\n",
       "      <th></th>\n",
       "      <th>id</th>\n",
       "      <th>date</th>\n",
       "      <th>price</th>\n",
       "      <th>bedrooms</th>\n",
       "      <th>bathrooms</th>\n",
       "      <th>sqft_living</th>\n",
       "    </tr>\n",
       "  </thead>\n",
       "  <tbody>\n",
       "    <tr>\n",
       "      <th>0</th>\n",
       "      <td>7129300520</td>\n",
       "      <td>20141013T000000</td>\n",
       "      <td>221900.0</td>\n",
       "      <td>3.0</td>\n",
       "      <td>1.00</td>\n",
       "      <td>1180</td>\n",
       "    </tr>\n",
       "    <tr>\n",
       "      <th>1</th>\n",
       "      <td>6414100192</td>\n",
       "      <td>20141209T000000</td>\n",
       "      <td>538000.0</td>\n",
       "      <td>3.0</td>\n",
       "      <td>2.25</td>\n",
       "      <td>2570</td>\n",
       "    </tr>\n",
       "    <tr>\n",
       "      <th>2</th>\n",
       "      <td>5631500400</td>\n",
       "      <td>20150225T000000</td>\n",
       "      <td>180000.0</td>\n",
       "      <td>2.0</td>\n",
       "      <td>1.00</td>\n",
       "      <td>770</td>\n",
       "    </tr>\n",
       "    <tr>\n",
       "      <th>3</th>\n",
       "      <td>2487200875</td>\n",
       "      <td>20141209T000000</td>\n",
       "      <td>604000.0</td>\n",
       "      <td>4.0</td>\n",
       "      <td>3.00</td>\n",
       "      <td>1960</td>\n",
       "    </tr>\n",
       "    <tr>\n",
       "      <th>4</th>\n",
       "      <td>1954400510</td>\n",
       "      <td>20150218T000000</td>\n",
       "      <td>510000.0</td>\n",
       "      <td>3.0</td>\n",
       "      <td>2.00</td>\n",
       "      <td>1680</td>\n",
       "    </tr>\n",
       "  </tbody>\n",
       "</table>\n",
       "</div>"
      ],
      "text/plain": [
       "           id             date     price  bedrooms  bathrooms  sqft_living\n",
       "0  7129300520  20141013T000000  221900.0       3.0       1.00         1180\n",
       "1  6414100192  20141209T000000  538000.0       3.0       2.25         2570\n",
       "2  5631500400  20150225T000000  180000.0       2.0       1.00          770\n",
       "3  2487200875  20141209T000000  604000.0       4.0       3.00         1960\n",
       "4  1954400510  20150218T000000  510000.0       3.0       2.00         1680"
      ]
     },
     "execution_count": 45,
     "metadata": {},
     "output_type": "execute_result"
    }
   ],
   "source": [
    "# Definindo a lista de colunas por posições\n",
    "df = pd.read_csv(arquivo, usecols = [0, 1, 2, 3, 4, 5])\n",
    "df.head()"
   ]
  },
  {
   "cell_type": "code",
   "execution_count": 46,
   "metadata": {
    "colab": {
     "base_uri": "https://localhost:8080/",
     "height": 207
    },
    "id": "DWn5zze8Daes",
    "outputId": "3b84486e-e760-4c96-ccb1-3ba4b3217d43"
   },
   "outputs": [
    {
     "data": {
      "text/html": [
       "<div>\n",
       "<style scoped>\n",
       "    .dataframe tbody tr th:only-of-type {\n",
       "        vertical-align: middle;\n",
       "    }\n",
       "\n",
       "    .dataframe tbody tr th {\n",
       "        vertical-align: top;\n",
       "    }\n",
       "\n",
       "    .dataframe thead th {\n",
       "        text-align: right;\n",
       "    }\n",
       "</style>\n",
       "<table border=\"1\" class=\"dataframe\">\n",
       "  <thead>\n",
       "    <tr style=\"text-align: right;\">\n",
       "      <th></th>\n",
       "      <th>id</th>\n",
       "      <th>date</th>\n",
       "      <th>price</th>\n",
       "      <th>bedrooms</th>\n",
       "      <th>bathrooms</th>\n",
       "      <th>sqft_lot</th>\n",
       "      <th>waterfront</th>\n",
       "      <th>view</th>\n",
       "      <th>condition</th>\n",
       "      <th>grade</th>\n",
       "      <th>sqft_above</th>\n",
       "      <th>sqft_basement</th>\n",
       "      <th>yr_built</th>\n",
       "      <th>yr_renovated</th>\n",
       "      <th>zipcode</th>\n",
       "      <th>lat</th>\n",
       "      <th>long</th>\n",
       "      <th>sqft_living15</th>\n",
       "      <th>sqft_lot15</th>\n",
       "    </tr>\n",
       "  </thead>\n",
       "  <tbody>\n",
       "    <tr>\n",
       "      <th>0</th>\n",
       "      <td>7129300520</td>\n",
       "      <td>20141013T000000</td>\n",
       "      <td>221900.0</td>\n",
       "      <td>3.0</td>\n",
       "      <td>1.00</td>\n",
       "      <td>5650</td>\n",
       "      <td>0</td>\n",
       "      <td>0</td>\n",
       "      <td>3</td>\n",
       "      <td>7</td>\n",
       "      <td>1180</td>\n",
       "      <td>0</td>\n",
       "      <td>1955</td>\n",
       "      <td>0</td>\n",
       "      <td>98178</td>\n",
       "      <td>47.5112</td>\n",
       "      <td>-122.257</td>\n",
       "      <td>1340</td>\n",
       "      <td>5650</td>\n",
       "    </tr>\n",
       "    <tr>\n",
       "      <th>1</th>\n",
       "      <td>6414100192</td>\n",
       "      <td>20141209T000000</td>\n",
       "      <td>538000.0</td>\n",
       "      <td>3.0</td>\n",
       "      <td>2.25</td>\n",
       "      <td>7242</td>\n",
       "      <td>0</td>\n",
       "      <td>0</td>\n",
       "      <td>3</td>\n",
       "      <td>7</td>\n",
       "      <td>2170</td>\n",
       "      <td>400</td>\n",
       "      <td>1951</td>\n",
       "      <td>1991</td>\n",
       "      <td>98125</td>\n",
       "      <td>47.7210</td>\n",
       "      <td>-122.319</td>\n",
       "      <td>1690</td>\n",
       "      <td>7639</td>\n",
       "    </tr>\n",
       "    <tr>\n",
       "      <th>2</th>\n",
       "      <td>5631500400</td>\n",
       "      <td>20150225T000000</td>\n",
       "      <td>180000.0</td>\n",
       "      <td>2.0</td>\n",
       "      <td>1.00</td>\n",
       "      <td>10000</td>\n",
       "      <td>0</td>\n",
       "      <td>0</td>\n",
       "      <td>3</td>\n",
       "      <td>6</td>\n",
       "      <td>770</td>\n",
       "      <td>0</td>\n",
       "      <td>1933</td>\n",
       "      <td>0</td>\n",
       "      <td>98028</td>\n",
       "      <td>47.7379</td>\n",
       "      <td>-122.233</td>\n",
       "      <td>2720</td>\n",
       "      <td>8062</td>\n",
       "    </tr>\n",
       "    <tr>\n",
       "      <th>3</th>\n",
       "      <td>2487200875</td>\n",
       "      <td>20141209T000000</td>\n",
       "      <td>604000.0</td>\n",
       "      <td>4.0</td>\n",
       "      <td>3.00</td>\n",
       "      <td>5000</td>\n",
       "      <td>0</td>\n",
       "      <td>0</td>\n",
       "      <td>5</td>\n",
       "      <td>7</td>\n",
       "      <td>1050</td>\n",
       "      <td>910</td>\n",
       "      <td>1965</td>\n",
       "      <td>0</td>\n",
       "      <td>98136</td>\n",
       "      <td>47.5208</td>\n",
       "      <td>-122.393</td>\n",
       "      <td>1360</td>\n",
       "      <td>5000</td>\n",
       "    </tr>\n",
       "    <tr>\n",
       "      <th>4</th>\n",
       "      <td>1954400510</td>\n",
       "      <td>20150218T000000</td>\n",
       "      <td>510000.0</td>\n",
       "      <td>3.0</td>\n",
       "      <td>2.00</td>\n",
       "      <td>8080</td>\n",
       "      <td>0</td>\n",
       "      <td>0</td>\n",
       "      <td>3</td>\n",
       "      <td>8</td>\n",
       "      <td>1680</td>\n",
       "      <td>0</td>\n",
       "      <td>1987</td>\n",
       "      <td>0</td>\n",
       "      <td>98074</td>\n",
       "      <td>47.6168</td>\n",
       "      <td>-122.045</td>\n",
       "      <td>1800</td>\n",
       "      <td>7503</td>\n",
       "    </tr>\n",
       "  </tbody>\n",
       "</table>\n",
       "</div>"
      ],
      "text/plain": [
       "           id             date     price  bedrooms  bathrooms  sqft_lot  \\\n",
       "0  7129300520  20141013T000000  221900.0       3.0       1.00      5650   \n",
       "1  6414100192  20141209T000000  538000.0       3.0       2.25      7242   \n",
       "2  5631500400  20150225T000000  180000.0       2.0       1.00     10000   \n",
       "3  2487200875  20141209T000000  604000.0       4.0       3.00      5000   \n",
       "4  1954400510  20150218T000000  510000.0       3.0       2.00      8080   \n",
       "\n",
       "   waterfront  view  condition  grade  sqft_above  sqft_basement  yr_built  \\\n",
       "0           0     0          3      7        1180              0      1955   \n",
       "1           0     0          3      7        2170            400      1951   \n",
       "2           0     0          3      6         770              0      1933   \n",
       "3           0     0          5      7        1050            910      1965   \n",
       "4           0     0          3      8        1680              0      1987   \n",
       "\n",
       "   yr_renovated  zipcode      lat     long  sqft_living15  sqft_lot15  \n",
       "0             0    98178  47.5112 -122.257           1340        5650  \n",
       "1          1991    98125  47.7210 -122.319           1690        7639  \n",
       "2             0    98028  47.7379 -122.233           2720        8062  \n",
       "3             0    98136  47.5208 -122.393           1360        5000  \n",
       "4             0    98074  47.6168 -122.045           1800        7503  "
      ]
     },
     "execution_count": 46,
     "metadata": {},
     "output_type": "execute_result"
    }
   ],
   "source": [
    "# Lendo todas as colunas exceto algumas usando a função lambda\n",
    "df = pd.read_csv(arquivo, usecols = lambda column : column not in ['sqft_living', 'floors'])\n",
    "df.head()"
   ]
  },
  {
   "cell_type": "code",
   "execution_count": 47,
   "metadata": {
    "colab": {
     "base_uri": "https://localhost:8080/"
    },
    "id": "8IlZ-YVpXZ0L",
    "outputId": "fbb9b022-cd0a-4624-efb0-26693d349f74"
   },
   "outputs": [
    {
     "name": "stdout",
     "output_type": "stream",
     "text": [
      "<class 'pandas.core.frame.DataFrame'>\n",
      "RangeIndex: 21613 entries, 0 to 21612\n",
      "Data columns (total 19 columns):\n",
      " #   Column         Non-Null Count  Dtype  \n",
      "---  ------         --------------  -----  \n",
      " 0   id             21613 non-null  int64  \n",
      " 1   date           21613 non-null  object \n",
      " 2   price          21613 non-null  float64\n",
      " 3   bedrooms       21609 non-null  float64\n",
      " 4   bathrooms      21613 non-null  float64\n",
      " 5   sqft_lot       21613 non-null  int64  \n",
      " 6   waterfront     21613 non-null  int64  \n",
      " 7   view           21613 non-null  int64  \n",
      " 8   condition      21613 non-null  int64  \n",
      " 9   grade          21613 non-null  int64  \n",
      " 10  sqft_above     21613 non-null  int64  \n",
      " 11  sqft_basement  21613 non-null  int64  \n",
      " 12  yr_built       21613 non-null  int64  \n",
      " 13  yr_renovated   21613 non-null  int64  \n",
      " 14  zipcode        21613 non-null  int64  \n",
      " 15  lat            21613 non-null  float64\n",
      " 16  long           21613 non-null  float64\n",
      " 17  sqft_living15  21613 non-null  int64  \n",
      " 18  sqft_lot15     21613 non-null  int64  \n",
      "dtypes: float64(5), int64(13), object(1)\n",
      "memory usage: 3.1+ MB\n"
     ]
    }
   ],
   "source": [
    "df.info()"
   ]
  },
  {
   "cell_type": "markdown",
   "metadata": {
    "id": "PuRaoQ5yH_G6"
   },
   "source": [
    "2. **Visualize qual o separador das colunas**: Se estiver no linux use o comando `head` para ler as 5 primeiras linhas do arquivo:\n",
    "\n",
    "`head -n 5 dataset.csv`\n",
    "\n",
    "Se estiver no Windows abra o prompt do PowerShell e use o comando:\n",
    "\n",
    "`go arquivo.txt -head 5`"
   ]
  },
  {
   "cell_type": "code",
   "execution_count": 48,
   "metadata": {
    "colab": {
     "base_uri": "https://localhost:8080/"
    },
    "id": "d9XdBvELIbIk",
    "outputId": "a7b31c2d-312f-4862-e512-ca5c95eb6ef8"
   },
   "outputs": [
    {
     "name": "stdout",
     "output_type": "stream",
     "text": [
      "id,date,price,bedrooms,bathrooms,sqft_living,sqft_lot,floors,waterfront,view,condition,grade,sqft_above,sqft_basement,yr_built,yr_renovated,zipcode,lat,long,sqft_living15,sqft_lot15\r\n",
      "\"7129300520\",\"20141013T000000\",221900,3,1,1180,5650,\"1\",0,0,3,7,1180,0,1955,0,\"98178\",47.5112,-122.257,1340,5650\r\n",
      "\"6414100192\",\"20141209T000000\",538000,3,2.25,2570,7242,\"2\",0,0,3,7,2170,400,1951,1991,\"98125\",47.721,-122.319,1690,7639\r\n",
      "\"5631500400\",\"20150225T000000\",180000,2,1,770,10000,\"1\",0,0,3,6,770,0,1933,0,\"98028\",47.7379,-122.233,2720,8062\r\n",
      "\"2487200875\",\"20141209T000000\",604000,4,3,1960,5000,\"1\",0,0,5,7,1050,910,1965,0,\"98136\",47.5208,-122.393,1360,5000\r\n"
     ]
    }
   ],
   "source": [
    "!head -n 5 kc_house_data.csv"
   ]
  },
  {
   "cell_type": "markdown",
   "metadata": {},
   "source": [
    "Desta forma, já sabemos qual é o separador que temos que definir no momento de ler a base de dados."
   ]
  },
  {
   "cell_type": "markdown",
   "metadata": {},
   "source": [
    "3. **Trabalhe com os tipos de dados adequados nas colunas**: Colunas tipo **object** consumem muita mais memória do que colunas do tipo numérico ou colunas do tipo date. Algumas colunas podem ser do tipo **categórica**. Uma variável categórica assume um número limitado de valores possíveis (por exemplo: masculino/femenino, sim/não, 1/0, True/False, classe social, tipo sanguíneo, etc.). Alterar o tipo de dado que o pandas coloca por padrão para categórica reduz drásticamente o uso de memória.\n"
   ]
  },
  {
   "cell_type": "code",
   "execution_count": null,
   "metadata": {
    "colab": {
     "base_uri": "https://localhost:8080/"
    },
    "id": "BbzGYBknZpik",
    "outputId": "0b8ed75e-d36f-4be7-bc05-5945b65d8763"
   },
   "outputs": [],
   "source": [
    "df = pd.read_csv('https://raw.githubusercontent.com/datasciencedojo/datasets/master/titanic.csv')\n",
    "df.info()"
   ]
  },
  {
   "cell_type": "code",
   "execution_count": null,
   "metadata": {
    "colab": {
     "base_uri": "https://localhost:8080/",
     "height": 113
    },
    "id": "8bym-TwPhms-",
    "outputId": "776a7d80-25d2-4256-ab1d-aacec166c504"
   },
   "outputs": [],
   "source": [
    "df.tail()"
   ]
  },
  {
   "cell_type": "markdown",
   "metadata": {
    "id": "rKIsnx64Z9It"
   },
   "source": [
    "Convertendo os tipos de dados das colunas:"
   ]
  },
  {
   "cell_type": "code",
   "execution_count": null,
   "metadata": {
    "id": "tW3zJ0wTZ8Pu"
   },
   "outputs": [],
   "source": [
    "# Alterando alguns tipos de dados 'object' a 'category' e de 'int64' a 'int32' em casos onde o valor numérico não \n",
    "# excede a quantidade de caracteres de 32 bits, para ganhar memória\n",
    "df.PassengerId = df.PassengerId.astype('int32')\n",
    "df.Survived = df.Survived.astype('category')\n",
    "df.Pclass = df.Pclass.astype('category')\n",
    "df.Sex = df.Sex.astype('category')\n",
    "df.SibSp = df.SibSp.astype('int32')\n",
    "df.Parch = df.Parch.astype('int32') \n",
    "df.Embarked = df.Embarked.astype('category')"
   ]
  },
  {
   "cell_type": "markdown",
   "metadata": {
    "id": "2Ora8dIKji9G"
   },
   "source": [
    "Veja o uso de memória:"
   ]
  },
  {
   "cell_type": "code",
   "execution_count": null,
   "metadata": {
    "colab": {
     "base_uri": "https://localhost:8080/"
    },
    "id": "ccSHLLmyjknI",
    "outputId": "0f58c40a-b51b-449c-c598-4857a750434c"
   },
   "outputs": [],
   "source": [
    "df.info()"
   ]
  },
  {
   "cell_type": "markdown",
   "metadata": {
    "id": "dkYMFXwUj_n2"
   },
   "source": [
    "35% de ganho de memória. Como nossa base de dados é pequena, não tem muito impacto. Mas, em bases de dados de 2 ou 3 GB isso faz muita diferença. Então, é uma boa prática sempre trabalhar com os tipos de dados corretos."
   ]
  },
  {
   "cell_type": "markdown",
   "metadata": {
    "id": "3aj5G973kGYG"
   },
   "source": [
    "A conversão anterior foi feita depois de ler a base de dados. Se você não está conseguindo ler a base de dados porque o tamanho é grande, você pode fazer a conversão dos tipos de dados das colunas no momento de leitura para ganhar espaço."
   ]
  },
  {
   "cell_type": "code",
   "execution_count": null,
   "metadata": {
    "colab": {
     "base_uri": "https://localhost:8080/"
    },
    "id": "YuX8Mshck9Hq",
    "outputId": "0af79e89-23e1-4e0a-ee41-2c32174992f8"
   },
   "outputs": [],
   "source": [
    "# Convertendo tipos de dados das colunas no momento de leitura\n",
    "\n",
    "# Parâmetro dtype: É um dicionário que informa quais são os tipos de dados das colunas\n",
    "df = pd.read_csv('https://raw.githubusercontent.com/datasciencedojo/datasets/master/titanic.csv', \n",
    "                 dtype = {'PassengerId': 'int32', 'Survived': 'category', 'Pclass': 'category', 'Sex': 'category',\n",
    "                          'SibSp': 'int32', 'Parch': 'int32', 'Embarked': 'category'})\n",
    "df.info()"
   ]
  },
  {
   "cell_type": "markdown",
   "metadata": {
    "id": "wQ2NyOFZGyAj"
   },
   "source": [
    "## **Consultando um DataFrame**\n"
   ]
  },
  {
   "cell_type": "code",
   "execution_count": null,
   "metadata": {
    "colab": {
     "base_uri": "https://localhost:8080/",
     "height": 289
    },
    "id": "xStmxU0GtRyi",
    "outputId": "342a3be1-2a7e-4fcf-d2a6-afc8388b55d6",
    "scrolled": true
   },
   "outputs": [],
   "source": [
    "# Criando o Dataframe\n",
    "dataset = pd.read_csv(arquivo)\n",
    "dataset.head()"
   ]
  },
  {
   "cell_type": "code",
   "execution_count": null,
   "metadata": {
    "colab": {
     "base_uri": "https://localhost:8080/"
    },
    "id": "hXcfrGUgHLZc",
    "outputId": "e490604f-e32b-4964-fbe7-57b64597b2a5"
   },
   "outputs": [],
   "source": [
    "# Método value_counts: Conta a quantidade de valores únicos numa coluna\n",
    "pd.value_counts(dataset['bedrooms'])\n",
    "\n",
    "# Isso é interesante para identificar outliers (descritos mais na frente)"
   ]
  },
  {
   "cell_type": "code",
   "execution_count": null,
   "metadata": {
    "colab": {
     "base_uri": "https://localhost:8080/",
     "height": 195
    },
    "id": "PfwjY5ytHS3w",
    "outputId": "e0931f8c-c03f-44ba-f01b-f4cf142d5c2d"
   },
   "outputs": [],
   "source": [
    "# Método loc: Acessa um conjunto de linhas e colunas por etiquetas ou declarações condicionais\n",
    "\n",
    "# Consulta imóveis com 4 quartos\n",
    "dataset.loc[dataset['bedrooms'] == 4]"
   ]
  },
  {
   "cell_type": "code",
   "execution_count": null,
   "metadata": {},
   "outputs": [],
   "source": [
    "# O anterior pode ser feito também como segue. Porém o mais indicado é usar o método 'loc' considerando uma base de\n",
    "# dados mais robusta, já que o tempo de processamento passa a ser muito importante\n",
    "dataset[dataset['bedrooms'] == 4]"
   ]
  },
  {
   "cell_type": "code",
   "execution_count": null,
   "metadata": {
    "colab": {
     "base_uri": "https://localhost:8080/",
     "height": 133
    },
    "id": "TQzMXCWNmd2r",
    "outputId": "03a4755e-c0b1-4f21-9a5c-cc46858d000f"
   },
   "outputs": [],
   "source": [
    "# Consulta imóveis com 4 quartos e com número de banheiros maior do que 2\n",
    "dataset.loc[(dataset['bedrooms'] == 4) & (dataset['bathrooms'] > 2)]"
   ]
  },
  {
   "cell_type": "code",
   "execution_count": null,
   "metadata": {},
   "outputs": [],
   "source": [
    "# Consultando uma linha pelo seu índice\n",
    "dataset.loc[[7]]"
   ]
  },
  {
   "cell_type": "code",
   "execution_count": null,
   "metadata": {},
   "outputs": [],
   "source": [
    "# Consultando linhas com um array de índices\n",
    "dataset.loc[[0, 3, 5]]"
   ]
  },
  {
   "cell_type": "code",
   "execution_count": null,
   "metadata": {},
   "outputs": [],
   "source": [
    "# Consultando uma fatia de linhas. Note que neste método as posições inicial e final estarão presentes no resultado\n",
    "dataset.loc[1:4]"
   ]
  },
  {
   "cell_type": "code",
   "execution_count": null,
   "metadata": {},
   "outputs": [],
   "source": [
    "# Setando um index para localizar determinada(s) linha(s)\n",
    "dataset2 = dataset.set_index('date')\n",
    "dataset2.head()"
   ]
  },
  {
   "cell_type": "code",
   "execution_count": null,
   "metadata": {},
   "outputs": [],
   "source": [
    "dataset2.loc['20141209T000000']"
   ]
  },
  {
   "cell_type": "code",
   "execution_count": null,
   "metadata": {},
   "outputs": [],
   "source": [
    "# Consultando linhas e colunas usando dois arrays\n",
    "dataset2.loc[['20141013T000000', '20150225T000000', '20150218T000000'], ['id', 'price']]"
   ]
  },
  {
   "cell_type": "code",
   "execution_count": null,
   "metadata": {
    "colab": {
     "base_uri": "https://localhost:8080/",
     "height": 289
    },
    "id": "1IOI1EQ-nG7j",
    "outputId": "8f051f7a-ec76-47aa-f8f2-bb7a901a2f1c"
   },
   "outputs": [],
   "source": [
    "# Método sort_values: Ordena um DataFrame em ordem ascendente (padrão) ou descendente da coluna passada como \n",
    "# parâmetro. O DataFrame não será atualizado a não ser que a query seja igualado à variável 'dataset' ou se use o \n",
    "# parâmetro inplace = True\n",
    "\n",
    "# Ordena o 'dataset' pela coluna 'price' em ordem decrescente\n",
    "dataset.sort_values(by = 'price', ascending = False)"
   ]
  },
  {
   "cell_type": "code",
   "execution_count": null,
   "metadata": {},
   "outputs": [],
   "source": [
    "# O DataFrame não foi atualizado\n",
    "dataset.head()"
   ]
  },
  {
   "cell_type": "code",
   "execution_count": null,
   "metadata": {},
   "outputs": [],
   "source": [
    "# Ordenando e atualizando o DataFrame\n",
    "dataset.sort_values(by = 'price', ascending = False, inplace = True)\n",
    "dataset"
   ]
  },
  {
   "cell_type": "code",
   "execution_count": null,
   "metadata": {
    "colab": {
     "base_uri": "https://localhost:8080/"
    },
    "id": "itKr8fp4oGGV",
    "outputId": "9ea6f001-2092-423f-b0d6-0040586725d8"
   },
   "outputs": [],
   "source": [
    "# Contando número de linhas por coluna baseado numa condição\n",
    "dataset[dataset['bedrooms'] == 2].count()"
   ]
  },
  {
   "cell_type": "markdown",
   "metadata": {
    "id": "QRTXSwvJqJz1"
   },
   "source": [
    "## **Alterando um DataFrame**"
   ]
  },
  {
   "cell_type": "code",
   "execution_count": null,
   "metadata": {
    "colab": {
     "base_uri": "https://localhost:8080/",
     "height": 227
    },
    "id": "S17uBy2It3eS",
    "outputId": "a03535b3-cce9-4a50-e72b-d5fe8aadca1f"
   },
   "outputs": [],
   "source": [
    "# Criando o Dataframe\n",
    "dataset = pd.read_csv(arquivo)\n",
    "dataset.head()"
   ]
  },
  {
   "cell_type": "code",
   "execution_count": null,
   "metadata": {
    "id": "mmuna_DeqQeR"
   },
   "outputs": [],
   "source": [
    "# Adicionando uma coluna ('size') ao DataFrame baseado em outra coluna\n",
    "dataset['size'] = (dataset['bedrooms']*20)\n",
    "dataset.head()"
   ]
  },
  {
   "cell_type": "code",
   "execution_count": null,
   "metadata": {
    "colab": {
     "base_uri": "https://localhost:8080/"
    },
    "id": "m6Khl3i4qZ8g",
    "outputId": "f8cd5de4-5135-4366-feb8-28412c8b8cc0"
   },
   "outputs": [],
   "source": [
    "# Visualizando o conteúdo da coluna criada\n",
    "dataset['size'].head()"
   ]
  },
  {
   "cell_type": "code",
   "execution_count": null,
   "metadata": {
    "id": "6MtusSFWqru3"
   },
   "outputs": [],
   "source": [
    "# Criando uma função para aplicar a cada linha de uma determinada coluna do Dataframe\n",
    "def categoriza(s):\n",
    "  if s >= 80:\n",
    "    return 'Big'\n",
    "  elif s >= 60:\n",
    "    return 'Medium'\n",
    "  elif s >= 40:\n",
    "    return 'Small'"
   ]
  },
  {
   "cell_type": "code",
   "execution_count": null,
   "metadata": {
    "id": "Tqsfy90lsCJF"
   },
   "outputs": [],
   "source": [
    "# Adicionando uma coluna categórica ('cat_size') a partir de uma função (categoriza), usando o método apply\n",
    "\n",
    "# A função categoriza é aplicada a cada linha da coluna 'size' e o resultado é armazenado na coluna 'cat_size'\n",
    "dataset['cat_size'] = dataset['size'].apply(categoriza)"
   ]
  },
  {
   "cell_type": "code",
   "execution_count": null,
   "metadata": {
    "colab": {
     "base_uri": "https://localhost:8080/"
    },
    "id": "m9wNiOW-sKVs",
    "outputId": "991aba02-3424-4d42-e5cc-cc9fd6c909fc"
   },
   "outputs": [],
   "source": [
    "# Visualizando a nova coluna criada\n",
    "dataset['cat_size'].head()"
   ]
  },
  {
   "cell_type": "code",
   "execution_count": null,
   "metadata": {
    "id": "yZtfBOKfsYUK"
   },
   "outputs": [],
   "source": [
    "# Apagando a coluna 'cat_size'\n",
    "\n",
    "# Método drop: Exclui linhas ou colunas do Dataframe\n",
    "# Parâmetro axis: Se for igual a 1 ou 'columns' apaga colunas, se for igual a 0 ou 'index' (padrão) apaga linhas\n",
    "# Parâmetro inplace: Se for igual a True, a alteração irá modificar o objeto em memória. Por padrão inplace = False\n",
    "dataset.drop(['cat_size'], axis = 1, inplace = True)\n",
    "dataset.head()"
   ]
  },
  {
   "cell_type": "code",
   "execution_count": null,
   "metadata": {},
   "outputs": [],
   "source": [
    "# Apagando colunas 'sqft_living' e 'sqft_lot'\n",
    "dataset.drop(['sqft_living', 'sqft_lot'], axis = 'columns', inplace = True)\n",
    "dataset.head()"
   ]
  },
  {
   "cell_type": "code",
   "execution_count": null,
   "metadata": {
    "id": "HNtKGZj8pCbo"
   },
   "outputs": [],
   "source": [
    "# Apagando linhas baseado em condições lógicas\n",
    "\n",
    "# Apaga linhas com 'bedrooms' maior igual que 3. O atributo 'index' retorna o índice da linha \n",
    "dataset.drop(dataset[dataset.bedrooms >= 3].index, inplace = True)\n",
    "\n",
    "# ou\n",
    "#dataset.drop(dataset[dataset['bedrooms'] >= 3].index)"
   ]
  },
  {
   "cell_type": "code",
   "execution_count": null,
   "metadata": {
    "colab": {
     "base_uri": "https://localhost:8080/",
     "height": 164
    },
    "id": "bXL_5HV6qND_",
    "outputId": "2292ff55-223f-4e98-ce66-aad1053652ba"
   },
   "outputs": [],
   "source": [
    "dataset"
   ]
  },
  {
   "cell_type": "markdown",
   "metadata": {
    "id": "fbJC-qWez5fU"
   },
   "source": [
    "## **Percorrendo Linhas de um DataFrame**"
   ]
  },
  {
   "cell_type": "markdown",
   "metadata": {},
   "source": [
    "### **Método iterrows**"
   ]
  },
  {
   "cell_type": "markdown",
   "metadata": {},
   "source": [
    "O método *iterrows* itera sobre as linhas do DataFrame como pares (index, Series). Esse método retorna um objeto *generator* sobre tuplas.\n",
    "\n",
    "**Nota**: Um *generator* gera uma sequência, um item de cada vez. Podemos, por exemplo, iterar sobre o resultado de um *generator*."
   ]
  },
  {
   "cell_type": "code",
   "execution_count": null,
   "metadata": {},
   "outputs": [],
   "source": [
    "# Criando o Dataframe\n",
    "dataset = pd.read_csv(arquivo)\n",
    "dataset.head()"
   ]
  },
  {
   "cell_type": "code",
   "execution_count": null,
   "metadata": {
    "colab": {
     "base_uri": "https://localhost:8080/"
    },
    "id": "GHDbuHui0Zy5",
    "outputId": "74879254-b939-4e1d-c2c0-e50cdbce05e9"
   },
   "outputs": [],
   "source": [
    "# Objeto tipo generator\n",
    "type(dataset.iterrows())"
   ]
  },
  {
   "cell_type": "code",
   "execution_count": null,
   "metadata": {
    "colab": {
     "base_uri": "https://localhost:8080/"
    },
    "id": "bjPvnt7c0kKd",
    "outputId": "55235ef5-c350-402a-b9a5-699c4149480d"
   },
   "outputs": [],
   "source": [
    "# Método next: Permite percorrer pelos valores de um generator\n",
    "next(dataset.iterrows())"
   ]
  },
  {
   "cell_type": "code",
   "execution_count": null,
   "metadata": {
    "colab": {
     "base_uri": "https://localhost:8080/"
    },
    "id": "3Coic-1p0o73",
    "outputId": "644abe26-0cfe-4177-9f16-004ca47940c0"
   },
   "outputs": [],
   "source": [
    "# Percorrendo o DataFrame e imprimindo o índice e registro de cada linha\n",
    "for indice, linha in dataset.head(10).iterrows():\n",
    "  print(indice, linha)"
   ]
  },
  {
   "cell_type": "code",
   "execution_count": null,
   "metadata": {
    "colab": {
     "base_uri": "https://localhost:8080/"
    },
    "id": "EtdYWTTL02De",
    "outputId": "294d292a-bd22-4fc5-cc27-84866bd5ea1e"
   },
   "outputs": [],
   "source": [
    "# Percorrendo o DataFrame e imprimindo o índice de cada linha e os registros de determinadas colunas\n",
    "for indice, linha in dataset.head(n = 10).iterrows():\n",
    "  print(indice, linha['bedrooms'], linha['floors'], linha['price'])\n",
    "\n",
    "# ou\n",
    "\n",
    "#for indice, linha in dataset.head(n = 10).iterrows():\n",
    "#  print(indice, linha.bedrooms, linha.floors, linha.price)"
   ]
  },
  {
   "cell_type": "markdown",
   "metadata": {
    "id": "Hn59gxW2xNHE"
   },
   "source": [
    "**Percorrendo e atualizando linhas de um DataFrame**"
   ]
  },
  {
   "cell_type": "code",
   "execution_count": null,
   "metadata": {
    "colab": {
     "base_uri": "https://localhost:8080/"
    },
    "id": "NFccOP1TxQbA",
    "outputId": "650538cf-ba41-4c8d-8601-db5dac1e3de4"
   },
   "outputs": [],
   "source": [
    "# Imprime os 5 primeiros valores do atributo 'price' antes de atualizá-los\n",
    "dataset.price.head()"
   ]
  },
  {
   "cell_type": "code",
   "execution_count": null,
   "metadata": {},
   "outputs": [],
   "source": [
    "# Método at: Acessa um único valor para um par de etiquetas de linha/coluna. Semelhante a 'loc', pois ambos \n",
    "# fornecem pesquisas baseadas em etiquetas. Use 'at' se precisar apenas obter ou definir um único valor em um \n",
    "# DataFrame.\n",
    "\n",
    "# Obtém o valor no par linha/coluna especificado\n",
    "dataset.at[0, 'price']"
   ]
  },
  {
   "cell_type": "code",
   "execution_count": null,
   "metadata": {},
   "outputs": [],
   "source": [
    "# Atualizando o valor no par linha/coluna especificado\n",
    "dataset.at[0, 'price'] = 999999.0\n",
    "dataset['price'].head()"
   ]
  },
  {
   "cell_type": "code",
   "execution_count": null,
   "metadata": {
    "id": "h69vMtZKxVOs"
   },
   "outputs": [],
   "source": [
    "# Atualiza o valor da coluna 'price' multiplicando seu valor por 2.\n",
    "\n",
    "# Por padrão, o método iterrows não permite atualizar os dados de um DataFrame porque retorna uma tupla e não é\n",
    "# permitida a modificação nesse tipo de objeto. Para contornar esse problema usamos o método at.\n",
    "\n",
    "for indice, linha in dataset.iterrows():\n",
    "  dataset.at[indice, 'price'] = linha['price']*2"
   ]
  },
  {
   "cell_type": "code",
   "execution_count": null,
   "metadata": {
    "colab": {
     "base_uri": "https://localhost:8080/"
    },
    "id": "N_wF8dri8c0q",
    "outputId": "641dbb48-076c-4aa8-94a9-a52042a7b81c"
   },
   "outputs": [],
   "source": [
    "# Valor alterado\n",
    "dataset.price.head()"
   ]
  },
  {
   "cell_type": "markdown",
   "metadata": {
    "id": "WKQ1cu9F8ocl"
   },
   "source": [
    "### **Método itertuples**"
   ]
  },
  {
   "cell_type": "markdown",
   "metadata": {
    "id": "XjTu5DS58tbu"
   },
   "source": [
    "O método *itertuples* itera sobre as linhas do Dataframe como pares nomeados, com o *index* como primeiro elemento da tupla. É mais rápido que o método *iterrows*. "
   ]
  },
  {
   "cell_type": "code",
   "execution_count": null,
   "metadata": {},
   "outputs": [],
   "source": [
    "# Criando o DataFrame\n",
    "dataset = pd.read_csv(arquivo)\n",
    "dataset.head()"
   ]
  },
  {
   "cell_type": "code",
   "execution_count": null,
   "metadata": {
    "colab": {
     "base_uri": "https://localhost:8080/"
    },
    "id": "oQ7Da4DQ80SA",
    "outputId": "c936bfaf-79cb-4bc2-a131-00ccbe2c5bdc"
   },
   "outputs": [],
   "source": [
    "# Percorrendo o DataFrame. O retorno é do tipo tupla como no iterrows, mas em outro formato\n",
    "for linha in dataset.head().itertuples():\n",
    "    print(linha)"
   ]
  },
  {
   "cell_type": "code",
   "execution_count": null,
   "metadata": {
    "colab": {
     "base_uri": "https://localhost:8080/"
    },
    "id": "svd26bup85la",
    "outputId": "b3123531-ac83-4e46-9da1-2032cf5b322a"
   },
   "outputs": [],
   "source": [
    "# Percorrendo o DataFrame e imprimindo os registros de determinadas colunas\n",
    "for linha in dataset.head().itertuples():\n",
    "    print(linha.id, linha.bedrooms, linha.price)"
   ]
  },
  {
   "cell_type": "markdown",
   "metadata": {},
   "source": [
    "**Percorrendo e atualizando linhas de um DataFrame**"
   ]
  },
  {
   "cell_type": "code",
   "execution_count": null,
   "metadata": {
    "colab": {
     "base_uri": "https://localhost:8080/"
    },
    "id": "q_1puz2hJYAz",
    "outputId": "f2424a37-9689-4bfd-9303-4556e6baf738"
   },
   "outputs": [],
   "source": [
    "# Atualizando as colunas 'id' e 'bedrooms'.\n",
    "\n",
    "# Index: O objeto básico que armazena etiquetas de eixo para todos os objetos pandas.\n",
    "\n",
    "for linha in dataset.head().itertuples():\n",
    "    dataset.at[linha.Index, 'id'] = 3\n",
    "    dataset.at[linha.Index, 'bedrooms'] = linha.bedrooms*2"
   ]
  },
  {
   "cell_type": "code",
   "execution_count": null,
   "metadata": {},
   "outputs": [],
   "source": [
    "dataset.head()"
   ]
  },
  {
   "cell_type": "markdown",
   "metadata": {
    "id": "zMOuxRys1S4j"
   },
   "source": [
    "## **Análise e Tratamendo de Dados**"
   ]
  },
  {
   "cell_type": "markdown",
   "metadata": {
    "id": "C315ZfIipTTV"
   },
   "source": [
    "### **Missing Values**\n",
    "\n",
    "*Missing values* são valores faltantes em colunas (NaN ou None). Podem ser devidos à falhas na carga de dados, falhas em crawlers ou à corrupção de dados. Os *missing values* podem ser um problema em diversas situações, por exemplo, em algoritmos de Machine Learning que não trabalham bem com dados faltantes. Estes também podem atrapalhar resultados de análises.\n",
    "\n",
    "Apesar de numpy.nan e None serem tipos de dados diferentes (o primeiro é do tipo float e o segundo é do tipo NoneType), Pandas trata ambos como valores faltantes."
   ]
  },
  {
   "cell_type": "code",
   "execution_count": null,
   "metadata": {
    "colab": {
     "base_uri": "https://localhost:8080/",
     "height": 444
    },
    "id": "T6MqHhgkFUZA",
    "outputId": "a3357c25-754e-45ea-d0d8-64dcfc9f0fb7"
   },
   "outputs": [],
   "source": [
    "# Criando o DataFrame\n",
    "dataset = pd.read_csv(arquivo, nrows = 12)\n",
    "dataset"
   ]
  },
  {
   "cell_type": "code",
   "execution_count": null,
   "metadata": {
    "colab": {
     "base_uri": "https://localhost:8080/"
    },
    "id": "uHgWCEuDFb0Z",
    "outputId": "0e0a5639-7844-4d8b-ee6b-d8e0c4b103b3"
   },
   "outputs": [],
   "source": [
    "# Consultando a quantidade de valores faltantes por colunas\n",
    "\n",
    "# Método isnull: Detecta missing values. Retorna um objeto booleano do mesmo tamanho indicando se os valores são \n",
    "# NA (tais como None ou numpy.NaN). NA: acrônimo para Not Available, NaN: acrônimo para Not a Number.\n",
    "# Método sum: Retorna a soma dos valores solicitados.\n",
    "dataset.isnull().sum()"
   ]
  },
  {
   "cell_type": "markdown",
   "metadata": {
    "id": "rb7upfmMcRnR"
   },
   "source": [
    "Podemos manipular os valores faltantes, removendo-os da base de dados ou substituindo-os por constantes ou por médias."
   ]
  },
  {
   "cell_type": "markdown",
   "metadata": {},
   "source": [
    "**Apagando Missing Values**"
   ]
  },
  {
   "cell_type": "code",
   "execution_count": null,
   "metadata": {
    "colab": {
     "base_uri": "https://localhost:8080/",
     "height": 444
    },
    "id": "5tf3frRRq2bI",
    "outputId": "206b4800-4082-46d5-b18b-8cfbc70acf4a"
   },
   "outputs": [],
   "source": [
    "# Método dropna: Remove missing values.\n",
    "# Parâmetro axis: Define o eixo no qual será aplicado o método. 0 ou 'index' para linhas, 1 ou 'columns' para \n",
    "# colunas. Valor padrão 0.\n",
    "# Parâmetro how: Determina se uma linha ou coluna será apagada se tiver pelo menos um valor faltante (how = 'any')\n",
    "# ou todos seus valores faltantes (how = 'all'). Valor padrão 'any'.\n",
    "# Parâmetro inplace: Se True altera o DataFrame em memórida. Valor padrão False.\n",
    "\n",
    "# Remove todas as linhas que tem pelo menos um registro faltante em algum atributo.\n",
    "dataset.dropna(inplace = True)\n",
    "dataset"
   ]
  },
  {
   "cell_type": "code",
   "execution_count": null,
   "metadata": {
    "id": "q-GzIqindt-1"
   },
   "outputs": [],
   "source": [
    "# Adicionando uma linha com valores NaN ao DataFrame\n",
    "nova_linha = {'id': None, 'date': None, 'price': np.nan, 'bedrooms': np.nan, 'bathrooms': np.nan, \n",
    "              'sqft_living': np.nan, 'sqft_lot': np.nan, 'floors': None, 'waterfront': np.nan, 'view': np.nan, \n",
    "              'condition': np.nan, 'grade': np.nan, 'sqft_above': np.nan, 'sqft_basement': np.nan, \n",
    "              'yr_built': np.nan, 'yr_renovated': np.nan, 'zipcode': np.nan, 'lat': np.nan, 'long': np.nan, \n",
    "              'sqft_living15': np.nan, 'sqft_lot15': np.nan}\n",
    "dataset = dataset.append(nova_linha, ignore_index = True)\n",
    "dataset"
   ]
  },
  {
   "cell_type": "code",
   "execution_count": null,
   "metadata": {
    "colab": {
     "base_uri": "https://localhost:8080/",
     "height": 444
    },
    "id": "jUaNqq7HFpdI",
    "outputId": "35c14bc0-657e-4b93-b420-d8e7018ccdcc"
   },
   "outputs": [],
   "source": [
    "# Removendo somente linhas que estejam com valores faltantes em todas as colunas\n",
    "dataset.dropna(how = 'all', inplace = True)\n",
    "dataset"
   ]
  },
  {
   "cell_type": "markdown",
   "metadata": {},
   "source": [
    "**Atribuindo Valores aos Missing Values**"
   ]
  },
  {
   "cell_type": "markdown",
   "metadata": {},
   "source": [
    "No caso onde se tem muitos valores faltantes numa base de dados poderia ser um problema remover eles, já que poderia deixar a base de dados desbalanceada e poderiamos excluir linhas interessantes para nossas análises. Por esta razão, outra forma de trabalhar com valores faltantes é atribuir um valor a eles, por exemplo, o valor médio de uma coluna."
   ]
  },
  {
   "cell_type": "code",
   "execution_count": null,
   "metadata": {},
   "outputs": [],
   "source": [
    "# Criando o DataFrame\n",
    "dataset = pd.read_csv(arquivo, nrows = 12)\n",
    "dataset"
   ]
  },
  {
   "cell_type": "code",
   "execution_count": null,
   "metadata": {},
   "outputs": [],
   "source": [
    "dataset.isnull().sum()"
   ]
  },
  {
   "cell_type": "code",
   "execution_count": null,
   "metadata": {
    "colab": {
     "base_uri": "https://localhost:8080/"
    },
    "id": "RpuFcdObGF-F",
    "outputId": "32848d2b-3246-42b9-a4b2-981b278f7757"
   },
   "outputs": [],
   "source": [
    "# Método fillna: Preenche os valores faltantes com alguma condição\n",
    "\n",
    "# Preenchendo missing values da coluna 'floors' com a média de seus valores\n",
    "dataset['floors'].fillna(dataset['floors'].mean(), inplace = True)\n",
    "dataset"
   ]
  },
  {
   "cell_type": "code",
   "execution_count": null,
   "metadata": {
    "colab": {
     "base_uri": "https://localhost:8080/"
    },
    "id": "5aDT5kUsGT4s",
    "outputId": "49488cad-34e7-43f2-f9a3-0dd2f07a81d0"
   },
   "outputs": [],
   "source": [
    "# Preenchendo missing values da coluna 'floors' com o valor constante 1. Isto é, definimos que todo imóvel tem pelo\n",
    "# menos 1 andar\n",
    "dataset = pd.read_csv(arquivo, nrows = 12)\n",
    "dataset['floors'].fillna(1, inplace = True)\n",
    "dataset"
   ]
  },
  {
   "cell_type": "markdown",
   "metadata": {
    "id": "QOYTCVi6ESe8"
   },
   "source": [
    "### **Visualização de Dados**"
   ]
  },
  {
   "cell_type": "markdown",
   "metadata": {
    "id": "j1VcgYXrFQQm"
   },
   "source": [
    "O Pandas integra no seu código recursos para utilizar a biblioteca matplotlib, que é a mais famosa para visualização de dados do Python."
   ]
  },
  {
   "cell_type": "code",
   "execution_count": null,
   "metadata": {
    "id": "VQ5fEbRUQHhC"
   },
   "outputs": [],
   "source": [
    "# Criando o DataFrame\n",
    "dataset = pd.read_csv(arquivo)"
   ]
  },
  {
   "cell_type": "code",
   "execution_count": null,
   "metadata": {
    "colab": {
     "base_uri": "https://localhost:8080/",
     "height": 293
    },
    "id": "Xhpb7oHOw9Mg",
    "outputId": "17b8bc5c-3d16-4ed4-9ce5-17bc03ce7971"
   },
   "outputs": [],
   "source": [
    "# Preço de imóveis num gráfico de linhas. Preço de imóveis (eixo y) vs. quantidade de imóveis (eixo x). \n",
    "\n",
    "# Método plot: Faz plotagens de DataFrame (ou Series) usando matplotlib/pylab. \n",
    "# Parâmetro kind: Toma um dos seguintes strings: \n",
    "# - ‘line’: line plot (por padrão)\n",
    "# - ‘bar’: vertical bar plot\n",
    "# - ‘barh’: horizontal bar plot\n",
    "# - ‘hist’: histogram\n",
    "# - ‘box’: boxplot\n",
    "# - ‘kde’: Kernel Density Estimation plot\n",
    "# - ‘density’: same as ‘kde’\n",
    "# - ‘area’: area plot\n",
    "# - ‘pie’: pie plot\n",
    "# - ‘scatter’: scatter plot\n",
    "# - ‘hexbin’: hexbin plot.\n",
    "# Parâmetro title: Título para o plot.\n",
    "\n",
    "# Para renderizar os gráficos, use:\n",
    "# %matplotlib notebook # no Jupyter Notebook\n",
    "# %matplotlib inline # no Colab\n",
    "%matplotlib notebook\n",
    "dataset['price'].plot()"
   ]
  },
  {
   "cell_type": "code",
   "execution_count": null,
   "metadata": {
    "colab": {
     "base_uri": "https://localhost:8080/",
     "height": 316
    },
    "id": "MgTqXcK_EzG7",
    "outputId": "550f574a-d3a3-403f-d499-2b07f444b912"
   },
   "outputs": [],
   "source": [
    "# Preço de imóveis vs. número de quartos num gráfico de dispersão\n",
    "dataset.plot(x = 'bedrooms', y = 'price', kind = 'scatter', title = 'Price vs. Bedrooms', color = 'mediumpurple')"
   ]
  },
  {
   "cell_type": "markdown",
   "metadata": {},
   "source": [
    "A maioria dos imóveis têm entre de 3 - 5 quartos. Temos um imóvel com mais de 30 quartos, esse poderia ser um outlier."
   ]
  },
  {
   "cell_type": "code",
   "execution_count": null,
   "metadata": {
    "colab": {
     "base_uri": "https://localhost:8080/",
     "height": 310
    },
    "id": "HakCeks4FA5g",
    "outputId": "fdbaa960-f2e2-4b2f-919a-0439da50b982"
   },
   "outputs": [],
   "source": [
    "# Preço de imóveis vs. número de banheiros num gráfico de dispersão.\n",
    "dataset.plot(x = 'bathrooms', y = 'price', kind = 'scatter', title = 'Price vs. Bathrooms', color = 'y')"
   ]
  },
  {
   "cell_type": "code",
   "execution_count": null,
   "metadata": {},
   "outputs": [],
   "source": [
    "# Histograma do preço de imóveis\n",
    "%matplotlib notebook\n",
    "dataset['price'].plot(kind = 'hist', bins = 30, title = 'Price Histogram', color = 'gainsboro')"
   ]
  },
  {
   "cell_type": "code",
   "execution_count": null,
   "metadata": {
    "colab": {
     "base_uri": "https://localhost:8080/",
     "height": 316
    },
    "id": "rfp36KEFQDO1",
    "outputId": "f8781450-bb5a-407d-8469-4db2becd250e"
   },
   "outputs": [],
   "source": [
    "# Outra forma de plotar o histograma do preço de imóveis\n",
    "import matplotlib.pyplot as plt\n",
    "%matplotlib notebook\n",
    "dataset['price'].hist(bins = 30, color = 'lightcoral')\n",
    "plt.title('Price Histogram')\n",
    "plt.xlabel('Price')\n",
    "plt.ylabel('Frequency')"
   ]
  },
  {
   "cell_type": "code",
   "execution_count": null,
   "metadata": {
    "colab": {
     "base_uri": "https://localhost:8080/",
     "height": 334
    },
    "id": "gC1AdtloQkwO",
    "outputId": "983c4be0-50f2-4ade-e104-eee4b3d364da"
   },
   "outputs": [],
   "source": [
    "# Histogramas do número de quartos e número de banheiros lado a lado\n",
    "dataset[['bedrooms', 'bathrooms']].hist(bins = 30, alpha = 0.5, color = 'blue')"
   ]
  },
  {
   "cell_type": "markdown",
   "metadata": {
    "id": "afouF3tGRNuG"
   },
   "source": [
    "### **Estatística Descritiva**"
   ]
  },
  {
   "cell_type": "code",
   "execution_count": null,
   "metadata": {},
   "outputs": [],
   "source": [
    "# Imprime os valores mínimos de cada coluna\n",
    "dataset.min()"
   ]
  },
  {
   "cell_type": "code",
   "execution_count": null,
   "metadata": {},
   "outputs": [],
   "source": [
    "# Imprime os valores mínimos de colunas específicas\n",
    "dataset[['bedrooms', 'bathrooms']].min()"
   ]
  },
  {
   "cell_type": "code",
   "execution_count": null,
   "metadata": {},
   "outputs": [],
   "source": [
    "# Imprime o valor mínimo de uma coluna\n",
    "dataset['bedrooms'].min()"
   ]
  },
  {
   "cell_type": "markdown",
   "metadata": {},
   "source": [
    "Tem imóveis na base de dados que não têm quartos."
   ]
  },
  {
   "cell_type": "code",
   "execution_count": null,
   "metadata": {},
   "outputs": [],
   "source": [
    "# Imprime os valores máximos de cada coluna\n",
    "dataset.max()"
   ]
  },
  {
   "cell_type": "code",
   "execution_count": null,
   "metadata": {
    "colab": {
     "base_uri": "https://localhost:8080/"
    },
    "id": "xmKw9HSNRS2q",
    "outputId": "a951e5e7-7444-43b0-b649-d1fb2f19e891"
   },
   "outputs": [],
   "source": [
    "# Imprime o valor médio de uma coluna\n",
    "dataset['bedrooms'].mean()"
   ]
  },
  {
   "cell_type": "code",
   "execution_count": null,
   "metadata": {
    "colab": {
     "base_uri": "https://localhost:8080/"
    },
    "id": "xW-uAf0XVV3R",
    "outputId": "cc7615c5-ac8e-462a-e4af-48d23fd20a0f"
   },
   "outputs": [],
   "source": [
    "# Imprime o desvío padrão de uma coluna\n",
    "dataset['bedrooms'].std()"
   ]
  },
  {
   "cell_type": "markdown",
   "metadata": {},
   "source": [
    "O desvio padrão permite ver a variabilidade dos dados. Neste caso, temos uma variação de 0.93 acima e abaixo da média."
   ]
  },
  {
   "cell_type": "code",
   "execution_count": null,
   "metadata": {
    "colab": {
     "base_uri": "https://localhost:8080/"
    },
    "id": "j3bF2My8WIus",
    "outputId": "b39684bb-b9e0-47d7-f9b0-35dc619d61e4"
   },
   "outputs": [],
   "source": [
    "# Método skew: Calcula a simetria dos dados\n",
    "# - Um valor zero indica uma distribuição simétrica.\n",
    "# - Um valor maior ou menor que zero indica uma distribuição assimétrica:\n",
    "#      - Valor acima de zero indica uma assimetria positiva, existem mais valores acima da média.\n",
    "#      - Valor abaixo de zero indica uma assimetria negativa, existem mais valores abaixo da média.\n",
    "\n",
    "# Retorna o valor de simetria da coluna 'bedrooms'\n",
    "dataset['bedrooms'].skew()"
   ]
  },
  {
   "cell_type": "markdown",
   "metadata": {
    "id": "DtMVKwL0YXGv"
   },
   "source": [
    "Neste caso, a simetria é positiva, tem uma variação positiva com relação à média. Portanto, a maioria de número de quartos estão superiores à média de 3."
   ]
  },
  {
   "cell_type": "code",
   "execution_count": null,
   "metadata": {
    "colab": {
     "base_uri": "https://localhost:8080/"
    },
    "id": "0BSynQi8UwBY",
    "outputId": "738582e1-f9c3-46df-d1fc-2b982b141909"
   },
   "outputs": [],
   "source": [
    "# Retorna o valor de simetria de cada coluna do DataFrame\n",
    "dataset.skew()"
   ]
  },
  {
   "cell_type": "markdown",
   "metadata": {},
   "source": [
    "No caso da coluna *waterfront*, a maioria dos valores estão muito acima da média. Isso pode de alguma forma inferir em nossas análises. Ter colunas muito discrepantes, com valores muito acima ou muito abaixo da média, indica que a base de dados está desbalanceada estatísticamente."
   ]
  },
  {
   "cell_type": "markdown",
   "metadata": {
    "id": "odJETsnHUQpz"
   },
   "source": [
    "Perceba que a estatística descritiva fornece informações que podem servir de ponto inicial para investigação da base de dados."
   ]
  },
  {
   "cell_type": "markdown",
   "metadata": {
    "id": "jYTy_aC25Lpj"
   },
   "source": [
    "## **Extraindo Insights**\n",
    "\n",
    "Uma forma de explorar os dados é investir na visualização. Os gráficos de **Boxplot** ou gráficos de Caixa são excelentes ferramentas na análise de dados, principalmente para identificar **outliers**, esses são dados que se encontram fora do padrão global de uma distribuição.\n",
    "\n",
    "O Boxplot representa gráficamente grupos de dados numéricos através de seus quartis. O gráfico é formado por uma caixa que se estende do primeiro ao terceiro quartil com uma linha na mediana, e duas linhas.\n",
    "\n",
    "Para determinar os quartis ordenamos os dados por ordem crescente:\n",
    "* O quartil Q2 é dado pela mediana.\n",
    "* O primeiro quartil, Q1, é a mediana dos dados que ficam para a esquerda de Q2.\n",
    "* O terceiro quartil, Q3, é a mediana dos dados que ficam para a direita de Q2.\n",
    "\n",
    "A diferença entre Q3 e Q1 é a amplitude ou **distância interquartil** (DI), uma medida da **variabilidade** ou dispersão entre os dados. Um ponto é considerado um outlier, anomalia ou valor discrepante se estiver mais de 1.5 DI acima do terceiro quartil (> Q3 + 1.5 DI) ou abaixo do primeiro quartil (< Q1 - 1.5 DI). Estes limites são representados pelas linhas superior e inferior à caixa."
   ]
  },
  {
   "cell_type": "code",
   "execution_count": null,
   "metadata": {
    "id": "2H3rlril6uH1"
   },
   "outputs": [],
   "source": [
    "import matplotlib"
   ]
  },
  {
   "cell_type": "code",
   "execution_count": null,
   "metadata": {
    "colab": {
     "base_uri": "https://localhost:8080/",
     "height": 282
    },
    "id": "diLjKOAv5h_J",
    "outputId": "9c9682d4-9fc9-46b6-9d0d-2e9f68c13c7b"
   },
   "outputs": [],
   "source": [
    "%matplotlib notebook\n",
    "\n",
    "# Importamos a biblioteca matplotlib para colocar um estilo de gráfico diferente ao por padrão do matplotlib.\n",
    "# Usamos o estilo de gráfico 'ggplot'\n",
    "matplotlib.style.use('ggplot')\n",
    "\n",
    "# Gráfico de Boxplot da coluna 'bedrooms'\n",
    "dataset.boxplot(column = 'bedrooms')"
   ]
  },
  {
   "cell_type": "markdown",
   "metadata": {},
   "source": [
    "O gráfico nos mostra que a maioria dos imóveis possue em torno de 3 e 4 número de quartos. O valor mínimo é de 2 e o valor máximo de 5, no padrão global. As bolinhas mostram os outliers (pontos que se distanciam muito da média dos valores)."
   ]
  },
  {
   "cell_type": "code",
   "execution_count": null,
   "metadata": {
    "colab": {
     "base_uri": "https://localhost:8080/"
    },
    "id": "7_NPUbZq3ej1",
    "outputId": "60aa4085-5eec-4a90-dc94-e0b748813c94"
   },
   "outputs": [],
   "source": [
    "# Visualizando os estilos de layout disponíveis\n",
    "matplotlib.style.available"
   ]
  },
  {
   "cell_type": "code",
   "execution_count": null,
   "metadata": {
    "colab": {
     "base_uri": "https://localhost:8080/",
     "height": 321
    },
    "id": "fviwuUIj53Je",
    "outputId": "ff40a5b0-45bf-48a9-cd15-f33505eab210"
   },
   "outputs": [],
   "source": [
    "# Gráficos de Boxplot da coluna 'price' agrupados por valores únicos do número de quartos\n",
    "dataset.boxplot(column = 'price', by = 'bedrooms')"
   ]
  },
  {
   "cell_type": "markdown",
   "metadata": {},
   "source": [
    "No gráfico anterior podemos observar, por exemplo, que existe uma maior quantidade de outliers para os números de quartos igual a 3, 4 e 5 e há uma grande variabilidade nos preços para imóveis com número de quartos igual a 8. No caso de número de quartos igual a 33 só se tem um imóvel, é um único valor de preço, portanto não consegue formar um boxplot."
   ]
  },
  {
   "cell_type": "markdown",
   "metadata": {
    "id": "j6VD9SCNLkvz"
   },
   "source": [
    "### **Correlação de Dados**"
   ]
  },
  {
   "cell_type": "markdown",
   "metadata": {
    "id": "ikfHXgkQLqDp"
   },
   "source": [
    "A correlação de variáveis informa o nível de dependência que possuem entre si.\n",
    "\n",
    "*   Correlacao positiva: Quando uma variável aumenta a outra também aumenta.\n",
    "*   Correlação negativa: Quando uma variável aumenta a outra diminui."
   ]
  },
  {
   "cell_type": "code",
   "execution_count": null,
   "metadata": {
    "colab": {
     "base_uri": "https://localhost:8080/",
     "height": 697
    },
    "id": "hv3lvYU0Ln8H",
    "outputId": "6c20e14b-507c-465b-b66b-538c0b8ed7de"
   },
   "outputs": [],
   "source": [
    "# Método corr: Calcula a correlação de todas as colunas do DataFrame (person).\n",
    "# Parâmetro method: Método da correlação (‘pearson’ (padrão), ‘kendall’, ‘spearman’).\n",
    "dataset.corr()"
   ]
  },
  {
   "cell_type": "code",
   "execution_count": null,
   "metadata": {
    "colab": {
     "base_uri": "https://localhost:8080/",
     "height": 697
    },
    "id": "rQdSQ7boMj0N",
    "outputId": "020565d6-cc8e-4e8a-d497-b53960b7a6b1"
   },
   "outputs": [],
   "source": [
    "# Calculando a correlação de todas as colunas com o método de Spearman\n",
    "dataset.corr('spearman')"
   ]
  },
  {
   "cell_type": "code",
   "execution_count": null,
   "metadata": {
    "colab": {
     "base_uri": "https://localhost:8080/",
     "height": 144
    },
    "id": "qr63Kag7MukU",
    "outputId": "6cd242f9-b743-48c5-f7bc-74e8776db099"
   },
   "outputs": [],
   "source": [
    "# Calculando a correlação de colunas específicas\n",
    "dataset[['bedrooms', 'bathrooms', 'price']].corr()"
   ]
  },
  {
   "cell_type": "code",
   "execution_count": null,
   "metadata": {
    "colab": {
     "base_uri": "https://localhost:8080/",
     "height": 282
    },
    "id": "JNBlV5bhM4D0",
    "outputId": "d54cc122-c1e0-401e-88db-76a654f65afe"
   },
   "outputs": [],
   "source": [
    "# Plotando a correlação de colunas específicas\n",
    "dataset[['bedrooms', 'bathrooms', 'price']].corr().plot()"
   ]
  },
  {
   "cell_type": "markdown",
   "metadata": {
    "id": "RzZ0NUM1Qku5"
   },
   "source": [
    "### **Tabelas Pivot**"
   ]
  },
  {
   "cell_type": "markdown",
   "metadata": {
    "id": "lKp310WvTDJ1"
   },
   "source": [
    "As tabelas Pivot permitem fazer agrupamento nos dados. Codificar para agrupar dados poderia ser complexo no caso de uma base de dados grande e o desempenho poderia ser ruim. Esse recurso do pandas fornece uma enorme vantagem em termos de tempo e desempenho computacional. "
   ]
  },
  {
   "cell_type": "code",
   "execution_count": null,
   "metadata": {
    "colab": {
     "base_uri": "https://localhost:8080/",
     "height": 289
    },
    "id": "3WAukzUgwmAU",
    "outputId": "1f3a5f0d-61c3-4824-b2cf-f30df5536c7f"
   },
   "outputs": [],
   "source": [
    "# Criando o DataFrame\n",
    "dataset = pd.read_csv(arquivo)\n",
    "dataset.head()"
   ]
  },
  {
   "cell_type": "code",
   "execution_count": null,
   "metadata": {
    "colab": {
     "base_uri": "https://localhost:8080/",
     "height": 175
    },
    "id": "jDI7r5FcQnOc",
    "outputId": "3030f843-0c3d-452d-9b87-3b8855968e2b"
   },
   "outputs": [],
   "source": [
    "# Conta a quantidade de linhas (imóveis) dos registros da coluna 'id' agrupados pelos que têm e não têm visão para \n",
    "# o mar ('waterfront') e pelo número de andares ('floors'). \n",
    "\n",
    "# Método pivot_table: Faz agrupamentos nos dados.\n",
    "# Parâmetro values: Coluna para agregar, opcional. \n",
    "# Parâmetro index: Informa as colunas do DataFrame que queremos agrupar no índice da tabela dinâmica.\n",
    "# Parâmetro columns: Informa as colunas do DataFrame que queremos agrupar na coluna da tabela dinâmica.\n",
    "# Parâmetro aggfunc: Define a função de agregação, que poderia ser uma média, a contagem de linhas, uma soma, etc.\n",
    "# Parâmetro margins: Se True adiciona totais à tabela dinâmica.\n",
    "dataset.pivot_table(values = 'id', index = ['waterfront', 'floors'], aggfunc = 'count', margins = True)"
   ]
  },
  {
   "cell_type": "markdown",
   "metadata": {},
   "source": [
    "Temos, por exemplo, 10622 imóveis com um andar e sem visão para o mar. A grande maioria dos imóveis não tem visão para o mar e são imóveis de 1 e 2 andares. No final se mostra a quantidade total de imóveis (linhas)."
   ]
  },
  {
   "cell_type": "code",
   "execution_count": null,
   "metadata": {},
   "outputs": [],
   "source": [
    "# Conta a quantidade de linhas, dá a soma, o valor mínimo, o valor máximo e o valor médio dos registros da coluna \n",
    "# 'id' agrupados pelas colunas 'waterfront' e 'floors'\n",
    "dataset.pivot_table(values = 'id', \n",
    "                    index = ['waterfront', 'floors'], \n",
    "                    aggfunc = ['count', np.sum, min, max, np.mean], \n",
    "                    margins = True)"
   ]
  },
  {
   "cell_type": "code",
   "execution_count": null,
   "metadata": {},
   "outputs": [],
   "source": [
    "# Conta a quantidade de linhas dos registros da coluna 'id' e os valores mínimos e máximos dos registros da coluna\n",
    "# 'price' agrupados pelas colunas 'waterfront' (no índice da tabela dinâmica) e 'floors' (na coluna da tabela \n",
    "# dinâmica)\n",
    "dataset.pivot_table(values = ['id', 'price'], \n",
    "                    index = 'waterfront',\n",
    "                    columns = 'floors',\n",
    "                    aggfunc = {'id': 'count', 'price': [min, max]})"
   ]
  },
  {
   "cell_type": "markdown",
   "metadata": {
    "id": "yafGo8EOQyA2"
   },
   "source": [
    "### **Crosstab ou Tabulação Cruzada**"
   ]
  },
  {
   "cell_type": "markdown",
   "metadata": {
    "id": "LWlxmHirw1GP"
   },
   "source": [
    "Essa funcionalidade cruza os valores das variáveis para ter uma visão melhor dos dados."
   ]
  },
  {
   "cell_type": "code",
   "execution_count": null,
   "metadata": {
    "colab": {
     "base_uri": "https://localhost:8080/",
     "height": 175
    },
    "id": "O5K_xNWIQyW5",
    "outputId": "b3da97c7-5442-420a-8c82-3e614fe7620a"
   },
   "outputs": [],
   "source": [
    "# Método crosstab: Calcula uma tabulação cruzada de dois ou mais fatores. Por padrão, calcula uma tabela de \n",
    "# frequência dos fatores, a menos que os parâmetros 'values' e 'aggfunc' sejam especificados.\n",
    "# Parâmetro values: Coluna para agregar, opcional. \n",
    "# Parâmetro aggfunc: Define a função de agregação, que poderia ser uma média, a contagem de linhas, uma soma, etc.\n",
    "# Opcional.\n",
    "\n",
    "# Distribuição dos imóveis por número de quartos ('bedrooms') e condição do imóvel (coluna 'condition', varia de 1\n",
    "# se a condição é ruim até 5 se a condição é ótima).\n",
    "pd.crosstab(dataset['bedrooms'], dataset['condition'])"
   ]
  },
  {
   "cell_type": "markdown",
   "metadata": {},
   "source": [
    "Podemos ver que a maior quantidade de imóveis com 3 quartos pertencem à condição 3."
   ]
  },
  {
   "cell_type": "code",
   "execution_count": null,
   "metadata": {},
   "outputs": [],
   "source": [
    "# Tabulação cruzada de 3 fatores\n",
    "pd.crosstab(dataset.bedrooms, [dataset.condition, dataset.waterfront])"
   ]
  },
  {
   "cell_type": "code",
   "execution_count": null,
   "metadata": {},
   "outputs": [],
   "source": [
    "# Tabulação cruzada que retorna o número de registros da coluna 'id' por agrupamento.\n",
    "\n",
    "# Método fillna: Preenche os valores NA/NaN usando o método especificado.\n",
    "pd.crosstab(dataset.waterfront, dataset.floors, values = dataset.id, aggfunc = 'count').fillna('--')"
   ]
  },
  {
   "cell_type": "code",
   "execution_count": null,
   "metadata": {
    "colab": {
     "base_uri": "https://localhost:8080/",
     "height": 313
    },
    "id": "OnpoOd8UQ-Az",
    "outputId": "75de08fe-c349-4cdd-d447-c8ed413abc58"
   },
   "outputs": [],
   "source": [
    "# Plota a tabulação cruzada num gráfico de barras. Colocamos o resultado da tabulação cruzada numa variável e \n",
    "# usamos o método plot\n",
    "table = pd.crosstab(dataset['bedrooms'], dataset['condition'])\n",
    "table.plot(kind = 'bar', width = 1.0, color = ['turquoise', 'red', 'lightcoral', 'gold', 'mediumpurple'], \n",
    "           title = 'Condition and Bedrooms Crosstab', grid = False)"
   ]
  },
  {
   "cell_type": "markdown",
   "metadata": {},
   "source": [
    "Fornece a mesma informação que a tabela mas em formato gráfico."
   ]
  },
  {
   "cell_type": "markdown",
   "metadata": {
    "id": "66LyjKS85HKk"
   },
   "source": [
    "## **Trabalhando com Excel**\n",
    "\n",
    "O Pandas permite trabalhar com o Excel. Podemos ler, manipular e escrever planilhas do Excel através de DataFrames. \n",
    "A base de dados que iremos usar foi extraída e modificada da [web](http://mercury.webster.edu/aleshunas/Data%20Sets/Supplemental%20Excel%20Data%20Sets.htm)."
   ]
  },
  {
   "cell_type": "markdown",
   "metadata": {},
   "source": [
    "**Lendo um arquivo do Excel**"
   ]
  },
  {
   "cell_type": "code",
   "execution_count": null,
   "metadata": {
    "id": "MxHXrTj75liO"
   },
   "outputs": [],
   "source": [
    "# Criando um DataFrame a partir de um arquivo do Excel.\n",
    "\n",
    "# Método read_excel: Lê um arquivo do Excel em um DataFrame do Pandas.\n",
    "# Parâmetro sheet_name: Define a sheet no Excel pelo nome passado como string ou por inteiros começando do zero. \n",
    "# Essa opção permite ler outras abas. Valor padrão é 0.\n",
    "# Parâmetro header: Linha a ser usada para as etiquetas das colunas. Use None se não houver cabeçalho. Valor padrão\n",
    "# é 0, correspondente à primeira linha.\n",
    "# Parâmetro index_col: Permite indexar o DataFrame por uma determinada coluna ao invés do numerador sequencial que\n",
    "# o Pandas gera.\n",
    "\n",
    "# header = 1 indica que as etiquetas das colunas estão na segunda linha.\n",
    "arquivo_excel = 'PopularKids.xls'\n",
    "dataframe_excel = pd.read_excel(arquivo_excel, sheet_name = 0, header = 1)\n",
    "dataframe_excel.head()"
   ]
  },
  {
   "cell_type": "code",
   "execution_count": null,
   "metadata": {
    "id": "dUb3ntDcEW27"
   },
   "outputs": [],
   "source": [
    "# Lendo o arquivo indexando pela coluna 'Age', para poder fazer query\n",
    "dataframe_excel = pd.read_excel(arquivo_excel, sheet_name = 0, header = 1, index_col = 2)\n",
    "dataframe_excel.head()"
   ]
  },
  {
   "cell_type": "code",
   "execution_count": null,
   "metadata": {
    "colab": {
     "base_uri": "https://localhost:8080/",
     "height": 456
    },
    "id": "096UTfYYGSbC",
    "outputId": "97982320-d1e7-44e6-c65a-dc96a3f0273c"
   },
   "outputs": [],
   "source": [
    "# Classifica o DataFrame pelo index em ordem ascendente.\n",
    "\n",
    "# Método sort_index: Ordena o DataFrame pelo índice.\n",
    "# Parâmetro ascending: Se True classifica em ordem ascendente.\n",
    "# Parâmetro inplace: Se True a alteração é feita no DataFrame em memória e retorna None. Se False retorna uma cópia\n",
    "# do objeto com a operação realizada. Valor padrão é False.\n",
    "dataframe_excel.sort_index()"
   ]
  },
  {
   "cell_type": "code",
   "execution_count": null,
   "metadata": {},
   "outputs": [],
   "source": [
    "# Classifica o DataFrame pelo index em ordem descendente.\n",
    "dataframe_excel.sort_index(ascending = False)"
   ]
  },
  {
   "cell_type": "code",
   "execution_count": null,
   "metadata": {
    "colab": {
     "base_uri": "https://localhost:8080/",
     "height": 207
    },
    "id": "32VdJbql73ML",
    "outputId": "ea6ed606-2b78-4cfb-94da-64ae8f37d2e4"
   },
   "outputs": [],
   "source": []
  },
  {
   "cell_type": "markdown",
   "metadata": {},
   "source": [
    "Podemos aplicar todos os métodos disponíveis aos DataFrames."
   ]
  },
  {
   "cell_type": "code",
   "execution_count": null,
   "metadata": {
    "colab": {
     "base_uri": "https://localhost:8080/",
     "height": 238
    },
    "id": "mQ0Rl4JQExTW",
    "outputId": "ce145873-4af4-4f32-d20d-57c80f04fb5a"
   },
   "outputs": [],
   "source": [
    "dataframe_excel.head()"
   ]
  },
  {
   "cell_type": "markdown",
   "metadata": {
    "id": "toMSj-pU71yk"
   },
   "source": [
    "**Gerando Planilhas do Excel a partir de DataFrames**"
   ]
  },
  {
   "cell_type": "code",
   "execution_count": null,
   "metadata": {
    "colab": {
     "base_uri": "https://localhost:8080/",
     "height": 227
    },
    "id": "PIKlRcANIFOJ",
    "outputId": "76015cf5-c792-43cc-95e2-eb2570081e6c"
   },
   "outputs": [],
   "source": [
    "# Usaremos o objeto 'dataset' com dados de imóveis para gerar um planilha\n",
    "dataset = pd.read_csv(arquivo)\n",
    "dataset.head()"
   ]
  },
  {
   "cell_type": "code",
   "execution_count": null,
   "metadata": {
    "colab": {
     "base_uri": "https://localhost:8080/",
     "height": 207
    },
    "id": "3Qh1uomtIQmb",
    "outputId": "c48a7519-c72f-4c0f-e00a-ef826e91f7fb"
   },
   "outputs": [],
   "source": [
    "# Pegamos uma parte do 'dataset' para gerar uma planilha. Também poderiamos usar o 'dataset' completo.\n",
    "colunas = ['id', 'bedrooms', 'waterfront', 'price']\n",
    "dataset[colunas].head()"
   ]
  },
  {
   "cell_type": "code",
   "execution_count": null,
   "metadata": {
    "id": "-b9wZT8cJfJk"
   },
   "outputs": [],
   "source": [
    "# Escrevendo no disco uma planilha Excel sem o índice\n",
    "\n",
    "# Método to_excel: Escreve o objeto em uma planilha do Excel.\n",
    "# Parâmetro sheet_name: Nome da planilha que conterá o DataFrame. Por padrão é 'Sheet1'.\n",
    "# Parâmetro index: Se True escreve o index. Valor padrão é True.\n",
    "dataset[colunas].to_excel('planilha_excel.xls', index = False) "
   ]
  },
  {
   "cell_type": "markdown",
   "metadata": {
    "id": "NI19QUyjLN-D"
   },
   "source": [
    "## **Mesclando Dados de diversos DataFrames**"
   ]
  },
  {
   "cell_type": "markdown",
   "metadata": {
    "id": "NQUPwSm3MGWq"
   },
   "source": [
    "Aqui veremos como juntar diversas tabelas que contêm informações diferentes mas mantêm uma chave em comum (chave de ligação), isto é, iremos trabalhar com bancos de dados relacionais, bem estruturados, usando a biblioteca Pandas. Isto é parecido à linguagem SQL. \n",
    "\n",
    "A base de dados que iremos usar foi extraída da [web](http://mercury.webster.edu/aleshunas/Data%20Sets/Supplemental%20Excel%20Data%20Sets.htm) e modificada colocando o conteúdo em duas sheets do mesmo arquivo Excel, ambas compartilhando algumas linhas na primeira coluna."
   ]
  },
  {
   "cell_type": "code",
   "execution_count": null,
   "metadata": {
    "id": "ZFgucrxAMDHo"
   },
   "outputs": [],
   "source": [
    "# Carregamos dois arquivos para a memória. Podem ser arquivos csv.\n",
    "arquivo_excel = 'World95.xls'\n",
    "df1 = pd.read_excel(arquivo_excel, sheet_name = 0)\n",
    "df2 = pd.read_excel(arquivo_excel, sheet_name = 1)"
   ]
  },
  {
   "cell_type": "code",
   "execution_count": null,
   "metadata": {
    "colab": {
     "base_uri": "https://localhost:8080/",
     "height": 520
    },
    "id": "ejmO8x4-MkQg",
    "outputId": "a78850b8-363c-432b-d27f-106685138ad6"
   },
   "outputs": [],
   "source": [
    "# Visualizando o conteúdo do objeto 'df1'\n",
    "df1"
   ]
  },
  {
   "cell_type": "code",
   "execution_count": null,
   "metadata": {
    "colab": {
     "base_uri": "https://localhost:8080/",
     "height": 489
    },
    "id": "FPetC5mAMlmM",
    "outputId": "36ccd1d0-4f27-4621-8828-0e22d75894ae",
    "scrolled": true
   },
   "outputs": [],
   "source": [
    "# Visualizando o conteúdo do objeto 'df2'\n",
    "df2"
   ]
  },
  {
   "cell_type": "markdown",
   "metadata": {
    "id": "vJCLrmRhK4PS"
   },
   "source": [
    "Os dois objetos compartilham um mesmo atributo (chave) que usaremos para ligar os dois DataFrames. Criaremos um único DataFrame juntanto os dois anteriores a partir do atributo 'country'."
   ]
  },
  {
   "cell_type": "markdown",
   "metadata": {},
   "source": [
    "### **Opções de Merge**"
   ]
  },
  {
   "cell_type": "markdown",
   "metadata": {
    "id": "XSWJDPOPL2cJ"
   },
   "source": [
    "Tipos de join (ligações):\n",
    "\n",
    "*   **INNER JOIN** (padrão): Retorna apenas os registros em comum em ambos os DataFrames. \n",
    "*   **LEFT JOIN**: Retorna todos os registros do DataFrame à esquerda (primeira tabela) independente se tem registros associados à direita.\n",
    "*   **RIGHT JOIN**: Retorna todos os registros do DataFrame à direita (segunda tabela) independente se tem registros assoaciados à esquerda.\n",
    "*   **OUTER JOIN** ou **FULL JOIN**: Retorna todos os registros de ambos os DataFrames."
   ]
  },
  {
   "cell_type": "code",
   "execution_count": null,
   "metadata": {
    "colab": {
     "base_uri": "https://localhost:8080/",
     "height": 400
    },
    "id": "GlYyqtlrNH4r",
    "outputId": "2c4a8232-dc56-45e0-f6d9-54743dc9e14c"
   },
   "outputs": [],
   "source": [
    "from IPython.display import Image\n",
    "Image('joins.png')"
   ]
  },
  {
   "cell_type": "markdown",
   "metadata": {
    "id": "yjw_sHwAae6_"
   },
   "source": [
    "Para os exemplos abaixo nossa chave de ligação é a coluna 'country'. Iremos retornar os seguintes atributos: 'country', 'populatn', 'religion' do df1 e 'country', 'birth_rt', 'fertilty', 'climate' do df2."
   ]
  },
  {
   "cell_type": "markdown",
   "metadata": {},
   "source": [
    "*   **Inner Join**"
   ]
  },
  {
   "cell_type": "code",
   "execution_count": null,
   "metadata": {
    "colab": {
     "base_uri": "https://localhost:8080/",
     "height": 395
    },
    "id": "5eQwA92SblL7",
    "outputId": "3b4a02bb-a340-4595-f535-608a87b6b0de"
   },
   "outputs": [],
   "source": [
    "# Método merge: Permite fazer a ligação. O primeiro parâmetro será o DataFrame à esquerda, o segundo parâmetro será\n",
    "# o DataFrame à direita.\n",
    "# Parâmetro on: Especifica qual é o atributo chave de ligação entre os dois DataFrames.\n",
    "# Parâmetro how: Especifica o tipo de ligação: ‘left’, ‘right’, ‘outer’, ‘inner’. Por padrão é 'inner'.\n",
    "\n",
    "query = pd.merge(df1[['country', 'populatn', 'religion']], \n",
    "                 df2[['country', 'birth_rt', 'fertilty', 'climate']], \n",
    "                 on = 'country')\n",
    "query"
   ]
  },
  {
   "cell_type": "markdown",
   "metadata": {},
   "source": [
    "Retorna os registros em comum dos DataFrames."
   ]
  },
  {
   "cell_type": "markdown",
   "metadata": {},
   "source": [
    "*   **Left Join**"
   ]
  },
  {
   "cell_type": "code",
   "execution_count": null,
   "metadata": {
    "colab": {
     "base_uri": "https://localhost:8080/",
     "height": 520
    },
    "id": "tLKG5ceWf7G_",
    "outputId": "9a6f74d6-aee0-4274-c5c2-3b3d59f70820"
   },
   "outputs": [],
   "source": [
    "query = pd.merge(df1[['country', 'populatn', 'religion']], \n",
    "                 df2[['country', 'birth_rt', 'fertilty', 'climate']], \n",
    "                 on = 'country', \n",
    "                 how = 'left')\n",
    "query"
   ]
  },
  {
   "cell_type": "markdown",
   "metadata": {
    "id": "m1_TtN5Fhh34"
   },
   "source": [
    "Todos os dados solicitados do DataFrame à esquerda são retornados, mas não todos têm registros correspondentes no DataFrame à direita."
   ]
  },
  {
   "cell_type": "markdown",
   "metadata": {
    "id": "Y6cGTognlqUt"
   },
   "source": [
    "*   **Right Join**"
   ]
  },
  {
   "cell_type": "code",
   "execution_count": null,
   "metadata": {
    "colab": {
     "base_uri": "https://localhost:8080/",
     "height": 489
    },
    "id": "8yKuUBKIl2VV",
    "outputId": "0133192b-01c1-4966-8cab-504b466375c2"
   },
   "outputs": [],
   "source": [
    "query = pd.merge(df1[['country', 'populatn', 'religion']], \n",
    "                 df2[['country', 'birth_rt', 'fertilty', 'climate']], \n",
    "                 on = 'country', \n",
    "                 how = 'right')\n",
    "query"
   ]
  },
  {
   "cell_type": "markdown",
   "metadata": {},
   "source": [
    "Todos os atributos solicitados do DataFrame à direita são retornados independente se têm atributos associados ao DataFrame à esquerda."
   ]
  },
  {
   "cell_type": "markdown",
   "metadata": {
    "id": "UOPQe2cCm_GS"
   },
   "source": [
    "*   **Outer Join ou Full Join**"
   ]
  },
  {
   "cell_type": "code",
   "execution_count": null,
   "metadata": {
    "colab": {
     "base_uri": "https://localhost:8080/",
     "height": 614
    },
    "id": "w9i601FUnLac",
    "outputId": "084bb407-f6a6-4ed9-8b5b-e975e0b4410a"
   },
   "outputs": [],
   "source": [
    "query = pd.merge(df1[['country', 'populatn', 'religion']], \n",
    "                 df2[['country', 'birth_rt', 'fertilty', 'climate']], \n",
    "                 on = 'country', \n",
    "                 how = 'outer')\n",
    "query"
   ]
  },
  {
   "cell_type": "markdown",
   "metadata": {},
   "source": [
    "Retorna todos os registros dos dois DataFrames."
   ]
  }
 ],
 "metadata": {
  "colab": {
   "collapsed_sections": [],
   "name": "Pandas.ipynb",
   "provenance": []
  },
  "kernelspec": {
   "display_name": "Python 3",
   "language": "python",
   "name": "python3"
  },
  "language_info": {
   "codemirror_mode": {
    "name": "ipython",
    "version": 3
   },
   "file_extension": ".py",
   "mimetype": "text/x-python",
   "name": "python",
   "nbconvert_exporter": "python",
   "pygments_lexer": "ipython3",
   "version": "3.8.3"
  },
  "widgets": {
   "application/vnd.jupyter.widget-state+json": {
    "0326093dafc44ce685adfffed94932e2": {
     "model_module": "@jupyter-widgets/base",
     "model_name": "LayoutModel",
     "state": {
      "_model_module": "@jupyter-widgets/base",
      "_model_module_version": "1.2.0",
      "_model_name": "LayoutModel",
      "_view_count": null,
      "_view_module": "@jupyter-widgets/base",
      "_view_module_version": "1.2.0",
      "_view_name": "LayoutView",
      "align_content": null,
      "align_items": null,
      "align_self": null,
      "border": null,
      "bottom": null,
      "display": null,
      "flex": null,
      "flex_flow": null,
      "grid_area": null,
      "grid_auto_columns": null,
      "grid_auto_flow": null,
      "grid_auto_rows": null,
      "grid_column": null,
      "grid_gap": null,
      "grid_row": null,
      "grid_template_areas": null,
      "grid_template_columns": null,
      "grid_template_rows": null,
      "height": null,
      "justify_content": null,
      "justify_items": null,
      "left": null,
      "margin": null,
      "max_height": null,
      "max_width": null,
      "min_height": null,
      "min_width": null,
      "object_fit": null,
      "object_position": null,
      "order": null,
      "overflow": null,
      "overflow_x": null,
      "overflow_y": null,
      "padding": null,
      "right": null,
      "top": null,
      "visibility": null,
      "width": null
     }
    },
    "05e3ae0b4c174d96aeefc4f48bc0ac3b": {
     "model_module": "@jupyter-widgets/base",
     "model_name": "LayoutModel",
     "state": {
      "_model_module": "@jupyter-widgets/base",
      "_model_module_version": "1.2.0",
      "_model_name": "LayoutModel",
      "_view_count": null,
      "_view_module": "@jupyter-widgets/base",
      "_view_module_version": "1.2.0",
      "_view_name": "LayoutView",
      "align_content": null,
      "align_items": null,
      "align_self": null,
      "border": null,
      "bottom": null,
      "display": null,
      "flex": null,
      "flex_flow": null,
      "grid_area": null,
      "grid_auto_columns": null,
      "grid_auto_flow": null,
      "grid_auto_rows": null,
      "grid_column": null,
      "grid_gap": null,
      "grid_row": null,
      "grid_template_areas": null,
      "grid_template_columns": null,
      "grid_template_rows": null,
      "height": null,
      "justify_content": null,
      "justify_items": null,
      "left": null,
      "margin": null,
      "max_height": null,
      "max_width": null,
      "min_height": null,
      "min_width": null,
      "object_fit": null,
      "object_position": null,
      "order": null,
      "overflow": null,
      "overflow_x": null,
      "overflow_y": null,
      "padding": null,
      "right": null,
      "top": null,
      "visibility": null,
      "width": null
     }
    },
    "0718067ab0e74fdcbd830d52541e4f5a": {
     "model_module": "@jupyter-widgets/controls",
     "model_name": "HBoxModel",
     "state": {
      "_dom_classes": [],
      "_model_module": "@jupyter-widgets/controls",
      "_model_module_version": "1.5.0",
      "_model_name": "HBoxModel",
      "_view_count": null,
      "_view_module": "@jupyter-widgets/controls",
      "_view_module_version": "1.5.0",
      "_view_name": "HBoxView",
      "box_style": "",
      "children": [
       "IPY_MODEL_a909f2451ba94adaa029408435e48a31",
       "IPY_MODEL_f467fe4c79fc4b26a1f691edf8067ea9",
       "IPY_MODEL_b6a78d5b4201446faf73095fb0ec0c25"
      ],
      "layout": "IPY_MODEL_2a80e8818dae482fb3b96dfe1e5e903a"
     }
    },
    "09502d9cfd8143c5afa23f015929b30e": {
     "model_module": "@jupyter-widgets/base",
     "model_name": "LayoutModel",
     "state": {
      "_model_module": "@jupyter-widgets/base",
      "_model_module_version": "1.2.0",
      "_model_name": "LayoutModel",
      "_view_count": null,
      "_view_module": "@jupyter-widgets/base",
      "_view_module_version": "1.2.0",
      "_view_name": "LayoutView",
      "align_content": null,
      "align_items": null,
      "align_self": null,
      "border": null,
      "bottom": null,
      "display": null,
      "flex": null,
      "flex_flow": null,
      "grid_area": null,
      "grid_auto_columns": null,
      "grid_auto_flow": null,
      "grid_auto_rows": null,
      "grid_column": null,
      "grid_gap": null,
      "grid_row": null,
      "grid_template_areas": null,
      "grid_template_columns": null,
      "grid_template_rows": null,
      "height": null,
      "justify_content": null,
      "justify_items": null,
      "left": null,
      "margin": null,
      "max_height": null,
      "max_width": null,
      "min_height": null,
      "min_width": null,
      "object_fit": null,
      "object_position": null,
      "order": null,
      "overflow": null,
      "overflow_x": null,
      "overflow_y": null,
      "padding": null,
      "right": null,
      "top": null,
      "visibility": null,
      "width": null
     }
    },
    "0e14ac454fa942d5a8fdb6a728eeb119": {
     "model_module": "@jupyter-widgets/base",
     "model_name": "LayoutModel",
     "state": {
      "_model_module": "@jupyter-widgets/base",
      "_model_module_version": "1.2.0",
      "_model_name": "LayoutModel",
      "_view_count": null,
      "_view_module": "@jupyter-widgets/base",
      "_view_module_version": "1.2.0",
      "_view_name": "LayoutView",
      "align_content": null,
      "align_items": null,
      "align_self": null,
      "border": null,
      "bottom": null,
      "display": null,
      "flex": null,
      "flex_flow": null,
      "grid_area": null,
      "grid_auto_columns": null,
      "grid_auto_flow": null,
      "grid_auto_rows": null,
      "grid_column": null,
      "grid_gap": null,
      "grid_row": null,
      "grid_template_areas": null,
      "grid_template_columns": null,
      "grid_template_rows": null,
      "height": null,
      "justify_content": null,
      "justify_items": null,
      "left": null,
      "margin": null,
      "max_height": null,
      "max_width": null,
      "min_height": null,
      "min_width": null,
      "object_fit": null,
      "object_position": null,
      "order": null,
      "overflow": null,
      "overflow_x": null,
      "overflow_y": null,
      "padding": null,
      "right": null,
      "top": null,
      "visibility": null,
      "width": null
     }
    },
    "12054e641c7048dd9ff69e7f0e24a826": {
     "model_module": "@jupyter-widgets/controls",
     "model_name": "ProgressStyleModel",
     "state": {
      "_model_module": "@jupyter-widgets/controls",
      "_model_module_version": "1.5.0",
      "_model_name": "ProgressStyleModel",
      "_view_count": null,
      "_view_module": "@jupyter-widgets/base",
      "_view_module_version": "1.2.0",
      "_view_name": "StyleView",
      "bar_color": null,
      "description_width": ""
     }
    },
    "149db4d00bb54fa9b805f7705465d157": {
     "model_module": "@jupyter-widgets/base",
     "model_name": "LayoutModel",
     "state": {
      "_model_module": "@jupyter-widgets/base",
      "_model_module_version": "1.2.0",
      "_model_name": "LayoutModel",
      "_view_count": null,
      "_view_module": "@jupyter-widgets/base",
      "_view_module_version": "1.2.0",
      "_view_name": "LayoutView",
      "align_content": null,
      "align_items": null,
      "align_self": null,
      "border": null,
      "bottom": null,
      "display": null,
      "flex": null,
      "flex_flow": null,
      "grid_area": null,
      "grid_auto_columns": null,
      "grid_auto_flow": null,
      "grid_auto_rows": null,
      "grid_column": null,
      "grid_gap": null,
      "grid_row": null,
      "grid_template_areas": null,
      "grid_template_columns": null,
      "grid_template_rows": null,
      "height": null,
      "justify_content": null,
      "justify_items": null,
      "left": null,
      "margin": null,
      "max_height": null,
      "max_width": null,
      "min_height": null,
      "min_width": null,
      "object_fit": null,
      "object_position": null,
      "order": null,
      "overflow": null,
      "overflow_x": null,
      "overflow_y": null,
      "padding": null,
      "right": null,
      "top": null,
      "visibility": null,
      "width": null
     }
    },
    "16f1e0e0514d4d6cb56c625a50b76022": {
     "model_module": "@jupyter-widgets/base",
     "model_name": "LayoutModel",
     "state": {
      "_model_module": "@jupyter-widgets/base",
      "_model_module_version": "1.2.0",
      "_model_name": "LayoutModel",
      "_view_count": null,
      "_view_module": "@jupyter-widgets/base",
      "_view_module_version": "1.2.0",
      "_view_name": "LayoutView",
      "align_content": null,
      "align_items": null,
      "align_self": null,
      "border": null,
      "bottom": null,
      "display": null,
      "flex": null,
      "flex_flow": null,
      "grid_area": null,
      "grid_auto_columns": null,
      "grid_auto_flow": null,
      "grid_auto_rows": null,
      "grid_column": null,
      "grid_gap": null,
      "grid_row": null,
      "grid_template_areas": null,
      "grid_template_columns": null,
      "grid_template_rows": null,
      "height": null,
      "justify_content": null,
      "justify_items": null,
      "left": null,
      "margin": null,
      "max_height": null,
      "max_width": null,
      "min_height": null,
      "min_width": null,
      "object_fit": null,
      "object_position": null,
      "order": null,
      "overflow": null,
      "overflow_x": null,
      "overflow_y": null,
      "padding": null,
      "right": null,
      "top": null,
      "visibility": null,
      "width": null
     }
    },
    "17f327d52cae401e9de4f9cf1116dd1d": {
     "model_module": "@jupyter-widgets/controls",
     "model_name": "ProgressStyleModel",
     "state": {
      "_model_module": "@jupyter-widgets/controls",
      "_model_module_version": "1.5.0",
      "_model_name": "ProgressStyleModel",
      "_view_count": null,
      "_view_module": "@jupyter-widgets/base",
      "_view_module_version": "1.2.0",
      "_view_name": "StyleView",
      "bar_color": null,
      "description_width": ""
     }
    },
    "1ce252497be7445ab64140b4a275a8d9": {
     "model_module": "@jupyter-widgets/controls",
     "model_name": "FloatProgressModel",
     "state": {
      "_dom_classes": [],
      "_model_module": "@jupyter-widgets/controls",
      "_model_module_version": "1.5.0",
      "_model_name": "FloatProgressModel",
      "_view_count": null,
      "_view_module": "@jupyter-widgets/controls",
      "_view_module_version": "1.5.0",
      "_view_name": "ProgressView",
      "bar_style": "success",
      "description": "",
      "description_tooltip": null,
      "layout": "IPY_MODEL_757d083ecbb44cee9c3281dac58bc68d",
      "max": 1,
      "min": 0,
      "orientation": "horizontal",
      "style": "IPY_MODEL_d71ad0f532a740758fdb9aa04c7e5571",
      "value": 1
     }
    },
    "2134dbd1e6f944bca55a9db22f73bf3f": {
     "model_module": "@jupyter-widgets/controls",
     "model_name": "HTMLModel",
     "state": {
      "_dom_classes": [],
      "_model_module": "@jupyter-widgets/controls",
      "_model_module_version": "1.5.0",
      "_model_name": "HTMLModel",
      "_view_count": null,
      "_view_module": "@jupyter-widgets/controls",
      "_view_module_version": "1.5.0",
      "_view_name": "HTMLView",
      "description": "",
      "description_tooltip": null,
      "layout": "IPY_MODEL_09502d9cfd8143c5afa23f015929b30e",
      "placeholder": "​",
      "style": "IPY_MODEL_fbaa2d6885f14f48a444aa82628d427e",
      "value": " 35/35 [01:13&lt;00:00,  2.11s/it, Completed]"
     }
    },
    "2377e3830c9f4462a9a5424fd70c4f15": {
     "model_module": "@jupyter-widgets/base",
     "model_name": "LayoutModel",
     "state": {
      "_model_module": "@jupyter-widgets/base",
      "_model_module_version": "1.2.0",
      "_model_name": "LayoutModel",
      "_view_count": null,
      "_view_module": "@jupyter-widgets/base",
      "_view_module_version": "1.2.0",
      "_view_name": "LayoutView",
      "align_content": null,
      "align_items": null,
      "align_self": null,
      "border": null,
      "bottom": null,
      "display": null,
      "flex": null,
      "flex_flow": null,
      "grid_area": null,
      "grid_auto_columns": null,
      "grid_auto_flow": null,
      "grid_auto_rows": null,
      "grid_column": null,
      "grid_gap": null,
      "grid_row": null,
      "grid_template_areas": null,
      "grid_template_columns": null,
      "grid_template_rows": null,
      "height": null,
      "justify_content": null,
      "justify_items": null,
      "left": null,
      "margin": null,
      "max_height": null,
      "max_width": null,
      "min_height": null,
      "min_width": null,
      "object_fit": null,
      "object_position": null,
      "order": null,
      "overflow": null,
      "overflow_x": null,
      "overflow_y": null,
      "padding": null,
      "right": null,
      "top": null,
      "visibility": null,
      "width": null
     }
    },
    "25ba95efdc134ceeae59d2f9c62c4f0f": {
     "model_module": "@jupyter-widgets/controls",
     "model_name": "HBoxModel",
     "state": {
      "_dom_classes": [],
      "_model_module": "@jupyter-widgets/controls",
      "_model_module_version": "1.5.0",
      "_model_name": "HBoxModel",
      "_view_count": null,
      "_view_module": "@jupyter-widgets/controls",
      "_view_module_version": "1.5.0",
      "_view_name": "HBoxView",
      "box_style": "",
      "children": [
       "IPY_MODEL_30effdddd3ea4ef99cdb79ff9106bc56",
       "IPY_MODEL_b2b151ca8da24291acee3825bfc48b17",
       "IPY_MODEL_e081e31ce8ce4d0eb49677402fac774e"
      ],
      "layout": "IPY_MODEL_e14f850449c94829a12ee68201b02624"
     }
    },
    "2a80e8818dae482fb3b96dfe1e5e903a": {
     "model_module": "@jupyter-widgets/base",
     "model_name": "LayoutModel",
     "state": {
      "_model_module": "@jupyter-widgets/base",
      "_model_module_version": "1.2.0",
      "_model_name": "LayoutModel",
      "_view_count": null,
      "_view_module": "@jupyter-widgets/base",
      "_view_module_version": "1.2.0",
      "_view_name": "LayoutView",
      "align_content": null,
      "align_items": null,
      "align_self": null,
      "border": null,
      "bottom": null,
      "display": null,
      "flex": null,
      "flex_flow": null,
      "grid_area": null,
      "grid_auto_columns": null,
      "grid_auto_flow": null,
      "grid_auto_rows": null,
      "grid_column": null,
      "grid_gap": null,
      "grid_row": null,
      "grid_template_areas": null,
      "grid_template_columns": null,
      "grid_template_rows": null,
      "height": null,
      "justify_content": null,
      "justify_items": null,
      "left": null,
      "margin": null,
      "max_height": null,
      "max_width": null,
      "min_height": null,
      "min_width": null,
      "object_fit": null,
      "object_position": null,
      "order": null,
      "overflow": null,
      "overflow_x": null,
      "overflow_y": null,
      "padding": null,
      "right": null,
      "top": null,
      "visibility": null,
      "width": null
     }
    },
    "2b40d03664e74d919f2eb72ed98086bb": {
     "model_module": "@jupyter-widgets/controls",
     "model_name": "DescriptionStyleModel",
     "state": {
      "_model_module": "@jupyter-widgets/controls",
      "_model_module_version": "1.5.0",
      "_model_name": "DescriptionStyleModel",
      "_view_count": null,
      "_view_module": "@jupyter-widgets/base",
      "_view_module_version": "1.2.0",
      "_view_name": "StyleView",
      "description_width": ""
     }
    },
    "30effdddd3ea4ef99cdb79ff9106bc56": {
     "model_module": "@jupyter-widgets/controls",
     "model_name": "HTMLModel",
     "state": {
      "_dom_classes": [],
      "_model_module": "@jupyter-widgets/controls",
      "_model_module_version": "1.5.0",
      "_model_name": "HTMLModel",
      "_view_count": null,
      "_view_module": "@jupyter-widgets/controls",
      "_view_module_version": "1.5.0",
      "_view_name": "HTMLView",
      "description": "",
      "description_tooltip": null,
      "layout": "IPY_MODEL_2377e3830c9f4462a9a5424fd70c4f15",
      "placeholder": "​",
      "style": "IPY_MODEL_382b601e9fef44d18dd18ed1c07170b6",
      "value": "Render HTML: 100%"
     }
    },
    "34ae2e520310459080bbb623a6d1fe7e": {
     "model_module": "@jupyter-widgets/controls",
     "model_name": "DescriptionStyleModel",
     "state": {
      "_model_module": "@jupyter-widgets/controls",
      "_model_module_version": "1.5.0",
      "_model_name": "DescriptionStyleModel",
      "_view_count": null,
      "_view_module": "@jupyter-widgets/base",
      "_view_module_version": "1.2.0",
      "_view_name": "StyleView",
      "description_width": ""
     }
    },
    "382b601e9fef44d18dd18ed1c07170b6": {
     "model_module": "@jupyter-widgets/controls",
     "model_name": "DescriptionStyleModel",
     "state": {
      "_model_module": "@jupyter-widgets/controls",
      "_model_module_version": "1.5.0",
      "_model_name": "DescriptionStyleModel",
      "_view_count": null,
      "_view_module": "@jupyter-widgets/base",
      "_view_module_version": "1.2.0",
      "_view_name": "StyleView",
      "description_width": ""
     }
    },
    "3861949dace14fcf9027c00e9fc4ba04": {
     "model_module": "@jupyter-widgets/controls",
     "model_name": "DescriptionStyleModel",
     "state": {
      "_model_module": "@jupyter-widgets/controls",
      "_model_module_version": "1.5.0",
      "_model_name": "DescriptionStyleModel",
      "_view_count": null,
      "_view_module": "@jupyter-widgets/base",
      "_view_module_version": "1.2.0",
      "_view_name": "StyleView",
      "description_width": ""
     }
    },
    "38da4c62ca62489d8fd98757d16aef36": {
     "model_module": "@jupyter-widgets/controls",
     "model_name": "HTMLModel",
     "state": {
      "_dom_classes": [],
      "_model_module": "@jupyter-widgets/controls",
      "_model_module_version": "1.5.0",
      "_model_name": "HTMLModel",
      "_view_count": null,
      "_view_module": "@jupyter-widgets/controls",
      "_view_module_version": "1.5.0",
      "_view_name": "HTMLView",
      "description": "",
      "description_tooltip": null,
      "layout": "IPY_MODEL_3d1dac5ee8bf480bad76f08764c8e036",
      "placeholder": "​",
      "style": "IPY_MODEL_c04ce8f3594145779df25d03de61dad1",
      "value": "Summarize dataset: 100%"
     }
    },
    "3bb1bbf850ff4908ad247af19cd4cb08": {
     "model_module": "@jupyter-widgets/base",
     "model_name": "LayoutModel",
     "state": {
      "_model_module": "@jupyter-widgets/base",
      "_model_module_version": "1.2.0",
      "_model_name": "LayoutModel",
      "_view_count": null,
      "_view_module": "@jupyter-widgets/base",
      "_view_module_version": "1.2.0",
      "_view_name": "LayoutView",
      "align_content": null,
      "align_items": null,
      "align_self": null,
      "border": null,
      "bottom": null,
      "display": null,
      "flex": null,
      "flex_flow": null,
      "grid_area": null,
      "grid_auto_columns": null,
      "grid_auto_flow": null,
      "grid_auto_rows": null,
      "grid_column": null,
      "grid_gap": null,
      "grid_row": null,
      "grid_template_areas": null,
      "grid_template_columns": null,
      "grid_template_rows": null,
      "height": null,
      "justify_content": null,
      "justify_items": null,
      "left": null,
      "margin": null,
      "max_height": null,
      "max_width": null,
      "min_height": null,
      "min_width": null,
      "object_fit": null,
      "object_position": null,
      "order": null,
      "overflow": null,
      "overflow_x": null,
      "overflow_y": null,
      "padding": null,
      "right": null,
      "top": null,
      "visibility": null,
      "width": null
     }
    },
    "3cc18f9416854486bb8db0de525c8df4": {
     "model_module": "@jupyter-widgets/base",
     "model_name": "LayoutModel",
     "state": {
      "_model_module": "@jupyter-widgets/base",
      "_model_module_version": "1.2.0",
      "_model_name": "LayoutModel",
      "_view_count": null,
      "_view_module": "@jupyter-widgets/base",
      "_view_module_version": "1.2.0",
      "_view_name": "LayoutView",
      "align_content": null,
      "align_items": null,
      "align_self": null,
      "border": null,
      "bottom": null,
      "display": null,
      "flex": null,
      "flex_flow": null,
      "grid_area": null,
      "grid_auto_columns": null,
      "grid_auto_flow": null,
      "grid_auto_rows": null,
      "grid_column": null,
      "grid_gap": null,
      "grid_row": null,
      "grid_template_areas": null,
      "grid_template_columns": null,
      "grid_template_rows": null,
      "height": null,
      "justify_content": null,
      "justify_items": null,
      "left": null,
      "margin": null,
      "max_height": null,
      "max_width": null,
      "min_height": null,
      "min_width": null,
      "object_fit": null,
      "object_position": null,
      "order": null,
      "overflow": null,
      "overflow_x": null,
      "overflow_y": null,
      "padding": null,
      "right": null,
      "top": null,
      "visibility": null,
      "width": null
     }
    },
    "3d1dac5ee8bf480bad76f08764c8e036": {
     "model_module": "@jupyter-widgets/base",
     "model_name": "LayoutModel",
     "state": {
      "_model_module": "@jupyter-widgets/base",
      "_model_module_version": "1.2.0",
      "_model_name": "LayoutModel",
      "_view_count": null,
      "_view_module": "@jupyter-widgets/base",
      "_view_module_version": "1.2.0",
      "_view_name": "LayoutView",
      "align_content": null,
      "align_items": null,
      "align_self": null,
      "border": null,
      "bottom": null,
      "display": null,
      "flex": null,
      "flex_flow": null,
      "grid_area": null,
      "grid_auto_columns": null,
      "grid_auto_flow": null,
      "grid_auto_rows": null,
      "grid_column": null,
      "grid_gap": null,
      "grid_row": null,
      "grid_template_areas": null,
      "grid_template_columns": null,
      "grid_template_rows": null,
      "height": null,
      "justify_content": null,
      "justify_items": null,
      "left": null,
      "margin": null,
      "max_height": null,
      "max_width": null,
      "min_height": null,
      "min_width": null,
      "object_fit": null,
      "object_position": null,
      "order": null,
      "overflow": null,
      "overflow_x": null,
      "overflow_y": null,
      "padding": null,
      "right": null,
      "top": null,
      "visibility": null,
      "width": null
     }
    },
    "405b5dd099ca4f298126385cee05aa37": {
     "model_module": "@jupyter-widgets/controls",
     "model_name": "HBoxModel",
     "state": {
      "_dom_classes": [],
      "_model_module": "@jupyter-widgets/controls",
      "_model_module_version": "1.5.0",
      "_model_name": "HBoxModel",
      "_view_count": null,
      "_view_module": "@jupyter-widgets/controls",
      "_view_module_version": "1.5.0",
      "_view_name": "HBoxView",
      "box_style": "",
      "children": [
       "IPY_MODEL_38da4c62ca62489d8fd98757d16aef36",
       "IPY_MODEL_77f44cd691314379ac10c4ebeb4d5418",
       "IPY_MODEL_88f44d15b3774d7fa52990b5254ffc10"
      ],
      "layout": "IPY_MODEL_489934f99a4043cbad66c0ea8fd1e742"
     }
    },
    "4315053ed6f642e3b49ed489c2c9b266": {
     "model_module": "@jupyter-widgets/base",
     "model_name": "LayoutModel",
     "state": {
      "_model_module": "@jupyter-widgets/base",
      "_model_module_version": "1.2.0",
      "_model_name": "LayoutModel",
      "_view_count": null,
      "_view_module": "@jupyter-widgets/base",
      "_view_module_version": "1.2.0",
      "_view_name": "LayoutView",
      "align_content": null,
      "align_items": null,
      "align_self": null,
      "border": null,
      "bottom": null,
      "display": null,
      "flex": null,
      "flex_flow": null,
      "grid_area": null,
      "grid_auto_columns": null,
      "grid_auto_flow": null,
      "grid_auto_rows": null,
      "grid_column": null,
      "grid_gap": null,
      "grid_row": null,
      "grid_template_areas": null,
      "grid_template_columns": null,
      "grid_template_rows": null,
      "height": null,
      "justify_content": null,
      "justify_items": null,
      "left": null,
      "margin": null,
      "max_height": null,
      "max_width": null,
      "min_height": null,
      "min_width": null,
      "object_fit": null,
      "object_position": null,
      "order": null,
      "overflow": null,
      "overflow_x": null,
      "overflow_y": null,
      "padding": null,
      "right": null,
      "top": null,
      "visibility": null,
      "width": null
     }
    },
    "489934f99a4043cbad66c0ea8fd1e742": {
     "model_module": "@jupyter-widgets/base",
     "model_name": "LayoutModel",
     "state": {
      "_model_module": "@jupyter-widgets/base",
      "_model_module_version": "1.2.0",
      "_model_name": "LayoutModel",
      "_view_count": null,
      "_view_module": "@jupyter-widgets/base",
      "_view_module_version": "1.2.0",
      "_view_name": "LayoutView",
      "align_content": null,
      "align_items": null,
      "align_self": null,
      "border": null,
      "bottom": null,
      "display": null,
      "flex": null,
      "flex_flow": null,
      "grid_area": null,
      "grid_auto_columns": null,
      "grid_auto_flow": null,
      "grid_auto_rows": null,
      "grid_column": null,
      "grid_gap": null,
      "grid_row": null,
      "grid_template_areas": null,
      "grid_template_columns": null,
      "grid_template_rows": null,
      "height": null,
      "justify_content": null,
      "justify_items": null,
      "left": null,
      "margin": null,
      "max_height": null,
      "max_width": null,
      "min_height": null,
      "min_width": null,
      "object_fit": null,
      "object_position": null,
      "order": null,
      "overflow": null,
      "overflow_x": null,
      "overflow_y": null,
      "padding": null,
      "right": null,
      "top": null,
      "visibility": null,
      "width": null
     }
    },
    "4a1a8025adf344abb9049ea8ccc9c42e": {
     "model_module": "@jupyter-widgets/controls",
     "model_name": "DescriptionStyleModel",
     "state": {
      "_model_module": "@jupyter-widgets/controls",
      "_model_module_version": "1.5.0",
      "_model_name": "DescriptionStyleModel",
      "_view_count": null,
      "_view_module": "@jupyter-widgets/base",
      "_view_module_version": "1.2.0",
      "_view_name": "StyleView",
      "description_width": ""
     }
    },
    "4e2a10a4c7954289877fe41ec6477d47": {
     "model_module": "@jupyter-widgets/controls",
     "model_name": "FloatProgressModel",
     "state": {
      "_dom_classes": [],
      "_model_module": "@jupyter-widgets/controls",
      "_model_module_version": "1.5.0",
      "_model_name": "FloatProgressModel",
      "_view_count": null,
      "_view_module": "@jupyter-widgets/controls",
      "_view_module_version": "1.5.0",
      "_view_name": "ProgressView",
      "bar_style": "success",
      "description": "",
      "description_tooltip": null,
      "layout": "IPY_MODEL_16f1e0e0514d4d6cb56c625a50b76022",
      "max": 35,
      "min": 0,
      "orientation": "horizontal",
      "style": "IPY_MODEL_d75b484bca03443ca7d44c08ec6a43c5",
      "value": 35
     }
    },
    "514e50028d984088a7af7b6ff540a21b": {
     "model_module": "@jupyter-widgets/base",
     "model_name": "LayoutModel",
     "state": {
      "_model_module": "@jupyter-widgets/base",
      "_model_module_version": "1.2.0",
      "_model_name": "LayoutModel",
      "_view_count": null,
      "_view_module": "@jupyter-widgets/base",
      "_view_module_version": "1.2.0",
      "_view_name": "LayoutView",
      "align_content": null,
      "align_items": null,
      "align_self": null,
      "border": null,
      "bottom": null,
      "display": null,
      "flex": null,
      "flex_flow": null,
      "grid_area": null,
      "grid_auto_columns": null,
      "grid_auto_flow": null,
      "grid_auto_rows": null,
      "grid_column": null,
      "grid_gap": null,
      "grid_row": null,
      "grid_template_areas": null,
      "grid_template_columns": null,
      "grid_template_rows": null,
      "height": null,
      "justify_content": null,
      "justify_items": null,
      "left": null,
      "margin": null,
      "max_height": null,
      "max_width": null,
      "min_height": null,
      "min_width": null,
      "object_fit": null,
      "object_position": null,
      "order": null,
      "overflow": null,
      "overflow_x": null,
      "overflow_y": null,
      "padding": null,
      "right": null,
      "top": null,
      "visibility": null,
      "width": null
     }
    },
    "570f61ee6bf84c899f158be46a2edd55": {
     "model_module": "@jupyter-widgets/controls",
     "model_name": "ProgressStyleModel",
     "state": {
      "_model_module": "@jupyter-widgets/controls",
      "_model_module_version": "1.5.0",
      "_model_name": "ProgressStyleModel",
      "_view_count": null,
      "_view_module": "@jupyter-widgets/base",
      "_view_module_version": "1.2.0",
      "_view_name": "StyleView",
      "bar_color": null,
      "description_width": ""
     }
    },
    "5f25a3cdc61d44f297c1a9f40bdee023": {
     "model_module": "@jupyter-widgets/controls",
     "model_name": "DescriptionStyleModel",
     "state": {
      "_model_module": "@jupyter-widgets/controls",
      "_model_module_version": "1.5.0",
      "_model_name": "DescriptionStyleModel",
      "_view_count": null,
      "_view_module": "@jupyter-widgets/base",
      "_view_module_version": "1.2.0",
      "_view_name": "StyleView",
      "description_width": ""
     }
    },
    "67058dc11dba4aadaa3ffef89c93259b": {
     "model_module": "@jupyter-widgets/controls",
     "model_name": "HTMLModel",
     "state": {
      "_dom_classes": [],
      "_model_module": "@jupyter-widgets/controls",
      "_model_module_version": "1.5.0",
      "_model_name": "HTMLModel",
      "_view_count": null,
      "_view_module": "@jupyter-widgets/controls",
      "_view_module_version": "1.5.0",
      "_view_name": "HTMLView",
      "description": "",
      "description_tooltip": null,
      "layout": "IPY_MODEL_b4043326ce8a41b1b1d1b71629d2e3fc",
      "placeholder": "​",
      "style": "IPY_MODEL_6d7beeef93264fdfb52a947c23c4ae98",
      "value": " 1/1 [00:00&lt;00:00,  4.57it/s]"
     }
    },
    "6d7beeef93264fdfb52a947c23c4ae98": {
     "model_module": "@jupyter-widgets/controls",
     "model_name": "DescriptionStyleModel",
     "state": {
      "_model_module": "@jupyter-widgets/controls",
      "_model_module_version": "1.5.0",
      "_model_name": "DescriptionStyleModel",
      "_view_count": null,
      "_view_module": "@jupyter-widgets/base",
      "_view_module_version": "1.2.0",
      "_view_name": "StyleView",
      "description_width": ""
     }
    },
    "6f17a3f2ad5b465e88524049a87eeea5": {
     "model_module": "@jupyter-widgets/controls",
     "model_name": "HTMLModel",
     "state": {
      "_dom_classes": [],
      "_model_module": "@jupyter-widgets/controls",
      "_model_module_version": "1.5.0",
      "_model_name": "HTMLModel",
      "_view_count": null,
      "_view_module": "@jupyter-widgets/controls",
      "_view_module_version": "1.5.0",
      "_view_name": "HTMLView",
      "description": "",
      "description_tooltip": null,
      "layout": "IPY_MODEL_3bb1bbf850ff4908ad247af19cd4cb08",
      "placeholder": "​",
      "style": "IPY_MODEL_2b40d03664e74d919f2eb72ed98086bb",
      "value": "Generate report structure: 100%"
     }
    },
    "71f89c620d5b46ad985cb2273ce96311": {
     "model_module": "@jupyter-widgets/base",
     "model_name": "LayoutModel",
     "state": {
      "_model_module": "@jupyter-widgets/base",
      "_model_module_version": "1.2.0",
      "_model_name": "LayoutModel",
      "_view_count": null,
      "_view_module": "@jupyter-widgets/base",
      "_view_module_version": "1.2.0",
      "_view_name": "LayoutView",
      "align_content": null,
      "align_items": null,
      "align_self": null,
      "border": null,
      "bottom": null,
      "display": null,
      "flex": null,
      "flex_flow": null,
      "grid_area": null,
      "grid_auto_columns": null,
      "grid_auto_flow": null,
      "grid_auto_rows": null,
      "grid_column": null,
      "grid_gap": null,
      "grid_row": null,
      "grid_template_areas": null,
      "grid_template_columns": null,
      "grid_template_rows": null,
      "height": null,
      "justify_content": null,
      "justify_items": null,
      "left": null,
      "margin": null,
      "max_height": null,
      "max_width": null,
      "min_height": null,
      "min_width": null,
      "object_fit": null,
      "object_position": null,
      "order": null,
      "overflow": null,
      "overflow_x": null,
      "overflow_y": null,
      "padding": null,
      "right": null,
      "top": null,
      "visibility": null,
      "width": null
     }
    },
    "757d083ecbb44cee9c3281dac58bc68d": {
     "model_module": "@jupyter-widgets/base",
     "model_name": "LayoutModel",
     "state": {
      "_model_module": "@jupyter-widgets/base",
      "_model_module_version": "1.2.0",
      "_model_name": "LayoutModel",
      "_view_count": null,
      "_view_module": "@jupyter-widgets/base",
      "_view_module_version": "1.2.0",
      "_view_name": "LayoutView",
      "align_content": null,
      "align_items": null,
      "align_self": null,
      "border": null,
      "bottom": null,
      "display": null,
      "flex": null,
      "flex_flow": null,
      "grid_area": null,
      "grid_auto_columns": null,
      "grid_auto_flow": null,
      "grid_auto_rows": null,
      "grid_column": null,
      "grid_gap": null,
      "grid_row": null,
      "grid_template_areas": null,
      "grid_template_columns": null,
      "grid_template_rows": null,
      "height": null,
      "justify_content": null,
      "justify_items": null,
      "left": null,
      "margin": null,
      "max_height": null,
      "max_width": null,
      "min_height": null,
      "min_width": null,
      "object_fit": null,
      "object_position": null,
      "order": null,
      "overflow": null,
      "overflow_x": null,
      "overflow_y": null,
      "padding": null,
      "right": null,
      "top": null,
      "visibility": null,
      "width": null
     }
    },
    "77f44cd691314379ac10c4ebeb4d5418": {
     "model_module": "@jupyter-widgets/controls",
     "model_name": "FloatProgressModel",
     "state": {
      "_dom_classes": [],
      "_model_module": "@jupyter-widgets/controls",
      "_model_module_version": "1.5.0",
      "_model_name": "FloatProgressModel",
      "_view_count": null,
      "_view_module": "@jupyter-widgets/controls",
      "_view_module_version": "1.5.0",
      "_view_name": "ProgressView",
      "bar_style": "success",
      "description": "",
      "description_tooltip": null,
      "layout": "IPY_MODEL_05e3ae0b4c174d96aeefc4f48bc0ac3b",
      "max": 35,
      "min": 0,
      "orientation": "horizontal",
      "style": "IPY_MODEL_95ffbf994ca94fb489a3a14ec6e9de3e",
      "value": 35
     }
    },
    "77f4b03e2a5348e5951ae7e4ea1c2418": {
     "model_module": "@jupyter-widgets/base",
     "model_name": "LayoutModel",
     "state": {
      "_model_module": "@jupyter-widgets/base",
      "_model_module_version": "1.2.0",
      "_model_name": "LayoutModel",
      "_view_count": null,
      "_view_module": "@jupyter-widgets/base",
      "_view_module_version": "1.2.0",
      "_view_name": "LayoutView",
      "align_content": null,
      "align_items": null,
      "align_self": null,
      "border": null,
      "bottom": null,
      "display": null,
      "flex": null,
      "flex_flow": null,
      "grid_area": null,
      "grid_auto_columns": null,
      "grid_auto_flow": null,
      "grid_auto_rows": null,
      "grid_column": null,
      "grid_gap": null,
      "grid_row": null,
      "grid_template_areas": null,
      "grid_template_columns": null,
      "grid_template_rows": null,
      "height": null,
      "justify_content": null,
      "justify_items": null,
      "left": null,
      "margin": null,
      "max_height": null,
      "max_width": null,
      "min_height": null,
      "min_width": null,
      "object_fit": null,
      "object_position": null,
      "order": null,
      "overflow": null,
      "overflow_x": null,
      "overflow_y": null,
      "padding": null,
      "right": null,
      "top": null,
      "visibility": null,
      "width": null
     }
    },
    "805fddd85fff4706a2c74c47c81b6371": {
     "model_module": "@jupyter-widgets/controls",
     "model_name": "ProgressStyleModel",
     "state": {
      "_model_module": "@jupyter-widgets/controls",
      "_model_module_version": "1.5.0",
      "_model_name": "ProgressStyleModel",
      "_view_count": null,
      "_view_module": "@jupyter-widgets/base",
      "_view_module_version": "1.2.0",
      "_view_name": "StyleView",
      "bar_color": null,
      "description_width": ""
     }
    },
    "85f32fe1286d4fbb9276b2099a75d0f5": {
     "model_module": "@jupyter-widgets/controls",
     "model_name": "FloatProgressModel",
     "state": {
      "_dom_classes": [],
      "_model_module": "@jupyter-widgets/controls",
      "_model_module_version": "1.5.0",
      "_model_name": "FloatProgressModel",
      "_view_count": null,
      "_view_module": "@jupyter-widgets/controls",
      "_view_module_version": "1.5.0",
      "_view_name": "ProgressView",
      "bar_style": "success",
      "description": "",
      "description_tooltip": null,
      "layout": "IPY_MODEL_d106d2ab029b48af8920a972aba2da60",
      "max": 1,
      "min": 0,
      "orientation": "horizontal",
      "style": "IPY_MODEL_805fddd85fff4706a2c74c47c81b6371",
      "value": 1
     }
    },
    "86b2118244594619bac4cef47e0cd7bc": {
     "model_module": "@jupyter-widgets/controls",
     "model_name": "HTMLModel",
     "state": {
      "_dom_classes": [],
      "_model_module": "@jupyter-widgets/controls",
      "_model_module_version": "1.5.0",
      "_model_name": "HTMLModel",
      "_view_count": null,
      "_view_module": "@jupyter-widgets/controls",
      "_view_module_version": "1.5.0",
      "_view_name": "HTMLView",
      "description": "",
      "description_tooltip": null,
      "layout": "IPY_MODEL_ff6cb0e5a2c0482f88f686c3557b49dd",
      "placeholder": "​",
      "style": "IPY_MODEL_5f25a3cdc61d44f297c1a9f40bdee023",
      "value": " 1/1 [00:26&lt;00:00, 26.75s/it]"
     }
    },
    "8810f0af71574ac195be9f0f64481c51": {
     "model_module": "@jupyter-widgets/controls",
     "model_name": "HBoxModel",
     "state": {
      "_dom_classes": [],
      "_model_module": "@jupyter-widgets/controls",
      "_model_module_version": "1.5.0",
      "_model_name": "HBoxModel",
      "_view_count": null,
      "_view_module": "@jupyter-widgets/controls",
      "_view_module_version": "1.5.0",
      "_view_name": "HBoxView",
      "box_style": "",
      "children": [
       "IPY_MODEL_cffbc8789e1944c280e96325252b2025",
       "IPY_MODEL_4e2a10a4c7954289877fe41ec6477d47",
       "IPY_MODEL_2134dbd1e6f944bca55a9db22f73bf3f"
      ],
      "layout": "IPY_MODEL_514e50028d984088a7af7b6ff540a21b"
     }
    },
    "88ccdb2ac0744ae49f6e1fba505f55a7": {
     "model_module": "@jupyter-widgets/controls",
     "model_name": "HBoxModel",
     "state": {
      "_dom_classes": [],
      "_model_module": "@jupyter-widgets/controls",
      "_model_module_version": "1.5.0",
      "_model_name": "HBoxModel",
      "_view_count": null,
      "_view_module": "@jupyter-widgets/controls",
      "_view_module_version": "1.5.0",
      "_view_name": "HBoxView",
      "box_style": "",
      "children": [
       "IPY_MODEL_6f17a3f2ad5b465e88524049a87eeea5",
       "IPY_MODEL_1ce252497be7445ab64140b4a275a8d9",
       "IPY_MODEL_86b2118244594619bac4cef47e0cd7bc"
      ],
      "layout": "IPY_MODEL_0e14ac454fa942d5a8fdb6a728eeb119"
     }
    },
    "88f44d15b3774d7fa52990b5254ffc10": {
     "model_module": "@jupyter-widgets/controls",
     "model_name": "HTMLModel",
     "state": {
      "_dom_classes": [],
      "_model_module": "@jupyter-widgets/controls",
      "_model_module_version": "1.5.0",
      "_model_name": "HTMLModel",
      "_view_count": null,
      "_view_module": "@jupyter-widgets/controls",
      "_view_module_version": "1.5.0",
      "_view_name": "HTMLView",
      "description": "",
      "description_tooltip": null,
      "layout": "IPY_MODEL_0326093dafc44ce685adfffed94932e2",
      "placeholder": "​",
      "style": "IPY_MODEL_d2a7f108de93447faeb0b33aab30c570",
      "value": " 35/35 [01:35&lt;00:00,  2.73s/it, Completed]"
     }
    },
    "931cc5cf189c4cf5bcc01d73ea44e53d": {
     "model_module": "@jupyter-widgets/controls",
     "model_name": "DescriptionStyleModel",
     "state": {
      "_model_module": "@jupyter-widgets/controls",
      "_model_module_version": "1.5.0",
      "_model_name": "DescriptionStyleModel",
      "_view_count": null,
      "_view_module": "@jupyter-widgets/base",
      "_view_module_version": "1.2.0",
      "_view_name": "StyleView",
      "description_width": ""
     }
    },
    "95ffbf994ca94fb489a3a14ec6e9de3e": {
     "model_module": "@jupyter-widgets/controls",
     "model_name": "ProgressStyleModel",
     "state": {
      "_model_module": "@jupyter-widgets/controls",
      "_model_module_version": "1.5.0",
      "_model_name": "ProgressStyleModel",
      "_view_count": null,
      "_view_module": "@jupyter-widgets/base",
      "_view_module_version": "1.2.0",
      "_view_name": "StyleView",
      "bar_color": null,
      "description_width": ""
     }
    },
    "96beeacf367c43b796d0ebd930794a18": {
     "model_module": "@jupyter-widgets/controls",
     "model_name": "DescriptionStyleModel",
     "state": {
      "_model_module": "@jupyter-widgets/controls",
      "_model_module_version": "1.5.0",
      "_model_name": "DescriptionStyleModel",
      "_view_count": null,
      "_view_module": "@jupyter-widgets/base",
      "_view_module_version": "1.2.0",
      "_view_name": "StyleView",
      "description_width": ""
     }
    },
    "97dce6086d834b088d6156397911991c": {
     "model_module": "@jupyter-widgets/base",
     "model_name": "LayoutModel",
     "state": {
      "_model_module": "@jupyter-widgets/base",
      "_model_module_version": "1.2.0",
      "_model_name": "LayoutModel",
      "_view_count": null,
      "_view_module": "@jupyter-widgets/base",
      "_view_module_version": "1.2.0",
      "_view_name": "LayoutView",
      "align_content": null,
      "align_items": null,
      "align_self": null,
      "border": null,
      "bottom": null,
      "display": null,
      "flex": null,
      "flex_flow": null,
      "grid_area": null,
      "grid_auto_columns": null,
      "grid_auto_flow": null,
      "grid_auto_rows": null,
      "grid_column": null,
      "grid_gap": null,
      "grid_row": null,
      "grid_template_areas": null,
      "grid_template_columns": null,
      "grid_template_rows": null,
      "height": null,
      "justify_content": null,
      "justify_items": null,
      "left": null,
      "margin": null,
      "max_height": null,
      "max_width": null,
      "min_height": null,
      "min_width": null,
      "object_fit": null,
      "object_position": null,
      "order": null,
      "overflow": null,
      "overflow_x": null,
      "overflow_y": null,
      "padding": null,
      "right": null,
      "top": null,
      "visibility": null,
      "width": null
     }
    },
    "9ce4209354b042c69bb81ec7578b8440": {
     "model_module": "@jupyter-widgets/base",
     "model_name": "LayoutModel",
     "state": {
      "_model_module": "@jupyter-widgets/base",
      "_model_module_version": "1.2.0",
      "_model_name": "LayoutModel",
      "_view_count": null,
      "_view_module": "@jupyter-widgets/base",
      "_view_module_version": "1.2.0",
      "_view_name": "LayoutView",
      "align_content": null,
      "align_items": null,
      "align_self": null,
      "border": null,
      "bottom": null,
      "display": null,
      "flex": null,
      "flex_flow": null,
      "grid_area": null,
      "grid_auto_columns": null,
      "grid_auto_flow": null,
      "grid_auto_rows": null,
      "grid_column": null,
      "grid_gap": null,
      "grid_row": null,
      "grid_template_areas": null,
      "grid_template_columns": null,
      "grid_template_rows": null,
      "height": null,
      "justify_content": null,
      "justify_items": null,
      "left": null,
      "margin": null,
      "max_height": null,
      "max_width": null,
      "min_height": null,
      "min_width": null,
      "object_fit": null,
      "object_position": null,
      "order": null,
      "overflow": null,
      "overflow_x": null,
      "overflow_y": null,
      "padding": null,
      "right": null,
      "top": null,
      "visibility": null,
      "width": null
     }
    },
    "a31f6d7f00e8432389e52379394c0d37": {
     "model_module": "@jupyter-widgets/base",
     "model_name": "LayoutModel",
     "state": {
      "_model_module": "@jupyter-widgets/base",
      "_model_module_version": "1.2.0",
      "_model_name": "LayoutModel",
      "_view_count": null,
      "_view_module": "@jupyter-widgets/base",
      "_view_module_version": "1.2.0",
      "_view_name": "LayoutView",
      "align_content": null,
      "align_items": null,
      "align_self": null,
      "border": null,
      "bottom": null,
      "display": null,
      "flex": null,
      "flex_flow": null,
      "grid_area": null,
      "grid_auto_columns": null,
      "grid_auto_flow": null,
      "grid_auto_rows": null,
      "grid_column": null,
      "grid_gap": null,
      "grid_row": null,
      "grid_template_areas": null,
      "grid_template_columns": null,
      "grid_template_rows": null,
      "height": null,
      "justify_content": null,
      "justify_items": null,
      "left": null,
      "margin": null,
      "max_height": null,
      "max_width": null,
      "min_height": null,
      "min_width": null,
      "object_fit": null,
      "object_position": null,
      "order": null,
      "overflow": null,
      "overflow_x": null,
      "overflow_y": null,
      "padding": null,
      "right": null,
      "top": null,
      "visibility": null,
      "width": null
     }
    },
    "a909f2451ba94adaa029408435e48a31": {
     "model_module": "@jupyter-widgets/controls",
     "model_name": "HTMLModel",
     "state": {
      "_dom_classes": [],
      "_model_module": "@jupyter-widgets/controls",
      "_model_module_version": "1.5.0",
      "_model_name": "HTMLModel",
      "_view_count": null,
      "_view_module": "@jupyter-widgets/controls",
      "_view_module_version": "1.5.0",
      "_view_name": "HTMLView",
      "description": "",
      "description_tooltip": null,
      "layout": "IPY_MODEL_3cc18f9416854486bb8db0de525c8df4",
      "placeholder": "​",
      "style": "IPY_MODEL_4a1a8025adf344abb9049ea8ccc9c42e",
      "value": "Render HTML: 100%"
     }
    },
    "b2b151ca8da24291acee3825bfc48b17": {
     "model_module": "@jupyter-widgets/controls",
     "model_name": "FloatProgressModel",
     "state": {
      "_dom_classes": [],
      "_model_module": "@jupyter-widgets/controls",
      "_model_module_version": "1.5.0",
      "_model_name": "FloatProgressModel",
      "_view_count": null,
      "_view_module": "@jupyter-widgets/controls",
      "_view_module_version": "1.5.0",
      "_view_name": "ProgressView",
      "bar_style": "success",
      "description": "",
      "description_tooltip": null,
      "layout": "IPY_MODEL_9ce4209354b042c69bb81ec7578b8440",
      "max": 1,
      "min": 0,
      "orientation": "horizontal",
      "style": "IPY_MODEL_570f61ee6bf84c899f158be46a2edd55",
      "value": 1
     }
    },
    "b4043326ce8a41b1b1d1b71629d2e3fc": {
     "model_module": "@jupyter-widgets/base",
     "model_name": "LayoutModel",
     "state": {
      "_model_module": "@jupyter-widgets/base",
      "_model_module_version": "1.2.0",
      "_model_name": "LayoutModel",
      "_view_count": null,
      "_view_module": "@jupyter-widgets/base",
      "_view_module_version": "1.2.0",
      "_view_name": "LayoutView",
      "align_content": null,
      "align_items": null,
      "align_self": null,
      "border": null,
      "bottom": null,
      "display": null,
      "flex": null,
      "flex_flow": null,
      "grid_area": null,
      "grid_auto_columns": null,
      "grid_auto_flow": null,
      "grid_auto_rows": null,
      "grid_column": null,
      "grid_gap": null,
      "grid_row": null,
      "grid_template_areas": null,
      "grid_template_columns": null,
      "grid_template_rows": null,
      "height": null,
      "justify_content": null,
      "justify_items": null,
      "left": null,
      "margin": null,
      "max_height": null,
      "max_width": null,
      "min_height": null,
      "min_width": null,
      "object_fit": null,
      "object_position": null,
      "order": null,
      "overflow": null,
      "overflow_x": null,
      "overflow_y": null,
      "padding": null,
      "right": null,
      "top": null,
      "visibility": null,
      "width": null
     }
    },
    "b4925f3f2ab34df6a6fa7b999e2f6e83": {
     "model_module": "@jupyter-widgets/base",
     "model_name": "LayoutModel",
     "state": {
      "_model_module": "@jupyter-widgets/base",
      "_model_module_version": "1.2.0",
      "_model_name": "LayoutModel",
      "_view_count": null,
      "_view_module": "@jupyter-widgets/base",
      "_view_module_version": "1.2.0",
      "_view_name": "LayoutView",
      "align_content": null,
      "align_items": null,
      "align_self": null,
      "border": null,
      "bottom": null,
      "display": null,
      "flex": null,
      "flex_flow": null,
      "grid_area": null,
      "grid_auto_columns": null,
      "grid_auto_flow": null,
      "grid_auto_rows": null,
      "grid_column": null,
      "grid_gap": null,
      "grid_row": null,
      "grid_template_areas": null,
      "grid_template_columns": null,
      "grid_template_rows": null,
      "height": null,
      "justify_content": null,
      "justify_items": null,
      "left": null,
      "margin": null,
      "max_height": null,
      "max_width": null,
      "min_height": null,
      "min_width": null,
      "object_fit": null,
      "object_position": null,
      "order": null,
      "overflow": null,
      "overflow_x": null,
      "overflow_y": null,
      "padding": null,
      "right": null,
      "top": null,
      "visibility": null,
      "width": null
     }
    },
    "b66b139bc4384fb6a9d8b7867fa15a90": {
     "model_module": "@jupyter-widgets/controls",
     "model_name": "HBoxModel",
     "state": {
      "_dom_classes": [],
      "_model_module": "@jupyter-widgets/controls",
      "_model_module_version": "1.5.0",
      "_model_name": "HBoxModel",
      "_view_count": null,
      "_view_module": "@jupyter-widgets/controls",
      "_view_module_version": "1.5.0",
      "_view_name": "HBoxView",
      "box_style": "",
      "children": [
       "IPY_MODEL_f0f13bd5bd9d484db2201f374b0c66ce",
       "IPY_MODEL_85f32fe1286d4fbb9276b2099a75d0f5",
       "IPY_MODEL_e661d2ec162b4e3c9f6eaba1c94a0335"
      ],
      "layout": "IPY_MODEL_da4aa2c654294edaae85feefa24bdc2c"
     }
    },
    "b6a78d5b4201446faf73095fb0ec0c25": {
     "model_module": "@jupyter-widgets/controls",
     "model_name": "HTMLModel",
     "state": {
      "_dom_classes": [],
      "_model_module": "@jupyter-widgets/controls",
      "_model_module_version": "1.5.0",
      "_model_name": "HTMLModel",
      "_view_count": null,
      "_view_module": "@jupyter-widgets/controls",
      "_view_module_version": "1.5.0",
      "_view_name": "HTMLView",
      "description": "",
      "description_tooltip": null,
      "layout": "IPY_MODEL_97dce6086d834b088d6156397911991c",
      "placeholder": "​",
      "style": "IPY_MODEL_931cc5cf189c4cf5bcc01d73ea44e53d",
      "value": " 1/1 [00:11&lt;00:00, 11.57s/it]"
     }
    },
    "b91064c7c8924bff9812a2ab6299143f": {
     "model_module": "@jupyter-widgets/controls",
     "model_name": "DescriptionStyleModel",
     "state": {
      "_model_module": "@jupyter-widgets/controls",
      "_model_module_version": "1.5.0",
      "_model_name": "DescriptionStyleModel",
      "_view_count": null,
      "_view_module": "@jupyter-widgets/base",
      "_view_module_version": "1.2.0",
      "_view_name": "StyleView",
      "description_width": ""
     }
    },
    "bd66042d87734214bdd5a2c00b8d1a2f": {
     "model_module": "@jupyter-widgets/controls",
     "model_name": "HTMLModel",
     "state": {
      "_dom_classes": [],
      "_model_module": "@jupyter-widgets/controls",
      "_model_module_version": "1.5.0",
      "_model_name": "HTMLModel",
      "_view_count": null,
      "_view_module": "@jupyter-widgets/controls",
      "_view_module_version": "1.5.0",
      "_view_name": "HTMLView",
      "description": "",
      "description_tooltip": null,
      "layout": "IPY_MODEL_4315053ed6f642e3b49ed489c2c9b266",
      "placeholder": "​",
      "style": "IPY_MODEL_b91064c7c8924bff9812a2ab6299143f",
      "value": "Export report to file: 100%"
     }
    },
    "c04ce8f3594145779df25d03de61dad1": {
     "model_module": "@jupyter-widgets/controls",
     "model_name": "DescriptionStyleModel",
     "state": {
      "_model_module": "@jupyter-widgets/controls",
      "_model_module_version": "1.5.0",
      "_model_name": "DescriptionStyleModel",
      "_view_count": null,
      "_view_module": "@jupyter-widgets/base",
      "_view_module_version": "1.2.0",
      "_view_name": "StyleView",
      "description_width": ""
     }
    },
    "c7a2b778285443e8ab5c9606e1c0038d": {
     "model_module": "@jupyter-widgets/base",
     "model_name": "LayoutModel",
     "state": {
      "_model_module": "@jupyter-widgets/base",
      "_model_module_version": "1.2.0",
      "_model_name": "LayoutModel",
      "_view_count": null,
      "_view_module": "@jupyter-widgets/base",
      "_view_module_version": "1.2.0",
      "_view_name": "LayoutView",
      "align_content": null,
      "align_items": null,
      "align_self": null,
      "border": null,
      "bottom": null,
      "display": null,
      "flex": null,
      "flex_flow": null,
      "grid_area": null,
      "grid_auto_columns": null,
      "grid_auto_flow": null,
      "grid_auto_rows": null,
      "grid_column": null,
      "grid_gap": null,
      "grid_row": null,
      "grid_template_areas": null,
      "grid_template_columns": null,
      "grid_template_rows": null,
      "height": null,
      "justify_content": null,
      "justify_items": null,
      "left": null,
      "margin": null,
      "max_height": null,
      "max_width": null,
      "min_height": null,
      "min_width": null,
      "object_fit": null,
      "object_position": null,
      "order": null,
      "overflow": null,
      "overflow_x": null,
      "overflow_y": null,
      "padding": null,
      "right": null,
      "top": null,
      "visibility": null,
      "width": null
     }
    },
    "cffbc8789e1944c280e96325252b2025": {
     "model_module": "@jupyter-widgets/controls",
     "model_name": "HTMLModel",
     "state": {
      "_dom_classes": [],
      "_model_module": "@jupyter-widgets/controls",
      "_model_module_version": "1.5.0",
      "_model_name": "HTMLModel",
      "_view_count": null,
      "_view_module": "@jupyter-widgets/controls",
      "_view_module_version": "1.5.0",
      "_view_name": "HTMLView",
      "description": "",
      "description_tooltip": null,
      "layout": "IPY_MODEL_77f4b03e2a5348e5951ae7e4ea1c2418",
      "placeholder": "​",
      "style": "IPY_MODEL_d4c960708dfe4dcfa48f27882a1f1fba",
      "value": "Summarize dataset: 100%"
     }
    },
    "d106d2ab029b48af8920a972aba2da60": {
     "model_module": "@jupyter-widgets/base",
     "model_name": "LayoutModel",
     "state": {
      "_model_module": "@jupyter-widgets/base",
      "_model_module_version": "1.2.0",
      "_model_name": "LayoutModel",
      "_view_count": null,
      "_view_module": "@jupyter-widgets/base",
      "_view_module_version": "1.2.0",
      "_view_name": "LayoutView",
      "align_content": null,
      "align_items": null,
      "align_self": null,
      "border": null,
      "bottom": null,
      "display": null,
      "flex": null,
      "flex_flow": null,
      "grid_area": null,
      "grid_auto_columns": null,
      "grid_auto_flow": null,
      "grid_auto_rows": null,
      "grid_column": null,
      "grid_gap": null,
      "grid_row": null,
      "grid_template_areas": null,
      "grid_template_columns": null,
      "grid_template_rows": null,
      "height": null,
      "justify_content": null,
      "justify_items": null,
      "left": null,
      "margin": null,
      "max_height": null,
      "max_width": null,
      "min_height": null,
      "min_width": null,
      "object_fit": null,
      "object_position": null,
      "order": null,
      "overflow": null,
      "overflow_x": null,
      "overflow_y": null,
      "padding": null,
      "right": null,
      "top": null,
      "visibility": null,
      "width": null
     }
    },
    "d2a7f108de93447faeb0b33aab30c570": {
     "model_module": "@jupyter-widgets/controls",
     "model_name": "DescriptionStyleModel",
     "state": {
      "_model_module": "@jupyter-widgets/controls",
      "_model_module_version": "1.5.0",
      "_model_name": "DescriptionStyleModel",
      "_view_count": null,
      "_view_module": "@jupyter-widgets/base",
      "_view_module_version": "1.2.0",
      "_view_name": "StyleView",
      "description_width": ""
     }
    },
    "d309929e2e264a4798cf3c38cafccd40": {
     "model_module": "@jupyter-widgets/controls",
     "model_name": "HBoxModel",
     "state": {
      "_dom_classes": [],
      "_model_module": "@jupyter-widgets/controls",
      "_model_module_version": "1.5.0",
      "_model_name": "HBoxModel",
      "_view_count": null,
      "_view_module": "@jupyter-widgets/controls",
      "_view_module_version": "1.5.0",
      "_view_name": "HBoxView",
      "box_style": "",
      "children": [
       "IPY_MODEL_bd66042d87734214bdd5a2c00b8d1a2f",
       "IPY_MODEL_db8415b31ba24c238c5fb41e21c339ce",
       "IPY_MODEL_67058dc11dba4aadaa3ffef89c93259b"
      ],
      "layout": "IPY_MODEL_c7a2b778285443e8ab5c9606e1c0038d"
     }
    },
    "d4c960708dfe4dcfa48f27882a1f1fba": {
     "model_module": "@jupyter-widgets/controls",
     "model_name": "DescriptionStyleModel",
     "state": {
      "_model_module": "@jupyter-widgets/controls",
      "_model_module_version": "1.5.0",
      "_model_name": "DescriptionStyleModel",
      "_view_count": null,
      "_view_module": "@jupyter-widgets/base",
      "_view_module_version": "1.2.0",
      "_view_name": "StyleView",
      "description_width": ""
     }
    },
    "d71ad0f532a740758fdb9aa04c7e5571": {
     "model_module": "@jupyter-widgets/controls",
     "model_name": "ProgressStyleModel",
     "state": {
      "_model_module": "@jupyter-widgets/controls",
      "_model_module_version": "1.5.0",
      "_model_name": "ProgressStyleModel",
      "_view_count": null,
      "_view_module": "@jupyter-widgets/base",
      "_view_module_version": "1.2.0",
      "_view_name": "StyleView",
      "bar_color": null,
      "description_width": ""
     }
    },
    "d75b484bca03443ca7d44c08ec6a43c5": {
     "model_module": "@jupyter-widgets/controls",
     "model_name": "ProgressStyleModel",
     "state": {
      "_model_module": "@jupyter-widgets/controls",
      "_model_module_version": "1.5.0",
      "_model_name": "ProgressStyleModel",
      "_view_count": null,
      "_view_module": "@jupyter-widgets/base",
      "_view_module_version": "1.2.0",
      "_view_name": "StyleView",
      "bar_color": null,
      "description_width": ""
     }
    },
    "da4aa2c654294edaae85feefa24bdc2c": {
     "model_module": "@jupyter-widgets/base",
     "model_name": "LayoutModel",
     "state": {
      "_model_module": "@jupyter-widgets/base",
      "_model_module_version": "1.2.0",
      "_model_name": "LayoutModel",
      "_view_count": null,
      "_view_module": "@jupyter-widgets/base",
      "_view_module_version": "1.2.0",
      "_view_name": "LayoutView",
      "align_content": null,
      "align_items": null,
      "align_self": null,
      "border": null,
      "bottom": null,
      "display": null,
      "flex": null,
      "flex_flow": null,
      "grid_area": null,
      "grid_auto_columns": null,
      "grid_auto_flow": null,
      "grid_auto_rows": null,
      "grid_column": null,
      "grid_gap": null,
      "grid_row": null,
      "grid_template_areas": null,
      "grid_template_columns": null,
      "grid_template_rows": null,
      "height": null,
      "justify_content": null,
      "justify_items": null,
      "left": null,
      "margin": null,
      "max_height": null,
      "max_width": null,
      "min_height": null,
      "min_width": null,
      "object_fit": null,
      "object_position": null,
      "order": null,
      "overflow": null,
      "overflow_x": null,
      "overflow_y": null,
      "padding": null,
      "right": null,
      "top": null,
      "visibility": null,
      "width": null
     }
    },
    "db8415b31ba24c238c5fb41e21c339ce": {
     "model_module": "@jupyter-widgets/controls",
     "model_name": "FloatProgressModel",
     "state": {
      "_dom_classes": [],
      "_model_module": "@jupyter-widgets/controls",
      "_model_module_version": "1.5.0",
      "_model_name": "FloatProgressModel",
      "_view_count": null,
      "_view_module": "@jupyter-widgets/controls",
      "_view_module_version": "1.5.0",
      "_view_name": "ProgressView",
      "bar_style": "success",
      "description": "",
      "description_tooltip": null,
      "layout": "IPY_MODEL_71f89c620d5b46ad985cb2273ce96311",
      "max": 1,
      "min": 0,
      "orientation": "horizontal",
      "style": "IPY_MODEL_17f327d52cae401e9de4f9cf1116dd1d",
      "value": 1
     }
    },
    "e081e31ce8ce4d0eb49677402fac774e": {
     "model_module": "@jupyter-widgets/controls",
     "model_name": "HTMLModel",
     "state": {
      "_dom_classes": [],
      "_model_module": "@jupyter-widgets/controls",
      "_model_module_version": "1.5.0",
      "_model_name": "HTMLModel",
      "_view_count": null,
      "_view_module": "@jupyter-widgets/controls",
      "_view_module_version": "1.5.0",
      "_view_name": "HTMLView",
      "description": "",
      "description_tooltip": null,
      "layout": "IPY_MODEL_b4925f3f2ab34df6a6fa7b999e2f6e83",
      "placeholder": "​",
      "style": "IPY_MODEL_96beeacf367c43b796d0ebd930794a18",
      "value": " 1/1 [00:11&lt;00:00, 11.34s/it]"
     }
    },
    "e14f850449c94829a12ee68201b02624": {
     "model_module": "@jupyter-widgets/base",
     "model_name": "LayoutModel",
     "state": {
      "_model_module": "@jupyter-widgets/base",
      "_model_module_version": "1.2.0",
      "_model_name": "LayoutModel",
      "_view_count": null,
      "_view_module": "@jupyter-widgets/base",
      "_view_module_version": "1.2.0",
      "_view_name": "LayoutView",
      "align_content": null,
      "align_items": null,
      "align_self": null,
      "border": null,
      "bottom": null,
      "display": null,
      "flex": null,
      "flex_flow": null,
      "grid_area": null,
      "grid_auto_columns": null,
      "grid_auto_flow": null,
      "grid_auto_rows": null,
      "grid_column": null,
      "grid_gap": null,
      "grid_row": null,
      "grid_template_areas": null,
      "grid_template_columns": null,
      "grid_template_rows": null,
      "height": null,
      "justify_content": null,
      "justify_items": null,
      "left": null,
      "margin": null,
      "max_height": null,
      "max_width": null,
      "min_height": null,
      "min_width": null,
      "object_fit": null,
      "object_position": null,
      "order": null,
      "overflow": null,
      "overflow_x": null,
      "overflow_y": null,
      "padding": null,
      "right": null,
      "top": null,
      "visibility": null,
      "width": null
     }
    },
    "e34ec70f799d4c7f9661a7af20543769": {
     "model_module": "@jupyter-widgets/base",
     "model_name": "LayoutModel",
     "state": {
      "_model_module": "@jupyter-widgets/base",
      "_model_module_version": "1.2.0",
      "_model_name": "LayoutModel",
      "_view_count": null,
      "_view_module": "@jupyter-widgets/base",
      "_view_module_version": "1.2.0",
      "_view_name": "LayoutView",
      "align_content": null,
      "align_items": null,
      "align_self": null,
      "border": null,
      "bottom": null,
      "display": null,
      "flex": null,
      "flex_flow": null,
      "grid_area": null,
      "grid_auto_columns": null,
      "grid_auto_flow": null,
      "grid_auto_rows": null,
      "grid_column": null,
      "grid_gap": null,
      "grid_row": null,
      "grid_template_areas": null,
      "grid_template_columns": null,
      "grid_template_rows": null,
      "height": null,
      "justify_content": null,
      "justify_items": null,
      "left": null,
      "margin": null,
      "max_height": null,
      "max_width": null,
      "min_height": null,
      "min_width": null,
      "object_fit": null,
      "object_position": null,
      "order": null,
      "overflow": null,
      "overflow_x": null,
      "overflow_y": null,
      "padding": null,
      "right": null,
      "top": null,
      "visibility": null,
      "width": null
     }
    },
    "e661d2ec162b4e3c9f6eaba1c94a0335": {
     "model_module": "@jupyter-widgets/controls",
     "model_name": "HTMLModel",
     "state": {
      "_dom_classes": [],
      "_model_module": "@jupyter-widgets/controls",
      "_model_module_version": "1.5.0",
      "_model_name": "HTMLModel",
      "_view_count": null,
      "_view_module": "@jupyter-widgets/controls",
      "_view_module_version": "1.5.0",
      "_view_name": "HTMLView",
      "description": "",
      "description_tooltip": null,
      "layout": "IPY_MODEL_149db4d00bb54fa9b805f7705465d157",
      "placeholder": "​",
      "style": "IPY_MODEL_3861949dace14fcf9027c00e9fc4ba04",
      "value": " 1/1 [00:41&lt;00:00, 41.23s/it]"
     }
    },
    "f0f13bd5bd9d484db2201f374b0c66ce": {
     "model_module": "@jupyter-widgets/controls",
     "model_name": "HTMLModel",
     "state": {
      "_dom_classes": [],
      "_model_module": "@jupyter-widgets/controls",
      "_model_module_version": "1.5.0",
      "_model_name": "HTMLModel",
      "_view_count": null,
      "_view_module": "@jupyter-widgets/controls",
      "_view_module_version": "1.5.0",
      "_view_name": "HTMLView",
      "description": "",
      "description_tooltip": null,
      "layout": "IPY_MODEL_a31f6d7f00e8432389e52379394c0d37",
      "placeholder": "​",
      "style": "IPY_MODEL_34ae2e520310459080bbb623a6d1fe7e",
      "value": "Generate report structure: 100%"
     }
    },
    "f467fe4c79fc4b26a1f691edf8067ea9": {
     "model_module": "@jupyter-widgets/controls",
     "model_name": "FloatProgressModel",
     "state": {
      "_dom_classes": [],
      "_model_module": "@jupyter-widgets/controls",
      "_model_module_version": "1.5.0",
      "_model_name": "FloatProgressModel",
      "_view_count": null,
      "_view_module": "@jupyter-widgets/controls",
      "_view_module_version": "1.5.0",
      "_view_name": "ProgressView",
      "bar_style": "success",
      "description": "",
      "description_tooltip": null,
      "layout": "IPY_MODEL_e34ec70f799d4c7f9661a7af20543769",
      "max": 1,
      "min": 0,
      "orientation": "horizontal",
      "style": "IPY_MODEL_12054e641c7048dd9ff69e7f0e24a826",
      "value": 1
     }
    },
    "fbaa2d6885f14f48a444aa82628d427e": {
     "model_module": "@jupyter-widgets/controls",
     "model_name": "DescriptionStyleModel",
     "state": {
      "_model_module": "@jupyter-widgets/controls",
      "_model_module_version": "1.5.0",
      "_model_name": "DescriptionStyleModel",
      "_view_count": null,
      "_view_module": "@jupyter-widgets/base",
      "_view_module_version": "1.2.0",
      "_view_name": "StyleView",
      "description_width": ""
     }
    },
    "ff6cb0e5a2c0482f88f686c3557b49dd": {
     "model_module": "@jupyter-widgets/base",
     "model_name": "LayoutModel",
     "state": {
      "_model_module": "@jupyter-widgets/base",
      "_model_module_version": "1.2.0",
      "_model_name": "LayoutModel",
      "_view_count": null,
      "_view_module": "@jupyter-widgets/base",
      "_view_module_version": "1.2.0",
      "_view_name": "LayoutView",
      "align_content": null,
      "align_items": null,
      "align_self": null,
      "border": null,
      "bottom": null,
      "display": null,
      "flex": null,
      "flex_flow": null,
      "grid_area": null,
      "grid_auto_columns": null,
      "grid_auto_flow": null,
      "grid_auto_rows": null,
      "grid_column": null,
      "grid_gap": null,
      "grid_row": null,
      "grid_template_areas": null,
      "grid_template_columns": null,
      "grid_template_rows": null,
      "height": null,
      "justify_content": null,
      "justify_items": null,
      "left": null,
      "margin": null,
      "max_height": null,
      "max_width": null,
      "min_height": null,
      "min_width": null,
      "object_fit": null,
      "object_position": null,
      "order": null,
      "overflow": null,
      "overflow_x": null,
      "overflow_y": null,
      "padding": null,
      "right": null,
      "top": null,
      "visibility": null,
      "width": null
     }
    }
   }
  }
 },
 "nbformat": 4,
 "nbformat_minor": 1
}
