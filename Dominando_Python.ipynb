{
  "nbformat": 4,
  "nbformat_minor": 0,
  "metadata": {
    "colab": {
      "name": "Dominando_Python.ipynb",
      "provenance": [],
      "collapsed_sections": [
        "bxmS-UX3U2bb",
        "T4tFK8qJY91h",
        "a0ITMSCXdPXy",
        "nKTEWJkQgNlz",
        "k0NSep4UjXaj",
        "vh2zR5b-5w0C",
        "-Quw-CN2N2TA",
        "Yg17b-i4WsvP",
        "f1qiY3HArkHl",
        "WgJ3UqNQ06b2",
        "_R0-2uk31caF",
        "Rua1trK8A0ux",
        "m-tluI_iBsHY",
        "M3IQNGOXAxbG",
        "Nt4u9i0rbe3r",
        "uQOwwkNEdThD",
        "tdjofy47jYy_",
        "1EWW35c91Xdi",
        "0DltYrZI13NI",
        "8fJs-K78Bgrb",
        "-pS-cZsOCJmu",
        "Mp3ECtVJJust",
        "eMTWG4d2KHg6",
        "-EqoRLwXS9Zj",
        "1sagBMnV3YAw",
        "C7UxkGL74WlP",
        "JLHrnWAkOMjJ"
      ],
      "mount_file_id": "1iZyoB9PrtBz2Ge7ha5Y9RGW3_mFEAJkX",
      "authorship_tag": "ABX9TyPNRArvyjG3k2AqUCdPjVeQ",
      "include_colab_link": true
    },
    "kernelspec": {
      "name": "python3",
      "display_name": "Python 3"
    }
  },
  "cells": [
    {
      "cell_type": "markdown",
      "metadata": {
        "id": "view-in-github",
        "colab_type": "text"
      },
      "source": [
        "<a href=\"https://colab.research.google.com/github/astrouhiu/Scripts-Python/blob/master/Dominando_Python.ipynb\" target=\"_parent\"><img src=\"https://colab.research.google.com/assets/colab-badge.svg\" alt=\"Open In Colab\"/></a>"
      ]
    },
    {
      "cell_type": "markdown",
      "metadata": {
        "id": "bxmS-UX3U2bb"
      },
      "source": [
        "#**Introdução ao Python** "
      ]
    },
    {
      "cell_type": "code",
      "metadata": {
        "id": "-ey01X4LhHj-",
        "outputId": "d877d777-f41f-4460-abc7-9ae5ec38506e",
        "colab": {
          "base_uri": "https://localhost:8080/",
          "height": 35
        }
      },
      "source": [
        "'''\n",
        "Um comentário de várias linhas. Pressione Ctrl + Enter para executar a célula no \n",
        "google Colab\n",
        "''' "
      ],
      "execution_count": 5,
      "outputs": [
        {
          "output_type": "execute_result",
          "data": {
            "application/vnd.google.colaboratory.intrinsic+json": {
              "type": "string"
            },
            "text/plain": [
              "'\\nUm comentário de várias linhas. Pressione Ctrl + Enter para executar a célula no \\ngoogle Colab\\n'"
            ]
          },
          "metadata": {
            "tags": []
          },
          "execution_count": 5
        }
      ]
    },
    {
      "cell_type": "code",
      "metadata": {
        "id": "D1kTdde-UV8W"
      },
      "source": [
        "# Comentário de uma linha"
      ],
      "execution_count": 6,
      "outputs": []
    },
    {
      "cell_type": "code",
      "metadata": {
        "id": "2tLFSP8LXDKn"
      },
      "source": [
        "# Operações matemáticas simples com inteiros e floats "
      ],
      "execution_count": 7,
      "outputs": []
    },
    {
      "cell_type": "code",
      "metadata": {
        "id": "e-fzM-TVXFgg",
        "outputId": "895b754a-f951-4ead-89ff-e470e7e7690e",
        "colab": {
          "base_uri": "https://localhost:8080/",
          "height": 34
        }
      },
      "source": [
        "5 + 7"
      ],
      "execution_count": 8,
      "outputs": [
        {
          "output_type": "execute_result",
          "data": {
            "text/plain": [
              "12"
            ]
          },
          "metadata": {
            "tags": []
          },
          "execution_count": 8
        }
      ]
    },
    {
      "cell_type": "code",
      "metadata": {
        "id": "GTkc-RXiXZMI",
        "outputId": "f69c3db0-1933-4dc1-ed23-bfa735704e36",
        "colab": {
          "base_uri": "https://localhost:8080/",
          "height": 34
        }
      },
      "source": [
        "2 - 2"
      ],
      "execution_count": 9,
      "outputs": [
        {
          "output_type": "execute_result",
          "data": {
            "text/plain": [
              "0"
            ]
          },
          "metadata": {
            "tags": []
          },
          "execution_count": 9
        }
      ]
    },
    {
      "cell_type": "code",
      "metadata": {
        "id": "zBE-M6bXXbT2",
        "outputId": "2782a1cf-67a0-4c80-e566-fd1b5b03cdce",
        "colab": {
          "base_uri": "https://localhost:8080/",
          "height": 34
        }
      },
      "source": [
        "4 * 2"
      ],
      "execution_count": 10,
      "outputs": [
        {
          "output_type": "execute_result",
          "data": {
            "text/plain": [
              "8"
            ]
          },
          "metadata": {
            "tags": []
          },
          "execution_count": 10
        }
      ]
    },
    {
      "cell_type": "code",
      "metadata": {
        "id": "IRR0tGncXjxR",
        "outputId": "796a92f2-d733-440c-cb78-f5f035fa2cf0",
        "colab": {
          "base_uri": "https://localhost:8080/",
          "height": 34
        }
      },
      "source": [
        "3 / 3"
      ],
      "execution_count": 11,
      "outputs": [
        {
          "output_type": "execute_result",
          "data": {
            "text/plain": [
              "1.0"
            ]
          },
          "metadata": {
            "tags": []
          },
          "execution_count": 11
        }
      ]
    },
    {
      "cell_type": "code",
      "metadata": {
        "id": "vTUFSdKxYG_m",
        "outputId": "0e3de7a6-51a4-40fc-bac0-9d86841f903c",
        "colab": {
          "base_uri": "https://localhost:8080/",
          "height": 34
        }
      },
      "source": [
        "2**3"
      ],
      "execution_count": 12,
      "outputs": [
        {
          "output_type": "execute_result",
          "data": {
            "text/plain": [
              "8"
            ]
          },
          "metadata": {
            "tags": []
          },
          "execution_count": 12
        }
      ]
    },
    {
      "cell_type": "code",
      "metadata": {
        "id": "xzMk5YqlYKQV",
        "outputId": "31a88a42-fedc-42c2-9dd3-2980b44f6bce",
        "colab": {
          "base_uri": "https://localhost:8080/",
          "height": 34
        }
      },
      "source": [
        "5.3 + 9.4"
      ],
      "execution_count": 13,
      "outputs": [
        {
          "output_type": "execute_result",
          "data": {
            "text/plain": [
              "14.7"
            ]
          },
          "metadata": {
            "tags": []
          },
          "execution_count": 13
        }
      ]
    },
    {
      "cell_type": "code",
      "metadata": {
        "id": "G2lMXXeIYwvK",
        "outputId": "8245619a-4683-4000-b33c-dbf9faddff11",
        "colab": {
          "base_uri": "https://localhost:8080/",
          "height": 34
        }
      },
      "source": [
        "7.4 - 6.3"
      ],
      "execution_count": 14,
      "outputs": [
        {
          "output_type": "execute_result",
          "data": {
            "text/plain": [
              "1.1000000000000005"
            ]
          },
          "metadata": {
            "tags": []
          },
          "execution_count": 14
        }
      ]
    },
    {
      "cell_type": "code",
      "metadata": {
        "id": "Cne1osGbYNoi",
        "outputId": "f344443d-85b4-4a55-c0ae-323d4d47d010",
        "colab": {
          "base_uri": "https://localhost:8080/",
          "height": 34
        }
      },
      "source": [
        "10.2 * 2.5"
      ],
      "execution_count": 15,
      "outputs": [
        {
          "output_type": "execute_result",
          "data": {
            "text/plain": [
              "25.5"
            ]
          },
          "metadata": {
            "tags": []
          },
          "execution_count": 15
        }
      ]
    },
    {
      "cell_type": "code",
      "metadata": {
        "id": "zXCBUlcDYRAn",
        "outputId": "66b2e24d-4776-453b-da4d-87118d21ef6e",
        "colab": {
          "base_uri": "https://localhost:8080/",
          "height": 34
        }
      },
      "source": [
        "6.6 / 2"
      ],
      "execution_count": 16,
      "outputs": [
        {
          "output_type": "execute_result",
          "data": {
            "text/plain": [
              "3.3"
            ]
          },
          "metadata": {
            "tags": []
          },
          "execution_count": 16
        }
      ]
    },
    {
      "cell_type": "code",
      "metadata": {
        "id": "HxKT8KL5T8Mt",
        "outputId": "5a8eed1e-9d12-482e-ba48-2d6311603c31",
        "colab": {
          "base_uri": "https://localhost:8080/",
          "height": 34
        }
      },
      "source": [
        "4.1**(1/2)\n",
        "\n"
      ],
      "execution_count": 17,
      "outputs": [
        {
          "output_type": "execute_result",
          "data": {
            "text/plain": [
              "2.0248456731316584"
            ]
          },
          "metadata": {
            "tags": []
          },
          "execution_count": 17
        }
      ]
    },
    {
      "cell_type": "markdown",
      "metadata": {
        "id": "T4tFK8qJY91h"
      },
      "source": [
        "##**Funções Embutidas**"
      ]
    },
    {
      "cell_type": "markdown",
      "metadata": {
        "id": "BsFuM1D-Nh--"
      },
      "source": [
        "São funções que já vem junto com a linguagem Python"
      ]
    },
    {
      "cell_type": "code",
      "metadata": {
        "id": "Lfbo8jINUfnK",
        "outputId": "0fac5db0-6230-4b7d-9dcb-19d11b8f11a0",
        "colab": {
          "base_uri": "https://localhost:8080/",
          "height": 34
        }
      },
      "source": [
        "# Função print: Imprime o argumento passado na tela\n",
        "print('Hello World')"
      ],
      "execution_count": 18,
      "outputs": [
        {
          "output_type": "stream",
          "text": [
            "Hello World\n"
          ],
          "name": "stdout"
        }
      ]
    },
    {
      "cell_type": "code",
      "metadata": {
        "id": "r8_us60qaP92",
        "outputId": "a4df58c5-8bd4-4543-8d29-56b5d88abd97",
        "colab": {
          "base_uri": "https://localhost:8080/",
          "height": 69
        }
      },
      "source": [
        "# Função type: Retorna o tipo da variável ou valor que é passado como parâmetro\n",
        "print(type(7))\n",
        "print(type(3.2))\n",
        "print(type('Io'))"
      ],
      "execution_count": 19,
      "outputs": [
        {
          "output_type": "stream",
          "text": [
            "<class 'int'>\n",
            "<class 'float'>\n",
            "<class 'str'>\n"
          ],
          "name": "stdout"
        }
      ]
    },
    {
      "cell_type": "code",
      "metadata": {
        "id": "nwLP04Byb1VE",
        "outputId": "0274dbd1-b7e4-4daa-e8d7-8b3064f71751",
        "colab": {
          "base_uri": "https://localhost:8080/",
          "height": 121
        }
      },
      "source": [
        "# Funções de conversão: Como seu nome sugere, são utilizadas para converter \n",
        "# valores ou variáveis\n",
        "print(int(8))\n",
        "print(int(8.5))\n",
        "print(float(7.2))\n",
        "print(float(7))\n",
        "print(str(4))\n",
        "print(float(15.2) + int('2'))"
      ],
      "execution_count": 20,
      "outputs": [
        {
          "output_type": "stream",
          "text": [
            "8\n",
            "8\n",
            "7.2\n",
            "7.0\n",
            "4\n",
            "17.2\n"
          ],
          "name": "stdout"
        }
      ]
    },
    {
      "cell_type": "code",
      "metadata": {
        "id": "4HRdFUBzcO46",
        "outputId": "ac4395be-d3d2-447f-ec62-036b28c14d76",
        "colab": {
          "base_uri": "https://localhost:8080/",
          "height": 52
        }
      },
      "source": [
        "# Função round: Arredonda uma expressão numérica\n",
        "print(round(3.88787))\n",
        "print(round(3.7879979, 2))"
      ],
      "execution_count": 21,
      "outputs": [
        {
          "output_type": "stream",
          "text": [
            "4\n",
            "3.79\n"
          ],
          "name": "stdout"
        }
      ]
    },
    {
      "cell_type": "markdown",
      "metadata": {
        "id": "OBRwlQSuM4gG"
      },
      "source": [
        "Ao longo do texto, veremos outras funções embutidas"
      ]
    },
    {
      "cell_type": "markdown",
      "metadata": {
        "id": "a0ITMSCXdPXy"
      },
      "source": [
        "##**Variáveis**"
      ]
    },
    {
      "cell_type": "code",
      "metadata": {
        "id": "Yhgm1nrHdTSD",
        "outputId": "4fc8a2e6-4cc0-494d-95ea-fa973f51b3b3",
        "colab": {
          "base_uri": "https://localhost:8080/",
          "height": 69
        }
      },
      "source": [
        "# Declaração de variáveis\n",
        "var1 = 1\n",
        "var2 = 2\n",
        "var3 = 3\n",
        "print(var1)\n",
        "print(type(var1))\n",
        "print(var1 + var2) "
      ],
      "execution_count": 22,
      "outputs": [
        {
          "output_type": "stream",
          "text": [
            "1\n",
            "<class 'int'>\n",
            "3\n"
          ],
          "name": "stdout"
        }
      ]
    },
    {
      "cell_type": "code",
      "metadata": {
        "id": "kXqN-azkfdsA",
        "outputId": "6814faa0-fe0e-432b-cf36-2f150965a730",
        "colab": {
          "base_uri": "https://localhost:8080/",
          "height": 52
        }
      },
      "source": [
        "# Operações matemáticas e variáveis\n",
        "resultado = var3 * 4\n",
        "print(resultado)\n",
        "\n",
        "resultado = 78 / 2\n",
        "print(resultado)"
      ],
      "execution_count": 23,
      "outputs": [
        {
          "output_type": "stream",
          "text": [
            "12\n",
            "39.0\n"
          ],
          "name": "stdout"
        }
      ]
    },
    {
      "cell_type": "code",
      "metadata": {
        "id": "VJ3m_Lv3Zqt7",
        "outputId": "6ac6f397-1ce2-4bfc-d07b-1d8f12b1d3f4",
        "colab": {
          "base_uri": "https://localhost:8080/",
          "height": 34
        }
      },
      "source": [
        "# Declarando várias variáveis numa mesma linha\n",
        "var1, var2, var3 = 10, 'Pluto', 3\n",
        "print(var1, var2, var3)"
      ],
      "execution_count": 24,
      "outputs": [
        {
          "output_type": "stream",
          "text": [
            "10 Pluto 3\n"
          ],
          "name": "stdout"
        }
      ]
    },
    {
      "cell_type": "code",
      "metadata": {
        "id": "VOfVsd7IeLxP",
        "outputId": "dfdfb6f5-c60b-46a7-aafc-e29a0e7f3086",
        "colab": {
          "base_uri": "https://localhost:8080/",
          "height": 34
        }
      },
      "source": [
        "# Reatribuindo valores às variáveis graças a tipagem dinâmica\n",
        "var1 = 'Planet Nine'\n",
        "var2 = 9.0\n",
        "print(type(var1), type(var2))"
      ],
      "execution_count": 25,
      "outputs": [
        {
          "output_type": "stream",
          "text": [
            "<class 'str'> <class 'float'>\n"
          ],
          "name": "stdout"
        }
      ]
    },
    {
      "cell_type": "code",
      "metadata": {
        "id": "LxyqZpw8I2il",
        "outputId": "0affc4c6-b3ac-47ff-a60c-fb6da0e4fae4",
        "colab": {
          "base_uri": "https://localhost:8080/",
          "height": 34
        }
      },
      "source": [
        "# Trocar valores de dois variáveis\n",
        "a = 7\n",
        "b = 3\n",
        "a, b = b, a\n",
        "print(a, b)\n",
        "\n",
        "# Em outras linguagens precisaria de 3 atribuições (uma variável temporária \n",
        "# intermediária)"
      ],
      "execution_count": 26,
      "outputs": [
        {
          "output_type": "stream",
          "text": [
            "3 7\n"
          ],
          "name": "stdout"
        }
      ]
    },
    {
      "cell_type": "code",
      "metadata": {
        "id": "E13atkksJUro",
        "outputId": "5634f357-ee2a-4200-f989-33e76af2296b",
        "colab": {
          "base_uri": "https://localhost:8080/",
          "height": 139
        }
      },
      "source": [
        "# Atribuição aumentada\n",
        "x = 10\n",
        "x += 10\n",
        "print(x)\n",
        "\n",
        "# Sintaxe abreviada de x = x + 10, chamado de atribuição aumentada: no momento \n",
        "# que você atribui você faz alguma operacão\n",
        "\n",
        "x *= 2\n",
        "print(x)\n",
        "x /= 4\n",
        "print(x)\n",
        "x //= 3\n",
        "print(x)\n",
        "x %= 2\n",
        "print(x)\n",
        "x **= 10\n",
        "print(x)\n",
        "x -= 1\n",
        "print(x)"
      ],
      "execution_count": 27,
      "outputs": [
        {
          "output_type": "stream",
          "text": [
            "20\n",
            "40\n",
            "10.0\n",
            "3.0\n",
            "1.0\n",
            "1.0\n",
            "0.0\n"
          ],
          "name": "stdout"
        }
      ]
    },
    {
      "cell_type": "markdown",
      "metadata": {
        "id": "nKTEWJkQgNlz"
      },
      "source": [
        "##**Restrições para Criação de Variáveis**"
      ]
    },
    {
      "cell_type": "code",
      "metadata": {
        "id": "tVU5m87pgYhq"
      },
      "source": [
        "# Pode usar underline\n",
        "var_teste = 8"
      ],
      "execution_count": 28,
      "outputs": []
    },
    {
      "cell_type": "code",
      "metadata": {
        "id": "Ui58I1bThZu4"
      },
      "source": [
        "# Nomes de variáveis não podem começar com número (exemplo: 1var = 10) nem \n",
        "# receber nomes de palavras reservadas: break, if, else, and, or, while, etc. \n",
        "# (exemplo: for = 5)"
      ],
      "execution_count": 29,
      "outputs": []
    },
    {
      "cell_type": "markdown",
      "metadata": {
        "id": "k0NSep4UjXaj"
      },
      "source": [
        "##**Strings**"
      ]
    },
    {
      "cell_type": "markdown",
      "metadata": {
        "id": "2Y--EA65V7c4"
      },
      "source": [
        "String é uma sequência de caracteres"
      ]
    },
    {
      "cell_type": "code",
      "metadata": {
        "id": "re4SDtl-WHWi",
        "outputId": "7c5849c4-3b4d-4e5b-f479-7d1a2007e63f",
        "colab": {
          "base_uri": "https://localhost:8080/",
          "height": 34
        }
      },
      "source": [
        "# String vazio\n",
        "type('')"
      ],
      "execution_count": 30,
      "outputs": [
        {
          "output_type": "execute_result",
          "data": {
            "text/plain": [
              "str"
            ]
          },
          "metadata": {
            "tags": []
          },
          "execution_count": 30
        }
      ]
    },
    {
      "cell_type": "code",
      "metadata": {
        "id": "eElAewpYjaZW",
        "outputId": "3747ca37-f69c-4f80-adeb-2f8700062482",
        "colab": {
          "base_uri": "https://localhost:8080/",
          "height": 35
        }
      },
      "source": [
        "# Criando uma variável do tipo String\n",
        "frase = 'Kepler-9 é estável'\n",
        "frase"
      ],
      "execution_count": 31,
      "outputs": [
        {
          "output_type": "execute_result",
          "data": {
            "application/vnd.google.colaboratory.intrinsic+json": {
              "type": "string"
            },
            "text/plain": [
              "'Kepler-9 é estável'"
            ]
          },
          "metadata": {
            "tags": []
          },
          "execution_count": 31
        }
      ]
    },
    {
      "cell_type": "code",
      "metadata": {
        "id": "X_klqcd5kxwX",
        "outputId": "a838f298-bc7c-4935-8eb1-e60d07c886e6",
        "colab": {
          "base_uri": "https://localhost:8080/",
          "height": 69
        }
      },
      "source": [
        "# Indexando Strings. Importante: O índice começa com o número 0\n",
        "print(frase[0])\n",
        "print(frase[1])\n",
        "\n",
        "# Devolve o último elemento\n",
        "print(frase[-1]) "
      ],
      "execution_count": 32,
      "outputs": [
        {
          "output_type": "stream",
          "text": [
            "K\n",
            "e\n",
            "l\n"
          ],
          "name": "stdout"
        }
      ]
    },
    {
      "cell_type": "code",
      "metadata": {
        "id": "r6I5Fio4wNP6"
      },
      "source": [
        "# Não é permitido fazer substituição de um caractere (exemplo: frase[0] = 'J')\n",
        "# nem operações com string que o string não saiba lidar com ela \n",
        "# (exemplo: '15' + 2)"
      ],
      "execution_count": 33,
      "outputs": []
    },
    {
      "cell_type": "code",
      "metadata": {
        "id": "ngMo8cdRqKyY",
        "outputId": "4c93aaab-e924-4cad-b315-63e8d43383c3",
        "colab": {
          "base_uri": "https://localhost:8080/",
          "height": 86
        }
      },
      "source": [
        "# Slicing: Pega intervalos de um string\n",
        "print(\"Imprime todos os caracteres até a posição 5:\", frase[0:6])\n",
        "print(\"Imprime todos os caracteres da posição 6 até o final:\", frase[6:])\n",
        "print(\"Imprime todos os caracteres da posição 2 até a posição 3:\", frase[2:4])\n",
        "print(\"Mesmo resultado que frase[0:6]:\", frase[:6])"
      ],
      "execution_count": 34,
      "outputs": [
        {
          "output_type": "stream",
          "text": [
            "Imprime todos os caracteres até a posição 5: Kepler\n",
            "Imprime todos os caracteres da posição 6 até o final: -9 é estável\n",
            "Imprime todos os caracteres da posição 2 até a posição 3: pl\n",
            "Mesmo resultado que frase[0:6]: Kepler\n"
          ],
          "name": "stdout"
        }
      ]
    },
    {
      "cell_type": "code",
      "metadata": {
        "id": "U1NnZxKmqsZ9",
        "outputId": "d7f1fa82-887b-4780-e282-31b0fa7e76a7",
        "colab": {
          "base_uri": "https://localhost:8080/",
          "height": 52
        }
      },
      "source": [
        "# Concatenando strings\n",
        "frase1 = 'Diante da vastidão do tempo e da imensidão do universo, '\n",
        "frase2 = 'é um imenso prazer para mim dividir um planeta e uma época com você.'\n",
        "print(frase1 + frase2)\n",
        "\n",
        "print('15' + str(2))"
      ],
      "execution_count": 35,
      "outputs": [
        {
          "output_type": "stream",
          "text": [
            "Diante da vastidão do tempo e da imensidão do universo, é um imenso prazer para mim dividir um planeta e uma época com você.\n",
            "152\n"
          ],
          "name": "stdout"
        }
      ]
    },
    {
      "cell_type": "code",
      "metadata": {
        "id": "hUhqDLN1zCW5"
      },
      "source": [
        "# Podemos armazenar essa frase numa outra variável\n",
        "frase = frase1 + frase2"
      ],
      "execution_count": 36,
      "outputs": []
    },
    {
      "cell_type": "code",
      "metadata": {
        "id": "d3SOVj9VXegJ",
        "outputId": "c20b5c30-23b7-471a-9a01-f9c2e661f5f0",
        "colab": {
          "base_uri": "https://localhost:8080/",
          "height": 35
        }
      },
      "source": [
        "# Repetição\n",
        "'legal' * 3"
      ],
      "execution_count": 37,
      "outputs": [
        {
          "output_type": "execute_result",
          "data": {
            "application/vnd.google.colaboratory.intrinsic+json": {
              "type": "string"
            },
            "text/plain": [
              "'legallegallegal'"
            ]
          },
          "metadata": {
            "tags": []
          },
          "execution_count": 37
        }
      ]
    },
    {
      "cell_type": "code",
      "metadata": {
        "id": "Z90UywafzNoV",
        "outputId": "03617258-d73c-49b3-96b6-e7ad1d14cf1f",
        "colab": {
          "base_uri": "https://localhost:8080/",
          "height": 35
        }
      },
      "source": [
        "# Strings são objetos, então contém métodos, atributos e recursos que podemos \n",
        "# usar por ser uma linguagem orientada a objetos\n",
        "frase = 'Viver é como andar de bicicleta: É preciso estar em constante movimento para manter o equilíbrio.'\n",
        "frase"
      ],
      "execution_count": 38,
      "outputs": [
        {
          "output_type": "execute_result",
          "data": {
            "application/vnd.google.colaboratory.intrinsic+json": {
              "type": "string"
            },
            "text/plain": [
              "'Viver é como andar de bicicleta: É preciso estar em constante movimento para manter o equilíbrio.'"
            ]
          },
          "metadata": {
            "tags": []
          },
          "execution_count": 38
        }
      ]
    },
    {
      "cell_type": "code",
      "metadata": {
        "id": "JDDLs5GF0_Is",
        "outputId": "62ee95a8-868d-4f61-d75b-0b8469a98a13",
        "colab": {
          "base_uri": "https://localhost:8080/",
          "height": 34
        }
      },
      "source": [
        "# Método count: Conta quantas ocorrências de um determinado substring existem \n",
        "# dentro de um string\n",
        "frase.count('bicicleta')\n",
        "\n",
        "'ana gosta de banana'.count('n')"
      ],
      "execution_count": 39,
      "outputs": [
        {
          "output_type": "execute_result",
          "data": {
            "text/plain": [
              "3"
            ]
          },
          "metadata": {
            "tags": []
          },
          "execution_count": 39
        }
      ]
    },
    {
      "cell_type": "code",
      "metadata": {
        "id": "8kBftt3J1ePc",
        "outputId": "f0af3798-6e50-42d3-dbe2-7d9468667dee",
        "colab": {
          "base_uri": "https://localhost:8080/",
          "height": 35
        }
      },
      "source": [
        "# Método lower: Coloca em minúsculas todos os caracteres da string\n",
        "frase.lower()"
      ],
      "execution_count": 40,
      "outputs": [
        {
          "output_type": "execute_result",
          "data": {
            "application/vnd.google.colaboratory.intrinsic+json": {
              "type": "string"
            },
            "text/plain": [
              "'viver é como andar de bicicleta: é preciso estar em constante movimento para manter o equilíbrio.'"
            ]
          },
          "metadata": {
            "tags": []
          },
          "execution_count": 40
        }
      ]
    },
    {
      "cell_type": "code",
      "metadata": {
        "id": "8yKuh3ja2gJT",
        "outputId": "3f624f32-8fd2-47af-d9e0-73e6a9275bbd",
        "colab": {
          "base_uri": "https://localhost:8080/",
          "height": 35
        }
      },
      "source": [
        "# Método upper: Coloca todos os caracteres em maiúscula\n",
        "frase.upper()"
      ],
      "execution_count": 41,
      "outputs": [
        {
          "output_type": "execute_result",
          "data": {
            "application/vnd.google.colaboratory.intrinsic+json": {
              "type": "string"
            },
            "text/plain": [
              "'VIVER É COMO ANDAR DE BICICLETA: É PRECISO ESTAR EM CONSTANTE MOVIMENTO PARA MANTER O EQUILÍBRIO.'"
            ]
          },
          "metadata": {
            "tags": []
          },
          "execution_count": 41
        }
      ]
    },
    {
      "cell_type": "code",
      "metadata": {
        "id": "BqcLYyHy2xi_",
        "outputId": "b63a6505-c7ed-4858-808a-4a52b173c1f0",
        "colab": {
          "base_uri": "https://localhost:8080/",
          "height": 35
        }
      },
      "source": [
        "# Método capitalize: Coloca só a primeira letra em maiúscula, o resto em \n",
        "# minúscula\n",
        "frase.capitalize()"
      ],
      "execution_count": 42,
      "outputs": [
        {
          "output_type": "execute_result",
          "data": {
            "application/vnd.google.colaboratory.intrinsic+json": {
              "type": "string"
            },
            "text/plain": [
              "'Viver é como andar de bicicleta: é preciso estar em constante movimento para manter o equilíbrio.'"
            ]
          },
          "metadata": {
            "tags": []
          },
          "execution_count": 42
        }
      ]
    },
    {
      "cell_type": "code",
      "metadata": {
        "id": "rWQxhzO1Y1IO",
        "outputId": "141c38a7-20bb-4758-f088-452597ab143a",
        "colab": {
          "base_uri": "https://localhost:8080/",
          "height": 35
        }
      },
      "source": [
        "# Método strip: Remove os espaços em brancos do começo e do fim do string\n",
        "'   python@gmail.com  '.strip()"
      ],
      "execution_count": 43,
      "outputs": [
        {
          "output_type": "execute_result",
          "data": {
            "application/vnd.google.colaboratory.intrinsic+json": {
              "type": "string"
            },
            "text/plain": [
              "'python@gmail.com'"
            ]
          },
          "metadata": {
            "tags": []
          },
          "execution_count": 43
        }
      ]
    },
    {
      "cell_type": "code",
      "metadata": {
        "id": "J1rHwuj2ZinR",
        "outputId": "8aeafea8-c325-4ce2-b22c-7a486e152c18",
        "colab": {
          "base_uri": "https://localhost:8080/",
          "height": 35
        }
      },
      "source": [
        "# Método replace: Substitui um pedaço de um string por um outro pedaço\n",
        "'Eu torço para o Perú'.replace('Perú', 'Colombia')"
      ],
      "execution_count": 44,
      "outputs": [
        {
          "output_type": "execute_result",
          "data": {
            "application/vnd.google.colaboratory.intrinsic+json": {
              "type": "string"
            },
            "text/plain": [
              "'Eu torço para o Colombia'"
            ]
          },
          "metadata": {
            "tags": []
          },
          "execution_count": 44
        }
      ]
    },
    {
      "cell_type": "code",
      "metadata": {
        "id": "OY-9SZ_0Zxlg",
        "outputId": "335fa886-7068-4e66-8f5d-33b871147ff3",
        "colab": {
          "base_uri": "https://localhost:8080/",
          "height": 35
        }
      },
      "source": [
        "# Método center: Centra o string, definindo o comprimento da string retornada e\n",
        "# opcionalmente o caractere de preenchimento (o espaço é o padrão)\n",
        "'brasil sil sil'.capitalize().center(75, '.')"
      ],
      "execution_count": 45,
      "outputs": [
        {
          "output_type": "execute_result",
          "data": {
            "application/vnd.google.colaboratory.intrinsic+json": {
              "type": "string"
            },
            "text/plain": [
              "'...............................Brasil sil sil..............................'"
            ]
          },
          "metadata": {
            "tags": []
          },
          "execution_count": 45
        }
      ]
    },
    {
      "cell_type": "code",
      "metadata": {
        "id": "iUaaZ-soahuO",
        "outputId": "a376c77b-b152-48d0-8428-e576d32ec7d8",
        "colab": {
          "base_uri": "https://localhost:8080/",
          "height": 34
        }
      },
      "source": [
        "# Método find: Acha a posição da primeira ocorrência de um string dentro de \n",
        "# outro. Devolve -1 se o string passado como argumento não está presente\n",
        "frase.find('ma')"
      ],
      "execution_count": 46,
      "outputs": [
        {
          "output_type": "execute_result",
          "data": {
            "text/plain": [
              "77"
            ]
          },
          "metadata": {
            "tags": []
          },
          "execution_count": 46
        }
      ]
    },
    {
      "cell_type": "code",
      "metadata": {
        "id": "xREc1pTq24qw",
        "outputId": "0374f3b5-f03e-409c-9192-271dbb0fdbf7",
        "colab": {
          "base_uri": "https://localhost:8080/",
          "height": 34
        }
      },
      "source": [
        "# Método islower: Retorna True se a frase está totalmente em minúscula ou \n",
        "# retorna False se isso nao foi verdade\n",
        "frase.islower()"
      ],
      "execution_count": 47,
      "outputs": [
        {
          "output_type": "execute_result",
          "data": {
            "text/plain": [
              "False"
            ]
          },
          "metadata": {
            "tags": []
          },
          "execution_count": 47
        }
      ]
    },
    {
      "cell_type": "code",
      "metadata": {
        "id": "CuOTsSFL313B",
        "outputId": "f9b4cd69-9f3e-4b2b-88f7-06f7945f0710",
        "colab": {
          "base_uri": "https://localhost:8080/",
          "height": 295
        }
      },
      "source": [
        "# Método split: Permite quebrar a string e retornar uma lista de termos, onde \n",
        "# ele encontrar um espaço \n",
        "frase.split()"
      ],
      "execution_count": 48,
      "outputs": [
        {
          "output_type": "execute_result",
          "data": {
            "text/plain": [
              "['Viver',\n",
              " 'é',\n",
              " 'como',\n",
              " 'andar',\n",
              " 'de',\n",
              " 'bicicleta:',\n",
              " 'É',\n",
              " 'preciso',\n",
              " 'estar',\n",
              " 'em',\n",
              " 'constante',\n",
              " 'movimento',\n",
              " 'para',\n",
              " 'manter',\n",
              " 'o',\n",
              " 'equilíbrio.']"
            ]
          },
          "metadata": {
            "tags": []
          },
          "execution_count": 48
        }
      ]
    },
    {
      "cell_type": "code",
      "metadata": {
        "id": "3rg4uEAN4YeO",
        "outputId": "396b8707-b40b-46ce-eaf5-6972e679f237",
        "colab": {
          "base_uri": "https://localhost:8080/",
          "height": 52
        }
      },
      "source": [
        "# O método split pode receber parâmetros. Se quiser quebrar a cada vez que ele \n",
        "# encontar um 'de':\n",
        "frase.split('de')"
      ],
      "execution_count": 49,
      "outputs": [
        {
          "output_type": "execute_result",
          "data": {
            "text/plain": [
              "['Viver é como andar ',\n",
              " ' bicicleta: É preciso estar em constante movimento para manter o equilíbrio.']"
            ]
          },
          "metadata": {
            "tags": []
          },
          "execution_count": 49
        }
      ]
    },
    {
      "cell_type": "code",
      "metadata": {
        "id": "IxL53ljaa_Ok",
        "outputId": "87d76447-2a2c-47bd-e20c-b61f993ae94a",
        "colab": {
          "base_uri": "https://localhost:8080/",
          "height": 34
        }
      },
      "source": [
        "# Método len: Dá o comprimento de um string\n",
        "len(frase)"
      ],
      "execution_count": 50,
      "outputs": [
        {
          "output_type": "execute_result",
          "data": {
            "text/plain": [
              "97"
            ]
          },
          "metadata": {
            "tags": []
          },
          "execution_count": 50
        }
      ]
    },
    {
      "cell_type": "code",
      "metadata": {
        "id": "Z1KKQYFxb9id",
        "outputId": "c951c7d8-ad6a-4710-fe6e-bc7dab02e270",
        "colab": {
          "base_uri": "https://localhost:8080/",
          "height": 86
        }
      },
      "source": [
        "# Comparação de strings\n",
        "x = 'teoria'\n",
        "y = 'prática'\n",
        "\n",
        "print(x == y)\n",
        "print(x != y) \n",
        "\n",
        "z = 'teoria'\n",
        "\n",
        "print(x == z)\n",
        "print(x is z)\n",
        "\n",
        "# Strings com o mesmo conteúdo acabam apontando para o mesmo lugar da memória"
      ],
      "execution_count": 102,
      "outputs": [
        {
          "output_type": "stream",
          "text": [
            "False\n",
            "True\n",
            "True\n",
            "True\n"
          ],
          "name": "stdout"
        }
      ]
    },
    {
      "cell_type": "code",
      "metadata": {
        "id": "PZQmSYCr3EE4",
        "outputId": "0a513540-babc-4674-e1e4-8643974efabd",
        "colab": {
          "base_uri": "https://localhost:8080/",
          "height": 104
        }
      },
      "source": [
        "# Comparação com maior ou menor\n",
        "print(x > y)\n",
        "\n",
        "# A comparação é feita segunda a ordem lexicográfica (ordem de caractere a \n",
        "# caractere). A função 'ord' dá o número de ordem (número ordinal) do caractere \n",
        "# no padrão unicode, que é um padrão internacional de representação de \n",
        "# caracteres que o Python adota. Se as primeiras letras fossem iguais se passa \n",
        "# para as segundas e assim por diante, até encontrar uma letra diferente e \n",
        "# calcula qual que é maior. No código unicode as letras aparecem na ordem \n",
        "# alfabética, e as letras maiúsculas vem antes do que as letras minúsculas\n",
        "# https://en.wikipedia.org/wiki/ASCII\n",
        "\n",
        "# Código da letra maiúscula 'A'\n",
        "print(ord('A'))\n",
        "\n",
        "# Código da letra minúscula 'a'\n",
        "print(ord('a'))\n",
        "\n",
        "# Para comparar palavras independente da letra maiúscula ou minúscula, primeiro\n",
        "# tem que usar a função lower\n",
        "print(\"Maca\" > \"banana\")\n",
        "print(\"Maca\".lower() > \"banana\".lower())"
      ],
      "execution_count": 52,
      "outputs": [
        {
          "output_type": "stream",
          "text": [
            "True\n",
            "65\n",
            "97\n",
            "False\n",
            "True\n"
          ],
          "name": "stdout"
        }
      ]
    },
    {
      "cell_type": "markdown",
      "metadata": {
        "id": "vh2zR5b-5w0C"
      },
      "source": [
        "##**Listas**"
      ]
    },
    {
      "cell_type": "markdown",
      "metadata": {
        "id": "eoJyhaxTU-de"
      },
      "source": [
        "Em Python, listas são estruturas de dados bem versáteis, estas podem conter dados de tipos diferentes, até mesmo outras listas (podem ser aninhadas) e são bem fáceis de manipular"
      ]
    },
    {
      "cell_type": "code",
      "metadata": {
        "id": "JxMxXWqP5z2D",
        "outputId": "c123608b-339b-45b3-86e8-e63f64398f9b",
        "colab": {
          "base_uri": "https://localhost:8080/",
          "height": 34
        }
      },
      "source": [
        "# Sintaxe para criar uma lista\n",
        "lista = [1, 2, 3]\n",
        "lista"
      ],
      "execution_count": 53,
      "outputs": [
        {
          "output_type": "execute_result",
          "data": {
            "text/plain": [
              "[1, 2, 3]"
            ]
          },
          "metadata": {
            "tags": []
          },
          "execution_count": 53
        }
      ]
    },
    {
      "cell_type": "code",
      "metadata": {
        "id": "PB9546Yr56N8",
        "outputId": "882d966d-da95-4765-ccdd-02fa0bc88e76",
        "colab": {
          "base_uri": "https://localhost:8080/",
          "height": 34
        }
      },
      "source": [
        "# Lista com tipos de dados diferentes\n",
        "lista = ['cachorro', 'gato', 7.2, 333, [3.141592, 2.718281]]\n",
        "lista"
      ],
      "execution_count": 54,
      "outputs": [
        {
          "output_type": "execute_result",
          "data": {
            "text/plain": [
              "['cachorro', 'gato', 7.2, 333, [3.141592, 2.718281]]"
            ]
          },
          "metadata": {
            "tags": []
          },
          "execution_count": 54
        }
      ]
    },
    {
      "cell_type": "code",
      "metadata": {
        "id": "pzFSO-gF66Ym",
        "outputId": "77d1a350-7ba3-4c8a-f704-28f93fd0a376",
        "colab": {
          "base_uri": "https://localhost:8080/",
          "height": 52
        }
      },
      "source": [
        "# Índices de elementos. As listas são indexadas como acontece com as strings, o \n",
        "# primeiro elemento começa no índice 0\n",
        "print(lista[0])\n",
        "print(lista[4])"
      ],
      "execution_count": 55,
      "outputs": [
        {
          "output_type": "stream",
          "text": [
            "cachorro\n",
            "[3.141592, 2.718281]\n"
          ],
          "name": "stdout"
        }
      ]
    },
    {
      "cell_type": "code",
      "metadata": {
        "id": "EIiZF01d7Art",
        "outputId": "f4d33381-7630-4fd5-8da5-6ac472913b79",
        "colab": {
          "base_uri": "https://localhost:8080/",
          "height": 34
        }
      },
      "source": [
        "# Atualizando o primeiro elemento da lista. Diferente das strings, podemos \n",
        "# atualizar os elementos de uma lista\n",
        "lista[0] = 'árvore'\n",
        "lista"
      ],
      "execution_count": 56,
      "outputs": [
        {
          "output_type": "execute_result",
          "data": {
            "text/plain": [
              "['árvore', 'gato', 7.2, 333, [3.141592, 2.718281]]"
            ]
          },
          "metadata": {
            "tags": []
          },
          "execution_count": 56
        }
      ]
    },
    {
      "cell_type": "code",
      "metadata": {
        "id": "1j0bjAzk7J3p",
        "outputId": "9b2ec7e4-e4cb-47a5-9dee-8905ed1ba652",
        "colab": {
          "base_uri": "https://localhost:8080/",
          "height": 34
        }
      },
      "source": [
        "# Slicing em listas. Como em strings, podemos percorrer os elementos da lista\n",
        "print(\"Imprime elementos a partir do elemento 1:\", lista[1:])"
      ],
      "execution_count": 57,
      "outputs": [
        {
          "output_type": "stream",
          "text": [
            "Imprime elementos a partir do elemento 1: ['gato', 7.2, 333, [3.141592, 2.718281]]\n"
          ],
          "name": "stdout"
        }
      ]
    },
    {
      "cell_type": "code",
      "metadata": {
        "id": "Vsh8YM7o7HvK",
        "outputId": "4f3e41d3-7460-475f-b66a-5b6b240be55e",
        "colab": {
          "base_uri": "https://localhost:8080/",
          "height": 34
        }
      },
      "source": [
        "# Método remove: Permite remover elementos\n",
        "lista.remove(333)\n",
        "lista"
      ],
      "execution_count": 58,
      "outputs": [
        {
          "output_type": "execute_result",
          "data": {
            "text/plain": [
              "['árvore', 'gato', 7.2, [3.141592, 2.718281]]"
            ]
          },
          "metadata": {
            "tags": []
          },
          "execution_count": 58
        }
      ]
    },
    {
      "cell_type": "code",
      "metadata": {
        "id": "ee9wCsOjC8Pv",
        "outputId": "2a038915-a9b4-4e85-fc3c-da2107c0c14c",
        "colab": {
          "base_uri": "https://localhost:8080/",
          "height": 34
        }
      },
      "source": [
        "# Função len: Retorna o tamanho da lista\n",
        "len(lista)"
      ],
      "execution_count": 59,
      "outputs": [
        {
          "output_type": "execute_result",
          "data": {
            "text/plain": [
              "4"
            ]
          },
          "metadata": {
            "tags": []
          },
          "execution_count": 59
        }
      ]
    },
    {
      "cell_type": "code",
      "metadata": {
        "id": "YFg9ZW3NC-WJ",
        "outputId": "936107db-d5b5-4db6-c565-b20334c4a22b",
        "colab": {
          "base_uri": "https://localhost:8080/",
          "height": 34
        }
      },
      "source": [
        "# Concatenando listas\n",
        "lista + [76, 'L4']"
      ],
      "execution_count": 60,
      "outputs": [
        {
          "output_type": "execute_result",
          "data": {
            "text/plain": [
              "['árvore', 'gato', 7.2, [3.141592, 2.718281], 76, 'L4']"
            ]
          },
          "metadata": {
            "tags": []
          },
          "execution_count": 60
        }
      ]
    },
    {
      "cell_type": "code",
      "metadata": {
        "id": "Y7DRyXilDkNK",
        "outputId": "4a85d2af-fc17-4646-9b35-3e360b0b2f74",
        "colab": {
          "base_uri": "https://localhost:8080/",
          "height": 34
        }
      },
      "source": [
        "# Usamos o operador 'in' para verificar se um determinado elemento está na lista\n",
        "'árvore' in lista"
      ],
      "execution_count": 61,
      "outputs": [
        {
          "output_type": "execute_result",
          "data": {
            "text/plain": [
              "True"
            ]
          },
          "metadata": {
            "tags": []
          },
          "execution_count": 61
        }
      ]
    },
    {
      "cell_type": "code",
      "metadata": {
        "id": "hhMemm5BD0-F",
        "outputId": "a41dc754-9d58-499b-837d-c08fa21501a5",
        "colab": {
          "base_uri": "https://localhost:8080/",
          "height": 34
        }
      },
      "source": [
        "# Função max: Retorna o valor máximo da lista. A lista precisa conter apenas \n",
        "# valores numéricos (\"max(lista)\" daria erro)\n",
        "lista2 = [9, 4, 7.3, 5.2]\n",
        "max(lista2)"
      ],
      "execution_count": 62,
      "outputs": [
        {
          "output_type": "execute_result",
          "data": {
            "text/plain": [
              "9"
            ]
          },
          "metadata": {
            "tags": []
          },
          "execution_count": 62
        }
      ]
    },
    {
      "cell_type": "code",
      "metadata": {
        "id": "VSagu4hkEaXk",
        "outputId": "a87a3a62-642c-464e-d7c7-e308de370ce3",
        "colab": {
          "base_uri": "https://localhost:8080/",
          "height": 34
        }
      },
      "source": [
        "# Função mim: Retorna o valor mínimo da lista\n",
        "min(lista2)"
      ],
      "execution_count": 63,
      "outputs": [
        {
          "output_type": "execute_result",
          "data": {
            "text/plain": [
              "4"
            ]
          },
          "metadata": {
            "tags": []
          },
          "execution_count": 63
        }
      ]
    },
    {
      "cell_type": "code",
      "metadata": {
        "id": "3bdkCRj_EeYQ",
        "outputId": "84f3e686-af1f-4c2b-e164-e30b9467d173",
        "colab": {
          "base_uri": "https://localhost:8080/",
          "height": 34
        }
      },
      "source": [
        "# A partir de uma lista podemos obter uma nova com os valores multiplicados\n",
        "['Life'] * 4"
      ],
      "execution_count": 64,
      "outputs": [
        {
          "output_type": "execute_result",
          "data": {
            "text/plain": [
              "['Life', 'Life', 'Life', 'Life']"
            ]
          },
          "metadata": {
            "tags": []
          },
          "execution_count": 64
        }
      ]
    },
    {
      "cell_type": "code",
      "metadata": {
        "id": "UrduVnBnFQUi"
      },
      "source": [
        "# Para visualizar os métodos existentes do objeto lista, digite o nome do objeto\n",
        "# + \".\" + pressione a tecla tab (\"lista.\")"
      ],
      "execution_count": 65,
      "outputs": []
    },
    {
      "cell_type": "code",
      "metadata": {
        "id": "lp1qwcSXFuTA",
        "outputId": "6ec41c27-1aff-4b43-faeb-87c722e8ebca",
        "colab": {
          "base_uri": "https://localhost:8080/",
          "height": 34
        }
      },
      "source": [
        "# Método append: Adiciona um elemento na lista\n",
        "lista.append('azul')\n",
        "lista\n"
      ],
      "execution_count": 66,
      "outputs": [
        {
          "output_type": "execute_result",
          "data": {
            "text/plain": [
              "['árvore', 'gato', 7.2, [3.141592, 2.718281], 'azul']"
            ]
          },
          "metadata": {
            "tags": []
          },
          "execution_count": 66
        }
      ]
    },
    {
      "cell_type": "code",
      "metadata": {
        "id": "MbULFkGjF0Sw",
        "outputId": "e19dd8f9-e2f2-4275-cc1e-2177dbd636a7",
        "colab": {
          "base_uri": "https://localhost:8080/",
          "height": 34
        }
      },
      "source": [
        "# Método extend: Estende a lista existente com mais de um elemento (que e uma \n",
        "# limitação do método append)\n",
        "lista.extend(['céu', 2.1])\n",
        "lista"
      ],
      "execution_count": 67,
      "outputs": [
        {
          "output_type": "execute_result",
          "data": {
            "text/plain": [
              "['árvore', 'gato', 7.2, [3.141592, 2.718281], 'azul', 'céu', 2.1]"
            ]
          },
          "metadata": {
            "tags": []
          },
          "execution_count": 67
        }
      ]
    },
    {
      "cell_type": "code",
      "metadata": {
        "id": "C_7zN89QK-ER",
        "outputId": "7094889c-fd24-4572-d838-a1375a875746",
        "colab": {
          "base_uri": "https://localhost:8080/",
          "height": 34
        }
      },
      "source": [
        "# Método index: Retorna o índice do elemento da lista que recebe como parâmetro\n",
        "lista.index('céu')"
      ],
      "execution_count": 68,
      "outputs": [
        {
          "output_type": "execute_result",
          "data": {
            "text/plain": [
              "5"
            ]
          },
          "metadata": {
            "tags": []
          },
          "execution_count": 68
        }
      ]
    },
    {
      "cell_type": "code",
      "metadata": {
        "id": "Hkt8kuPdLP-d",
        "outputId": "2ef22b91-714e-458b-ba9a-7cfc13080dd4",
        "colab": {
          "base_uri": "https://localhost:8080/",
          "height": 34
        }
      },
      "source": [
        "# Método remove: Remove o elemento que é passado como parâmetro\n",
        "lista.remove('gato')\n",
        "lista"
      ],
      "execution_count": 69,
      "outputs": [
        {
          "output_type": "execute_result",
          "data": {
            "text/plain": [
              "['árvore', 7.2, [3.141592, 2.718281], 'azul', 'céu', 2.1]"
            ]
          },
          "metadata": {
            "tags": []
          },
          "execution_count": 69
        }
      ]
    },
    {
      "cell_type": "code",
      "metadata": {
        "id": "3fLnp45kLlqz",
        "outputId": "c08ea07e-7097-4819-ba87-5597935cd92a",
        "colab": {
          "base_uri": "https://localhost:8080/",
          "height": 34
        }
      },
      "source": [
        "# Método count: Retorna a quantidade de vezes que um determinado elemento \n",
        "# aparece na lista\n",
        "lista.count('vermelho')"
      ],
      "execution_count": 70,
      "outputs": [
        {
          "output_type": "execute_result",
          "data": {
            "text/plain": [
              "0"
            ]
          },
          "metadata": {
            "tags": []
          },
          "execution_count": 70
        }
      ]
    },
    {
      "cell_type": "code",
      "metadata": {
        "id": "EPjqbttXGG94",
        "outputId": "7e01f09a-01a0-4298-855a-5e0d66af5c2b",
        "colab": {
          "base_uri": "https://localhost:8080/",
          "height": 86
        }
      },
      "source": [
        "# Método sort: Muda uma lista ordenando-la em forma crescente (por padrão) se \n",
        "# for apenas de inteiros/floats, ou em ordem alfabética se for apenas de strings.\n",
        "# Não consegue fazer ordenação de valores de uma lista que contenha valores do \n",
        "# tipo strings e inteiros/floats\n",
        "lista3 = [454, 2, 76, 89, 23]\n",
        "lista4 = ['lua', 'sol', 'asteroides', 'troianos']\n",
        "lista3.sort()\n",
        "lista4.sort()\n",
        "print(lista3)\n",
        "print(lista4)\n",
        "\n",
        "# Em ordem decrescente\n",
        "lista3.sort(reverse = True)\n",
        "lista4.sort(reverse = True)\n",
        "print(lista3) \n",
        "print(lista4)"
      ],
      "execution_count": 71,
      "outputs": [
        {
          "output_type": "stream",
          "text": [
            "[2, 23, 76, 89, 454]\n",
            "['asteroides', 'lua', 'sol', 'troianos']\n",
            "[454, 89, 76, 23, 2]\n",
            "['troianos', 'sol', 'lua', 'asteroides']\n"
          ],
          "name": "stdout"
        }
      ]
    },
    {
      "cell_type": "code",
      "metadata": {
        "id": "BwN_6zhq0JNP",
        "outputId": "ff7e83ae-09f8-429e-badb-439df5623191",
        "colab": {
          "base_uri": "https://localhost:8080/",
          "height": 69
        }
      },
      "source": [
        "# Função sorted: Construi uma nova lista, sem afetar a lista original \n",
        "lista5 = [9, 4, 6]\n",
        "lista6 = sorted(lista5)\n",
        "lista7 = sorted(lista5, reverse = True)\n",
        "print(lista5)\n",
        "print(lista6)\n",
        "print(lista7)"
      ],
      "execution_count": 72,
      "outputs": [
        {
          "output_type": "stream",
          "text": [
            "[9, 4, 6]\n",
            "[4, 6, 9]\n",
            "[9, 6, 4]\n"
          ],
          "name": "stdout"
        }
      ]
    },
    {
      "cell_type": "markdown",
      "metadata": {
        "id": "-Quw-CN2N2TA"
      },
      "source": [
        "##**Lista Aninhada**"
      ]
    },
    {
      "cell_type": "markdown",
      "metadata": {
        "id": "4lKoi42ZVCyI"
      },
      "source": [
        "Objeto que contém outras listas como elementos"
      ]
    },
    {
      "cell_type": "code",
      "metadata": {
        "id": "SozcVz29NKqZ",
        "outputId": "8e0496e6-b35c-45bc-fa19-542084e0a3fa",
        "colab": {
          "base_uri": "https://localhost:8080/",
          "height": 69
        }
      },
      "source": [
        "# Lista que contém 3 listas\n",
        "lista_aninhada = [[5, 3, 2], ['L1', 'L2', 'L3', 'L4', 'L5'], ['Io', 'Europa', 'Ganimedes', 'Calisto']]\n",
        "lista_aninhada"
      ],
      "execution_count": 73,
      "outputs": [
        {
          "output_type": "execute_result",
          "data": {
            "text/plain": [
              "[[5, 3, 2],\n",
              " ['L1', 'L2', 'L3', 'L4', 'L5'],\n",
              " ['Io', 'Europa', 'Ganimedes', 'Calisto']]"
            ]
          },
          "metadata": {
            "tags": []
          },
          "execution_count": 73
        }
      ]
    },
    {
      "cell_type": "code",
      "metadata": {
        "id": "shOtbWExOsXd",
        "outputId": "d0527b83-b453-4579-dd1f-4c40091de291",
        "colab": {
          "base_uri": "https://localhost:8080/",
          "height": 34
        }
      },
      "source": [
        "# Imprimindo o primeiro elemento (lista de números)\n",
        "lista_aninhada[0]"
      ],
      "execution_count": 74,
      "outputs": [
        {
          "output_type": "execute_result",
          "data": {
            "text/plain": [
              "[5, 3, 2]"
            ]
          },
          "metadata": {
            "tags": []
          },
          "execution_count": 74
        }
      ]
    },
    {
      "cell_type": "code",
      "metadata": {
        "id": "gu01plGZOzCF",
        "outputId": "2881a1b5-f9a8-4b9a-8691-68d8c5385d9f",
        "colab": {
          "base_uri": "https://localhost:8080/",
          "height": 34
        }
      },
      "source": [
        "# Imprimindo o segundo elemento (lista de pontos de Lagrange)\n",
        "lista_aninhada[1]"
      ],
      "execution_count": 75,
      "outputs": [
        {
          "output_type": "execute_result",
          "data": {
            "text/plain": [
              "['L1', 'L2', 'L3', 'L4', 'L5']"
            ]
          },
          "metadata": {
            "tags": []
          },
          "execution_count": 75
        }
      ]
    },
    {
      "cell_type": "code",
      "metadata": {
        "id": "JIbxqpJxO-qR",
        "outputId": "a1a00504-5707-4e40-c0b3-11fc5d2ddc77",
        "colab": {
          "base_uri": "https://localhost:8080/",
          "height": 34
        }
      },
      "source": [
        "# Imprimindo o terceira elemento (lista de satélites Galileanos)\n",
        "lista_aninhada[2]"
      ],
      "execution_count": 76,
      "outputs": [
        {
          "output_type": "execute_result",
          "data": {
            "text/plain": [
              "['Io', 'Europa', 'Ganimedes', 'Calisto']"
            ]
          },
          "metadata": {
            "tags": []
          },
          "execution_count": 76
        }
      ]
    },
    {
      "cell_type": "code",
      "metadata": {
        "id": "DCbO_TNQPWhw",
        "outputId": "d81b5a19-4654-4827-8644-3c7dcdea4660",
        "colab": {
          "base_uri": "https://localhost:8080/",
          "height": 34
        }
      },
      "source": [
        "# Imprimindo o segundo elemento da lista números\n",
        "lista_aninhada[0][1]"
      ],
      "execution_count": 77,
      "outputs": [
        {
          "output_type": "execute_result",
          "data": {
            "text/plain": [
              "3"
            ]
          },
          "metadata": {
            "tags": []
          },
          "execution_count": 77
        }
      ]
    },
    {
      "cell_type": "code",
      "metadata": {
        "id": "2EtOvHLLPeW1",
        "outputId": "373df3f5-2b34-487f-83c8-0523e480b039",
        "colab": {
          "base_uri": "https://localhost:8080/",
          "height": 35
        }
      },
      "source": [
        "# Imprimindo o último valor da lista de pontos de Lagrange\n",
        "lista_aninhada[1][4]"
      ],
      "execution_count": 78,
      "outputs": [
        {
          "output_type": "execute_result",
          "data": {
            "application/vnd.google.colaboratory.intrinsic+json": {
              "type": "string"
            },
            "text/plain": [
              "'L5'"
            ]
          },
          "metadata": {
            "tags": []
          },
          "execution_count": 78
        }
      ]
    },
    {
      "cell_type": "code",
      "metadata": {
        "id": "JvZgIG_QPLOj",
        "outputId": "f9a1e2c6-992b-4f18-e2ba-114d6b24ba1a",
        "colab": {
          "base_uri": "https://localhost:8080/",
          "height": 35
        }
      },
      "source": [
        "# Imprimindo o primeiro elemento da lista de satélites\n",
        "lista_aninhada[2][0]"
      ],
      "execution_count": 79,
      "outputs": [
        {
          "output_type": "execute_result",
          "data": {
            "application/vnd.google.colaboratory.intrinsic+json": {
              "type": "string"
            },
            "text/plain": [
              "'Io'"
            ]
          },
          "metadata": {
            "tags": []
          },
          "execution_count": 79
        }
      ]
    },
    {
      "cell_type": "code",
      "metadata": {
        "id": "APqMrwIHPohI",
        "outputId": "acd146b4-19be-4f88-89a5-f22aac9d1b10",
        "colab": {
          "base_uri": "https://localhost:8080/",
          "height": 173
        }
      },
      "source": [
        "# Operacao de repetição de elementos da lista aninhada\n",
        "lista_aninhada * 3"
      ],
      "execution_count": 80,
      "outputs": [
        {
          "output_type": "execute_result",
          "data": {
            "text/plain": [
              "[[5, 3, 2],\n",
              " ['L1', 'L2', 'L3', 'L4', 'L5'],\n",
              " ['Io', 'Europa', 'Ganimedes', 'Calisto'],\n",
              " [5, 3, 2],\n",
              " ['L1', 'L2', 'L3', 'L4', 'L5'],\n",
              " ['Io', 'Europa', 'Ganimedes', 'Calisto'],\n",
              " [5, 3, 2],\n",
              " ['L1', 'L2', 'L3', 'L4', 'L5'],\n",
              " ['Io', 'Europa', 'Ganimedes', 'Calisto']]"
            ]
          },
          "metadata": {
            "tags": []
          },
          "execution_count": 80
        }
      ]
    },
    {
      "cell_type": "code",
      "metadata": {
        "id": "g-Mk9baxTKns",
        "outputId": "125573b0-70fd-438b-db87-8f68ac62174f",
        "colab": {
          "base_uri": "https://localhost:8080/",
          "height": 69
        }
      },
      "source": [
        "lista_aninhada"
      ],
      "execution_count": 81,
      "outputs": [
        {
          "output_type": "execute_result",
          "data": {
            "text/plain": [
              "[[5, 3, 2],\n",
              " ['L1', 'L2', 'L3', 'L4', 'L5'],\n",
              " ['Io', 'Europa', 'Ganimedes', 'Calisto']]"
            ]
          },
          "metadata": {
            "tags": []
          },
          "execution_count": 81
        }
      ]
    },
    {
      "cell_type": "code",
      "metadata": {
        "id": "PUmOhmCTVbpP",
        "outputId": "5936b3dc-d892-4aac-9f21-2d9b37ac332b",
        "colab": {
          "base_uri": "https://localhost:8080/",
          "height": 173
        }
      },
      "source": [
        "# Note que a operação anterior não influenciou a lista original porque foi \n",
        "# mandado apenas a imprimir na tela, e não a receber o valor multiplicado como \n",
        "# embaixo\n",
        "lista_aninhada = lista_aninhada * 3\n",
        "lista_aninhada"
      ],
      "execution_count": 82,
      "outputs": [
        {
          "output_type": "execute_result",
          "data": {
            "text/plain": [
              "[[5, 3, 2],\n",
              " ['L1', 'L2', 'L3', 'L4', 'L5'],\n",
              " ['Io', 'Europa', 'Ganimedes', 'Calisto'],\n",
              " [5, 3, 2],\n",
              " ['L1', 'L2', 'L3', 'L4', 'L5'],\n",
              " ['Io', 'Europa', 'Ganimedes', 'Calisto'],\n",
              " [5, 3, 2],\n",
              " ['L1', 'L2', 'L3', 'L4', 'L5'],\n",
              " ['Io', 'Europa', 'Ganimedes', 'Calisto']]"
            ]
          },
          "metadata": {
            "tags": []
          },
          "execution_count": 82
        }
      ]
    },
    {
      "cell_type": "markdown",
      "metadata": {
        "id": "Yg17b-i4WsvP"
      },
      "source": [
        "##**Tuplas**"
      ]
    },
    {
      "cell_type": "markdown",
      "metadata": {
        "id": "i15Y_BnqVHj4"
      },
      "source": [
        "As tuplas são estruturas de dados similas às listas, a principal diferença é que seus elementos são imutáveis, ou seja, não podem ser alterados (atualizados) após sua criação. Tentar fazer isso, retornaria uma mensagem de erro. As tuplas podem conter diferentes tipos de dados, até mesmo outras tuplas (tuplas aninhadas)"
      ]
    },
    {
      "cell_type": "code",
      "metadata": {
        "id": "mIZwsuVbWwJV",
        "outputId": "59cdbc2d-f538-4d26-e0ea-f203e6dace6a",
        "colab": {
          "base_uri": "https://localhost:8080/",
          "height": 34
        }
      },
      "source": [
        "# Sintaxe para criação de uma tupla vazia\n",
        "tupla = ()\n",
        "tupla"
      ],
      "execution_count": 83,
      "outputs": [
        {
          "output_type": "execute_result",
          "data": {
            "text/plain": [
              "()"
            ]
          },
          "metadata": {
            "tags": []
          },
          "execution_count": 83
        }
      ]
    },
    {
      "cell_type": "code",
      "metadata": {
        "id": "5GN_c7zdW2sP",
        "outputId": "4746136b-d977-4e80-a8fc-d86b0245a09c",
        "colab": {
          "base_uri": "https://localhost:8080/",
          "height": 34
        }
      },
      "source": [
        "# Criação de uma tupla recebendo dados\n",
        "tupla = ('Jupiter', 'Euler', 84.8, 942)\n",
        "tupla"
      ],
      "execution_count": 84,
      "outputs": [
        {
          "output_type": "execute_result",
          "data": {
            "text/plain": [
              "('Jupiter', 'Euler', 84.8, 942)"
            ]
          },
          "metadata": {
            "tags": []
          },
          "execution_count": 84
        }
      ]
    },
    {
      "cell_type": "code",
      "metadata": {
        "id": "nU3XrSoyXNuj",
        "outputId": "4c09cef5-d5da-42ff-f722-c5bd64193d79",
        "colab": {
          "base_uri": "https://localhost:8080/",
          "height": 34
        }
      },
      "source": [
        "# Imprimindo elementos da tupla\n",
        "tupla[0], tupla[1], tupla[3]"
      ],
      "execution_count": 85,
      "outputs": [
        {
          "output_type": "execute_result",
          "data": {
            "text/plain": [
              "('Jupiter', 'Euler', 942)"
            ]
          },
          "metadata": {
            "tags": []
          },
          "execution_count": 85
        }
      ]
    },
    {
      "cell_type": "code",
      "metadata": {
        "id": "0xBgzxwzXT60"
      },
      "source": [
        "# As tuplas sao imutáveis!, uma vez criada não é possível atualizar os elementos\n",
        "# tupla[0] = 'Saturno'"
      ],
      "execution_count": 86,
      "outputs": []
    },
    {
      "cell_type": "code",
      "metadata": {
        "id": "S4XJTK5FXa7L",
        "outputId": "8483d172-8a24-4f1e-fec1-f08b4eb68f8b",
        "colab": {
          "base_uri": "https://localhost:8080/",
          "height": 34
        }
      },
      "source": [
        "# Criação de tupla aninhada e impressão do terceiro elemento\n",
        "tupla_aninhada = (5,6, (54, 23, 24))\n",
        "tupla_aninhada[2]"
      ],
      "execution_count": 87,
      "outputs": [
        {
          "output_type": "execute_result",
          "data": {
            "text/plain": [
              "(54, 23, 24)"
            ]
          },
          "metadata": {
            "tags": []
          },
          "execution_count": 87
        }
      ]
    },
    {
      "cell_type": "code",
      "metadata": {
        "id": "NuuyyIvhXjZB",
        "outputId": "9a68b6f1-0dca-45a1-c56a-654e955426a9",
        "colab": {
          "base_uri": "https://localhost:8080/",
          "height": 34
        }
      },
      "source": [
        "# Acessando o primeiro valor da tupla que está aninhada\n",
        "tupla_aninhada[2][0]"
      ],
      "execution_count": 88,
      "outputs": [
        {
          "output_type": "execute_result",
          "data": {
            "text/plain": [
              "54"
            ]
          },
          "metadata": {
            "tags": []
          },
          "execution_count": 88
        }
      ]
    },
    {
      "cell_type": "code",
      "metadata": {
        "id": "m1DnrnZalnVA",
        "outputId": "b050dd63-a03d-48f4-9fcd-823a0aec1723",
        "colab": {
          "base_uri": "https://localhost:8080/",
          "height": 225
        }
      },
      "source": [
        "# Criação de uma tupla a partir da repetição de seus valores\n",
        "tupla2 = tupla * 3\n",
        "tupla2"
      ],
      "execution_count": 89,
      "outputs": [
        {
          "output_type": "execute_result",
          "data": {
            "text/plain": [
              "('Jupiter',\n",
              " 'Euler',\n",
              " 84.8,\n",
              " 942,\n",
              " 'Jupiter',\n",
              " 'Euler',\n",
              " 84.8,\n",
              " 942,\n",
              " 'Jupiter',\n",
              " 'Euler',\n",
              " 84.8,\n",
              " 942)"
            ]
          },
          "metadata": {
            "tags": []
          },
          "execution_count": 89
        }
      ]
    },
    {
      "cell_type": "code",
      "metadata": {
        "id": "s5pSwpKxl2AW",
        "outputId": "ff298c65-edc2-4db4-f08c-1e5b9c07ec7d",
        "colab": {
          "base_uri": "https://localhost:8080/",
          "height": 34
        }
      },
      "source": [
        "# Concatenação de tuplas\n",
        "(1, 2, 3) + (7, 8, 9)"
      ],
      "execution_count": 90,
      "outputs": [
        {
          "output_type": "execute_result",
          "data": {
            "text/plain": [
              "(1, 2, 3, 7, 8, 9)"
            ]
          },
          "metadata": {
            "tags": []
          },
          "execution_count": 90
        }
      ]
    },
    {
      "cell_type": "code",
      "metadata": {
        "id": "FtrI6Sfsl9Fs",
        "outputId": "378a3394-7fb7-44c0-f197-76bac356652c",
        "colab": {
          "base_uri": "https://localhost:8080/",
          "height": 34
        }
      },
      "source": [
        "# Verifica se um elemento pertence à tupla\n",
        "'Venus' in tupla2"
      ],
      "execution_count": 91,
      "outputs": [
        {
          "output_type": "execute_result",
          "data": {
            "text/plain": [
              "False"
            ]
          },
          "metadata": {
            "tags": []
          },
          "execution_count": 91
        }
      ]
    },
    {
      "cell_type": "code",
      "metadata": {
        "id": "IFEWb22jmFKe",
        "outputId": "12cad9c9-e1b2-4665-cfa7-8a8b42719b11",
        "colab": {
          "base_uri": "https://localhost:8080/",
          "height": 52
        }
      },
      "source": [
        "# Slicing\n",
        "print(\"Percorre a tupla do elemento na posição 1 em diante:\", tupla[1:])\n",
        "print(\"Percorre a tupla do elemento na posição 1 até o elemento na posição 2:\", tupla[1:3])"
      ],
      "execution_count": 92,
      "outputs": [
        {
          "output_type": "stream",
          "text": [
            "Percorre a tupla do elemento na posição 1 em diante: ('Euler', 84.8, 942)\n",
            "Percorre a tupla do elemento na posição 1 até o elemento na posição 2: ('Euler', 84.8)\n"
          ],
          "name": "stdout"
        }
      ]
    },
    {
      "cell_type": "code",
      "metadata": {
        "id": "ZwNuzJikqQ4w"
      },
      "source": [
        "# Os métodos disponíveis para trabalhar com tuplas são mostrados digitando o nome da tupla + \".\" + tecla tab"
      ],
      "execution_count": 93,
      "outputs": []
    },
    {
      "cell_type": "code",
      "metadata": {
        "id": "-WkI3j1Gmt4f",
        "outputId": "d7209fd5-facf-4334-c3d8-d355199f4301",
        "colab": {
          "base_uri": "https://localhost:8080/",
          "height": 34
        }
      },
      "source": [
        "# Método count\n",
        "tupla.count('Jupiter')"
      ],
      "execution_count": 94,
      "outputs": [
        {
          "output_type": "execute_result",
          "data": {
            "text/plain": [
              "1"
            ]
          },
          "metadata": {
            "tags": []
          },
          "execution_count": 94
        }
      ]
    },
    {
      "cell_type": "code",
      "metadata": {
        "id": "QFqlMaaQnrhz",
        "outputId": "a71d849f-9dbe-4242-ab3e-dbf6e1f4077b",
        "colab": {
          "base_uri": "https://localhost:8080/",
          "height": 34
        }
      },
      "source": [
        "# Método index\n",
        "tupla.index('Jupiter')"
      ],
      "execution_count": 95,
      "outputs": [
        {
          "output_type": "execute_result",
          "data": {
            "text/plain": [
              "0"
            ]
          },
          "metadata": {
            "tags": []
          },
          "execution_count": 95
        }
      ]
    },
    {
      "cell_type": "code",
      "metadata": {
        "id": "TF05XskyrQgo",
        "outputId": "746bbdd0-8ab8-49c9-c6aa-bddbd1e0008e",
        "colab": {
          "base_uri": "https://localhost:8080/",
          "height": 34
        }
      },
      "source": [
        "# Função len\n",
        "len(tupla)"
      ],
      "execution_count": 99,
      "outputs": [
        {
          "output_type": "execute_result",
          "data": {
            "text/plain": [
              "4"
            ]
          },
          "metadata": {
            "tags": []
          },
          "execution_count": 99
        }
      ]
    },
    {
      "cell_type": "code",
      "metadata": {
        "id": "_DkJEV8XnwKk"
      },
      "source": [
        "# Função max\n",
        "tupla2 = (4, 2, 443, 5.6)\n",
        "max(tupla2)"
      ],
      "execution_count": null,
      "outputs": []
    },
    {
      "cell_type": "code",
      "metadata": {
        "id": "NniJkb4ToH79"
      },
      "source": [
        "# Função min\n",
        "min(tupla2)"
      ],
      "execution_count": null,
      "outputs": []
    },
    {
      "cell_type": "code",
      "metadata": {
        "id": "sVTVfsI8rvno"
      },
      "source": [
        "# Função tuple: Converte uma lista em tupla\n",
        "lista = [8, 2, 3, 3, 'Euler', 'Lagrange']\n",
        "tupla = tuple(lista)\n",
        "print(tupla)\n",
        "print(type(tupla))"
      ],
      "execution_count": null,
      "outputs": []
    },
    {
      "cell_type": "markdown",
      "metadata": {
        "id": "f1qiY3HArkHl"
      },
      "source": [
        "##**Dicionários**"
      ]
    },
    {
      "cell_type": "markdown",
      "metadata": {
        "id": "0KuMuKYdVMaj"
      },
      "source": [
        "Os dicionários são estruturas de dados bem completas, que funcionam na estrutara de \"chave:valor\". Como as listas, os dicionários são mutáveis, ou seja, podem conter alterações após a sua criação. Esses objetos podem conter dados de tipos diferentes e até mesmo outros dicionarios."
      ]
    },
    {
      "cell_type": "code",
      "metadata": {
        "id": "DVRPAxLntSKf"
      },
      "source": [
        "# Criando um dicionário vazio\n",
        "dic = {}\n",
        "\n",
        "# Objeto do tipo dicionário\n",
        "print(type(dic))"
      ],
      "execution_count": null,
      "outputs": []
    },
    {
      "cell_type": "code",
      "metadata": {
        "id": "ihUpfRA0tZ0r"
      },
      "source": [
        "# Os dicionários trabalham com o conceito de \"chave:valor\". No exemplo, temos\n",
        "# a chave Julia com o valor 18, a chave \"massa\" que aponta a outro dicionário \n",
        "# (como valores dessa chave), a chave \"valores\" que armazena uma lista, a chave\n",
        "# \"disciplinas\" que aponta para uma lista de strings\n",
        "alunos = {'Julia':18, 'José':16, 'Susan':17, 'Gabriel':17,\n",
        "          'massas':{'Julia':60, 'José':70, 'Susan':55},\n",
        "          'valores':[18, 10, 20, 5, 11],\n",
        "          'disciplinas':['Matemáticas', 'Inglês', 'Física']\n",
        "          }\n",
        "alunos"
      ],
      "execution_count": null,
      "outputs": []
    },
    {
      "cell_type": "code",
      "metadata": {
        "id": "GDdsrYLnuEyL"
      },
      "source": [
        "# O acesso aos valores de um dicionário é a partir das chaves\n",
        "alunos['Susan']"
      ],
      "execution_count": null,
      "outputs": []
    },
    {
      "cell_type": "code",
      "metadata": {
        "id": "XhTJPkvPuVNE"
      },
      "source": [
        "# Acessando ao dicionário aninhado. A chave \"massas\" contém como valor outro \n",
        "# dicionário, para obter o valor de uma chave nesse outro dicionário, passamos o\n",
        "# nome da chave que queremos dentro da chave \"massas\"\n",
        "alunos['massas']['José']"
      ],
      "execution_count": null,
      "outputs": []
    },
    {
      "cell_type": "code",
      "metadata": {
        "id": "pGvA4OIbubgr"
      },
      "source": [
        "# Acessando à lista dentro do dicionário. Para imprimir um elemento da lista, \n",
        "# chamamos ao dicionário, passamos a chave e a posição na lista\n",
        "alunos['disciplinas'][0]"
      ],
      "execution_count": null,
      "outputs": []
    },
    {
      "cell_type": "markdown",
      "metadata": {
        "id": "WgJ3UqNQ06b2"
      },
      "source": [
        "##**Atualizando dicionários**"
      ]
    },
    {
      "cell_type": "code",
      "metadata": {
        "id": "UqvLEbt30-PQ"
      },
      "source": [
        "# Atualizando o valor de uma chave\n",
        "alunos['José'] = 20\n",
        "alunos['José']"
      ],
      "execution_count": null,
      "outputs": []
    },
    {
      "cell_type": "code",
      "metadata": {
        "id": "KguzQO6k1GYh"
      },
      "source": [
        "# Adicionando uma chave e valor ao dicionário\n",
        "alunos['Maria'] = 19\n",
        "alunos"
      ],
      "execution_count": null,
      "outputs": []
    },
    {
      "cell_type": "code",
      "metadata": {
        "id": "1n6_HLjp1UJg"
      },
      "source": [
        "# Apagando um elemento do dicionário\n",
        "del alunos['José']\n",
        "alunos"
      ],
      "execution_count": null,
      "outputs": []
    },
    {
      "cell_type": "markdown",
      "metadata": {
        "id": "_R0-2uk31caF"
      },
      "source": [
        "##**Métodos disponíveis para trabalhar com Dicionários**\n",
        "\n",
        "---\n",
        "\n"
      ]
    },
    {
      "cell_type": "markdown",
      "metadata": {
        "id": "j6jIfjpIBLgH"
      },
      "source": [
        "Para ver os métodos disponíveis para trabalhar com esse objeto, digitamos o nome do dicionário seguido de \".\" e presionamos a tecla tab: \n",
        "\n",
        "```\n",
        "alunos.\n",
        "```"
      ]
    },
    {
      "cell_type": "code",
      "metadata": {
        "id": "lQrmWdDq2I2N"
      },
      "source": [
        "# Método keys: Retorna todas as chaves do dicionário\n",
        "alunos.keys()"
      ],
      "execution_count": null,
      "outputs": []
    },
    {
      "cell_type": "code",
      "metadata": {
        "id": "d1fovvJ52QJb"
      },
      "source": [
        "# Método values: Retorna os valores de todas as chaves do dicionário\n",
        "alunos.values()"
      ],
      "execution_count": null,
      "outputs": []
    },
    {
      "cell_type": "code",
      "metadata": {
        "id": "FivmAcB12VLh"
      },
      "source": [
        "# Criando um segundo dicionário\n",
        "alunos2 = {'Morgana':19, 'Rafael':18}\n",
        "alunos2"
      ],
      "execution_count": null,
      "outputs": []
    },
    {
      "cell_type": "code",
      "metadata": {
        "id": "9TBxjCk-2d2o"
      },
      "source": [
        "# Método update: Atualiza um dicionário existente a partir de outro, adicionando \n",
        "# seus elementos (chaves e valores)\n",
        "alunos.update(alunos2)\n",
        "alunos"
      ],
      "execution_count": null,
      "outputs": []
    },
    {
      "cell_type": "code",
      "metadata": {
        "id": "elMU1Jlf2ow9"
      },
      "source": [
        "# Método get: Retorna o valor de uma chave caso ela exista, senão retorna o \n",
        "# valor que passei como parâmetro. \n",
        "\n",
        "# Exemplo de uma chave que não existe\n",
        "alunos.get('Fulanito', 'não existe')\n",
        "\n",
        "# A mensagem poderia ser um valor"
      ],
      "execution_count": null,
      "outputs": []
    },
    {
      "cell_type": "code",
      "metadata": {
        "id": "22c6fFPIB-jd"
      },
      "source": [
        "# Exemplo de uma chave que existe. Retorna o valor dessa chave\n",
        "alunos.get('Susan', 'nao existe')"
      ],
      "execution_count": null,
      "outputs": []
    },
    {
      "cell_type": "code",
      "metadata": {
        "id": "Uf-Xic8t3As6"
      },
      "source": [
        "# Método setdefualt: Retorna o valor da chave caso ela exista, \n",
        "# senão insere a chave e o valor no dicionário e retorna o valor\n",
        "\n",
        "alunos.setdefault('José', 16)"
      ],
      "execution_count": null,
      "outputs": []
    },
    {
      "cell_type": "code",
      "metadata": {
        "id": "mrDeXuVs6Yok"
      },
      "source": [
        "alunos.setdefault('Marcia',21)\n",
        "alunos"
      ],
      "execution_count": null,
      "outputs": []
    },
    {
      "cell_type": "code",
      "metadata": {
        "id": "o9nXGDtE3TRb"
      },
      "source": [
        "# Método pop: Retorna o valor da chave e remove esta. Se não for encontrada \n",
        "# retorna o valor passado por parâmetro\n",
        "alunos.pop('Susan', 'Se imprimir isto, a chave foi removida')\n",
        "alunos"
      ],
      "execution_count": null,
      "outputs": []
    },
    {
      "cell_type": "code",
      "metadata": {
        "id": "Avj9gJcs9D6P"
      },
      "source": [
        "# Método clear: Apaga o conteúdo do dicionário como um todo\n",
        "alunos.clear()\n",
        "alunos"
      ],
      "execution_count": null,
      "outputs": []
    },
    {
      "cell_type": "markdown",
      "metadata": {
        "id": "Rua1trK8A0ux"
      },
      "source": [
        "##**Estruturas Condicionais**\n"
      ]
    },
    {
      "cell_type": "code",
      "metadata": {
        "id": "VZuwAqngA3px"
      },
      "source": [
        "# Retorno booleano\n",
        "print(7 > 3)\n",
        "print(9 <= 4)"
      ],
      "execution_count": null,
      "outputs": []
    },
    {
      "cell_type": "code",
      "metadata": {
        "id": "bVHSLHVSA-h-"
      },
      "source": [
        "# Se a instrução for verdadeira, executa as instruções seguintes (cuidado com a identação)\n",
        "if 20 > 5:\n",
        "    print('A condição é verdadeira')"
      ],
      "execution_count": null,
      "outputs": []
    },
    {
      "cell_type": "markdown",
      "metadata": {
        "id": "m-tluI_iBsHY"
      },
      "source": [
        "##**Instrução ELSE**"
      ]
    },
    {
      "cell_type": "markdown",
      "metadata": {
        "id": "1hCR4ieWAsdO"
      },
      "source": [
        "A instrução \"else\" (que significa senão) é executada se a instrução \"if\" for falsa, caso ela exista."
      ]
    },
    {
      "cell_type": "code",
      "metadata": {
        "id": "jzuv-ejWBueh"
      },
      "source": [
        "if 4 > 5:\n",
        "    print('A condição é verdadeira')\n",
        "else:\n",
        "    print('A condição é falsa')"
      ],
      "execution_count": null,
      "outputs": []
    },
    {
      "cell_type": "markdown",
      "metadata": {
        "id": "M3IQNGOXAxbG"
      },
      "source": [
        "## **Operadores lógicos \"or\" e \"and\"**"
      ]
    },
    {
      "cell_type": "markdown",
      "metadata": {
        "id": "rakvu_7FA5MJ"
      },
      "source": [
        "Quando usamos o operador \"or\" basta uma das condições ser verdadeira para toda a condição ser verdadeira. Quando usamos o operador \"and\" todas as condições devem ser verdadeiras."
      ]
    },
    {
      "cell_type": "code",
      "metadata": {
        "id": "0i8_JXmOEmj-"
      },
      "source": [
        "x = -7\n",
        "\n",
        "if x >= 0 or x <= 10:\n",
        "    print('Uma ou ambas as condições são verdadeiras')\n",
        "else:\n",
        "    print('As duas condições são falsas')\n",
        "\n",
        "if x >= 0 and x <= 10:\n",
        "    print('As duas condições são verdadeiras')\n",
        "else:\n",
        "    print('Uma ou ambas as condições são falsas')"
      ],
      "execution_count": null,
      "outputs": []
    },
    {
      "cell_type": "markdown",
      "metadata": {
        "id": "Nt4u9i0rbe3r"
      },
      "source": [
        "##**Instrução ELIF**"
      ]
    },
    {
      "cell_type": "markdown",
      "metadata": {
        "id": "WRKYFJ7-AHWj"
      },
      "source": [
        "A instrução \"elif\" é acionada caso a instrucao \"if\" for falsa. É uma instrução do tipo: \"senão se\"."
      ]
    },
    {
      "cell_type": "code",
      "metadata": {
        "id": "h1XLNVESblgb",
        "outputId": "c46c09ac-08a5-42ae-f889-a2cad4daa496",
        "colab": {
          "base_uri": "https://localhost:8080/",
          "height": 34
        }
      },
      "source": [
        "valor = 15\n",
        "\n",
        "if valor <= 0:\n",
        "    print('O número é negativo ou zero')\n",
        "elif valor % 2 == 0:\n",
        "    print('O número é positivo e par')\n",
        "else:\n",
        "    print('O número é positivo e impar')"
      ],
      "execution_count": 97,
      "outputs": [
        {
          "output_type": "stream",
          "text": [
            "O número é positivo e impar\n"
          ],
          "name": "stdout"
        }
      ]
    },
    {
      "cell_type": "code",
      "metadata": {
        "id": "fJv9g21ZAPsK",
        "outputId": "9c0f50df-4029-4183-8489-298a077b5793",
        "colab": {
          "base_uri": "https://localhost:8080/",
          "height": 34
        }
      },
      "source": [
        "# Outro exemplo\n",
        "usuario = \"Paquito\"\n",
        "senha = \"wakanda_forever\"\n",
        "\n",
        "if usuario == \"Paquito\" and senha == \"wakanda_forever\":\n",
        "    print(\"Usuário e senha válidas\")\n",
        "elif usuario == \"Paquito\":\n",
        "    print(\"Usuário correto, senha inválida\")\n",
        "elif senha == \"wakanda_forever\":\n",
        "  print(\"Usuário incorreto, senha válida\")\n",
        "else:\n",
        "    print(\"Usuário e senha inválidas\")"
      ],
      "execution_count": 98,
      "outputs": [
        {
          "output_type": "stream",
          "text": [
            "Usuário e senha válidas\n"
          ],
          "name": "stdout"
        }
      ]
    },
    {
      "cell_type": "markdown",
      "metadata": {
        "id": "uQOwwkNEdThD"
      },
      "source": [
        "##**Instruções IF aninhadas**"
      ]
    },
    {
      "cell_type": "code",
      "metadata": {
        "id": "1l5LFJb1dZuV"
      },
      "source": [
        "x = [7, 1, 4, 3]\n",
        "\n",
        "if len(x) > 0:\n",
        "    x.sort()\n",
        "    if x[len(x) - 1] > 10:\n",
        "        print(\"O maior número da lista é maior que 10\")\n",
        "    else:\n",
        "        print(\"O maior número da lista é menor ou igual que 10\")\n",
        "else:\n",
        "    print(\"Lista vazia\")"
      ],
      "execution_count": null,
      "outputs": []
    },
    {
      "cell_type": "markdown",
      "metadata": {
        "id": "tdjofy47jYy_"
      },
      "source": [
        "##**Loops \"for\"**"
      ]
    },
    {
      "cell_type": "markdown",
      "metadata": {
        "id": "Vvth-8XO9F5u"
      },
      "source": [
        "Os loops \"for\" são usados para executar uma instrução ou conjunto de instruções numa coleção. Uma coleção é qualquer objeto que armazena uma sequência de elementos, como: uma lista de números, uma string, uma lista de strings, uma tupla, um dicionário ou um arquivo. Sintaxe:\n",
        "\n",
        "```\n",
        "for i in coleção:\n",
        "  <executa uma ou mais ações>\n",
        "```\n",
        "\n",
        "A variável 'i' poderia ser qualquer palavra.\n"
      ]
    },
    {
      "cell_type": "code",
      "metadata": {
        "id": "V5kiFbSxjsRR"
      },
      "source": [
        "# Loop com lista de números:\n",
        "for i in [1, 2, 3]:\n",
        "    print('Elementos: %s' %i)\n",
        "    print(i + 3)"
      ],
      "execution_count": null,
      "outputs": []
    },
    {
      "cell_type": "code",
      "metadata": {
        "id": "Cj1-bbwsj2wQ"
      },
      "source": [
        "# Loop com string\n",
        "for elemento in 'A Matemática é o alfabeto com o qual Deus escreveu o Universo':\n",
        "    print(elemento, end = \"\")"
      ],
      "execution_count": null,
      "outputs": []
    },
    {
      "cell_type": "code",
      "metadata": {
        "id": "2mEWNWvekaJZ"
      },
      "source": [
        "# Loop com lista de strings\n",
        "planetas = ['Mercurio', 'Venus', 'Terra', 'Marte']\n",
        "for planeta in planetas:\n",
        "    print(planeta)"
      ],
      "execution_count": null,
      "outputs": []
    },
    {
      "cell_type": "code",
      "metadata": {
        "id": "eY3qORKBkrUa"
      },
      "source": [
        "# Loop com dicionário, percorre as chaves do mesmo\n",
        "pessoas = {'Manuel':23, 'Rosa':34, 'Felipe':30}\n",
        "for p in pessoas:\n",
        "    print(p)"
      ],
      "execution_count": null,
      "outputs": []
    },
    {
      "cell_type": "code",
      "metadata": {
        "id": "e_iHvaPsrPkq"
      },
      "source": [
        "# Loops com estruturas condicionais\n",
        "# Imprimindo apenas números impares, o operador \"%\" dá o resto\n",
        "for i in [1, 4, 5, 7, 8]:\n",
        "    if i % 2 > 0:\n",
        "        print(i)        "
      ],
      "execution_count": null,
      "outputs": []
    },
    {
      "cell_type": "code",
      "metadata": {
        "id": "ZZdqowNdrljC"
      },
      "source": [
        "# Loop usando a função zip\n",
        "# Essa função permite percorrer várias listas de forma sequêncial\n",
        "idades = [10, 15, 20]\n",
        "nomes = ['Evaluna', 'Sofia', 'Mia']\n",
        "\n",
        "for i,j in zip(idades, nomes):\n",
        "    print(i, j)"
      ],
      "execution_count": null,
      "outputs": []
    },
    {
      "cell_type": "code",
      "metadata": {
        "id": "lOxnaEEB1BSI"
      },
      "source": [
        "# Loop aninhado. A cada execuçã do primeiro loop, todo o segundo loop será executado\n",
        "for i in ['azul', 'vermelho', 'amarelo']:\n",
        "    print(i)\n",
        "    for j in ['O', 'B', 'A']:\n",
        "        print(j)"
      ],
      "execution_count": null,
      "outputs": []
    },
    {
      "cell_type": "markdown",
      "metadata": {
        "id": "1EWW35c91Xdi"
      },
      "source": [
        "##**Instrução \"break\"**"
      ]
    },
    {
      "cell_type": "markdown",
      "metadata": {
        "id": "j3kKp20W84SB"
      },
      "source": [
        "A instrução break é usada para encerrar um loop. Permite testar, dentro de um loop, se existe uma determinada condição e encerrar o processo caso ela existir."
      ]
    },
    {
      "cell_type": "code",
      "metadata": {
        "id": "VMN9YW1e1Z3j"
      },
      "source": [
        "for elemento in 'Python':\n",
        "    if elemento == 'o':\n",
        "        break\n",
        "    print('elemento:', elemento)  \n",
        "\n",
        "print(\"\\nContinuando com o programa...\")"
      ],
      "execution_count": null,
      "outputs": []
    },
    {
      "cell_type": "markdown",
      "metadata": {
        "id": "0DltYrZI13NI"
      },
      "source": [
        "##**Instrução \"continue\"**"
      ]
    },
    {
      "cell_type": "markdown",
      "metadata": {
        "id": "hUA_t88d80fz"
      },
      "source": [
        "A instrução continue encerra a iteração atual e continua com a próxima iteração do loop"
      ]
    },
    {
      "cell_type": "code",
      "metadata": {
        "id": "SO5NMlQx14vH"
      },
      "source": [
        "for elemento in 'python':\n",
        "    if elemento == 'o':\n",
        "        continue\n",
        "    print('Elemento:', elemento)      "
      ],
      "execution_count": null,
      "outputs": []
    },
    {
      "cell_type": "markdown",
      "metadata": {
        "id": "8fJs-K78Bgrb"
      },
      "source": [
        "##**Loops \"while\"**"
      ]
    },
    {
      "cell_type": "markdown",
      "metadata": {
        "id": "PgvJSAcP88EE"
      },
      "source": [
        "A instrução \"while\" é usada para realizar loops. Permite executar uma instrução ou conjunto de instruções até que uma condição seja satisfeita. Sintaxe:\n",
        "\n",
        "```\n",
        "while condição:\n",
        "  <executa uma ou mais ações>\n",
        "```\n",
        "\n",
        "Note que a condição é o primeiro passo a ser executado, se for verdadeira executa o loop até esta ser falsa.\n"
      ]
    },
    {
      "cell_type": "code",
      "metadata": {
        "id": "LYQZ-75EBzrV"
      },
      "source": [
        "i = 0\n",
        "\n",
        "while i < 10:\n",
        "    print(i, end = \" \")\n",
        "    i = i + 1\n",
        "\n",
        "print('\\n\\nContinuando com o programa...')"
      ],
      "execution_count": null,
      "outputs": []
    },
    {
      "cell_type": "code",
      "metadata": {
        "id": "ev8QAgQUB_Ia"
      },
      "source": [
        "# Exemplo com condição falsa. A bloco de códigos do while será ignorado,\n",
        "# pelo que o programa pula para a instrução após o loop\n",
        "\n",
        "i = 11\n",
        "\n",
        "while i < 10:\n",
        "    print(i)\n",
        "    i = i + 1\n",
        "print('\\n\\n Continuando o programa...')"
      ],
      "execution_count": null,
      "outputs": []
    },
    {
      "cell_type": "markdown",
      "metadata": {
        "id": "-pS-cZsOCJmu"
      },
      "source": [
        "##**\"while\" com a instrução \"else\"**"
      ]
    },
    {
      "cell_type": "markdown",
      "metadata": {
        "id": "tUsrHaHmXncw"
      },
      "source": [
        "Neste caso, a instrução \"else\" é executada quando a condição do \"while\" é falsa, ao invés de pular para o último comando"
      ]
    },
    {
      "cell_type": "code",
      "metadata": {
        "id": "JIdl9kAWJTAF"
      },
      "source": [
        "i = 0\n",
        "\n",
        "while i < 7:\n",
        "    print(i)\n",
        "    i = i + 1\n",
        "else:\n",
        "    print('Número é maior ou igual a 7')\n",
        "\n",
        "print('\\nContinuando o programa...')"
      ],
      "execution_count": null,
      "outputs": []
    },
    {
      "cell_type": "markdown",
      "metadata": {
        "id": "Mp3ECtVJJust"
      },
      "source": [
        "##**\"while\", \"break\" e \"continue\"**"
      ]
    },
    {
      "cell_type": "code",
      "metadata": {
        "id": "13XgVxg9JyKf"
      },
      "source": [
        "# \"while\" com a instrução \"break\"\n",
        "i = 10\n",
        "\n",
        "while i > 0:\n",
        "    if i == 5:\n",
        "        break\n",
        "    print(i)\n",
        "    i = i - 1\n",
        "\n",
        "print('\\nContinuando com o programa...')"
      ],
      "execution_count": null,
      "outputs": []
    },
    {
      "cell_type": "code",
      "metadata": {
        "id": "T4SQDICKgCCU"
      },
      "source": [
        "# \"while\" com a instrução \"continue\"\n",
        "i = 0\n",
        "\n",
        "while i < 10:\n",
        "    i = i + 1\n",
        "    if i - 1 == 5:\n",
        "        continue\n",
        "    print(i - 1)\n",
        "\n",
        "print('\\nContinuando com o programa...')"
      ],
      "execution_count": null,
      "outputs": []
    },
    {
      "cell_type": "markdown",
      "metadata": {
        "id": "eMTWG4d2KHg6"
      },
      "source": [
        "##**Loops Infinitos**"
      ]
    },
    {
      "cell_type": "markdown",
      "metadata": {
        "id": "Q5q63EXz-XZo"
      },
      "source": [
        "Cuidado! Os loops infinitos acontecem caso a condição do \"while\" é sempre verdadeira.\n",
        "\n"
      ]
    },
    {
      "cell_type": "code",
      "metadata": {
        "id": "tJJoGi70KKXP"
      },
      "source": [
        "# O seguinte código imprime um valor infinitamente porque a condição nunca será \n",
        "# falsa, até que a execução do programa seja matado\n",
        "\n",
        "#i = 0\n",
        "\n",
        "#while i < 10:\n",
        "#    print(i) "
      ],
      "execution_count": null,
      "outputs": []
    },
    {
      "cell_type": "markdown",
      "metadata": {
        "id": "iRenFCAzQR-8"
      },
      "source": [
        "## **Funções**"
      ]
    },
    {
      "cell_type": "code",
      "metadata": {
        "id": "qHBBFxXVbj94"
      },
      "source": [
        "# Função que não recebe parâmetro\n",
        "def medidas():\n",
        "  return 77, 1.83\n",
        "\n",
        "peso, altura = medidas()\n",
        "\n",
        "print(peso, altura)"
      ],
      "execution_count": null,
      "outputs": []
    },
    {
      "cell_type": "code",
      "metadata": {
        "id": "jPfaDZlMxajP"
      },
      "source": [
        "# Função com parâmetros obrigatórios\n",
        "def pagamento_semanal(valor_por_hora, num_horas):\n",
        "  return valor_por_hora * num_horas\n",
        "\n",
        "print(pagamento_semanal(100, 36))"
      ],
      "execution_count": null,
      "outputs": []
    },
    {
      "cell_type": "code",
      "metadata": {
        "id": "KJc4ZvxsxfqX"
      },
      "source": [
        "# Funções com parâmetros opcionais e obrigatórios. Um parâmetro opcional é \n",
        "# aquele a que está atribuido um valor padrão, se a função for chamada sem \n",
        "# passar um valor para o parâmetro opcional o sistema vai considerar o valor \n",
        "# padrão. Pode ter cero ou mais parâmetros obrigatórios e depois vários \n",
        "# parâmetros opcionais, a regra é que os parâmetros opcionais tem que ficar no\n",
        "# fim da lista\n",
        "\n",
        "def pagamento_semanal(valor_por_hora, num_horas = 40):\n",
        "  conta = valor_por_hora * num_horas\n",
        "  return conta\n",
        "\n",
        "print(pagamento_semanal(200))\n",
        "print(pagamento_semanal(200, 36))\n",
        "\n",
        "def calcula1(x, y = 10, z = 20):\n",
        "  return x + y * z\n",
        "\n",
        "print(calcula1(7, 2))\n",
        "print(calcula1(7, z = 1))\n",
        "\n",
        "def calcula2(y = 2, z = 3):\n",
        "  print (y, z)\n",
        "  return y ** z\n",
        "\n",
        "print(calcula2())"
      ],
      "execution_count": null,
      "outputs": []
    },
    {
      "cell_type": "markdown",
      "metadata": {
        "id": "-EqoRLwXS9Zj"
      },
      "source": [
        "## **Asserção de Invariantes**"
      ]
    },
    {
      "cell_type": "markdown",
      "metadata": {
        "id": "A-Qogb0fTs5o"
      },
      "source": [
        "O assertion é colocado no código para garantir que determinados valores façam sentido e assim o programa esteja num estado consistente"
      ]
    },
    {
      "cell_type": "code",
      "metadata": {
        "id": "M4_II477TMak"
      },
      "source": [
        "def pagamento_semanal(valor_por_hora, num_horas = 40):\n",
        "  # Expressão que queremos verificar\n",
        "  # Não faz sentido que o pagamento semanal seja negativo\n",
        "  assert valor_por_hora >= 0 and num_horas > 0\n",
        "  return valor_por_hora * num_horas\n",
        "\n",
        "print(pagamento_semanal(100, 20))\n",
        "\n",
        "print(pagamento_semanal(100, -20))\n",
        "# AssertionError, a expressão booleana de num_horas retornou falso"
      ],
      "execution_count": null,
      "outputs": []
    },
    {
      "cell_type": "markdown",
      "metadata": {
        "id": "bj1kqOIPYGSX"
      },
      "source": [
        "## **Módulos**"
      ]
    },
    {
      "cell_type": "markdown",
      "metadata": {
        "id": "oLH8SA8gYLVl"
      },
      "source": [
        "Os módulos servem para organizar melhor nosso código. São arquivos com extensão .py, compostos por funções (definições) e podem ter outros comandos(statements). Para usar as funções que estão dentro de um módulo num outro módulo ou programa, usamos o comando `import` seguido do nome sem a extensão .py (1). Os módulos podem se tornar uma entrada para o interpretador Python e assim ele é chamado de script (2). Veja os arquivos fibonacci.py e script.py no github.\n",
        "\n",
        "Toda vez que você está executando determinado código, o nome do módulo que você está executando fica disponível numa variável `__name__`. Como exemplo, consideremos o arquivo fibonacci.py, que contém o comando `print(__name__)`:\n",
        "\n",
        "1.   Quando é importado dentro de um outro código ele tem o nome fibonacci, que é o nome do módulo (tem que estar no mesmo diretório para enxergar o arquivo)\n",
        "\n",
        "`>>> import fibonacci`\n",
        "\n",
        "`fibonacci`\n",
        "\n",
        "2.   No interpretador, quando chama ele como script, o nome do módulo passa a ser `__name__`\n",
        "\n",
        "`$ python fibonacci.py 5`\n",
        "\n",
        "`__name__`"
      ]
    },
    {
      "cell_type": "markdown",
      "metadata": {
        "id": "aPFerbLYi5S1"
      },
      "source": [
        "##**Manipulando Arquivos**"
      ]
    },
    {
      "cell_type": "markdown",
      "metadata": {
        "id": "-CH-J1xeP59r"
      },
      "source": [
        "A função nativa open() abre um arquivo e o retorna como um objeto do tipo arquivo. O conteúdo deste pode ser colocado dentro de uma variável. O primeiro parâmetro que a função recebe é a rota ao arquivo, e o segundo é o modo de abertura do arquivo, os principais são:\n",
        "\n",
        "*   \"r\" (read, modo padrão): Abre um arquivo para leitura, dá erro se o arquivo não existe\n",
        "*   \"w\" (write): Abre um arquivo para escrita, cria o arquivo se ele não existir\n",
        "*   \"a\" (append): Abre um arquivo para anexar, cria o arquivo se ele não existir \n",
        "\n",
        "Sempre deve-se fechar os arquivos; em alguns casos, devido ao buffer, as alterações feitas em um arquivo podem não aparecer até que você feche o arquivo. O método close() fecha um arquivo aberto."
      ]
    },
    {
      "cell_type": "code",
      "metadata": {
        "id": "kizICu7ai7bU"
      },
      "source": [
        "# Iremos usar o arquivo \"automobile.csv\", da base de dados gratuita: \n",
        "# https://www.kaggle.com/toramky/automobile-dataset\n",
        "\n",
        "# No caso de seu arquivo \"automobile.csv\" for colocado no Google Drive, é \n",
        "# preciso usar a seguinte livraria para usá-lo no Google Colab\n",
        "\n",
        "from google.colab import drive\n",
        "drive.mount('/content/drive')"
      ],
      "execution_count": null,
      "outputs": []
    },
    {
      "cell_type": "code",
      "metadata": {
        "id": "d5hcH6gEZCS1"
      },
      "source": [
        "file = open('drive/My Drive/automobile.csv', 'r')\n",
        "type(file)\n",
        "\n",
        "# A variável \"file\" é um objeto do tipo arquivo, e como objeto existem métodos \n",
        "# disponíveis para trabalhar com este, os quais são mostrados digitando:\n",
        "# \"file. + tecla tab\" "
      ],
      "execution_count": null,
      "outputs": []
    },
    {
      "cell_type": "code",
      "metadata": {
        "id": "36DvruhvkU91"
      },
      "source": [
        "# Método readlines: Lê todas as linhas do arquivo e retorna uma lista, que pode\n",
        "# ser armazenada em uma variável\n",
        "\n",
        "lista = file.readlines()\n",
        "print(lista)\n",
        "print(type(lista))"
      ],
      "execution_count": null,
      "outputs": []
    },
    {
      "cell_type": "code",
      "metadata": {
        "id": "e-Odf3nhkcCQ"
      },
      "source": [
        "# Iteração no arquivo, lendo cada linha através de um loop\n",
        "\n",
        "for i in lista:\n",
        "    print(i)"
      ],
      "execution_count": null,
      "outputs": []
    },
    {
      "cell_type": "code",
      "metadata": {
        "id": "pSbY0cJikeBV"
      },
      "source": [
        "# Método tell: Retorna a quantidade de caracteres que contém o arquivo\n",
        "\n",
        "print(file.tell())"
      ],
      "execution_count": null,
      "outputs": []
    },
    {
      "cell_type": "code",
      "metadata": {
        "id": "k_6PrisGGMW-"
      },
      "source": [
        "# Método read: Lê o conteúdo do arquivo inteiro e o imprime na tela\n",
        "\n",
        "file = open('drive/My Drive/automobile.csv')\n",
        "print(file.read())"
      ],
      "execution_count": null,
      "outputs": []
    },
    {
      "cell_type": "markdown",
      "metadata": {
        "id": "yFZ4xeOOGyLM"
      },
      "source": [
        "##**Iterando sobre um arquivo**"
      ]
    },
    {
      "cell_type": "markdown",
      "metadata": {
        "id": "oxqDAzByPz2c"
      },
      "source": [
        "Não necessariamente temos que usar o método readlines para ler linha a linha um arquivo. O objeto do tipo arquivo é um objeto do tipo iterator (sequêncial), ou seja, podemos ler linha a linha esse arquivo usando um loop. Isto ajuda no uso de memória em arquivos grandes. \n",
        "\n",
        "No método readlines, todo o conteúdo do arquivo é colocado dentro de uma lista e assim todo o conteúdo do objeto é colocado em memória. Desta outra maneira usamos menos memória, conseguimos ler linha a linha de forma incremental, enchendo a memória conforme se percorre as linhas."
      ]
    },
    {
      "cell_type": "code",
      "metadata": {
        "id": "r-37qtfaG3IC"
      },
      "source": [
        "file = open('drive/My Drive/automobile.csv', 'r')\n",
        "for linha in file:\n",
        "    print(linha)"
      ],
      "execution_count": null,
      "outputs": []
    },
    {
      "cell_type": "markdown",
      "metadata": {
        "id": "CJQMjTK5Mt2n"
      },
      "source": [
        "##**Escrevendo em Arquivos**"
      ]
    },
    {
      "cell_type": "code",
      "metadata": {
        "id": "g6Fa965KMwWt"
      },
      "source": [
        "# Abrimos o arquivo em modo de escrita e informamos o nome do arquivo que iremos\n",
        "# gerar\n",
        "\n",
        "file2 = open('frases.txt', 'w')"
      ],
      "execution_count": null,
      "outputs": []
    },
    {
      "cell_type": "code",
      "metadata": {
        "id": "IhLxy2doNC0N"
      },
      "source": [
        "# Método write: Escreve um string ao arquivo\n",
        "\n",
        "file2.write('Se nao existe vida fora da Terra, entao o universo é um grande desperdício de espaço')\n",
        "file2.write('Nós somos feitos do pó das estrelas')\n",
        "\n",
        "# Ele mostra um código de saída após executar"
      ],
      "execution_count": null,
      "outputs": []
    },
    {
      "cell_type": "code",
      "metadata": {
        "id": "tHP2Fu8xlal4"
      },
      "source": [
        "# Fechamos o arquivo para que as alterações persistam no disco\n",
        "\n",
        "file2.close()"
      ],
      "execution_count": null,
      "outputs": []
    },
    {
      "cell_type": "code",
      "metadata": {
        "id": "zxKi95IrlfOU"
      },
      "source": [
        "# Tentar ler o arquivo agora daria um erro já que não é permitido a operação de\n",
        "# leitura em um arquivo fechado. Mesmo sem fechar, não é permitido ler um \n",
        "# arquivo aberto em modo escrita\n",
        "\n",
        "#file2.read()"
      ],
      "execution_count": null,
      "outputs": []
    },
    {
      "cell_type": "code",
      "metadata": {
        "id": "FccfdUjCroMD"
      },
      "source": [
        "# Abrimos o arquivo criado em modo de leitura para ver como ficou o conteúdo\n",
        "\n",
        "file2 = open('frases.txt','r')"
      ],
      "execution_count": null,
      "outputs": []
    },
    {
      "cell_type": "code",
      "metadata": {
        "id": "TaV9NHAQmfyg"
      },
      "source": [
        "# Usamos o método readlines() para ler linha a linha o arquivo\n",
        "\n",
        "file2.readlines()\n",
        "\n",
        "# Por padrão, os strings passados como parâmetro no método write() são \n",
        "# concatenados"
      ],
      "execution_count": null,
      "outputs": []
    },
    {
      "cell_type": "markdown",
      "metadata": {
        "id": "SkW-6BVpRJZ-"
      },
      "source": [
        "##**Acrescentando Arquivos**"
      ]
    },
    {
      "cell_type": "code",
      "metadata": {
        "id": "QQMxlLBrmoa7"
      },
      "source": [
        "# O modo de abertura do tipo acrescentar permite adicionar linhas no final de um\n",
        "# arquivo\n",
        "\n",
        "file2 = open('frases.txt', 'a')\n",
        "file2.write('Última linha do arquivo')\n",
        "file2.close()\n",
        "\n",
        "file2 = open('frases.txt','r')\n",
        "file2.readlines()"
      ],
      "execution_count": null,
      "outputs": []
    },
    {
      "cell_type": "code",
      "metadata": {
        "id": "0x_wpkC5wiZI"
      },
      "source": [
        "# Se abrir o arquivo de novo em modo escrita o conteúdo será sobreescrito"
      ],
      "execution_count": null,
      "outputs": []
    },
    {
      "cell_type": "markdown",
      "metadata": {
        "id": "1sagBMnV3YAw"
      },
      "source": [
        "##**Método writelines**"
      ]
    },
    {
      "cell_type": "code",
      "metadata": {
        "id": "qg2y5myW3cUJ"
      },
      "source": [
        "# Método writelines: Escreve uma sequência de strings no arquivo\n",
        "\n",
        "lista = ['Primeira linha', 'Segunda linha', 'Terceira linha']\n",
        "\n",
        "file = open('frases.txt', 'w')\n",
        "file.writelines(lista)\n",
        "file.close()\n",
        "\n",
        "file = open('resultados.txt', 'r')\n",
        "file.readlines()"
      ],
      "execution_count": null,
      "outputs": []
    },
    {
      "cell_type": "code",
      "metadata": {
        "id": "ULgxVEnF7Fy2"
      },
      "source": [
        "# O método writelines permite escrever em um arquivo de forma mais \n",
        "# performática, sem ter que percorrer uma lista, por exemplo:\n",
        "\n",
        "#for i in lista:\n",
        "#    file.write(i)"
      ],
      "execution_count": null,
      "outputs": []
    },
    {
      "cell_type": "markdown",
      "metadata": {
        "id": "C7UxkGL74WlP"
      },
      "source": [
        "##**Instrução \"with\"**"
      ]
    },
    {
      "cell_type": "markdown",
      "metadata": {
        "id": "93m9Y8LrPtvI"
      },
      "source": [
        "A instrução \"with\" permite abrir um arquivo (como leitura, escrita, etc.), colocar o conteúdo dentro de uma viariável e executar alguma operação. Após isso o arquivo é fechado automaticamante (não precisa mais usar a intrução close)."
      ]
    },
    {
      "cell_type": "code",
      "metadata": {
        "id": "3ZUvDaN94abW"
      },
      "source": [
        "with open('resultados.txt') as file:\n",
        "    print(file.read())\n",
        "\n",
        "# Abrimos o arquivo, colocamos na variável file2 e fizemos a operação de leitura\n",
        "# do conteúdo do arquivo como um todo"
      ],
      "execution_count": null,
      "outputs": []
    },
    {
      "cell_type": "code",
      "metadata": {
        "id": "-NnzxRIy4yE9"
      },
      "source": [
        "# Verificando que o arquivo foi fechado. Python daria a mensagem de que o \n",
        "# arquivo está fechado\n",
        "\n",
        "#file.read()"
      ],
      "execution_count": null,
      "outputs": []
    },
    {
      "cell_type": "code",
      "metadata": {
        "id": "HJZJxEIi44FZ"
      },
      "source": [
        "# Outro exemplo:\n",
        "\n",
        "with open('drive/My Drive/automobile.csv') as file2:\n",
        "    linhas = file2.readlines()\n",
        "\n",
        "# Abrimos o arquivo \"automobile.csv\", colocamos o conteúdo dentro de \"file2\" \n",
        "# (objeto do tipo arquivo), fizemos com que a variável \"data\" (objeto do tipo \n",
        "# lista) receba as linhas do arquivo e fechamos o mesmo implicitamente"
      ],
      "execution_count": null,
      "outputs": []
    },
    {
      "cell_type": "code",
      "metadata": {
        "id": "0CjwIevYNBqx"
      },
      "source": [
        "# Imprimimos a lista de conteúdo das linhas do arquivo\n",
        "\n",
        "print(linhas)"
      ],
      "execution_count": null,
      "outputs": []
    },
    {
      "cell_type": "markdown",
      "metadata": {
        "id": "JLHrnWAkOMjJ"
      },
      "source": [
        "##**Separando Palavras por Linhas**"
      ]
    },
    {
      "cell_type": "code",
      "metadata": {
        "id": "hMYoiII-OOqy"
      },
      "source": [
        "# Método split: Retorna uma lista de strings depois de quebrar a string \n",
        "# fornecida pelo separador especificado\n",
        "\n",
        "# Separamos os elementos de cada linha\n",
        "\n",
        "for linha in linhas:\n",
        "  print(linha.split())"
      ],
      "execution_count": null,
      "outputs": []
    }
  ]
}