{
 "cells": [
  {
   "cell_type": "markdown",
   "metadata": {},
   "source": [
    "# **Biblioteca NumPy**"
   ]
  },
  {
   "cell_type": "markdown",
   "metadata": {},
   "source": [
    "A biblioteca NumPy (acrônimo para Numeric Python) é usada principalmente para realizar cálculos númericos em Arrays Multidimensionais. Esses tipos de cálculos numéricos são amplamente utilizados em: Modelos de Machine Learning, Processamento de Imagem e Computação Gráfica, e Tarefas Matemáticas."
   ]
  },
  {
   "cell_type": "markdown",
   "metadata": {},
   "source": [
    "## **Trabalhando com Arrays**"
   ]
  },
  {
   "cell_type": "code",
   "execution_count": 1,
   "metadata": {},
   "outputs": [],
   "source": [
    "# Importando a biblioteca NumPy e colocando o apelido 'np'\n",
    "import numpy as np"
   ]
  },
  {
   "cell_type": "markdown",
   "metadata": {},
   "source": [
    "Em arrays NumPy, a dimensionalidade se refere ao número de eixos necessários para indexá-lo, não a dimensionalidade de algum espaço geométrico. Por exemplo:\n",
    "\n",
    "```[1, 2, 3]``` \n",
    "\n",
    "O array de acima tem um eixo (uma linha) e 3 elementos (ou um comprimiento de 3).\n",
    "\n",
    "\n",
    "```[[1, 2, 3]\n",
    "   [4, 5, 6]]``` \n",
    "   \n",
    "O array anterior tem 2 eixos , o primeiro eixo tem um comprimento de 2, sendo essas as linhas, e o segundo eixo tem um comprimento de 3, sendo essas as colunas."
   ]
  },
  {
   "cell_type": "code",
   "execution_count": 2,
   "metadata": {},
   "outputs": [
    {
     "data": {
      "text/plain": [
       "array([1, 2, 3, 4])"
      ]
     },
     "execution_count": 2,
     "metadata": {},
     "output_type": "execute_result"
    }
   ],
   "source": [
    "# Criando um array de 1 dimensão\n",
    "array_1d = np.array([1, 2, 3, 4])\n",
    "array_1d"
   ]
  },
  {
   "cell_type": "code",
   "execution_count": 3,
   "metadata": {},
   "outputs": [
    {
     "data": {
      "text/plain": [
       "numpy.ndarray"
      ]
     },
     "execution_count": 3,
     "metadata": {},
     "output_type": "execute_result"
    }
   ],
   "source": [
    "# Objeto do tipo array do NumPy\n",
    "type(array_1d)"
   ]
  },
  {
   "cell_type": "code",
   "execution_count": 4,
   "metadata": {},
   "outputs": [
    {
     "data": {
      "text/plain": [
       "1"
      ]
     },
     "execution_count": 4,
     "metadata": {},
     "output_type": "execute_result"
    }
   ],
   "source": [
    "# Atributo ndim: Retorna o número de dimensões do array \n",
    "array_1d.ndim"
   ]
  },
  {
   "cell_type": "code",
   "execution_count": 5,
   "metadata": {},
   "outputs": [
    {
     "data": {
      "text/plain": [
       "array([[1, 2, 3],\n",
       "       [4, 5, 6]])"
      ]
     },
     "execution_count": 5,
     "metadata": {},
     "output_type": "execute_result"
    }
   ],
   "source": [
    "# Criando um array de 2 dimensões\n",
    "array_2d = np.array([(1, 2, 3), (4, 5, 6)])\n",
    "array_2d"
   ]
  },
  {
   "cell_type": "code",
   "execution_count": 6,
   "metadata": {},
   "outputs": [
    {
     "data": {
      "text/plain": [
       "2"
      ]
     },
     "execution_count": 6,
     "metadata": {},
     "output_type": "execute_result"
    }
   ],
   "source": [
    "array_2d.ndim"
   ]
  },
  {
   "cell_type": "code",
   "execution_count": 7,
   "metadata": {},
   "outputs": [
    {
     "data": {
      "text/plain": [
       "array([[[ 1,  2,  3],\n",
       "        [ 4,  5,  6]],\n",
       "\n",
       "       [[ 7,  8,  9],\n",
       "        [10, 11, 12]]])"
      ]
     },
     "execution_count": 7,
     "metadata": {},
     "output_type": "execute_result"
    }
   ],
   "source": [
    "# Criando um array de 3 dimensões\n",
    "array_3d = np.array([((1, 2, 3), (4, 5, 6)), ((7, 8, 9), (10, 11, 12))])\n",
    "array_3d"
   ]
  },
  {
   "cell_type": "code",
   "execution_count": 8,
   "metadata": {},
   "outputs": [
    {
     "data": {
      "text/plain": [
       "3"
      ]
     },
     "execution_count": 8,
     "metadata": {},
     "output_type": "execute_result"
    }
   ],
   "source": [
    "array_3d.ndim"
   ]
  },
  {
   "cell_type": "code",
   "execution_count": 9,
   "metadata": {},
   "outputs": [
    {
     "name": "stdout",
     "output_type": "stream",
     "text": [
      "a = [0.71499243 0.05243191 0.55174232 0.34736423 0.57073462]\n",
      "b = [[0.46470649 0.99167933]\n",
      " [0.72484089 0.89329849]\n",
      " [0.05533188 0.84450566]\n",
      " [0.97397176 0.65445948]\n",
      " [0.83761538 0.5740652 ]]\n",
      "c = [[[0.09225516 0.12681228 0.24345852]\n",
      "  [0.13284366 0.74121714 0.01135935]\n",
      "  [0.90969356 0.82240265 0.01087346]\n",
      "  [0.36392422 0.08030747 0.39621901]\n",
      "  [0.37236075 0.46031784 0.14443988]]\n",
      "\n",
      " [[0.44375045 0.35891544 0.31852336]\n",
      "  [0.72304576 0.56764634 0.67774192]\n",
      "  [0.14742046 0.43457686 0.7197129 ]\n",
      "  [0.60764048 0.16736645 0.26227385]\n",
      "  [0.71654521 0.61578802 0.85683429]]]\n"
     ]
    }
   ],
   "source": [
    "# Método np.random.random: Retorna um array de floats aleatórios no intervalo semiaberto [0.0, 1.0).\n",
    "# Parâmetro size: Forma da saída.\n",
    "\n",
    "# Array de elementos aleatórios, de 1 dimensão, com 5 elementos\n",
    "a = np.random.random(5)\n",
    "print(\"a =\", a)\n",
    "\n",
    "# Array de elementos aleatórios, de 2 dimensões, com 5 linhas e 2 colunas\n",
    "b = np.random.random((5, 2))\n",
    "print(\"b =\", b)\n",
    "\n",
    "# Array de elementos aleatórios, de 3 dimensões\n",
    "c = np.random.random(size = (2, 5, 3))\n",
    "print(\"c =\", c)"
   ]
  },
  {
   "cell_type": "code",
   "execution_count": 10,
   "metadata": {},
   "outputs": [
    {
     "name": "stdout",
     "output_type": "stream",
     "text": [
      "a = [0. 1. 2. 3. 4. 5. 6.]\n",
      "b = [7 8]\n",
      "c = [0 2 4 6 8]\n"
     ]
    }
   ],
   "source": [
    "# Método np.arange: Cria um array de valores com espaçamento uniforme dentro do intervalo semiaberto [start, stop).\n",
    "# Parâmetro start (opcional): Início do intervalo. Por padrão é 0.\n",
    "# Parâmetro stop: Fim do intervalo. O array não considera esse último valor.\n",
    "# Parâmetro step (opcional): Espaçamento entre valores. Por padrão é 1.\n",
    "\n",
    "a = np.arange(7.0)\n",
    "print(\"a =\", a)\n",
    "\n",
    "b = np.arange(7, 9)\n",
    "print(\"b =\", b)\n",
    "\n",
    "c = np.arange(0, 10, 2)\n",
    "print(\"c =\", c)"
   ]
  },
  {
   "cell_type": "code",
   "execution_count": 11,
   "metadata": {},
   "outputs": [
    {
     "name": "stdout",
     "output_type": "stream",
     "text": [
      "a = [0.  0.5 1.  1.5 2. ]\n",
      "b = [0.  0.4 0.8 1.2 1.6]\n"
     ]
    }
   ],
   "source": [
    "# Método np.linspace: Cria um array com 'num' amostras uniformemente espaçadas, calculadas sobre o intervalo \n",
    "# [start, stop].\n",
    "# Parâmetro start: Valor inicial da sequência.\n",
    "# Parâmetro stop: Valor final da sequência.\n",
    "# Parâmetro num (Opcional): Número de amostras a serem geradas. Por padrão é 50.\n",
    "# Parâmetro endpoint (Opcional): Se True, 'stop' é a última amostra. Por padrão é True.\n",
    "\n",
    "a = np.linspace(0, 2, 5)\n",
    "print(\"a =\", a)\n",
    "\n",
    "b = np.linspace(0, 2, 5, endpoint = False)\n",
    "print(\"b =\", b)"
   ]
  },
  {
   "cell_type": "code",
   "execution_count": 12,
   "metadata": {},
   "outputs": [
    {
     "name": "stdout",
     "output_type": "stream",
     "text": [
      "a = [0 0 0]\n",
      "b = [[0. 0. 0. 0.]\n",
      " [0. 0. 0. 0.]\n",
      " [0. 0. 0. 0.]]\n",
      "c = [[[0. 0.]\n",
      "  [0. 0.]\n",
      "  [0. 0.]\n",
      "  [0. 0.]\n",
      "  [0. 0.]]\n",
      "\n",
      " [[0. 0.]\n",
      "  [0. 0.]\n",
      "  [0. 0.]\n",
      "  [0. 0.]\n",
      "  [0. 0.]]\n",
      "\n",
      " [[0. 0.]\n",
      "  [0. 0.]\n",
      "  [0. 0.]\n",
      "  [0. 0.]\n",
      "  [0. 0.]]]\n"
     ]
    }
   ],
   "source": [
    "# Método np.zeros: Cria um array de shape e type fornecidos, com valores de zero.\n",
    "# Parâmetro shape: Forma do array.\n",
    "# Parâmetro dtype (Opcional): Tipo de dados desejado para o array, por exemplo, np.int8. Por padrão é np.float64.\n",
    "\n",
    "# Array de zeros, de 1 linhas com 3 elementos\n",
    "a = np.zeros(3, dtype = int)\n",
    "print(\"a =\", a)\n",
    "\n",
    "# Array de zeros, de 3 linhas e 4 colunas\n",
    "b = np.zeros((3, 4))\n",
    "print(\"b =\", b)\n",
    "\n",
    "# Array de zeros, de 3 dimensões\n",
    "c = np.zeros((3, 5, 2))\n",
    "print(\"c =\", c)"
   ]
  },
  {
   "cell_type": "markdown",
   "metadata": {},
   "source": [
    "Isto é útil, por exemplo, em alguns algoritmos de Machine Learning que iniciam com pesos zerados."
   ]
  },
  {
   "cell_type": "markdown",
   "metadata": {},
   "source": [
    "## **Diferenças entre Arrays e Listas**"
   ]
  },
  {
   "cell_type": "markdown",
   "metadata": {},
   "source": [
    "1.   Arrays NumPy fornecem uma maior flexibilidade do que as listas em Python quando se trabalha com valores numéricos envolvendo cálculos. Nos arrays essas operações são realizadas de forma rápida em tanto que para realizar operações em todos os elementos de uma lista é preciso iterar sobre a mesma, o que não é performático."
   ]
  },
  {
   "cell_type": "code",
   "execution_count": 13,
   "metadata": {},
   "outputs": [
    {
     "name": "stdout",
     "output_type": "stream",
     "text": [
      "lista = [1, 2, 3]\n",
      "lista * 7 = [1, 2, 3, 1, 2, 3, 1, 2, 3, 1, 2, 3, 1, 2, 3, 1, 2, 3, 1, 2, 3]\n",
      "iterando = [7, 14, 21]\n"
     ]
    }
   ],
   "source": [
    "# Criando uma lista em Python\n",
    "lista = [1, 2, 3]\n",
    "print(\"lista =\", lista)\n",
    "\n",
    "# O símbolo da multiplicação concatena os elementos da lista\n",
    "print(\"lista * 7 =\", lista * 7)\n",
    "\n",
    "# Para multiplicar cada elemento por 7 é preciso criar um laço e multiplicar cada elemento\n",
    "iterando = [i * 7 for i in lista]\n",
    "print(\"iterando =\", iterando)"
   ]
  },
  {
   "cell_type": "code",
   "execution_count": 14,
   "metadata": {},
   "outputs": [
    {
     "name": "stdout",
     "output_type": "stream",
     "text": [
      "array = [1 2 3]\n",
      "array * 7 = [ 7 14 21]\n"
     ]
    }
   ],
   "source": [
    "# Transformando a lista em um array NumPy\n",
    "array = np.array(lista)\n",
    "print(\"array =\", array)\n",
    "\n",
    "# Multiplicando cada elemento por 7\n",
    "print(\"array * 7 =\", array * 7)"
   ]
  },
  {
   "cell_type": "markdown",
   "metadata": {},
   "source": [
    "O array NumPy identifica que tem valores inteiros e multiplica cada elemento por 7."
   ]
  },
  {
   "cell_type": "code",
   "execution_count": 15,
   "metadata": {},
   "outputs": [
    {
     "name": "stdout",
     "output_type": "stream",
     "text": [
      "area = [ 7.5  8.  24. ]\n"
     ]
    }
   ],
   "source": [
    "# Calculando áreas de triângulos\n",
    "\n",
    "# Listas de bases e alturas de triângulos\n",
    "base = [5, 8, 4]\n",
    "altura = [3, 2, 12]\n",
    "\n",
    "# Transformando a arrays\n",
    "base = np.array(base)\n",
    "altura = np.array(altura)\n",
    "area = base*altura/2\n",
    "\n",
    "print(\"area =\", area)"
   ]
  },
  {
   "cell_type": "markdown",
   "metadata": {},
   "source": [
    "2.   Listas em Python armazenam diferentes tipos de objetos. Em arrays NumPy pode-se armazenar diferentes tipos de valores, porém todos eles serão identificados como do tipo string. Essa é uma limitação dos arrays NumPy."
   ]
  },
  {
   "cell_type": "code",
   "execution_count": 16,
   "metadata": {},
   "outputs": [
    {
     "data": {
      "text/plain": [
       "array(['1', '2', 'Verde', 'True'], dtype='<U21')"
      ]
     },
     "execution_count": 16,
     "metadata": {},
     "output_type": "execute_result"
    }
   ],
   "source": [
    "# Array NumPy que armazena elementos como strings\n",
    "a = np.array([1, 2, 'Verde', True])\n",
    "a"
   ]
  },
  {
   "cell_type": "markdown",
   "metadata": {},
   "source": [
    "O NumPy criou um objeto do tipo array e colocou todos os elementos do array como do tipo string, porque identificou que tem um objeto que não é inteiro, float nem booleano."
   ]
  },
  {
   "cell_type": "code",
   "execution_count": 17,
   "metadata": {},
   "outputs": [],
   "source": [
    "# Portanto, o seguinte comando daria erro\n",
    "#a * 7"
   ]
  },
  {
   "cell_type": "markdown",
   "metadata": {},
   "source": [
    "## **Métodos e Atributos de Arrays**"
   ]
  },
  {
   "cell_type": "markdown",
   "metadata": {},
   "source": [
    "Para visualizar os atributos e métodos disponíveis do objeto digite o nome do objeto, \".\" e pressione tab:\n",
    "\n",
    "```array_2d.(tab)```"
   ]
  },
  {
   "cell_type": "code",
   "execution_count": 18,
   "metadata": {},
   "outputs": [
    {
     "name": "stdout",
     "output_type": "stream",
     "text": [
      "(4,)\n",
      "(2, 3)\n",
      "(2, 2, 3)\n"
     ]
    }
   ],
   "source": [
    "# Atributo shape: Retorna a forma do array\n",
    "print(array_1d.shape)\n",
    "print(array_2d.shape)\n",
    "print(array_3d.shape)"
   ]
  },
  {
   "cell_type": "code",
   "execution_count": 19,
   "metadata": {},
   "outputs": [
    {
     "data": {
      "text/plain": [
       "2"
      ]
     },
     "execution_count": 19,
     "metadata": {},
     "output_type": "execute_result"
    }
   ],
   "source": [
    "# Atributo ndim: Retorna o número de dimensões do array\n",
    "array_2d.ndim"
   ]
  },
  {
   "cell_type": "code",
   "execution_count": 20,
   "metadata": {},
   "outputs": [
    {
     "data": {
      "text/plain": [
       "dtype('int64')"
      ]
     },
     "execution_count": 20,
     "metadata": {},
     "output_type": "execute_result"
    }
   ],
   "source": [
    "# Atributo dtype: Retorna o tipo de dados dos elementos do array\n",
    "array_2d.dtype"
   ]
  },
  {
   "cell_type": "code",
   "execution_count": 21,
   "metadata": {},
   "outputs": [
    {
     "data": {
      "text/plain": [
       "6"
      ]
     },
     "execution_count": 21,
     "metadata": {},
     "output_type": "execute_result"
    }
   ],
   "source": [
    "# Atributo size: Retorna o número de elementos no array\n",
    "array_2d.size"
   ]
  },
  {
   "cell_type": "code",
   "execution_count": 22,
   "metadata": {},
   "outputs": [
    {
     "name": "stdout",
     "output_type": "stream",
     "text": [
      "4\n",
      "4\n"
     ]
    }
   ],
   "source": [
    "# Para array de uma dimensão funciona igual que o método len\n",
    "print(array_1d.size)\n",
    "print(len(array_1d))"
   ]
  },
  {
   "cell_type": "code",
   "execution_count": 23,
   "metadata": {},
   "outputs": [
    {
     "data": {
      "text/plain": [
       "8"
      ]
     },
     "execution_count": 23,
     "metadata": {},
     "output_type": "execute_result"
    }
   ],
   "source": [
    "# Atributo itemsize: Retorna o tamanho de cada elemento do array em bytes\n",
    "array_2d.itemsize"
   ]
  },
  {
   "cell_type": "code",
   "execution_count": 24,
   "metadata": {},
   "outputs": [
    {
     "name": "stdout",
     "output_type": "stream",
     "text": [
      "array_2d = [[1 2 3]\n",
      " [4 5 6]]\n",
      "Máximo do array plano = 6\n",
      "Máximo ao longo do primeiro eixo = [4 5 6]\n",
      "Máximo ao longo do segundo eixo = [3 6]\n"
     ]
    }
   ],
   "source": [
    "# Método max: Retorna o valor máximo de um array ou máximo ao longo de um eixo.\n",
    "# Parâmetro axis (Opcional): Eixo ao longo do qual operar. Por padrão, a entrada plana é usada.\n",
    "\n",
    "print(\"array_2d =\", array_2d)\n",
    "print(\"Máximo do array plano =\", array_2d.max())\n",
    "print(\"Máximo ao longo do primeiro eixo =\", array_2d.max(axis = 0))\n",
    "print(\"Máximo ao longo do segundo eixo =\", array_2d.max(axis = 1))"
   ]
  },
  {
   "cell_type": "code",
   "execution_count": 25,
   "metadata": {},
   "outputs": [
    {
     "name": "stdout",
     "output_type": "stream",
     "text": [
      "array_2d = [[1 2 3]\n",
      " [4 5 6]]\n",
      "Mínimo do array plano = 1\n",
      "Mínimo ao longo do primeiro eixo = [1 2 3]\n",
      "Mínimo ao longo do segundo eixo = [1 4]\n"
     ]
    }
   ],
   "source": [
    "# Método min: Retorna o valor mínimo de um array ou mínimo ao longo de um eixo.\n",
    "# Parâmetro axis (Opcional): Eixo ao longo do qual operar. Por padrão, a entrada plana é usada.\n",
    "\n",
    "print(\"array_2d =\", array_2d)\n",
    "print(\"Mínimo do array plano =\", array_2d.min())\n",
    "print(\"Mínimo ao longo do primeiro eixo =\", array_2d.min(axis = 0))\n",
    "print(\"Mínimo ao longo do segundo eixo =\", array_2d.min(axis = 1))"
   ]
  },
  {
   "cell_type": "code",
   "execution_count": 26,
   "metadata": {},
   "outputs": [
    {
     "name": "stdout",
     "output_type": "stream",
     "text": [
      "array_2d = [[1 2 3]\n",
      " [4 5 6]]\n",
      "Média do array plano = 3.5\n",
      "Médias ao longo do eixo 0 = [2.5 3.5 4.5]\n",
      "Médias ao longo do eixo 1 = [2. 5.]\n"
     ]
    }
   ],
   "source": [
    "# Método mean: Retorna a média dos elementos do array ou ao longo de um eixo.\n",
    "# Parâmetro axis (Opcional): Eixo ao longo do qual as médias são calculadas. O padrão é calcular a média do array \n",
    "# plano.\n",
    "\n",
    "print(\"array_2d =\", array_2d)\n",
    "print(\"Média do array plano =\", array_2d.mean())\n",
    "print(\"Médias ao longo do eixo 0 =\", array_2d.mean(axis = 0))\n",
    "print(\"Médias ao longo do eixo 1 =\", array_2d.mean(axis = 1))"
   ]
  },
  {
   "cell_type": "code",
   "execution_count": 27,
   "metadata": {},
   "outputs": [
    {
     "name": "stdout",
     "output_type": "stream",
     "text": [
      "array_2d = [[1 2 3]\n",
      " [4 5 6]]\n",
      "Desvio padrão do array plano = 1.707825127659933\n",
      "Desvios padrões ao longo do eixo 0 = [1.5 1.5 1.5]\n",
      "Desvios padrões ao longo do eixo 1 = [0.81649658 0.81649658]\n"
     ]
    }
   ],
   "source": [
    "# Método std: Retorna o desvio padrão dos elementos do array ou ao longo de um eixo.\n",
    "# Parâmetro axis (Opcional): Eixo ao longo do qual os desvios padrões são calculados. O padrão é calcular o desvio\n",
    "# padrão do array plano.\n",
    "\n",
    "print(\"array_2d =\", array_2d)\n",
    "print(\"Desvio padrão do array plano =\", array_2d.std())\n",
    "print(\"Desvios padrões ao longo do eixo 0 =\", array_2d.std(axis = 0))\n",
    "print(\"Desvios padrões ao longo do eixo 1 =\", array_2d.std(axis = 1))"
   ]
  },
  {
   "cell_type": "code",
   "execution_count": 28,
   "metadata": {},
   "outputs": [
    {
     "name": "stdout",
     "output_type": "stream",
     "text": [
      "array_2d = [[1 2 3]\n",
      " [4 5 6]]\n",
      "Soma do array plano = 21\n",
      "Somas ao longo do eixo 0 = [5 7 9]\n",
      "Somas ao longo do eixo 1 = [ 6 15]\n"
     ]
    }
   ],
   "source": [
    "# Método sum: Retorna a soma dos elementos do array ou ao longo de um eixo.\n",
    "# Parâmetro axis (Opcional): Eixo ao longo do qual as somas são realizadas. Por padrão, somará todos os elementos \n",
    "# do array.\n",
    "\n",
    "print(\"array_2d =\", array_2d)\n",
    "print(\"Soma do array plano =\", array_2d.sum())\n",
    "print(\"Somas ao longo do eixo 0 =\", array_2d.sum(axis = 0))\n",
    "print(\"Somas ao longo do eixo 1 =\", array_2d.sum(axis = 1))"
   ]
  },
  {
   "cell_type": "markdown",
   "metadata": {},
   "source": [
    "## **Transformando Arrays**"
   ]
  },
  {
   "cell_type": "code",
   "execution_count": 29,
   "metadata": {},
   "outputs": [
    {
     "name": "stdout",
     "output_type": "stream",
     "text": [
      "array_2d = [[1 2 3]\n",
      " [4 5 6]]\n"
     ]
    }
   ],
   "source": [
    "print(\"array_2d =\", array_2d)"
   ]
  },
  {
   "cell_type": "code",
   "execution_count": 30,
   "metadata": {},
   "outputs": [
    {
     "data": {
      "text/plain": [
       "array([[1, 4],\n",
       "       [2, 5],\n",
       "       [3, 6]])"
      ]
     },
     "execution_count": 30,
     "metadata": {},
     "output_type": "execute_result"
    }
   ],
   "source": [
    "# Atributo T: Gera a transposta de uma matriz (troca de linhas por colunas)\n",
    "array_2d.T"
   ]
  },
  {
   "cell_type": "code",
   "execution_count": 31,
   "metadata": {},
   "outputs": [
    {
     "name": "stdout",
     "output_type": "stream",
     "text": [
      "a = [1 2 3 4 5 6]\n",
      "b = [1 2 3 4 5 6]\n",
      "c = [[1 2]\n",
      " [3 4]\n",
      " [5 6]]\n",
      "d = [[1 2]\n",
      " [3 4]\n",
      " [5 6]]\n"
     ]
    }
   ],
   "source": [
    "# Método reshape: Dá uma nova forma a um array sem alterar seus dados.\n",
    "# Parâmetro newshape: A nova forma deve ser compatível com a forma original. Se for um número inteiro, o resultado\n",
    "# será um array de 1D desse comprimento. Se for colocado -1, o valor é inferido.\n",
    "\n",
    "a = array_2d.reshape(6)\n",
    "print(\"a =\", a)\n",
    "\n",
    "# O valor não especificado é inferido como 6\n",
    "b = array_2d.reshape(-1)\n",
    "print(\"b =\", b)\n",
    "\n",
    "c = array_2d.reshape(3, 2)\n",
    "print(\"c =\", c)\n",
    "\n",
    "# O valor não especificado é inferido como 2\n",
    "d = array_2d.reshape(3, -1)\n",
    "print(\"d =\", d)"
   ]
  },
  {
   "cell_type": "markdown",
   "metadata": {},
   "source": [
    "É muito comum realizar esta manipulação quando se trabalha com bibliotecas do scikit-learn e keras (bibliotecas utilizadas em projetos de Machine Learning)."
   ]
  },
  {
   "cell_type": "code",
   "execution_count": 32,
   "metadata": {},
   "outputs": [
    {
     "name": "stdout",
     "output_type": "stream",
     "text": [
      "a = [ 1  2 10  3  4  5  6]\n",
      "b = [[ 1  2  3]\n",
      " [ 4  5  6]\n",
      " [10 10 10]]\n",
      "c = [[ 1  2 10  3]\n",
      " [ 4  5 10  6]]\n"
     ]
    }
   ],
   "source": [
    "# Método insert: Insere elementos a um array ao longo de um eixo.\n",
    "# Parâmetro arr: Array.\n",
    "# Parâmetro obj: Índice ou índices antes dos quais os 'values' são inseridos.\n",
    "# Parâmetro values: Valores para inserir em 'arr'.\n",
    "# Parâmetro axis (Opcional): Eixo ao longo do qual inserir 'values'. Se axis for None, 'arr' é flattened primeiro.\n",
    "\n",
    "# Inserindo 10 na posição 2 no array flattened\n",
    "a = np.insert(array_2d, 2, 10)\n",
    "print(\"a =\", a)\n",
    "\n",
    "# Inserindo 10 na posição 2 ao longo do eixo 0\n",
    "b = np.insert(array_2d, 2, 10, axis = 0)\n",
    "print(\"b =\", b)\n",
    "\n",
    "# Inserindo 10 na posição 2 ao longo do eixo 1\n",
    "c = np.insert(array_2d, 2, 10, axis = 1)\n",
    "print(\"c =\", c)"
   ]
  },
  {
   "cell_type": "code",
   "execution_count": 33,
   "metadata": {},
   "outputs": [
    {
     "name": "stdout",
     "output_type": "stream",
     "text": [
      "a = [2 3 4 5 6]\n",
      "b = [[1 2 3]]\n",
      "c = [[1 3]\n",
      " [4 6]]\n",
      "d = [1 3 5]\n"
     ]
    }
   ],
   "source": [
    "# Método delete: Apaga elementos de um array.\n",
    "# Parâmetro arr: Array de entrada.\n",
    "# Parâmetro obj: Indica os índices para remover ao longo do eixo especificado.\n",
    "# Parâmetro axis (Opcional): Eixo ao longo do qual operar. Se for None, 'obj' é aplicado ao array flattened.\n",
    "\n",
    "# Apagando o elemento da primeira posição no array flattened\n",
    "a = np.delete(array_2d, 0)\n",
    "print(\"a =\", a)\n",
    "\n",
    "# Apagando a posição 1 ao longo do eixo 0\n",
    "b = np.delete(array_2d, 1, 0)\n",
    "print(\"b =\", b)\n",
    "\n",
    "# Apagando a posição 1 ao longo do eixo 1\n",
    "c = np.delete(array_2d, 1, 1)\n",
    "print(\"c =\", c)\n",
    "\n",
    "# Apagando 3 elementos no array flattened\n",
    "d = np.delete(array_2d, [1, 3, 5], None)\n",
    "print(\"d =\", d)"
   ]
  },
  {
   "cell_type": "markdown",
   "metadata": {},
   "source": [
    "## **Escrevendo Arquivos no SO**"
   ]
  },
  {
   "cell_type": "code",
   "execution_count": 34,
   "metadata": {},
   "outputs": [],
   "source": [
    "# Método savetxt: Salva um array em um arquivo de texto.\n",
    "# Parâmetro fname: Nome do arquivo.\n",
    "# Parâmetro X: Array 1D ou 2D. Dados a serem salvos.\n",
    "# Parâmetro fmt (Opcional): Formato das colunas.\n",
    "# Parâmetro delimiter (Opcional): String usado para separar valores. O padrão é o espaço em branco.\n",
    "# Parâmetro header (Opcional): String que será escrito no início do arquivo.\n",
    "# Parâmetro footer (Opcional): String que será escrito no final do arquivo.\n",
    "\n",
    "np.savetxt('data.txt', array_2d, fmt = ['%.2e', '%d', '%7.3f'], header = 'NumPy')"
   ]
  },
  {
   "cell_type": "markdown",
   "metadata": {},
   "source": [
    "## Acessando Dimensões em Arrays"
   ]
  },
  {
   "cell_type": "markdown",
   "metadata": {},
   "source": [
    "É similar a acessar elementos de listas aninhadas."
   ]
  },
  {
   "cell_type": "code",
   "execution_count": 35,
   "metadata": {},
   "outputs": [
    {
     "data": {
      "text/plain": [
       "array([[0.31180944, 0.02611661],\n",
       "       [0.65078375, 0.20285513],\n",
       "       [0.58380577, 0.21565807],\n",
       "       [0.36927046, 0.48133582],\n",
       "       [0.69683934, 0.48539011],\n",
       "       [0.7666889 , 0.79843481],\n",
       "       [0.81006188, 0.31138842]])"
      ]
     },
     "execution_count": 35,
     "metadata": {},
     "output_type": "execute_result"
    }
   ],
   "source": [
    "# Array aleatório de 7 linhas e 2 colunas\n",
    "array = np.random.random((7, 2))\n",
    "array"
   ]
  },
  {
   "cell_type": "code",
   "execution_count": 36,
   "metadata": {},
   "outputs": [
    {
     "data": {
      "text/plain": [
       "array([0.31180944, 0.02611661])"
      ]
     },
     "execution_count": 36,
     "metadata": {},
     "output_type": "execute_result"
    }
   ],
   "source": [
    "# Primeiro elemento do array (primeira linha)\n",
    "array[0]"
   ]
  },
  {
   "cell_type": "code",
   "execution_count": 37,
   "metadata": {},
   "outputs": [
    {
     "data": {
      "text/plain": [
       "0.3118094364320628"
      ]
     },
     "execution_count": 37,
     "metadata": {},
     "output_type": "execute_result"
    }
   ],
   "source": [
    "# Primeiro elemento da primeira coluna\n",
    "array[0][0]"
   ]
  },
  {
   "cell_type": "code",
   "execution_count": 38,
   "metadata": {},
   "outputs": [
    {
     "data": {
      "text/plain": [
       "0.02611660794461712"
      ]
     },
     "execution_count": 38,
     "metadata": {},
     "output_type": "execute_result"
    }
   ],
   "source": [
    "# Primeiro elemento da segunda coluna\n",
    "array[0][1]"
   ]
  },
  {
   "cell_type": "code",
   "execution_count": 39,
   "metadata": {},
   "outputs": [
    {
     "data": {
      "text/plain": [
       "0.20285513366175978"
      ]
     },
     "execution_count": 39,
     "metadata": {},
     "output_type": "execute_result"
    }
   ],
   "source": [
    "# Segundo elemento da segunda coluna\n",
    "array[1][1]"
   ]
  },
  {
   "cell_type": "code",
   "execution_count": 40,
   "metadata": {},
   "outputs": [
    {
     "data": {
      "text/plain": [
       "0.20285513366175978"
      ]
     },
     "execution_count": 40,
     "metadata": {},
     "output_type": "execute_result"
    }
   ],
   "source": [
    "# Outra notação. O primeiro valor especifica a linha e o segundo valor especifica a coluna:\n",
    "array[1, 1]"
   ]
  },
  {
   "cell_type": "code",
   "execution_count": 41,
   "metadata": {},
   "outputs": [
    {
     "data": {
      "text/plain": [
       "array([0.02611661, 0.20285513, 0.21565807])"
      ]
     },
     "execution_count": 41,
     "metadata": {},
     "output_type": "execute_result"
    }
   ],
   "source": [
    "# Os 3 primeiros valores da segunda coluna\n",
    "array[:3, 1]"
   ]
  },
  {
   "cell_type": "code",
   "execution_count": 42,
   "metadata": {},
   "outputs": [
    {
     "data": {
      "text/plain": [
       "array([0.05223322, 0.40571027, 0.43131615, 0.96267163, 0.97078022,\n",
       "       1.59686962, 0.62277685])"
      ]
     },
     "execution_count": 42,
     "metadata": {},
     "output_type": "execute_result"
    }
   ],
   "source": [
    "# Todas as linhas da segunda coluna multiplicas por 2\n",
    "array[:, 1] * 2"
   ]
  },
  {
   "cell_type": "code",
   "execution_count": 43,
   "metadata": {},
   "outputs": [
    {
     "data": {
      "text/plain": [
       "array([[False, False],\n",
       "       [ True, False],\n",
       "       [ True, False],\n",
       "       [False, False],\n",
       "       [ True, False],\n",
       "       [ True,  True],\n",
       "       [ True, False]])"
      ]
     },
     "execution_count": 43,
     "metadata": {},
     "output_type": "execute_result"
    }
   ],
   "source": [
    "# Comparação. Retorna booleanos nos índices do array\n",
    "array > 0.5"
   ]
  },
  {
   "cell_type": "code",
   "execution_count": 44,
   "metadata": {},
   "outputs": [
    {
     "data": {
      "text/plain": [
       "array([0.65078375, 0.58380577, 0.69683934, 0.7666889 , 0.79843481,\n",
       "       0.81006188])"
      ]
     },
     "execution_count": 44,
     "metadata": {},
     "output_type": "execute_result"
    }
   ],
   "source": [
    "# Acessando valores que satisfaçam uma condição\n",
    "array[array > 0.5]"
   ]
  },
  {
   "cell_type": "markdown",
   "metadata": {},
   "source": [
    "## **Carregando Arrays NumPy a partir de Arquivos de Texto**"
   ]
  },
  {
   "cell_type": "markdown",
   "metadata": {},
   "source": [
    "### **Arquivos de Texto sem missing values**"
   ]
  },
  {
   "cell_type": "markdown",
   "metadata": {},
   "source": [
    "O arquivo ```data.txt``` consiste de um comentário e colunas de valores numéricos:\n",
    "\n",
    "```\n",
    "# NumPy\n",
    "1.00e+00 2   3.000\n",
    "4.00e+00 5   6.000\n",
    "```"
   ]
  },
  {
   "cell_type": "code",
   "execution_count": 45,
   "metadata": {},
   "outputs": [
    {
     "data": {
      "text/plain": [
       "array([[2., 3.],\n",
       "       [5., 6.]])"
      ]
     },
     "execution_count": 45,
     "metadata": {},
     "output_type": "execute_result"
    }
   ],
   "source": [
    "# Método loadtxt: Carrega dados de um arquivo de texto. Cada fila no arquivo de texto deve ter o mesmo número de\n",
    "# valores.\n",
    "# Parâmetro fname: Nome do arquivo.\n",
    "# Parâmetro dtype (Opcional): Tipo de dados do array resultante. Por padrão é float!\n",
    "# Parâmetro delimiter (Opcional): String usado para separar valores. O padrão é o espaço em branco.\n",
    "# Parâmetro skiprows (Opcional): Omite as primeiras 'skiprows' linhas. Valor padrão é 0.\n",
    "# Parâmetro usecols (Opcional): Define que colunas ler. Por padrão, None, lê todas as colunas. Quando uma única \n",
    "# coluna tem que ser lida é possível usar um inteiro ao invés de tupla. Exemplo: usecols = 2 ao invés de \n",
    "# usecols = (2,).\n",
    "# Parâmetro unpack (Opcional): Se for True, o array retornado é transposto, de forma que os argumentos podem ser \n",
    "# descompactados usando x, y, z = loadtxt(...). O padrão é False.\n",
    "\n",
    "# Lendo o arquivo gerando um único array, omitindo a primeira linha e a primeira coluna\n",
    "data = np.loadtxt('data.txt', skiprows = 1, usecols = (1, 2))\n",
    "data"
   ]
  },
  {
   "cell_type": "markdown",
   "metadata": {},
   "source": [
    "Embora nesse caso não foi necessário colocar ```skiprows = 1```, porque os comentários (linhas começando com \"#\") não são considerados na leitura do arquivo."
   ]
  },
  {
   "cell_type": "code",
   "execution_count": 46,
   "metadata": {},
   "outputs": [
    {
     "name": "stdout",
     "output_type": "stream",
     "text": [
      "Array 'x' = [1. 4.]\n",
      "Array 'y' = [2. 5.]\n",
      "Array 'z' = [3. 6.]\n"
     ]
    }
   ],
   "source": [
    "# Lendo o arquivo colocando as colunas do mesmo em diferentes arrays\n",
    "x, y, z = np.loadtxt('data.txt', unpack = True)\n",
    "\n",
    "print(\"Array 'x' =\", x)\n",
    "print(\"Array 'y' =\", y)\n",
    "print(\"Array 'z' =\", z)"
   ]
  },
  {
   "cell_type": "markdown",
   "metadata": {},
   "source": [
    "O seguinte arquivo ```data_with_strings.txt``` é formado por um header e colunas de diferentes tipos:\n",
    "\n",
    "```\n",
    "Tabela\n",
    "A B C D\n",
    "1 1.3 None s1\n",
    "2 7.2 5.0 s2\n",
    "3 0.0 NaN s3\n",
    "```"
   ]
  },
  {
   "cell_type": "code",
   "execution_count": 47,
   "metadata": {},
   "outputs": [
    {
     "data": {
      "text/plain": [
       "array([1., 2., 3.])"
      ]
     },
     "execution_count": 47,
     "metadata": {},
     "output_type": "execute_result"
    }
   ],
   "source": [
    "# Lendo a primeira coluna de valores numéricos do arquivo, omitindo as duas primeiras linhas\n",
    "x = np.loadtxt('data_with_strings.txt', skiprows = 2, usecols = 0)\n",
    "x"
   ]
  },
  {
   "cell_type": "code",
   "execution_count": 48,
   "metadata": {},
   "outputs": [
    {
     "data": {
      "text/plain": [
       "array(['s1', 's2', 's3'], dtype='<U2')"
      ]
     },
     "execution_count": 48,
     "metadata": {},
     "output_type": "execute_result"
    }
   ],
   "source": [
    "# Lendo a quarta coluna de strings do arquivo, omitindo as duas primeiras linhas\n",
    "x = np.loadtxt('data_with_strings.txt', skiprows = 2, usecols = 3, dtype = str)\n",
    "x"
   ]
  },
  {
   "cell_type": "markdown",
   "metadata": {},
   "source": [
    "### **Arquivos de Texto com missing values**"
   ]
  },
  {
   "cell_type": "markdown",
   "metadata": {},
   "source": [
    "O método ```np.genfromtxt``` fornece algumas opções como os parâmetros ```missing_values``` e ```filling_values``` para tratar com arquivos incompletos."
   ]
  },
  {
   "cell_type": "markdown",
   "metadata": {},
   "source": [
    "O seguinte arquivo ```data_with_strings_and_missing_values.csv```, tem o formato:\n",
    "\n",
    "```\n",
    "1,2,,,5\n",
    "6,ab,8,,\n",
    "11,oi,NaN,,\n",
    "```"
   ]
  },
  {
   "cell_type": "code",
   "execution_count": 49,
   "metadata": {},
   "outputs": [
    {
     "data": {
      "text/plain": [
       "array([[ 1.,  2.,  0.,  0.,  5.],\n",
       "       [ 6.,  0.,  8.,  0.,  0.],\n",
       "       [11.,  0., nan,  0.,  0.]])"
      ]
     },
     "execution_count": 49,
     "metadata": {},
     "output_type": "execute_result"
    }
   ],
   "source": [
    "# Método genfromtxt: Carrega dados de um arquivo de texto, com os missing values e strings tratados conforme \n",
    "# especificado.\n",
    "# Parâmetro fname: Nome do arquivo.\n",
    "# Parâmetro dtype (Opcional): Tipo de dados do array resultante. Se None, os dtypes serão determinados pelo \n",
    "# conteúdo de cada coluna, individualmente.\n",
    "# Parâmetro delimiter (Opcional): String usado para separar valores. O padrão é o espaço em branco.\n",
    "# Parâmetro skiprows (Opcional): 'skiprows' foi removido, use 'skip_header' em seu lugar.\n",
    "# Parâmetro skip_header (Opcional): Número de linhas a pular no início do arquivo.\n",
    "# Parâmetro skip_footer (Opcional): Número de linhas a pular no final do arquivo.\n",
    "# Parâmetro missing_values (Opcional): O conjunto de strings correspondente aos dados ausentes.\n",
    "# Parâmetro filling_values (Opcional): O conjunto de valores a ser usado como padrão quando os dados estão \n",
    "# ausentes.\n",
    "# Parâmetro usecols (Opcional): Define que colunas ler.\n",
    "# Parâmetro unpack (Opcional): Se for True, o array retornado é transposto, de forma que os argumentos podem ser \n",
    "# descompactados usando x, y, z = loadtxt(...).\n",
    "\n",
    "# Leitura do arquivo, colocando os missing values e também os strings à 0.\n",
    "data = np.genfromtxt('data_with_strings_and_missing_values.csv', delimiter = ',', filling_values = 0)\n",
    "data"
   ]
  },
  {
   "cell_type": "code",
   "execution_count": 50,
   "metadata": {},
   "outputs": [
    {
     "name": "stdout",
     "output_type": "stream",
     "text": [
      "Array 'x' = [1. 2. 0. 0. 5.]\n",
      "Array 'y' = [6. 0. 8. 0. 0.]\n",
      "Array 'z' = [11.  0. nan  0.  0.]\n"
     ]
    }
   ],
   "source": [
    "# Colocando as linhas do arquivo em arrays\n",
    "x, y, z = np.genfromtxt('data_with_strings_and_missing_values.csv', delimiter = ',', filling_values = 0)\n",
    "print(\"Array 'x' =\", x)\n",
    "print(\"Array 'y' =\", y)\n",
    "print(\"Array 'z' =\", z)"
   ]
  },
  {
   "cell_type": "code",
   "execution_count": 51,
   "metadata": {},
   "outputs": [
    {
     "data": {
      "text/plain": [
       "array([[ 1. ,  2. ,  0. ,  4. ,  5. ],\n",
       "       [ 6. ,  2. ,  8. ,  4. ,  5.2],\n",
       "       [11. ,  2. ,  nan,  4. ,  5.2]])"
      ]
     },
     "execution_count": 51,
     "metadata": {},
     "output_type": "execute_result"
    }
   ],
   "source": [
    "# Leitura do arquivo, colocando valores aos missing values e strings segundo a coluna em que se encontram.\n",
    "\n",
    "# Valores numéricos para preencher cada coluna.\n",
    "filling_values = (1, 2, 0, 4, 5.2)\n",
    "data = np.genfromtxt('data_with_strings_and_missing_values.csv', delimiter = ',', filling_values = filling_values)\n",
    "data"
   ]
  }
 ],
 "metadata": {
  "kernelspec": {
   "display_name": "Python 3",
   "language": "python",
   "name": "python3"
  },
  "language_info": {
   "codemirror_mode": {
    "name": "ipython",
    "version": 3
   },
   "file_extension": ".py",
   "mimetype": "text/x-python",
   "name": "python",
   "nbconvert_exporter": "python",
   "pygments_lexer": "ipython3",
   "version": "3.8.3"
  }
 },
 "nbformat": 4,
 "nbformat_minor": 4
}
