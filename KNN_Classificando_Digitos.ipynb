{
 "cells": [
  {
   "cell_type": "markdown",
   "metadata": {},
   "source": [
    "## **Classificando Dígitos com KNN**"
   ]
  },
  {
   "cell_type": "markdown",
   "metadata": {},
   "source": [
    "Iremos classificar números escritos a mão com o algoritmo KNN. Para isso, usaremos um dataset fornecido pela biblioteca `sklearn`, que contém imagens de dígitos escritos a mão."
   ]
  },
  {
   "cell_type": "code",
   "execution_count": 1,
   "metadata": {},
   "outputs": [],
   "source": [
    "# Importamos standard datasets incluídos no \"sklearn\"\n",
    "from sklearn import datasets\n",
    "import pandas as pd\n",
    "import matplotlib.pyplot as plt"
   ]
  },
  {
   "cell_type": "markdown",
   "metadata": {},
   "source": [
    "Carregamos o dataset de dígitos com o método `load_digits()`:"
   ]
  },
  {
   "cell_type": "code",
   "execution_count": 2,
   "metadata": {},
   "outputs": [],
   "source": [
    "# Carregamos a base de dados na variável \"digits\"\n",
    "digits = datasets.load_digits()"
   ]
  },
  {
   "cell_type": "code",
   "execution_count": 3,
   "metadata": {},
   "outputs": [
    {
     "name": "stdout",
     "output_type": "stream",
     "text": [
      ".. _digits_dataset:\n",
      "\n",
      "Optical recognition of handwritten digits dataset\n",
      "--------------------------------------------------\n",
      "\n",
      "**Data Set Characteristics:**\n",
      "\n",
      "    :Number of Instances: 5620\n",
      "    :Number of Attributes: 64\n",
      "    :Attribute Information: 8x8 image of integer pixels in the range 0..16.\n",
      "    :Missing Attribute Values: None\n",
      "    :Creator: E. Alpaydin (alpaydin '@' boun.edu.tr)\n",
      "    :Date: July; 1998\n",
      "\n",
      "This is a copy of the test set of the UCI ML hand-written digits datasets\n",
      "https://archive.ics.uci.edu/ml/datasets/Optical+Recognition+of+Handwritten+Digits\n",
      "\n",
      "The data set contains images of hand-written digits: 10 classes where\n",
      "each class refers to a digit.\n",
      "\n",
      "Preprocessing programs made available by NIST were used to extract\n",
      "normalized bitmaps of handwritten digits from a preprinted form. From a\n",
      "total of 43 people, 30 contributed to the training set and different 13\n",
      "to the test set. 32x32 bitmaps are divided into nonoverlapping blocks of\n",
      "4x4 and the number of on pixels are counted in each block. This generates\n",
      "an input matrix of 8x8 where each element is an integer in the range\n",
      "0..16. This reduces dimensionality and gives invariance to small\n",
      "distortions.\n",
      "\n",
      "For info on NIST preprocessing routines, see M. D. Garris, J. L. Blue, G.\n",
      "T. Candela, D. L. Dimmick, J. Geist, P. J. Grother, S. A. Janet, and C.\n",
      "L. Wilson, NIST Form-Based Handprint Recognition System, NISTIR 5469,\n",
      "1994.\n",
      "\n",
      ".. topic:: References\n",
      "\n",
      "  - C. Kaynak (1995) Methods of Combining Multiple Classifiers and Their\n",
      "    Applications to Handwritten Digit Recognition, MSc Thesis, Institute of\n",
      "    Graduate Studies in Science and Engineering, Bogazici University.\n",
      "  - E. Alpaydin, C. Kaynak (1998) Cascading Classifiers, Kybernetika.\n",
      "  - Ken Tang and Ponnuthurai N. Suganthan and Xi Yao and A. Kai Qin.\n",
      "    Linear dimensionalityreduction using relevance weighted LDA. School of\n",
      "    Electrical and Electronic Engineering Nanyang Technological University.\n",
      "    2005.\n",
      "  - Claudio Gentile. A New Approximate Maximal Margin Classification\n",
      "    Algorithm. NIPS. 2000.\n"
     ]
    }
   ],
   "source": [
    "# Descrição do dataset\n",
    "print(digits.DESCR)"
   ]
  },
  {
   "cell_type": "markdown",
   "metadata": {},
   "source": [
    "Esta é uma base de dados de reconhecimento de dígitos escritos a mão, com 5620 instancias e 64 atributos. A informação do atributo é uma imagem pequena de 8x8, com uma matriz de pixel na escala de cor de 0-16."
   ]
  },
  {
   "cell_type": "markdown",
   "metadata": {},
   "source": [
    "**Imprimindo os Valores das Imagens**"
   ]
  },
  {
   "cell_type": "code",
   "execution_count": 4,
   "metadata": {},
   "outputs": [
    {
     "data": {
      "text/plain": [
       "array([[[ 0.,  0.,  5., ...,  1.,  0.,  0.],\n",
       "        [ 0.,  0., 13., ..., 15.,  5.,  0.],\n",
       "        [ 0.,  3., 15., ..., 11.,  8.,  0.],\n",
       "        ...,\n",
       "        [ 0.,  4., 11., ..., 12.,  7.,  0.],\n",
       "        [ 0.,  2., 14., ..., 12.,  0.,  0.],\n",
       "        [ 0.,  0.,  6., ...,  0.,  0.,  0.]],\n",
       "\n",
       "       [[ 0.,  0.,  0., ...,  5.,  0.,  0.],\n",
       "        [ 0.,  0.,  0., ...,  9.,  0.,  0.],\n",
       "        [ 0.,  0.,  3., ...,  6.,  0.,  0.],\n",
       "        ...,\n",
       "        [ 0.,  0.,  1., ...,  6.,  0.,  0.],\n",
       "        [ 0.,  0.,  1., ...,  6.,  0.,  0.],\n",
       "        [ 0.,  0.,  0., ..., 10.,  0.,  0.]],\n",
       "\n",
       "       [[ 0.,  0.,  0., ..., 12.,  0.,  0.],\n",
       "        [ 0.,  0.,  3., ..., 14.,  0.,  0.],\n",
       "        [ 0.,  0.,  8., ..., 16.,  0.,  0.],\n",
       "        ...,\n",
       "        [ 0.,  9., 16., ...,  0.,  0.,  0.],\n",
       "        [ 0.,  3., 13., ..., 11.,  5.,  0.],\n",
       "        [ 0.,  0.,  0., ..., 16.,  9.,  0.]],\n",
       "\n",
       "       ...,\n",
       "\n",
       "       [[ 0.,  0.,  1., ...,  1.,  0.,  0.],\n",
       "        [ 0.,  0., 13., ...,  2.,  1.,  0.],\n",
       "        [ 0.,  0., 16., ..., 16.,  5.,  0.],\n",
       "        ...,\n",
       "        [ 0.,  0., 16., ..., 15.,  0.,  0.],\n",
       "        [ 0.,  0., 15., ..., 16.,  0.,  0.],\n",
       "        [ 0.,  0.,  2., ...,  6.,  0.,  0.]],\n",
       "\n",
       "       [[ 0.,  0.,  2., ...,  0.,  0.,  0.],\n",
       "        [ 0.,  0., 14., ..., 15.,  1.,  0.],\n",
       "        [ 0.,  4., 16., ..., 16.,  7.,  0.],\n",
       "        ...,\n",
       "        [ 0.,  0.,  0., ..., 16.,  2.,  0.],\n",
       "        [ 0.,  0.,  4., ..., 16.,  2.,  0.],\n",
       "        [ 0.,  0.,  5., ..., 12.,  0.,  0.]],\n",
       "\n",
       "       [[ 0.,  0., 10., ...,  1.,  0.,  0.],\n",
       "        [ 0.,  2., 16., ...,  1.,  0.,  0.],\n",
       "        [ 0.,  0., 15., ..., 15.,  0.,  0.],\n",
       "        ...,\n",
       "        [ 0.,  4., 16., ..., 16.,  6.,  0.],\n",
       "        [ 0.,  8., 16., ..., 16.,  8.,  0.],\n",
       "        [ 0.,  1.,  8., ..., 12.,  1.,  0.]]])"
      ]
     },
     "execution_count": 4,
     "metadata": {},
     "output_type": "execute_result"
    }
   ],
   "source": [
    "# Imagens\n",
    "digits.images"
   ]
  },
  {
   "cell_type": "markdown",
   "metadata": {},
   "source": [
    "Retorna um array, onde cada elemento corresponde aos valores de pixels de uma imagem."
   ]
  },
  {
   "cell_type": "code",
   "execution_count": 5,
   "metadata": {},
   "outputs": [
    {
     "data": {
      "text/plain": [
       "(1797, 8, 8)"
      ]
     },
     "execution_count": 5,
     "metadata": {},
     "output_type": "execute_result"
    }
   ],
   "source": [
    "digits.images.shape"
   ]
  },
  {
   "cell_type": "markdown",
   "metadata": {},
   "source": [
    "**Imprimindo os Valores da Classe**"
   ]
  },
  {
   "cell_type": "code",
   "execution_count": 6,
   "metadata": {},
   "outputs": [
    {
     "data": {
      "text/plain": [
       "array([0, 1, 2, 3, 4, 5, 6, 7, 8, 9])"
      ]
     },
     "execution_count": 6,
     "metadata": {},
     "output_type": "execute_result"
    }
   ],
   "source": [
    "# Valores que queremos prever\n",
    "digits.target_names"
   ]
  },
  {
   "cell_type": "markdown",
   "metadata": {},
   "source": [
    "O que temos de classe nessa base de dados são os valores de dígitos de 0 até 10."
   ]
  },
  {
   "cell_type": "markdown",
   "metadata": {},
   "source": [
    "**Visualizando as Imagens e Classes**"
   ]
  },
  {
   "cell_type": "code",
   "execution_count": 7,
   "metadata": {},
   "outputs": [
    {
     "data": {
      "image/png": "[encoded data removed]",
      "text/plain": [
       "<Figure size 432x288 with 10 Axes>"
      ]
     },
     "metadata": {
      "needs_background": "light"
     },
     "output_type": "display_data"
    }
   ],
   "source": [
    "# Retorna tuplas com valores da imagem e o número\n",
    "images_and_labels = list(zip(digits.images, digits.target))\n",
    "\n",
    "# Plota\n",
    "for index, (image, label) in enumerate(images_and_labels[:10]):\n",
    "    plt.subplot(3, 4, index + 1)\n",
    "    plt.axis('off')\n",
    "    plt.imshow(image, cmap = plt.cm.gray_r, interpolation = 'nearest')\n",
    "    plt.title('Número: %i'%label)"
   ]
  },
  {
   "cell_type": "markdown",
   "metadata": {},
   "source": [
    "Devido ao tamanho da matriz, 8x8, a qualidade das imagens é ruim."
   ]
  },
  {
   "cell_type": "markdown",
   "metadata": {},
   "source": [
    "**Convertendo os Dados em DataFrame**"
   ]
  },
  {
   "cell_type": "markdown",
   "metadata": {},
   "source": [
    "Convertemos os dados de cada imagem em array de uma linha."
   ]
  },
  {
   "cell_type": "code",
   "execution_count": 8,
   "metadata": {},
   "outputs": [
    {
     "name": "stdout",
     "output_type": "stream",
     "text": [
      "1797 (1797, 64)\n",
      "[[ 0.  0.  5. ...  0.  0.  0.]\n",
      " [ 0.  0.  0. ... 10.  0.  0.]\n",
      " [ 0.  0.  0. ... 16.  9.  0.]\n",
      " ...\n",
      " [ 0.  0.  1. ...  6.  0.  0.]\n",
      " [ 0.  0.  2. ... 12.  0.  0.]\n",
      " [ 0.  0. 10. ... 12.  1.  0.]]\n"
     ]
    }
   ],
   "source": [
    "# Convertemos os arrays de cada imagem de 2 dimensões para 1 dimensão\n",
    "n_samples = len(digits.images)\n",
    "features = digits.images.reshape((n_samples, -1))\n",
    "\n",
    "print(n_samples, features.shape)\n",
    "print(features)"
   ]
  },
  {
   "cell_type": "code",
   "execution_count": 9,
   "metadata": {},
   "outputs": [
    {
     "data": {
      "text/plain": [
       "array([0, 1, 2, ..., 8, 9, 8])"
      ]
     },
     "execution_count": 9,
     "metadata": {},
     "output_type": "execute_result"
    }
   ],
   "source": [
    "# O atributo \"target\" contém os valores de classe\n",
    "classe = digits.target\n",
    "classe"
   ]
  },
  {
   "cell_type": "code",
   "execution_count": 10,
   "metadata": {},
   "outputs": [],
   "source": [
    "# Criando um DataFrame com os atributos\n",
    "dataset = pd.DataFrame(features)\n",
    "\n",
    "# Adicionando a classe\n",
    "dataset['classe'] = classe"
   ]
  },
  {
   "cell_type": "code",
   "execution_count": 11,
   "metadata": {},
   "outputs": [
    {
     "data": {
      "text/html": [
       "<div>\n",
       "<style scoped>\n",
       "    .dataframe tbody tr th:only-of-type {\n",
       "        vertical-align: middle;\n",
       "    }\n",
       "\n",
       "    .dataframe tbody tr th {\n",
       "        vertical-align: top;\n",
       "    }\n",
       "\n",
       "    .dataframe thead th {\n",
       "        text-align: right;\n",
       "    }\n",
       "</style>\n",
       "<table border=\"1\" class=\"dataframe\">\n",
       "  <thead>\n",
       "    <tr style=\"text-align: right;\">\n",
       "      <th></th>\n",
       "      <th>0</th>\n",
       "      <th>1</th>\n",
       "      <th>2</th>\n",
       "      <th>3</th>\n",
       "      <th>4</th>\n",
       "      <th>5</th>\n",
       "      <th>6</th>\n",
       "      <th>7</th>\n",
       "      <th>8</th>\n",
       "      <th>9</th>\n",
       "      <th>...</th>\n",
       "      <th>55</th>\n",
       "      <th>56</th>\n",
       "      <th>57</th>\n",
       "      <th>58</th>\n",
       "      <th>59</th>\n",
       "      <th>60</th>\n",
       "      <th>61</th>\n",
       "      <th>62</th>\n",
       "      <th>63</th>\n",
       "      <th>classe</th>\n",
       "    </tr>\n",
       "  </thead>\n",
       "  <tbody>\n",
       "    <tr>\n",
       "      <th>0</th>\n",
       "      <td>0.0</td>\n",
       "      <td>0.0</td>\n",
       "      <td>5.0</td>\n",
       "      <td>13.0</td>\n",
       "      <td>9.0</td>\n",
       "      <td>1.0</td>\n",
       "      <td>0.0</td>\n",
       "      <td>0.0</td>\n",
       "      <td>0.0</td>\n",
       "      <td>0.0</td>\n",
       "      <td>...</td>\n",
       "      <td>0.0</td>\n",
       "      <td>0.0</td>\n",
       "      <td>0.0</td>\n",
       "      <td>6.0</td>\n",
       "      <td>13.0</td>\n",
       "      <td>10.0</td>\n",
       "      <td>0.0</td>\n",
       "      <td>0.0</td>\n",
       "      <td>0.0</td>\n",
       "      <td>0</td>\n",
       "    </tr>\n",
       "    <tr>\n",
       "      <th>1</th>\n",
       "      <td>0.0</td>\n",
       "      <td>0.0</td>\n",
       "      <td>0.0</td>\n",
       "      <td>12.0</td>\n",
       "      <td>13.0</td>\n",
       "      <td>5.0</td>\n",
       "      <td>0.0</td>\n",
       "      <td>0.0</td>\n",
       "      <td>0.0</td>\n",
       "      <td>0.0</td>\n",
       "      <td>...</td>\n",
       "      <td>0.0</td>\n",
       "      <td>0.0</td>\n",
       "      <td>0.0</td>\n",
       "      <td>0.0</td>\n",
       "      <td>11.0</td>\n",
       "      <td>16.0</td>\n",
       "      <td>10.0</td>\n",
       "      <td>0.0</td>\n",
       "      <td>0.0</td>\n",
       "      <td>1</td>\n",
       "    </tr>\n",
       "    <tr>\n",
       "      <th>2</th>\n",
       "      <td>0.0</td>\n",
       "      <td>0.0</td>\n",
       "      <td>0.0</td>\n",
       "      <td>4.0</td>\n",
       "      <td>15.0</td>\n",
       "      <td>12.0</td>\n",
       "      <td>0.0</td>\n",
       "      <td>0.0</td>\n",
       "      <td>0.0</td>\n",
       "      <td>0.0</td>\n",
       "      <td>...</td>\n",
       "      <td>0.0</td>\n",
       "      <td>0.0</td>\n",
       "      <td>0.0</td>\n",
       "      <td>0.0</td>\n",
       "      <td>3.0</td>\n",
       "      <td>11.0</td>\n",
       "      <td>16.0</td>\n",
       "      <td>9.0</td>\n",
       "      <td>0.0</td>\n",
       "      <td>2</td>\n",
       "    </tr>\n",
       "    <tr>\n",
       "      <th>3</th>\n",
       "      <td>0.0</td>\n",
       "      <td>0.0</td>\n",
       "      <td>7.0</td>\n",
       "      <td>15.0</td>\n",
       "      <td>13.0</td>\n",
       "      <td>1.0</td>\n",
       "      <td>0.0</td>\n",
       "      <td>0.0</td>\n",
       "      <td>0.0</td>\n",
       "      <td>8.0</td>\n",
       "      <td>...</td>\n",
       "      <td>0.0</td>\n",
       "      <td>0.0</td>\n",
       "      <td>0.0</td>\n",
       "      <td>7.0</td>\n",
       "      <td>13.0</td>\n",
       "      <td>13.0</td>\n",
       "      <td>9.0</td>\n",
       "      <td>0.0</td>\n",
       "      <td>0.0</td>\n",
       "      <td>3</td>\n",
       "    </tr>\n",
       "    <tr>\n",
       "      <th>4</th>\n",
       "      <td>0.0</td>\n",
       "      <td>0.0</td>\n",
       "      <td>0.0</td>\n",
       "      <td>1.0</td>\n",
       "      <td>11.0</td>\n",
       "      <td>0.0</td>\n",
       "      <td>0.0</td>\n",
       "      <td>0.0</td>\n",
       "      <td>0.0</td>\n",
       "      <td>0.0</td>\n",
       "      <td>...</td>\n",
       "      <td>0.0</td>\n",
       "      <td>0.0</td>\n",
       "      <td>0.0</td>\n",
       "      <td>0.0</td>\n",
       "      <td>2.0</td>\n",
       "      <td>16.0</td>\n",
       "      <td>4.0</td>\n",
       "      <td>0.0</td>\n",
       "      <td>0.0</td>\n",
       "      <td>4</td>\n",
       "    </tr>\n",
       "  </tbody>\n",
       "</table>\n",
       "<p>5 rows × 65 columns</p>\n",
       "</div>"
      ],
      "text/plain": [
       "     0    1    2     3     4     5    6    7    8    9  ...   55   56   57  \\\n",
       "0  0.0  0.0  5.0  13.0   9.0   1.0  0.0  0.0  0.0  0.0  ...  0.0  0.0  0.0   \n",
       "1  0.0  0.0  0.0  12.0  13.0   5.0  0.0  0.0  0.0  0.0  ...  0.0  0.0  0.0   \n",
       "2  0.0  0.0  0.0   4.0  15.0  12.0  0.0  0.0  0.0  0.0  ...  0.0  0.0  0.0   \n",
       "3  0.0  0.0  7.0  15.0  13.0   1.0  0.0  0.0  0.0  8.0  ...  0.0  0.0  0.0   \n",
       "4  0.0  0.0  0.0   1.0  11.0   0.0  0.0  0.0  0.0  0.0  ...  0.0  0.0  0.0   \n",
       "\n",
       "    58    59    60    61   62   63  classe  \n",
       "0  6.0  13.0  10.0   0.0  0.0  0.0       0  \n",
       "1  0.0  11.0  16.0  10.0  0.0  0.0       1  \n",
       "2  0.0   3.0  11.0  16.0  9.0  0.0       2  \n",
       "3  7.0  13.0  13.0   9.0  0.0  0.0       3  \n",
       "4  0.0   2.0  16.0   4.0  0.0  0.0       4  \n",
       "\n",
       "[5 rows x 65 columns]"
      ]
     },
     "execution_count": 11,
     "metadata": {},
     "output_type": "execute_result"
    }
   ],
   "source": [
    "# Visualizando as primeiras 5 linhas\n",
    "dataset.head()"
   ]
  },
  {
   "cell_type": "markdown",
   "metadata": {},
   "source": [
    "Temos um dataset com 65 colunas, sendo a última a classe. Os atributos 0 até 63 são os valores correspondentes aos pixels, cada valor desses é uma intensidade de pixel baseado na escala de cores. Cada linha se corresponde a uma imagem de um numeral e sua respectiva classe, por exemplo, a primeira amostra de dados corresponde à imagem do numeral 0."
   ]
  },
  {
   "cell_type": "markdown",
   "metadata": {},
   "source": [
    "**Dividindo os Dados em Treino e Teste**"
   ]
  },
  {
   "cell_type": "code",
   "execution_count": 12,
   "metadata": {},
   "outputs": [],
   "source": [
    "from sklearn.model_selection import train_test_split\n",
    "X_train, X_test, y_train, y_test = train_test_split(dataset.drop('classe', axis = 1), \n",
    "                                                    dataset['classe'], \n",
    "                                                    test_size = 0.3)"
   ]
  },
  {
   "cell_type": "markdown",
   "metadata": {},
   "source": [
    "30% de nossos dados serão utilizados para Teste e 70% para Treino."
   ]
  },
  {
   "cell_type": "code",
   "execution_count": 13,
   "metadata": {},
   "outputs": [
    {
     "data": {
      "text/plain": [
       "((1257, 64), (540, 64))"
      ]
     },
     "execution_count": 13,
     "metadata": {},
     "output_type": "execute_result"
    }
   ],
   "source": [
    "# Verificando a forma dos dados\n",
    "X_train.shape, X_test.shape"
   ]
  },
  {
   "cell_type": "code",
   "execution_count": 14,
   "metadata": {},
   "outputs": [
    {
     "data": {
      "text/plain": [
       "((1257,), (540,))"
      ]
     },
     "execution_count": 14,
     "metadata": {},
     "output_type": "execute_result"
    }
   ],
   "source": [
    "y_train.shape, y_test.shape"
   ]
  },
  {
   "cell_type": "markdown",
   "metadata": {},
   "source": [
    "**Instanciando o Algoritmo KNN**"
   ]
  },
  {
   "cell_type": "code",
   "execution_count": 15,
   "metadata": {},
   "outputs": [],
   "source": [
    "from sklearn.neighbors import KNeighborsClassifier\n",
    "knn = KNeighborsClassifier(n_neighbors = 3)"
   ]
  },
  {
   "cell_type": "markdown",
   "metadata": {},
   "source": [
    "**Treinando o Algoritmo KNN**"
   ]
  },
  {
   "cell_type": "code",
   "execution_count": 16,
   "metadata": {},
   "outputs": [
    {
     "data": {
      "text/plain": [
       "KNeighborsClassifier(n_neighbors=3)"
      ]
     },
     "execution_count": 16,
     "metadata": {},
     "output_type": "execute_result"
    }
   ],
   "source": [
    "knn.fit(X_train, y_train)"
   ]
  },
  {
   "cell_type": "markdown",
   "metadata": {},
   "source": [
    "**Fazendo a Predição para as Features de Teste**"
   ]
  },
  {
   "cell_type": "code",
   "execution_count": 17,
   "metadata": {},
   "outputs": [
    {
     "data": {
      "text/plain": [
       "array([6, 4, 6, 4, 1, 6, 7, 7, 3, 3, 6, 1, 9, 7, 3, 2, 1, 4, 7, 9, 5, 5,\n",
       "       6, 6, 5, 2, 7, 0, 4, 1, 6, 6, 7, 3, 2, 8, 8, 9, 0, 5, 7, 4, 4, 8,\n",
       "       3, 9, 8, 3, 1, 7, 8, 4, 4, 1, 6, 3, 8, 9, 9, 2, 6, 7, 6, 4, 8, 9,\n",
       "       1, 2, 0, 2, 0, 8, 8, 6, 3, 3, 6, 3, 1, 7, 5, 7, 0, 4, 0, 3, 4, 8,\n",
       "       3, 1, 5, 1, 1, 1, 6, 0, 2, 9, 0, 9, 3, 6, 3, 8, 9, 7, 4, 9, 2, 4,\n",
       "       8, 2, 0, 5, 8, 3, 2, 4, 2, 0, 6, 6, 7, 4, 5, 6, 4, 8, 3, 3, 5, 4,\n",
       "       6, 5, 6, 1, 1, 9, 5, 7, 7, 6, 4, 9, 8, 7, 1, 8, 1, 5, 1, 8, 7, 0,\n",
       "       5, 5, 1, 1, 3, 4, 6, 7, 1, 2, 5, 5, 8, 9, 7, 1, 5, 4, 1, 4, 0, 3,\n",
       "       8, 0, 2, 0, 1, 7, 1, 3, 7, 7, 4, 2, 1, 7, 9, 9, 3, 0, 9, 9, 8, 4,\n",
       "       7, 5, 3, 0, 1, 9, 5, 5, 1, 9, 1, 3, 2, 3, 8, 4, 7, 8, 6, 9, 0, 1,\n",
       "       2, 0, 8, 4, 6, 2, 1, 8, 4, 5, 0, 4, 4, 7, 6, 8, 9, 6, 4, 7, 1, 2,\n",
       "       7, 3, 8, 6, 9, 0, 3, 3, 5, 9, 6, 6, 7, 5, 6, 8, 8, 5, 2, 2, 4, 1,\n",
       "       3, 7, 2, 3, 1, 6, 8, 2, 9, 8, 3, 3, 8, 1, 3, 8, 4, 0, 9, 0, 0, 0,\n",
       "       1, 7, 3, 1, 6, 7, 5, 6, 1, 5, 7, 6, 6, 6, 5, 6, 2, 2, 4, 4, 9, 2,\n",
       "       4, 2, 9, 3, 9, 0, 1, 2, 9, 4, 8, 3, 1, 2, 3, 8, 4, 4, 1, 6, 3, 3,\n",
       "       1, 5, 0, 2, 5, 8, 3, 2, 0, 3, 3, 2, 7, 1, 3, 6, 4, 0, 6, 0, 6, 6,\n",
       "       3, 7, 5, 2, 7, 0, 7, 9, 5, 1, 4, 1, 3, 2, 3, 0, 8, 9, 0, 5, 0, 0,\n",
       "       5, 7, 7, 1, 3, 6, 0, 5, 0, 2, 2, 9, 5, 8, 7, 5, 6, 3, 9, 2, 8, 8,\n",
       "       6, 0, 3, 4, 2, 9, 9, 4, 8, 9, 2, 0, 7, 0, 2, 9, 2, 0, 7, 0, 6, 4,\n",
       "       6, 7, 2, 8, 8, 7, 9, 9, 6, 0, 6, 7, 1, 2, 1, 7, 9, 9, 7, 2, 7, 3,\n",
       "       4, 6, 9, 1, 9, 4, 2, 4, 1, 3, 1, 0, 1, 9, 3, 4, 1, 5, 6, 1, 2, 0,\n",
       "       5, 5, 9, 8, 7, 5, 2, 7, 7, 6, 6, 6, 0, 6, 8, 7, 1, 9, 0, 0, 5, 7,\n",
       "       8, 3, 9, 7, 8, 3, 8, 7, 7, 7, 1, 7, 5, 6, 6, 1, 1, 4, 2, 0, 3, 8,\n",
       "       8, 5, 0, 6, 5, 3, 8, 2, 3, 2, 7, 5, 8, 2, 1, 6, 3, 3, 7, 8, 0, 4,\n",
       "       1, 8, 1, 6, 4, 3, 8, 3, 5, 9, 6, 5])"
      ]
     },
     "execution_count": 17,
     "metadata": {},
     "output_type": "execute_result"
    }
   ],
   "source": [
    "result = knn.predict(X_test)\n",
    "result"
   ]
  },
  {
   "cell_type": "markdown",
   "metadata": {},
   "source": [
    "## **Técnicas de Validação**"
   ]
  },
  {
   "cell_type": "markdown",
   "metadata": {},
   "source": [
    "*   **Métricas de Classificação**"
   ]
  },
  {
   "cell_type": "code",
   "execution_count": 18,
   "metadata": {},
   "outputs": [
    {
     "name": "stdout",
     "output_type": "stream",
     "text": [
      "              precision    recall  f1-score   support\n",
      "\n",
      "           0       1.00      1.00      1.00        50\n",
      "           1       0.93      1.00      0.97        56\n",
      "           2       1.00      1.00      1.00        50\n",
      "           3       0.98      0.97      0.98        61\n",
      "           4       1.00      1.00      1.00        49\n",
      "           5       0.98      0.98      0.98        47\n",
      "           6       0.98      1.00      0.99        60\n",
      "           7       0.97      0.98      0.97        59\n",
      "           8       1.00      0.93      0.96        58\n",
      "           9       0.98      0.96      0.97        50\n",
      "\n",
      "    accuracy                           0.98       540\n",
      "   macro avg       0.98      0.98      0.98       540\n",
      "weighted avg       0.98      0.98      0.98       540\n",
      "\n"
     ]
    }
   ],
   "source": [
    "from sklearn import metrics\n",
    "print(metrics.classification_report(y_test, result))"
   ]
  },
  {
   "cell_type": "markdown",
   "metadata": {},
   "source": [
    "Nosso algoritmo KNN acertou muito bem, com uma precisão média de 0.98. Temos também a precisão por classe, para o dígito 0 ele acertou todas, para o dígito 9 ele errou algumas, 0.98 de precisão. No geral, se comportou muito bem."
   ]
  },
  {
   "cell_type": "markdown",
   "metadata": {},
   "source": [
    "*   **Matriz de Confusão**"
   ]
  },
  {
   "cell_type": "code",
   "execution_count": 19,
   "metadata": {},
   "outputs": [
    {
     "name": "stdout",
     "output_type": "stream",
     "text": [
      "        Predito   0   1   2   3   4   5   6   7   8   9  All\n",
      "Real                                                        \n",
      "0                50   0   0   0   0   0   0   0   0   0   50\n",
      "1                 0  56   0   0   0   0   0   0   0   0   56\n",
      "2                 0   0  50   0   0   0   0   0   0   0   50\n",
      "3                 0   0   0  59   0   0   0   2   0   0   61\n",
      "4                 0   0   0   0  49   0   0   0   0   0   49\n",
      "5                 0   0   0   0   0  46   1   0   0   0   47\n",
      "6                 0   0   0   0   0   0  60   0   0   0   60\n",
      "7                 0   0   0   0   0   0   0  58   0   1   59\n",
      "8                 0   4   0   0   0   0   0   0  54   0   58\n",
      "9                 0   0   0   1   0   1   0   0   0  48   50\n",
      "All              50  60  50  60  49  47  61  60  54  49  540\n"
     ]
    }
   ],
   "source": [
    "print(pd.crosstab(y_test, result, rownames = ['Real'], colnames = ['        Predito'], margins = True))"
   ]
  },
  {
   "cell_type": "markdown",
   "metadata": {},
   "source": [
    "O total das amostras contendo imagens de 0, do conjunto de Teste, foi predito como tal. De 50 amostras contendo imagens do número 9, o algoritmo errou 2, que foram classificadas como 3 e 5."
   ]
  },
  {
   "cell_type": "markdown",
   "metadata": {},
   "source": [
    "*   **Cross Validation**"
   ]
  },
  {
   "cell_type": "markdown",
   "metadata": {},
   "source": [
    "A melhor maneira de fazer uma validação da performance de nosso modelo é através do *Cross Validation*. Isto consiste em separar os dados de Treino e Teste de forma iterativa. O método `cross_val_score` recebe como parâmetros: o algoritmo (knn, neste caso), os dados completos das features, os dados completos da classe, uma métrica para avaliação do modelo e o \"cv\". Este último divide o conjunto de dados em *k* dobras consecutivas, cada dobra é então usada uma vez como validação, enquanto as *k-1* dobras restantes formam o conjunto de treinamento. Ao final do processo, teremos *k* medidas da métrica de avaliação escolhida, com as quais geralmente se calcula a média e o desvio-padrão.\n",
    "\n",
    "Essa medida de desempenho é fundamental para ver o comportamento de seu modelo com amostragens diferentes."
   ]
  },
  {
   "cell_type": "code",
   "execution_count": 20,
   "metadata": {},
   "outputs": [
    {
     "name": "stdout",
     "output_type": "stream",
     "text": [
      "Resultado dos k testes: [0.95555556 0.95833333 0.96657382 0.98328691 0.96657382]\n",
      "Média dos testes: 0.9660646858557721\n",
      "Desvio Padrão dos testes: 0.009667874607068043\n"
     ]
    }
   ],
   "source": [
    "from sklearn.model_selection import cross_val_score\n",
    "scores = cross_val_score(knn, dataset.drop('classe', axis = 1), dataset['classe'], scoring = \"accuracy\", cv = 5)\n",
    "\n",
    "print(\"Resultado dos k testes:\", scores)\n",
    "print(\"Média dos testes:\", scores.mean())\n",
    "print(\"Desvio Padrão dos testes:\", scores.std())"
   ]
  },
  {
   "cell_type": "markdown",
   "metadata": {},
   "source": [
    "Neste caso, retornamos a precisão (a acurácia é o percentual de acertos que o modelo teve) em cada iteração. Temos uma performance muito boa, ou seja, o algortimo está acertando bastante."
   ]
  },
  {
   "cell_type": "markdown",
   "metadata": {},
   "source": [
    "## **Otimização do Parâmetro *k***"
   ]
  },
  {
   "cell_type": "markdown",
   "metadata": {},
   "source": [
    "Precisamos fazer testes para obter o valor do parâmetro *k* que garanta o melhor desempenho de nosso algoritmo. A ferramenta `GridSearch` permite fazer a otimização de parâmetros de algoritmos de Machine Learning, através de uma busca dos mesmos, e retorna uma faixa de melhores scores."
   ]
  },
  {
   "cell_type": "markdown",
   "metadata": {},
   "source": [
    "**Importando o GridSearch**"
   ]
  },
  {
   "cell_type": "code",
   "execution_count": 21,
   "metadata": {},
   "outputs": [],
   "source": [
    "from sklearn.model_selection import GridSearchCV"
   ]
  },
  {
   "cell_type": "markdown",
   "metadata": {},
   "source": [
    "**Definindo a Lista de Valores para o Parâmetro**"
   ]
  },
  {
   "cell_type": "markdown",
   "metadata": {},
   "source": [
    "Especificamos uma lista de valores entre 1 a 30 para o parâmetro *k*, e vemos a performance do algoritmo com cada um desses valores."
   ]
  },
  {
   "cell_type": "code",
   "execution_count": 22,
   "metadata": {},
   "outputs": [],
   "source": [
    "k_list = list(range(1, 31))"
   ]
  },
  {
   "cell_type": "markdown",
   "metadata": {},
   "source": [
    "Criamos um dicionário com a chave `n_neighbors` (*k*) que recebe a lista como valor."
   ]
  },
  {
   "cell_type": "code",
   "execution_count": 23,
   "metadata": {},
   "outputs": [
    {
     "data": {
      "text/plain": [
       "{'n_neighbors': [1,\n",
       "  2,\n",
       "  3,\n",
       "  4,\n",
       "  5,\n",
       "  6,\n",
       "  7,\n",
       "  8,\n",
       "  9,\n",
       "  10,\n",
       "  11,\n",
       "  12,\n",
       "  13,\n",
       "  14,\n",
       "  15,\n",
       "  16,\n",
       "  17,\n",
       "  18,\n",
       "  19,\n",
       "  20,\n",
       "  21,\n",
       "  22,\n",
       "  23,\n",
       "  24,\n",
       "  25,\n",
       "  26,\n",
       "  27,\n",
       "  28,\n",
       "  29,\n",
       "  30]}"
      ]
     },
     "execution_count": 23,
     "metadata": {},
     "output_type": "execute_result"
    }
   ],
   "source": [
    "k_values = dict(n_neighbors = k_list)\n",
    "k_values"
   ]
  },
  {
   "cell_type": "markdown",
   "metadata": {},
   "source": [
    "**Instanciando o Objeto GridSearch**"
   ]
  },
  {
   "cell_type": "markdown",
   "metadata": {},
   "source": [
    "Para instanciar o objeto `GridSearch` precisamos do classificador (knn), que já instanciamos e treinamos, os valores de *k* no formato dicionário com a chave `n_neighbors`, a quantidade de folds para fazer o *Cross Validation* e o valor de \"scoring\" que usaremos para avaliar a performance do algortimo. O `GridSearch` vai fazer vários testes especificando cada um dos valores da lista, utilizando o algoritmo KNN, dividindo em 5 folds e avaliando a acurácia."
   ]
  },
  {
   "cell_type": "code",
   "execution_count": 24,
   "metadata": {},
   "outputs": [],
   "source": [
    "# Instanciando o objeto GridSearch e armazenando na variável grid\n",
    "grid = GridSearchCV(knn, k_values, cv = 5, scoring = 'accuracy')"
   ]
  },
  {
   "cell_type": "markdown",
   "metadata": {},
   "source": [
    "**Treinando o Objeto**"
   ]
  },
  {
   "cell_type": "markdown",
   "metadata": {},
   "source": [
    "Treinamos o objeto de forma similar ao treinamento do algoritmo. Para isso, usamos o método `fit` e passamos para ele as features completas do dataset (*X*) e as classes completas (*y*). O próprio `GridSearch` vai fazer a separação dos dados em dados de Treino e dados de Teste, em 5 iterações."
   ]
  },
  {
   "cell_type": "code",
   "execution_count": 25,
   "metadata": {},
   "outputs": [
    {
     "data": {
      "text/plain": [
       "GridSearchCV(cv=5, estimator=KNeighborsClassifier(n_neighbors=3),\n",
       "             param_grid={'n_neighbors': [1, 2, 3, 4, 5, 6, 7, 8, 9, 10, 11, 12,\n",
       "                                         13, 14, 15, 16, 17, 18, 19, 20, 21, 22,\n",
       "                                         23, 24, 25, 26, 27, 28, 29, 30]},\n",
       "             scoring='accuracy')"
      ]
     },
     "execution_count": 25,
     "metadata": {},
     "output_type": "execute_result"
    }
   ],
   "source": [
    "grid.fit(dataset.drop('classe', axis = 1), dataset['classe'])"
   ]
  },
  {
   "cell_type": "markdown",
   "metadata": {},
   "source": [
    "Poderiamos testar uma combinação de parâmetros para otimizar o modelo. Neste caso, somente estamos testando o parâmetro *k*, através do atributo `n_neighbors`."
   ]
  },
  {
   "cell_type": "markdown",
   "metadata": {},
   "source": [
    "**Visualizando os Valores de Scores**"
   ]
  },
  {
   "cell_type": "code",
   "execution_count": 26,
   "metadata": {},
   "outputs": [
    {
     "data": {
      "text/plain": [
       "{'mean_fit_time': array([0.01313968, 0.01139407, 0.01182308, 0.01160836, 0.01164379,\n",
       "        0.0115149 , 0.01131449, 0.011516  , 0.01125636, 0.0114367 ,\n",
       "        0.01118889, 0.01172695, 0.01121488, 0.01116891, 0.01127157,\n",
       "        0.0114428 , 0.01115642, 0.01115484, 0.01118584, 0.01121807,\n",
       "        0.01122489, 0.01140885, 0.01118379, 0.01120882, 0.01123891,\n",
       "        0.01138148, 0.01115847, 0.01123257, 0.0112009 , 0.01153698]),\n",
       " 'std_fit_time': array([3.64275725e-03, 2.35533539e-04, 7.37055721e-04, 2.93673705e-04,\n",
       "        4.37085170e-04, 4.67130109e-04, 1.66476384e-04, 4.02288625e-04,\n",
       "        5.95555294e-05, 4.15487209e-04, 6.93716293e-05, 7.39923855e-04,\n",
       "        7.60682463e-05, 4.90900091e-05, 1.34417731e-04, 4.22056421e-04,\n",
       "        4.99764470e-05, 2.85363834e-05, 2.76279301e-05, 1.11318143e-04,\n",
       "        5.42446229e-05, 4.71625635e-04, 4.46802778e-05, 9.17495162e-05,\n",
       "        9.55325842e-05, 4.43179638e-04, 7.28358419e-05, 1.36490203e-04,\n",
       "        5.03698960e-05, 5.71317454e-04]),\n",
       " 'mean_score_time': array([0.07875185, 0.08348656, 0.08741231, 0.08618035, 0.0867898 ,\n",
       "        0.08561077, 0.08502135, 0.08667636, 0.08620524, 0.08665352,\n",
       "        0.08616495, 0.08686719, 0.08656945, 0.08808742, 0.08923874,\n",
       "        0.0882081 , 0.08682466, 0.08839355, 0.08792515, 0.08846531,\n",
       "        0.08762546, 0.08880534, 0.08777313, 0.0896584 , 0.08830585,\n",
       "        0.08921566, 0.08881049, 0.08959961, 0.08882017, 0.0906311 ]),\n",
       " 'std_score_time': array([0.00111532, 0.00223296, 0.00517356, 0.00247777, 0.0032893 ,\n",
       "        0.00116975, 0.00070368, 0.00263288, 0.00111993, 0.00122118,\n",
       "        0.0009831 , 0.00121516, 0.00063004, 0.00177403, 0.00391161,\n",
       "        0.00193994, 0.00031276, 0.00150363, 0.00064188, 0.00147706,\n",
       "        0.00045814, 0.00142401, 0.00028447, 0.00164662, 0.00018545,\n",
       "        0.00099245, 0.00088959, 0.00130683, 0.00011886, 0.00194921]),\n",
       " 'param_n_neighbors': masked_array(data=[1, 2, 3, 4, 5, 6, 7, 8, 9, 10, 11, 12, 13, 14, 15, 16,\n",
       "                    17, 18, 19, 20, 21, 22, 23, 24, 25, 26, 27, 28, 29, 30],\n",
       "              mask=[False, False, False, False, False, False, False, False,\n",
       "                    False, False, False, False, False, False, False, False,\n",
       "                    False, False, False, False, False, False, False, False,\n",
       "                    False, False, False, False, False, False],\n",
       "        fill_value='?',\n",
       "             dtype=object),\n",
       " 'params': [{'n_neighbors': 1},\n",
       "  {'n_neighbors': 2},\n",
       "  {'n_neighbors': 3},\n",
       "  {'n_neighbors': 4},\n",
       "  {'n_neighbors': 5},\n",
       "  {'n_neighbors': 6},\n",
       "  {'n_neighbors': 7},\n",
       "  {'n_neighbors': 8},\n",
       "  {'n_neighbors': 9},\n",
       "  {'n_neighbors': 10},\n",
       "  {'n_neighbors': 11},\n",
       "  {'n_neighbors': 12},\n",
       "  {'n_neighbors': 13},\n",
       "  {'n_neighbors': 14},\n",
       "  {'n_neighbors': 15},\n",
       "  {'n_neighbors': 16},\n",
       "  {'n_neighbors': 17},\n",
       "  {'n_neighbors': 18},\n",
       "  {'n_neighbors': 19},\n",
       "  {'n_neighbors': 20},\n",
       "  {'n_neighbors': 21},\n",
       "  {'n_neighbors': 22},\n",
       "  {'n_neighbors': 23},\n",
       "  {'n_neighbors': 24},\n",
       "  {'n_neighbors': 25},\n",
       "  {'n_neighbors': 26},\n",
       "  {'n_neighbors': 27},\n",
       "  {'n_neighbors': 28},\n",
       "  {'n_neighbors': 29},\n",
       "  {'n_neighbors': 30}],\n",
       " 'split0_test_score': array([0.96111111, 0.96111111, 0.95555556, 0.94722222, 0.94722222,\n",
       "        0.94444444, 0.93611111, 0.93611111, 0.93055556, 0.93055556,\n",
       "        0.93611111, 0.93333333, 0.93333333, 0.93611111, 0.93333333,\n",
       "        0.93055556, 0.93611111, 0.92777778, 0.93055556, 0.925     ,\n",
       "        0.925     , 0.91944444, 0.925     , 0.91944444, 0.92222222,\n",
       "        0.92222222, 0.92777778, 0.93055556, 0.92777778, 0.925     ]),\n",
       " 'split1_test_score': array([0.95277778, 0.96666667, 0.95833333, 0.95833333, 0.95555556,\n",
       "        0.95833333, 0.96111111, 0.95833333, 0.95277778, 0.94722222,\n",
       "        0.94444444, 0.95277778, 0.95      , 0.95277778, 0.95      ,\n",
       "        0.95      , 0.95      , 0.94444444, 0.95      , 0.95277778,\n",
       "        0.94444444, 0.95      , 0.94166667, 0.94166667, 0.93888889,\n",
       "        0.93611111, 0.93333333, 0.93611111, 0.92777778, 0.93611111]),\n",
       " 'split2_test_score': array([0.96657382, 0.96935933, 0.96657382, 0.96657382, 0.96657382,\n",
       "        0.96657382, 0.96935933, 0.96935933, 0.97214485, 0.96935933,\n",
       "        0.96935933, 0.96935933, 0.97214485, 0.96935933, 0.96935933,\n",
       "        0.96935933, 0.9637883 , 0.9637883 , 0.9637883 , 0.96657382,\n",
       "        0.9637883 , 0.96657382, 0.9637883 , 0.96657382, 0.95821727,\n",
       "        0.95821727, 0.94986072, 0.94428969, 0.94150418, 0.93871866]),\n",
       " 'split3_test_score': array([0.98607242, 0.97771588, 0.98328691, 0.98050139, 0.98050139,\n",
       "        0.97493036, 0.98050139, 0.97771588, 0.97771588, 0.97771588,\n",
       "        0.97771588, 0.97493036, 0.97493036, 0.97214485, 0.97214485,\n",
       "        0.96935933, 0.96657382, 0.9637883 , 0.9637883 , 0.96100279,\n",
       "        0.96657382, 0.9637883 , 0.96657382, 0.96935933, 0.96657382,\n",
       "        0.9637883 , 0.9637883 , 0.96100279, 0.96100279, 0.96100279]),\n",
       " 'split4_test_score': array([0.95543175, 0.96100279, 0.96657382, 0.96657382, 0.9637883 ,\n",
       "        0.95264624, 0.95264624, 0.94986072, 0.94986072, 0.94986072,\n",
       "        0.94986072, 0.94986072, 0.94707521, 0.94986072, 0.94707521,\n",
       "        0.95264624, 0.94986072, 0.94707521, 0.94428969, 0.94428969,\n",
       "        0.94428969, 0.94707521, 0.94428969, 0.94707521, 0.94428969,\n",
       "        0.94707521, 0.94428969, 0.94428969, 0.94707521, 0.94428969]),\n",
       " 'mean_test_score': array([0.96439338, 0.96717115, 0.96606469, 0.96384092, 0.96272826,\n",
       "        0.95938564, 0.95994584, 0.95827608, 0.95661096, 0.95494274,\n",
       "        0.9554983 , 0.95605231, 0.95549675, 0.95605076, 0.95438254,\n",
       "        0.95438409, 0.95326679, 0.94937481, 0.95048437, 0.94992881,\n",
       "        0.94881925, 0.94937635, 0.9482637 , 0.94882389, 0.94603838,\n",
       "        0.94548282, 0.94380997, 0.94324977, 0.94102755, 0.94102445]),\n",
       " 'std_test_score': array([0.01183842, 0.00618072, 0.00966787, 0.01094553, 0.01116854,\n",
       "        0.01061202, 0.01505909, 0.01457979, 0.01688705, 0.01677273,\n",
       "        0.01559219, 0.01482341, 0.01579353, 0.01328726, 0.01452912,\n",
       "        0.01441218, 0.01099427, 0.01350204, 0.01256786, 0.01456744,\n",
       "        0.0151414 , 0.01676341, 0.01534136, 0.01818901, 0.0154364 ,\n",
       "        0.01502449, 0.01267096, 0.01029015, 0.01254531, 0.01179861]),\n",
       " 'rank_test_score': array([ 3,  1,  2,  4,  5,  7,  6,  8,  9, 14, 12, 10, 13, 11, 16, 15, 17,\n",
       "        21, 18, 19, 23, 20, 24, 22, 25, 26, 27, 28, 29, 30], dtype=int32)}"
      ]
     },
     "execution_count": 26,
     "metadata": {},
     "output_type": "execute_result"
    }
   ],
   "source": [
    "grid.cv_results_"
   ]
  },
  {
   "cell_type": "markdown",
   "metadata": {},
   "source": [
    "Os primeiros valores de acurácia média para o KNN correspondem a *k = 1, 2, ...* e assim por diante.\n",
    "\n",
    "Para imprimir o melhor valor do parâmetro *k* e a melhor acurácia, usamos os atributos `grid.best_params_` e `grid.best_score_`."
   ]
  },
  {
   "cell_type": "code",
   "execution_count": 27,
   "metadata": {},
   "outputs": [
    {
     "name": "stdout",
     "output_type": "stream",
     "text": [
      "O melhor valor de k é: {'n_neighbors': 2}, com acurácia de 0.9671711544413494\n"
     ]
    }
   ],
   "source": [
    "print(\"O melhor valor de k é: {}, com acurácia de {}\".format(grid.best_params_, grid.best_score_))"
   ]
  },
  {
   "cell_type": "markdown",
   "metadata": {},
   "source": [
    "O valor *k = 2* (fazendo duas comparações de vizinhos) fornece a melhor performance do modelo, ele garante uma acurácia de 0.96717."
   ]
  },
  {
   "cell_type": "markdown",
   "metadata": {},
   "source": [
    "**Visualização dos Valores de *k* e da Acurácia**"
   ]
  },
  {
   "cell_type": "code",
   "execution_count": 29,
   "metadata": {},
   "outputs": [
    {
     "data": {
      "application/javascript": [
       "/* Put everything inside the global mpl namespace */\n",
       "window.mpl = {};\n",
       "\n",
       "\n",
       "mpl.get_websocket_type = function() {\n",
       "    if (typeof(WebSocket) !== 'undefined') {\n",
       "        return WebSocket;\n",
       "    } else if (typeof(MozWebSocket) !== 'undefined') {\n",
       "        return MozWebSocket;\n",
       "    } else {\n",
       "        alert('Your browser does not have WebSocket support. ' +\n",
       "              'Please try Chrome, Safari or Firefox ≥ 6. ' +\n",
       "              'Firefox 4 and 5 are also supported but you ' +\n",
       "              'have to enable WebSockets in about:config.');\n",
       "    };\n",
       "}\n",
       "\n",
       "mpl.figure = function(figure_id, websocket, ondownload, parent_element) {\n",
       "    this.id = figure_id;\n",
       "\n",
       "    this.ws = websocket;\n",
       "\n",
       "    this.supports_binary = (this.ws.binaryType != undefined);\n",
       "\n",
       "    if (!this.supports_binary) {\n",
       "        var warnings = document.getElementById(\"mpl-warnings\");\n",
       "        if (warnings) {\n",
       "            warnings.style.display = 'block';\n",
       "            warnings.textContent = (\n",
       "                \"This browser does not support binary websocket messages. \" +\n",
       "                    \"Performance may be slow.\");\n",
       "        }\n",
       "    }\n",
       "\n",
       "    this.imageObj = new Image();\n",
       "\n",
       "    this.context = undefined;\n",
       "    this.message = undefined;\n",
       "    this.canvas = undefined;\n",
       "    this.rubberband_canvas = undefined;\n",
       "    this.rubberband_context = undefined;\n",
       "    this.format_dropdown = undefined;\n",
       "\n",
       "    this.image_mode = 'full';\n",
       "\n",
       "    this.root = $('<div/>');\n",
       "    this._root_extra_style(this.root)\n",
       "    this.root.attr('style', 'display: inline-block');\n",
       "\n",
       "    $(parent_element).append(this.root);\n",
       "\n",
       "    this._init_header(this);\n",
       "    this._init_canvas(this);\n",
       "    this._init_toolbar(this);\n",
       "\n",
       "    var fig = this;\n",
       "\n",
       "    this.waiting = false;\n",
       "\n",
       "    this.ws.onopen =  function () {\n",
       "            fig.send_message(\"supports_binary\", {value: fig.supports_binary});\n",
       "            fig.send_message(\"send_image_mode\", {});\n",
       "            if (mpl.ratio != 1) {\n",
       "                fig.send_message(\"set_dpi_ratio\", {'dpi_ratio': mpl.ratio});\n",
       "            }\n",
       "            fig.send_message(\"refresh\", {});\n",
       "        }\n",
       "\n",
       "    this.imageObj.onload = function() {\n",
       "            if (fig.image_mode == 'full') {\n",
       "                // Full images could contain transparency (where diff images\n",
       "                // almost always do), so we need to clear the canvas so that\n",
       "                // there is no ghosting.\n",
       "                fig.context.clearRect(0, 0, fig.canvas.width, fig.canvas.height);\n",
       "            }\n",
       "            fig.context.drawImage(fig.imageObj, 0, 0);\n",
       "        };\n",
       "\n",
       "    this.imageObj.onunload = function() {\n",
       "        fig.ws.close();\n",
       "    }\n",
       "\n",
       "    this.ws.onmessage = this._make_on_message_function(this);\n",
       "\n",
       "    this.ondownload = ondownload;\n",
       "}\n",
       "\n",
       "mpl.figure.prototype._init_header = function() {\n",
       "    var titlebar = $(\n",
       "        '<div class=\"ui-dialog-titlebar ui-widget-header ui-corner-all ' +\n",
       "        'ui-helper-clearfix\"/>');\n",
       "    var titletext = $(\n",
       "        '<div class=\"ui-dialog-title\" style=\"width: 100%; ' +\n",
       "        'text-align: center; padding: 3px;\"/>');\n",
       "    titlebar.append(titletext)\n",
       "    this.root.append(titlebar);\n",
       "    this.header = titletext[0];\n",
       "}\n",
       "\n",
       "\n",
       "\n",
       "mpl.figure.prototype._canvas_extra_style = function(canvas_div) {\n",
       "\n",
       "}\n",
       "\n",
       "\n",
       "mpl.figure.prototype._root_extra_style = function(canvas_div) {\n",
       "\n",
       "}\n",
       "\n",
       "mpl.figure.prototype._init_canvas = function() {\n",
       "    var fig = this;\n",
       "\n",
       "    var canvas_div = $('<div/>');\n",
       "\n",
       "    canvas_div.attr('style', 'position: relative; clear: both; outline: 0');\n",
       "\n",
       "    function canvas_keyboard_event(event) {\n",
       "        return fig.key_event(event, event['data']);\n",
       "    }\n",
       "\n",
       "    canvas_div.keydown('key_press', canvas_keyboard_event);\n",
       "    canvas_div.keyup('key_release', canvas_keyboard_event);\n",
       "    this.canvas_div = canvas_div\n",
       "    this._canvas_extra_style(canvas_div)\n",
       "    this.root.append(canvas_div);\n",
       "\n",
       "    var canvas = $('<canvas/>');\n",
       "    canvas.addClass('mpl-canvas');\n",
       "    canvas.attr('style', \"left: 0; top: 0; z-index: 0; outline: 0\")\n",
       "\n",
       "    this.canvas = canvas[0];\n",
       "    this.context = canvas[0].getContext(\"2d\");\n",
       "\n",
       "    var backingStore = this.context.backingStorePixelRatio ||\n",
       "\tthis.context.webkitBackingStorePixelRatio ||\n",
       "\tthis.context.mozBackingStorePixelRatio ||\n",
       "\tthis.context.msBackingStorePixelRatio ||\n",
       "\tthis.context.oBackingStorePixelRatio ||\n",
       "\tthis.context.backingStorePixelRatio || 1;\n",
       "\n",
       "    mpl.ratio = (window.devicePixelRatio || 1) / backingStore;\n",
       "\n",
       "    var rubberband = $('<canvas/>');\n",
       "    rubberband.attr('style', \"position: absolute; left: 0; top: 0; z-index: 1;\")\n",
       "\n",
       "    var pass_mouse_events = true;\n",
       "\n",
       "    canvas_div.resizable({\n",
       "        start: function(event, ui) {\n",
       "            pass_mouse_events = false;\n",
       "        },\n",
       "        resize: function(event, ui) {\n",
       "            fig.request_resize(ui.size.width, ui.size.height);\n",
       "        },\n",
       "        stop: function(event, ui) {\n",
       "            pass_mouse_events = true;\n",
       "            fig.request_resize(ui.size.width, ui.size.height);\n",
       "        },\n",
       "    });\n",
       "\n",
       "    function mouse_event_fn(event) {\n",
       "        if (pass_mouse_events)\n",
       "            return fig.mouse_event(event, event['data']);\n",
       "    }\n",
       "\n",
       "    rubberband.mousedown('button_press', mouse_event_fn);\n",
       "    rubberband.mouseup('button_release', mouse_event_fn);\n",
       "    // Throttle sequential mouse events to 1 every 20ms.\n",
       "    rubberband.mousemove('motion_notify', mouse_event_fn);\n",
       "\n",
       "    rubberband.mouseenter('figure_enter', mouse_event_fn);\n",
       "    rubberband.mouseleave('figure_leave', mouse_event_fn);\n",
       "\n",
       "    canvas_div.on(\"wheel\", function (event) {\n",
       "        event = event.originalEvent;\n",
       "        event['data'] = 'scroll'\n",
       "        if (event.deltaY < 0) {\n",
       "            event.step = 1;\n",
       "        } else {\n",
       "            event.step = -1;\n",
       "        }\n",
       "        mouse_event_fn(event);\n",
       "    });\n",
       "\n",
       "    canvas_div.append(canvas);\n",
       "    canvas_div.append(rubberband);\n",
       "\n",
       "    this.rubberband = rubberband;\n",
       "    this.rubberband_canvas = rubberband[0];\n",
       "    this.rubberband_context = rubberband[0].getContext(\"2d\");\n",
       "    this.rubberband_context.strokeStyle = \"#000000\";\n",
       "\n",
       "    this._resize_canvas = function(width, height) {\n",
       "        // Keep the size of the canvas, canvas container, and rubber band\n",
       "        // canvas in synch.\n",
       "        canvas_div.css('width', width)\n",
       "        canvas_div.css('height', height)\n",
       "\n",
       "        canvas.attr('width', width * mpl.ratio);\n",
       "        canvas.attr('height', height * mpl.ratio);\n",
       "        canvas.attr('style', 'width: ' + width + 'px; height: ' + height + 'px;');\n",
       "\n",
       "        rubberband.attr('width', width);\n",
       "        rubberband.attr('height', height);\n",
       "    }\n",
       "\n",
       "    // Set the figure to an initial 600x600px, this will subsequently be updated\n",
       "    // upon first draw.\n",
       "    this._resize_canvas(600, 600);\n",
       "\n",
       "    // Disable right mouse context menu.\n",
       "    $(this.rubberband_canvas).bind(\"contextmenu\",function(e){\n",
       "        return false;\n",
       "    });\n",
       "\n",
       "    function set_focus () {\n",
       "        canvas.focus();\n",
       "        canvas_div.focus();\n",
       "    }\n",
       "\n",
       "    window.setTimeout(set_focus, 100);\n",
       "}\n",
       "\n",
       "mpl.figure.prototype._init_toolbar = function() {\n",
       "    var fig = this;\n",
       "\n",
       "    var nav_element = $('<div/>');\n",
       "    nav_element.attr('style', 'width: 100%');\n",
       "    this.root.append(nav_element);\n",
       "\n",
       "    // Define a callback function for later on.\n",
       "    function toolbar_event(event) {\n",
       "        return fig.toolbar_button_onclick(event['data']);\n",
       "    }\n",
       "    function toolbar_mouse_event(event) {\n",
       "        return fig.toolbar_button_onmouseover(event['data']);\n",
       "    }\n",
       "\n",
       "    for(var toolbar_ind in mpl.toolbar_items) {\n",
       "        var name = mpl.toolbar_items[toolbar_ind][0];\n",
       "        var tooltip = mpl.toolbar_items[toolbar_ind][1];\n",
       "        var image = mpl.toolbar_items[toolbar_ind][2];\n",
       "        var method_name = mpl.toolbar_items[toolbar_ind][3];\n",
       "\n",
       "        if (!name) {\n",
       "            // put a spacer in here.\n",
       "            continue;\n",
       "        }\n",
       "        var button = $('<button/>');\n",
       "        button.addClass('ui-button ui-widget ui-state-default ui-corner-all ' +\n",
       "                        'ui-button-icon-only');\n",
       "        button.attr('role', 'button');\n",
       "        button.attr('aria-disabled', 'false');\n",
       "        button.click(method_name, toolbar_event);\n",
       "        button.mouseover(tooltip, toolbar_mouse_event);\n",
       "\n",
       "        var icon_img = $('<span/>');\n",
       "        icon_img.addClass('ui-button-icon-primary ui-icon');\n",
       "        icon_img.addClass(image);\n",
       "        icon_img.addClass('ui-corner-all');\n",
       "\n",
       "        var tooltip_span = $('<span/>');\n",
       "        tooltip_span.addClass('ui-button-text');\n",
       "        tooltip_span.html(tooltip);\n",
       "\n",
       "        button.append(icon_img);\n",
       "        button.append(tooltip_span);\n",
       "\n",
       "        nav_element.append(button);\n",
       "    }\n",
       "\n",
       "    var fmt_picker_span = $('<span/>');\n",
       "\n",
       "    var fmt_picker = $('<select/>');\n",
       "    fmt_picker.addClass('mpl-toolbar-option ui-widget ui-widget-content');\n",
       "    fmt_picker_span.append(fmt_picker);\n",
       "    nav_element.append(fmt_picker_span);\n",
       "    this.format_dropdown = fmt_picker[0];\n",
       "\n",
       "    for (var ind in mpl.extensions) {\n",
       "        var fmt = mpl.extensions[ind];\n",
       "        var option = $(\n",
       "            '<option/>', {selected: fmt === mpl.default_extension}).html(fmt);\n",
       "        fmt_picker.append(option);\n",
       "    }\n",
       "\n",
       "    // Add hover states to the ui-buttons\n",
       "    $( \".ui-button\" ).hover(\n",
       "        function() { $(this).addClass(\"ui-state-hover\");},\n",
       "        function() { $(this).removeClass(\"ui-state-hover\");}\n",
       "    );\n",
       "\n",
       "    var status_bar = $('<span class=\"mpl-message\"/>');\n",
       "    nav_element.append(status_bar);\n",
       "    this.message = status_bar[0];\n",
       "}\n",
       "\n",
       "mpl.figure.prototype.request_resize = function(x_pixels, y_pixels) {\n",
       "    // Request matplotlib to resize the figure. Matplotlib will then trigger a resize in the client,\n",
       "    // which will in turn request a refresh of the image.\n",
       "    this.send_message('resize', {'width': x_pixels, 'height': y_pixels});\n",
       "}\n",
       "\n",
       "mpl.figure.prototype.send_message = function(type, properties) {\n",
       "    properties['type'] = type;\n",
       "    properties['figure_id'] = this.id;\n",
       "    this.ws.send(JSON.stringify(properties));\n",
       "}\n",
       "\n",
       "mpl.figure.prototype.send_draw_message = function() {\n",
       "    if (!this.waiting) {\n",
       "        this.waiting = true;\n",
       "        this.ws.send(JSON.stringify({type: \"draw\", figure_id: this.id}));\n",
       "    }\n",
       "}\n",
       "\n",
       "\n",
       "mpl.figure.prototype.handle_save = function(fig, msg) {\n",
       "    var format_dropdown = fig.format_dropdown;\n",
       "    var format = format_dropdown.options[format_dropdown.selectedIndex].value;\n",
       "    fig.ondownload(fig, format);\n",
       "}\n",
       "\n",
       "\n",
       "mpl.figure.prototype.handle_resize = function(fig, msg) {\n",
       "    var size = msg['size'];\n",
       "    if (size[0] != fig.canvas.width || size[1] != fig.canvas.height) {\n",
       "        fig._resize_canvas(size[0], size[1]);\n",
       "        fig.send_message(\"refresh\", {});\n",
       "    };\n",
       "}\n",
       "\n",
       "mpl.figure.prototype.handle_rubberband = function(fig, msg) {\n",
       "    var x0 = msg['x0'] / mpl.ratio;\n",
       "    var y0 = (fig.canvas.height - msg['y0']) / mpl.ratio;\n",
       "    var x1 = msg['x1'] / mpl.ratio;\n",
       "    var y1 = (fig.canvas.height - msg['y1']) / mpl.ratio;\n",
       "    x0 = Math.floor(x0) + 0.5;\n",
       "    y0 = Math.floor(y0) + 0.5;\n",
       "    x1 = Math.floor(x1) + 0.5;\n",
       "    y1 = Math.floor(y1) + 0.5;\n",
       "    var min_x = Math.min(x0, x1);\n",
       "    var min_y = Math.min(y0, y1);\n",
       "    var width = Math.abs(x1 - x0);\n",
       "    var height = Math.abs(y1 - y0);\n",
       "\n",
       "    fig.rubberband_context.clearRect(\n",
       "        0, 0, fig.canvas.width / mpl.ratio, fig.canvas.height / mpl.ratio);\n",
       "\n",
       "    fig.rubberband_context.strokeRect(min_x, min_y, width, height);\n",
       "}\n",
       "\n",
       "mpl.figure.prototype.handle_figure_label = function(fig, msg) {\n",
       "    // Updates the figure title.\n",
       "    fig.header.textContent = msg['label'];\n",
       "}\n",
       "\n",
       "mpl.figure.prototype.handle_cursor = function(fig, msg) {\n",
       "    var cursor = msg['cursor'];\n",
       "    switch(cursor)\n",
       "    {\n",
       "    case 0:\n",
       "        cursor = 'pointer';\n",
       "        break;\n",
       "    case 1:\n",
       "        cursor = 'default';\n",
       "        break;\n",
       "    case 2:\n",
       "        cursor = 'crosshair';\n",
       "        break;\n",
       "    case 3:\n",
       "        cursor = 'move';\n",
       "        break;\n",
       "    }\n",
       "    fig.rubberband_canvas.style.cursor = cursor;\n",
       "}\n",
       "\n",
       "mpl.figure.prototype.handle_message = function(fig, msg) {\n",
       "    fig.message.textContent = msg['message'];\n",
       "}\n",
       "\n",
       "mpl.figure.prototype.handle_draw = function(fig, msg) {\n",
       "    // Request the server to send over a new figure.\n",
       "    fig.send_draw_message();\n",
       "}\n",
       "\n",
       "mpl.figure.prototype.handle_image_mode = function(fig, msg) {\n",
       "    fig.image_mode = msg['mode'];\n",
       "}\n",
       "\n",
       "mpl.figure.prototype.updated_canvas_event = function() {\n",
       "    // Called whenever the canvas gets updated.\n",
       "    this.send_message(\"ack\", {});\n",
       "}\n",
       "\n",
       "// A function to construct a web socket function for onmessage handling.\n",
       "// Called in the figure constructor.\n",
       "mpl.figure.prototype._make_on_message_function = function(fig) {\n",
       "    return function socket_on_message(evt) {\n",
       "        if (evt.data instanceof Blob) {\n",
       "            /* FIXME: We get \"Resource interpreted as Image but\n",
       "             * transferred with MIME type text/plain:\" errors on\n",
       "             * Chrome.  But how to set the MIME type?  It doesn't seem\n",
       "             * to be part of the websocket stream */\n",
       "            evt.data.type = \"image/png\";\n",
       "\n",
       "            /* Free the memory for the previous frames */\n",
       "            if (fig.imageObj.src) {\n",
       "                (window.URL || window.webkitURL).revokeObjectURL(\n",
       "                    fig.imageObj.src);\n",
       "            }\n",
       "\n",
       "            fig.imageObj.src = (window.URL || window.webkitURL).createObjectURL(\n",
       "                evt.data);\n",
       "            fig.updated_canvas_event();\n",
       "            fig.waiting = false;\n",
       "            return;\n",
       "        }\n",
       "        else if (typeof evt.data === 'string' && evt.data.slice(0, 21) == \"data:image/png;base64\") {\n",
       "            fig.imageObj.src = evt.data;\n",
       "            fig.updated_canvas_event();\n",
       "            fig.waiting = false;\n",
       "            return;\n",
       "        }\n",
       "\n",
       "        var msg = JSON.parse(evt.data);\n",
       "        var msg_type = msg['type'];\n",
       "\n",
       "        // Call the  \"handle_{type}\" callback, which takes\n",
       "        // the figure and JSON message as its only arguments.\n",
       "        try {\n",
       "            var callback = fig[\"handle_\" + msg_type];\n",
       "        } catch (e) {\n",
       "            console.log(\"No handler for the '\" + msg_type + \"' message type: \", msg);\n",
       "            return;\n",
       "        }\n",
       "\n",
       "        if (callback) {\n",
       "            try {\n",
       "                // console.log(\"Handling '\" + msg_type + \"' message: \", msg);\n",
       "                callback(fig, msg);\n",
       "            } catch (e) {\n",
       "                console.log(\"Exception inside the 'handler_\" + msg_type + \"' callback:\", e, e.stack, msg);\n",
       "            }\n",
       "        }\n",
       "    };\n",
       "}\n",
       "\n",
       "// from http://stackoverflow.com/questions/1114465/getting-mouse-location-in-canvas\n",
       "mpl.findpos = function(e) {\n",
       "    //this section is from http://www.quirksmode.org/js/events_properties.html\n",
       "    var targ;\n",
       "    if (!e)\n",
       "        e = window.event;\n",
       "    if (e.target)\n",
       "        targ = e.target;\n",
       "    else if (e.srcElement)\n",
       "        targ = e.srcElement;\n",
       "    if (targ.nodeType == 3) // defeat Safari bug\n",
       "        targ = targ.parentNode;\n",
       "\n",
       "    // jQuery normalizes the pageX and pageY\n",
       "    // pageX,Y are the mouse positions relative to the document\n",
       "    // offset() returns the position of the element relative to the document\n",
       "    var x = e.pageX - $(targ).offset().left;\n",
       "    var y = e.pageY - $(targ).offset().top;\n",
       "\n",
       "    return {\"x\": x, \"y\": y};\n",
       "};\n",
       "\n",
       "/*\n",
       " * return a copy of an object with only non-object keys\n",
       " * we need this to avoid circular references\n",
       " * http://stackoverflow.com/a/24161582/3208463\n",
       " */\n",
       "function simpleKeys (original) {\n",
       "  return Object.keys(original).reduce(function (obj, key) {\n",
       "    if (typeof original[key] !== 'object')\n",
       "        obj[key] = original[key]\n",
       "    return obj;\n",
       "  }, {});\n",
       "}\n",
       "\n",
       "mpl.figure.prototype.mouse_event = function(event, name) {\n",
       "    var canvas_pos = mpl.findpos(event)\n",
       "\n",
       "    if (name === 'button_press')\n",
       "    {\n",
       "        this.canvas.focus();\n",
       "        this.canvas_div.focus();\n",
       "    }\n",
       "\n",
       "    var x = canvas_pos.x * mpl.ratio;\n",
       "    var y = canvas_pos.y * mpl.ratio;\n",
       "\n",
       "    this.send_message(name, {x: x, y: y, button: event.button,\n",
       "                             step: event.step,\n",
       "                             guiEvent: simpleKeys(event)});\n",
       "\n",
       "    /* This prevents the web browser from automatically changing to\n",
       "     * the text insertion cursor when the button is pressed.  We want\n",
       "     * to control all of the cursor setting manually through the\n",
       "     * 'cursor' event from matplotlib */\n",
       "    event.preventDefault();\n",
       "    return false;\n",
       "}\n",
       "\n",
       "mpl.figure.prototype._key_event_extra = function(event, name) {\n",
       "    // Handle any extra behaviour associated with a key event\n",
       "}\n",
       "\n",
       "mpl.figure.prototype.key_event = function(event, name) {\n",
       "\n",
       "    // Prevent repeat events\n",
       "    if (name == 'key_press')\n",
       "    {\n",
       "        if (event.which === this._key)\n",
       "            return;\n",
       "        else\n",
       "            this._key = event.which;\n",
       "    }\n",
       "    if (name == 'key_release')\n",
       "        this._key = null;\n",
       "\n",
       "    var value = '';\n",
       "    if (event.ctrlKey && event.which != 17)\n",
       "        value += \"ctrl+\";\n",
       "    if (event.altKey && event.which != 18)\n",
       "        value += \"alt+\";\n",
       "    if (event.shiftKey && event.which != 16)\n",
       "        value += \"shift+\";\n",
       "\n",
       "    value += 'k';\n",
       "    value += event.which.toString();\n",
       "\n",
       "    this._key_event_extra(event, name);\n",
       "\n",
       "    this.send_message(name, {key: value,\n",
       "                             guiEvent: simpleKeys(event)});\n",
       "    return false;\n",
       "}\n",
       "\n",
       "mpl.figure.prototype.toolbar_button_onclick = function(name) {\n",
       "    if (name == 'download') {\n",
       "        this.handle_save(this, null);\n",
       "    } else {\n",
       "        this.send_message(\"toolbar_button\", {name: name});\n",
       "    }\n",
       "};\n",
       "\n",
       "mpl.figure.prototype.toolbar_button_onmouseover = function(tooltip) {\n",
       "    this.message.textContent = tooltip;\n",
       "};\n",
       "mpl.toolbar_items = [[\"Home\", \"Reset original view\", \"fa fa-home icon-home\", \"home\"], [\"Back\", \"Back to previous view\", \"fa fa-arrow-left icon-arrow-left\", \"back\"], [\"Forward\", \"Forward to next view\", \"fa fa-arrow-right icon-arrow-right\", \"forward\"], [\"\", \"\", \"\", \"\"], [\"Pan\", \"Pan axes with left mouse, zoom with right\", \"fa fa-arrows icon-move\", \"pan\"], [\"Zoom\", \"Zoom to rectangle\", \"fa fa-square-o icon-check-empty\", \"zoom\"], [\"\", \"\", \"\", \"\"], [\"Download\", \"Download plot\", \"fa fa-floppy-o icon-save\", \"download\"]];\n",
       "\n",
       "mpl.extensions = [\"eps\", \"jpeg\", \"pdf\", \"png\", \"ps\", \"raw\", \"svg\", \"tif\"];\n",
       "\n",
       "mpl.default_extension = \"png\";var comm_websocket_adapter = function(comm) {\n",
       "    // Create a \"websocket\"-like object which calls the given IPython comm\n",
       "    // object with the appropriate methods. Currently this is a non binary\n",
       "    // socket, so there is still some room for performance tuning.\n",
       "    var ws = {};\n",
       "\n",
       "    ws.close = function() {\n",
       "        comm.close()\n",
       "    };\n",
       "    ws.send = function(m) {\n",
       "        //console.log('sending', m);\n",
       "        comm.send(m);\n",
       "    };\n",
       "    // Register the callback with on_msg.\n",
       "    comm.on_msg(function(msg) {\n",
       "        //console.log('receiving', msg['content']['data'], msg);\n",
       "        // Pass the mpl event to the overridden (by mpl) onmessage function.\n",
       "        ws.onmessage(msg['content']['data'])\n",
       "    });\n",
       "    return ws;\n",
       "}\n",
       "\n",
       "mpl.mpl_figure_comm = function(comm, msg) {\n",
       "    // This is the function which gets called when the mpl process\n",
       "    // starts-up an IPython Comm through the \"matplotlib\" channel.\n",
       "\n",
       "    var id = msg.content.data.id;\n",
       "    // Get hold of the div created by the display call when the Comm\n",
       "    // socket was opened in Python.\n",
       "    var element = $(\"#\" + id);\n",
       "    var ws_proxy = comm_websocket_adapter(comm)\n",
       "\n",
       "    function ondownload(figure, format) {\n",
       "        window.open(figure.imageObj.src);\n",
       "    }\n",
       "\n",
       "    var fig = new mpl.figure(id, ws_proxy,\n",
       "                           ondownload,\n",
       "                           element.get(0));\n",
       "\n",
       "    // Call onopen now - mpl needs it, as it is assuming we've passed it a real\n",
       "    // web socket which is closed, not our websocket->open comm proxy.\n",
       "    ws_proxy.onopen();\n",
       "\n",
       "    fig.parent_element = element.get(0);\n",
       "    fig.cell_info = mpl.find_output_cell(\"<div id='\" + id + \"'></div>\");\n",
       "    if (!fig.cell_info) {\n",
       "        console.error(\"Failed to find cell for figure\", id, fig);\n",
       "        return;\n",
       "    }\n",
       "\n",
       "    var output_index = fig.cell_info[2]\n",
       "    var cell = fig.cell_info[0];\n",
       "\n",
       "};\n",
       "\n",
       "mpl.figure.prototype.handle_close = function(fig, msg) {\n",
       "    var width = fig.canvas.width/mpl.ratio\n",
       "    fig.root.unbind('remove')\n",
       "\n",
       "    // Update the output cell to use the data from the current canvas.\n",
       "    fig.push_to_output();\n",
       "    var dataURL = fig.canvas.toDataURL();\n",
       "    // Re-enable the keyboard manager in IPython - without this line, in FF,\n",
       "    // the notebook keyboard shortcuts fail.\n",
       "    IPython.keyboard_manager.enable()\n",
       "    $(fig.parent_element).html('<img src=\"' + dataURL + '\" width=\"' + width + '\">');\n",
       "    fig.close_ws(fig, msg);\n",
       "}\n",
       "\n",
       "mpl.figure.prototype.close_ws = function(fig, msg){\n",
       "    fig.send_message('closing', msg);\n",
       "    // fig.ws.close()\n",
       "}\n",
       "\n",
       "mpl.figure.prototype.push_to_output = function(remove_interactive) {\n",
       "    // Turn the data on the canvas into data in the output cell.\n",
       "    var width = this.canvas.width/mpl.ratio\n",
       "    var dataURL = this.canvas.toDataURL();\n",
       "    this.cell_info[1]['text/html'] = '<img src=\"' + dataURL + '\" width=\"' + width + '\">';\n",
       "}\n",
       "\n",
       "mpl.figure.prototype.updated_canvas_event = function() {\n",
       "    // Tell IPython that the notebook contents must change.\n",
       "    IPython.notebook.set_dirty(true);\n",
       "    this.send_message(\"ack\", {});\n",
       "    var fig = this;\n",
       "    // Wait a second, then push the new image to the DOM so\n",
       "    // that it is saved nicely (might be nice to debounce this).\n",
       "    setTimeout(function () { fig.push_to_output() }, 1000);\n",
       "}\n",
       "\n",
       "mpl.figure.prototype._init_toolbar = function() {\n",
       "    var fig = this;\n",
       "\n",
       "    var nav_element = $('<div/>');\n",
       "    nav_element.attr('style', 'width: 100%');\n",
       "    this.root.append(nav_element);\n",
       "\n",
       "    // Define a callback function for later on.\n",
       "    function toolbar_event(event) {\n",
       "        return fig.toolbar_button_onclick(event['data']);\n",
       "    }\n",
       "    function toolbar_mouse_event(event) {\n",
       "        return fig.toolbar_button_onmouseover(event['data']);\n",
       "    }\n",
       "\n",
       "    for(var toolbar_ind in mpl.toolbar_items){\n",
       "        var name = mpl.toolbar_items[toolbar_ind][0];\n",
       "        var tooltip = mpl.toolbar_items[toolbar_ind][1];\n",
       "        var image = mpl.toolbar_items[toolbar_ind][2];\n",
       "        var method_name = mpl.toolbar_items[toolbar_ind][3];\n",
       "\n",
       "        if (!name) { continue; };\n",
       "\n",
       "        var button = $('<button class=\"btn btn-default\" href=\"#\" title=\"' + name + '\"><i class=\"fa ' + image + ' fa-lg\"></i></button>');\n",
       "        button.click(method_name, toolbar_event);\n",
       "        button.mouseover(tooltip, toolbar_mouse_event);\n",
       "        nav_element.append(button);\n",
       "    }\n",
       "\n",
       "    // Add the status bar.\n",
       "    var status_bar = $('<span class=\"mpl-message\" style=\"text-align:right; float: right;\"/>');\n",
       "    nav_element.append(status_bar);\n",
       "    this.message = status_bar[0];\n",
       "\n",
       "    // Add the close button to the window.\n",
       "    var buttongrp = $('<div class=\"btn-group inline pull-right\"></div>');\n",
       "    var button = $('<button class=\"btn btn-mini btn-primary\" href=\"#\" title=\"Stop Interaction\"><i class=\"fa fa-power-off icon-remove icon-large\"></i></button>');\n",
       "    button.click(function (evt) { fig.handle_close(fig, {}); } );\n",
       "    button.mouseover('Stop Interaction', toolbar_mouse_event);\n",
       "    buttongrp.append(button);\n",
       "    var titlebar = this.root.find($('.ui-dialog-titlebar'));\n",
       "    titlebar.prepend(buttongrp);\n",
       "}\n",
       "\n",
       "mpl.figure.prototype._root_extra_style = function(el){\n",
       "    var fig = this\n",
       "    el.on(\"remove\", function(){\n",
       "\tfig.close_ws(fig, {});\n",
       "    });\n",
       "}\n",
       "\n",
       "mpl.figure.prototype._canvas_extra_style = function(el){\n",
       "    // this is important to make the div 'focusable\n",
       "    el.attr('tabindex', 0)\n",
       "    // reach out to IPython and tell the keyboard manager to turn it's self\n",
       "    // off when our div gets focus\n",
       "\n",
       "    // location in version 3\n",
       "    if (IPython.notebook.keyboard_manager) {\n",
       "        IPython.notebook.keyboard_manager.register_events(el);\n",
       "    }\n",
       "    else {\n",
       "        // location in version 2\n",
       "        IPython.keyboard_manager.register_events(el);\n",
       "    }\n",
       "\n",
       "}\n",
       "\n",
       "mpl.figure.prototype._key_event_extra = function(event, name) {\n",
       "    var manager = IPython.notebook.keyboard_manager;\n",
       "    if (!manager)\n",
       "        manager = IPython.keyboard_manager;\n",
       "\n",
       "    // Check for shift+enter\n",
       "    if (event.shiftKey && event.which == 13) {\n",
       "        this.canvas_div.blur();\n",
       "        // select the cell after this one\n",
       "        var index = IPython.notebook.find_cell_index(this.cell_info[0]);\n",
       "        IPython.notebook.select(index + 1);\n",
       "    }\n",
       "}\n",
       "\n",
       "mpl.figure.prototype.handle_save = function(fig, msg) {\n",
       "    fig.ondownload(fig, null);\n",
       "}\n",
       "\n",
       "\n",
       "mpl.find_output_cell = function(html_output) {\n",
       "    // Return the cell and output element which can be found *uniquely* in the notebook.\n",
       "    // Note - this is a bit hacky, but it is done because the \"notebook_saving.Notebook\"\n",
       "    // IPython event is triggered only after the cells have been serialised, which for\n",
       "    // our purposes (turning an active figure into a static one), is too late.\n",
       "    var cells = IPython.notebook.get_cells();\n",
       "    var ncells = cells.length;\n",
       "    for (var i=0; i<ncells; i++) {\n",
       "        var cell = cells[i];\n",
       "        if (cell.cell_type === 'code'){\n",
       "            for (var j=0; j<cell.output_area.outputs.length; j++) {\n",
       "                var data = cell.output_area.outputs[j];\n",
       "                if (data.data) {\n",
       "                    // IPython >= 3 moved mimebundle to data attribute of output\n",
       "                    data = data.data;\n",
       "                }\n",
       "                if (data['text/html'] == html_output) {\n",
       "                    return [cell, data, j];\n",
       "                }\n",
       "            }\n",
       "        }\n",
       "    }\n",
       "}\n",
       "\n",
       "// Register the function which deals with the matplotlib target/channel.\n",
       "// The kernel may be null if the page has been refreshed.\n",
       "if (IPython.notebook.kernel != null) {\n",
       "    IPython.notebook.kernel.comm_manager.register_target('matplotlib', mpl.mpl_figure_comm);\n",
       "}\n"
      ],
      "text/plain": [
       "<IPython.core.display.Javascript object>"
      ]
     },
     "metadata": {},
     "output_type": "display_data"
    },
    {
     "data": {
      "text/html": [
       "<img src=\"data:image/png;base64,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\" width=\"1000\">"
      ],
      "text/plain": [
       "<IPython.core.display.HTML object>"
      ]
     },
     "metadata": {},
     "output_type": "display_data"
    }
   ],
   "source": [
    "%matplotlib notebook\n",
    "scores = []\n",
    "for score in grid.cv_results_['mean_test_score']:\n",
    "    scores.append(score)\n",
    "    \n",
    "plt.figure(figsize = (10, 6))\n",
    "plt.plot(k_list, scores, color = 'steelblue', linestyle = 'dashed', marker = 'o')\n",
    "plt.xlabel('k')\n",
    "plt.ylabel('Accuracy')\n",
    "plt.show()"
   ]
  },
  {
   "cell_type": "markdown",
   "metadata": {},
   "source": [
    "O pico de acurácia corresponde ao parâmetro *k = 2*, fornece a melhor performance de nosso algoritmo KNN, a acurácia cai conforme aumenta o valor de *k*. Então, não adianta aumentar mais o valor de *k*."
   ]
  }
 ],
 "metadata": {
  "kernelspec": {
   "display_name": "Python 3",
   "language": "python",
   "name": "python3"
  },
  "language_info": {
   "codemirror_mode": {
    "name": "ipython",
    "version": 3
   },
   "file_extension": ".py",
   "mimetype": "text/x-python",
   "name": "python",
   "nbconvert_exporter": "python",
   "pygments_lexer": "ipython3",
   "version": "3.8.3"
  }
 },
 "nbformat": 4,
 "nbformat_minor": 4
}
